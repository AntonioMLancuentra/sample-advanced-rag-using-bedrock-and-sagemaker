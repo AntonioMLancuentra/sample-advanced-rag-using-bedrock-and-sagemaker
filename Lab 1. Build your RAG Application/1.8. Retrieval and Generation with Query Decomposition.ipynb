{
 "cells": [
  {
   "cell_type": "markdown",
   "id": "f92c5158-0cce-4ffa-bdab-6a397caba9ed",
   "metadata": {},
   "source": [
    "## Query Decomposition: Avoid semantic delutions in the queries\n",
    " * \"Semantic dilutions\" refer to the loss of meaning or relevance when chunks of text, intended to represent information for retrieval, become too large or lack semantic cohesion, leading to less accurate and useful results.\n",
    " * Semantic dilutions can be mitigated on the indexed documents side by applying optimized chunking strategies per each use case.\n",
    " * Query texts can also have semantic delutions when multiple contexts or topics are combined. This can be improved by reforming the queries.\n",
    "\n",
    "This notebook will demonstrate \"query decomposition\" strategy to improve the search quality against a knowledge base. \n",
    "\n",
    "![Query Decomposition](https://raw.githubusercontent.com/aws-samples/langgraph-agents-with-amazon-bedrock/refs/heads/main/assets/lab3_2.png \"https://github.com/aws-samples/langgraph-agents-with-amazon-bedrock/tree/main/Lab_3\")"
   ]
  },
  {
   "cell_type": "markdown",
   "id": "6cd964ae-e143-4ce6-b242-978c4d29bcdc",
   "metadata": {},
   "source": [
    "#### Prerequisites"
   ]
  },
  {
   "cell_type": "code",
   "execution_count": 1,
   "id": "be1782f4-a89d-4044-bff6-05e038aeb7de",
   "metadata": {
    "scrolled": true
   },
   "outputs": [],
   "source": [
    "\n",
    "import importlib\n",
    "import advanced_rag_utils\n",
    "\n",
    "# Reload module\n",
    "importlib.reload(advanced_rag_utils)\n",
    "\n",
    "# Re-import all functions\n",
    "from advanced_rag_utils import *\n",
    "\n",
    "from datetime import datetime, timedelta, UTC\n",
    "\n",
    "notebook_start_time = datetime.now(UTC)\n",
    "suppress_warnings()\n"
   ]
  },
  {
   "cell_type": "code",
   "execution_count": 2,
   "id": "423f773f-683c-4bc4-918b-15a086080bbb",
   "metadata": {
    "scrolled": true
   },
   "outputs": [
    {
     "data": {
      "text/plain": [
       "{'accountNumber': '977018081517',\n",
       " 'regionName': 'us-west-2',\n",
       " 'collectionArn': 'arn:aws:aoss:us-west-2:977018081517:collection/x6j41w4wldt22s0mc4oa',\n",
       " 'collectionId': 'x6j41w4wldt22s0mc4oa',\n",
       " 'vectorIndexName': 'ws-index-',\n",
       " 'bedrockExecutionRoleArn': 'arn:aws:iam::977018081517:role/advanced-rag-workshop-bedrock_execution_role-us-west-2',\n",
       " 's3Bucket': '977018081517-us-west-2-advanced-rag-workshop',\n",
       " 'kbFixedChunk': 'WFJRA66ARJ',\n",
       " 'kbSemanticChunk': 'XRQUIKPQAB',\n",
       " 'kbHierarchicalChunk': 'DBCDV6VOVB',\n",
       " 'kbCustomChunk': 'SVUWGDQTQZ',\n",
       " 'sagemakerLLMEndpoint': 'endpoint-llama-3-2-3b-instruct-2025-05-01-17-04-39'}"
      ]
     },
     "execution_count": 2,
     "metadata": {},
     "output_type": "execute_result"
    }
   ],
   "source": [
    "# Load variables from the JSON file\n",
    "import json\n",
    "with open(\"../variables.json\", \"r\") as f:\n",
    "    variables = json.load(f)\n",
    "\n",
    "variables"
   ]
  },
  {
   "cell_type": "code",
   "execution_count": 3,
   "id": "2229c2a7-12f9-4965-aeec-8f869fd41cd6",
   "metadata": {
    "scrolled": true
   },
   "outputs": [],
   "source": [
    "# Get KB configuration\n",
    "kb_config = get_kb_config(\n",
    "    kb_id=variables[\"kbSemanticChunk\"],\n",
    "    account_number=variables['accountNumber'],\n",
    "    region_name=variables['regionName'],\n",
    "    number_of_results=5\n",
    ")"
   ]
  },
  {
   "cell_type": "markdown",
   "id": "a6ebee40",
   "metadata": {},
   "source": [
    "### How Model Size Affects Table Interpretation  \n",
    "\n",
    "When querying Amazon's Operating Income for 2022, **smaller models (Nova Lite, Llama 3B)** tend to pick the **\"At Prior Year Rates\"** value (\\$11,387), while **larger models (Nova Pro)** correctly select the **\"As Reported\"** value (\\$12,248).\n",
    "\n",
    "#### Possible Reasons:\n",
    "- **Table Parsing Limitations:** Smaller models may not accurately align column headers to values.  \n",
    "- **Context Misinterpretation:** They might default to the last numerical column or fail to strongly associate **\"As Reported\"** with the correct column.  \n",
    "- **Stronger Reasoning in Larger Models:** Nova Pro better understands structured data, leading to more accurate retrieval.  \n",
    "\n",
    "![Image](./operating_income.png)"
   ]
  },
  {
   "cell_type": "markdown",
   "id": "b5130cdb-5d9f-4c5c-9a68-2352026616fb",
   "metadata": {},
   "source": [
    "### Basic RAG query\n",
    "The query retrieves only one of the topics mentioned. It is because of the mix of two queries dilluted the second topic, which is called \"semantic dillution.\"\n",
    "In real world scenarios, it is required to pull multiple chunks with different contexts, for example:\n",
    "* How Amazon's net income increased from 2018 to 2024?\n",
    "* What is difference between RAG and text-to-SQL?"
   ]
  },
  {
   "cell_type": "code",
   "execution_count": 4,
   "id": "60064755-7215-4b10-9246-30b53697e677",
   "metadata": {
    "scrolled": true
   },
   "outputs": [
    {
     "name": "stdout",
     "output_type": "stream",
     "text": [
      "----------------- Answer ---------------------\n",
      "Amazon's Operating Income as reported for the fiscal year ending December 31, 2022, was $11,387 million. Text-to-SQL is a technology that allows users to interact with databases using natural language queries. However, the search results do not provide information on how text-to-SQL contributed to Amazon's earnings.\n",
      "\n",
      "----------------- Citations ------------------\n",
      "{\n",
      "  \"ResponseMetadata\": {\n",
      "    \"RequestId\": \"ab6b64c0-1368-4d40-a536-272fa4763e0f\",\n",
      "    \"HTTPStatusCode\": 200,\n",
      "    \"HTTPHeaders\": {\n",
      "      \"date\": \"Thu, 01 May 2025 17:13:27 GMT\",\n",
      "      \"content-type\": \"application/json\",\n",
      "      \"content-length\": \"6196\",\n",
      "      \"connection\": \"keep-alive\",\n",
      "      \"x-amzn-requestid\": \"ab6b64c0-1368-4d40-a536-272fa4763e0f\"\n",
      "    },\n",
      "    \"RetryAttempts\": 0\n",
      "  },\n",
      "  \"citations\": [\n",
      "    {\n",
      "      \"generatedResponsePart\": {\n",
      "        \"textResponsePart\": {\n",
      "          \"span\": {\n",
      "            \"end\": 103,\n",
      "            \"start\": 0\n",
      "          },\n",
      "          \"text\": \"Amazon's Operating Income as reported for the fiscal year ending December 31, 2022, was $11,387 million\"\n",
      "        }\n",
      "      },\n",
      "      \"retrievedReferences\": [\n",
      "        {\n",
      "          \"content\": {\n",
      "            \"text\": \"Dollar is as follows (in millions): Year Ended December 31, 2021 Year Ended December 31, 2022 \\n \\n  \\n \\n As Reported \\n \\n Exchange Rate \\n \\n Effect (1) \\n \\n At Prior Year \\n \\n Rates (2) As \\n \\n Reported \\n \\n Exchange Rate \\n \\n Effect (1) \\n \\n At Prior Year \\n \\n Rates (2) \\n \\n Net sales $ 469,822 $ (3,804) $ 466,018 $ 513,983 $ 15,495 $ 529,478 Operating expenses 444,943 (3,653) 441,290 501,735 16,356 518,091 Operating income 24,879 (151) 24,728 12,248 (861) 11,387 \\n \\n ___________________ (1) Represents the change in reported amounts resulting from changes in foreign exchange rates from those in effect in the comparable prior year period for \\n \\n operating results. (2) Represents the outcome that would have resulted had foreign exchange rates in the reported period been the same as those in effect in the comparable prior \\n \\n year period for operating results. \\n \\n 29Table of Contents \\n \\n Guidance We provided guidance on February 2, 2023, in our earnings release furnished on Form 8-K as set forth below. These forward-looking statements reflect \\n \\n Amazon.com\\u2019s expectations as of February 2, 2023, and are subject to substantial uncertainty.\",\n",
      "            \"type\": \"TEXT\"\n",
      "          },\n",
      "          \"location\": {\n",
      "            \"s3Location\": {\n",
      "              \"uri\": \"s3://977018081517-us-west-2-advanced-rag-workshop/data/pdf_documents/Amazon-10k-2023.pdf\"\n",
      "            },\n",
      "            \"type\": \"S3\"\n",
      "          },\n",
      "          \"metadata\": {\n",
      "            \"x-amz-bedrock-kb-source-uri\": \"s3://977018081517-us-west-2-advanced-rag-workshop/data/pdf_documents/Amazon-10k-2023.pdf\",\n",
      "            \"x-amz-bedrock-kb-document-page-number\": 29.0,\n",
      "            \"year\": 2023.0,\n",
      "            \"docType\": \"10K Report\",\n",
      "            \"x-amz-bedrock-kb-data-source-id\": \"6YDOWKBZ2M\",\n",
      "            \"company\": \"Amazon\",\n",
      "            \"x-amz-bedrock-kb-chunk-id\": \"1%3A0%3A4DG8jJYBRzwPEWWc5_Nv\",\n",
      "            \"authors\": [\n",
      "              \"Amazon\"\n",
      "            ]\n",
      "          }\n",
      "        }\n",
      "      ]\n",
      "    },\n",
      "    {\n",
      "      \"generatedResponsePart\": {\n",
      "        \"textResponsePart\": {\n",
      "          \"span\": {\n",
      "            \"end\": 209,\n",
      "            \"start\": 105\n",
      "          },\n",
      "          \"text\": \"Text-to-SQL is a technology that allows users to interact with databases using natural language queries\"\n",
      "        }\n",
      "      },\n",
      "      \"retrievedReferences\": [\n",
      "        {\n",
      "          \"content\": {\n",
      "            \"text\": \"Dollar is as follows (in millions): Year Ended December 31, 2022 Year Ended December 31, 2023 \\n \\n  \\n \\n As Reported \\n \\n Exchange Rate \\n \\n Effect (1) \\n \\n At Prior Year \\n \\n Rates (2) As \\n \\n Reported \\n \\n Exchange Rate \\n \\n Effect (1) \\n \\n At Prior Year \\n \\n Rates (2) \\n \\n Net sales $ 513,983 $ 15,495 $ 529,478 $ 574,785 $ 71 $ 574,856 Operating expenses 501,735 16,356 518,091 537,933 531 538,464 Operating income 12,248 (861) 11,387 36,852 (460) 36,392 \\n \\n ___________________ (1) Represents the change in reported amounts resulting from changes in foreign exchange rates from those in effect in the comparable prior year period for \\n \\n operating results. (2) Represents the outcome that would have resulted had foreign exchange rates in the reported period been the same as those in effect in the comparable prior \\n \\n year period for operating results. \\n \\n 30Table of Contents \\n \\n Guidance \\n \\n We provided guidance on February 1, 2024, in our earnings release furnished on Form 8-K as set forth below. These forward-looking statements reflect Amazon.com\\u2019s expectations as of February 1, 2024, and are subject to substantial uncertainty.\",\n",
      "            \"type\": \"TEXT\"\n",
      "          },\n",
      "          \"location\": {\n",
      "            \"s3Location\": {\n",
      "              \"uri\": \"s3://977018081517-us-west-2-advanced-rag-workshop/data/pdf_documents/Amazon-10k-2024.pdf\"\n",
      "            },\n",
      "            \"type\": \"S3\"\n",
      "          },\n",
      "          \"metadata\": {\n",
      "            \"x-amz-bedrock-kb-source-uri\": \"s3://977018081517-us-west-2-advanced-rag-workshop/data/pdf_documents/Amazon-10k-2024.pdf\",\n",
      "            \"x-amz-bedrock-kb-document-page-number\": 30.0,\n",
      "            \"year\": 2024.0,\n",
      "            \"docType\": \"10K Report\",\n",
      "            \"x-amz-bedrock-kb-data-source-id\": \"6YDOWKBZ2M\",\n",
      "            \"company\": \"Amazon\",\n",
      "            \"x-amz-bedrock-kb-chunk-id\": \"1%3A0%3AlzG8jJYBRzwPEWWc9PTa\",\n",
      "            \"authors\": [\n",
      "              \"Amazon\"\n",
      "            ]\n",
      "          }\n",
      "        }\n",
      "      ]\n",
      "    },\n",
      "    {\n",
      "      \"generatedResponsePart\": {\n",
      "        \"textResponsePart\": {\n",
      "          \"span\": {\n",
      "            \"end\": 318,\n",
      "            \"start\": 211\n",
      "          },\n",
      "          \"text\": \"However, the search results do not provide information on how text-to-SQL contributed to Amazon's earnings.\"\n",
      "        }\n",
      "      },\n",
      "      \"retrievedReferences\": [\n",
      "        {\n",
      "          \"content\": {\n",
      "            \"text\": \"Dollar is as follows (in millions): Year Ended December 31, 2021 Year Ended December 31, 2022 \\n \\n  \\n \\n As Reported \\n \\n Exchange Rate \\n \\n Effect (1) \\n \\n At Prior Year \\n \\n Rates (2) As \\n \\n Reported \\n \\n Exchange Rate \\n \\n Effect (1) \\n \\n At Prior Year \\n \\n Rates (2) \\n \\n Net sales $ 469,822 $ (3,804) $ 466,018 $ 513,983 $ 15,495 $ 529,478 Operating expenses 444,943 (3,653) 441,290 501,735 16,356 518,091 Operating income 24,879 (151) 24,728 12,248 (861) 11,387 \\n \\n ___________________ (1) Represents the change in reported amounts resulting from changes in foreign exchange rates from those in effect in the comparable prior year period for \\n \\n operating results. (2) Represents the outcome that would have resulted had foreign exchange rates in the reported period been the same as those in effect in the comparable prior \\n \\n year period for operating results. \\n \\n 29Table of Contents \\n \\n Guidance We provided guidance on February 2, 2023, in our earnings release furnished on Form 8-K as set forth below. These forward-looking statements reflect \\n \\n Amazon.com\\u2019s expectations as of February 2, 2023, and are subject to substantial uncertainty.\",\n",
      "            \"type\": \"TEXT\"\n",
      "          },\n",
      "          \"location\": {\n",
      "            \"s3Location\": {\n",
      "              \"uri\": \"s3://977018081517-us-west-2-advanced-rag-workshop/data/pdf_documents/Amazon-10k-2023.pdf\"\n",
      "            },\n",
      "            \"type\": \"S3\"\n",
      "          },\n",
      "          \"metadata\": {\n",
      "            \"x-amz-bedrock-kb-source-uri\": \"s3://977018081517-us-west-2-advanced-rag-workshop/data/pdf_documents/Amazon-10k-2023.pdf\",\n",
      "            \"x-amz-bedrock-kb-document-page-number\": 29.0,\n",
      "            \"year\": 2023.0,\n",
      "            \"docType\": \"10K Report\",\n",
      "            \"x-amz-bedrock-kb-data-source-id\": \"6YDOWKBZ2M\",\n",
      "            \"company\": \"Amazon\",\n",
      "            \"x-amz-bedrock-kb-chunk-id\": \"1%3A0%3A4DG8jJYBRzwPEWWc5_Nv\",\n",
      "            \"authors\": [\n",
      "              \"Amazon\"\n",
      "            ]\n",
      "          }\n",
      "        }\n",
      "      ]\n",
      "    }\n",
      "  ],\n",
      "  \"output\": {\n",
      "    \"text\": \"Amazon's Operating Income as reported for the fiscal year ending December 31, 2022, was $11,387 million. Text-to-SQL is a technology that allows users to interact with databases using natural language queries. However, the search results do not provide information on how text-to-SQL contributed to Amazon's earnings.\"\n",
      "  },\n",
      "  \"sessionId\": \"e24998eb-50aa-4c98-b9f2-4b57e0144350\"\n",
      "}\n"
     ]
    }
   ],
   "source": [
    "# WITHOUT QUERY DECOMPOSITION\n",
    "\n",
    "# Query example\n",
    "query = \"What was Amazon's Operating Income as reported for the fiscal year ending December 31, 2022? What is text-to-SQL? How did text-to-SQL contribute to Amazons earnings, if any?\"\n",
    "\n",
    "# Perform basic RAG without query decomposition\n",
    "response = retrieve_and_generate_basic(\n",
    "    query=query, \n",
    "    kb_id=kb_config[\"kb_id\"], \n",
    "    model_id=kb_config[\"model_id\"], \n",
    "    generation_configuration=kb_config[\"generation_configuration\"],\n",
    "    number_of_results=kb_config[\"number_of_results\"],\n",
    "    region_name=variables[\"regionName\"]\n",
    ")\n",
    "\n",
    "# Display the results\n",
    "display_rag_results(response)"
   ]
  },
  {
   "cell_type": "markdown",
   "id": "31c25c30-3314-4790-a9bc-dac071ebde6b",
   "metadata": {},
   "source": [
    "### Use Amazon Bedrock API feature to decompose a query.\n",
    "ReteriveAndGenerate API support built-in query decompose feature."
   ]
  },
  {
   "cell_type": "code",
   "execution_count": 5,
   "id": "33b21ca6-e1e7-4878-b9ff-0c5727f101cc",
   "metadata": {
    "scrolled": true
   },
   "outputs": [
    {
     "name": "stdout",
     "output_type": "stream",
     "text": [
      "----------------- Answer ---------------------\n",
      "Amazon's Operating Income for the fiscal year ending December 31, 2022, was $12,248 million.\n",
      "\n",
      "----------------- Citations ------------------\n",
      "{\n",
      "  \"ResponseMetadata\": {\n",
      "    \"RequestId\": \"be68000a-ece1-4ebb-bc4d-7a9e90eb34b5\",\n",
      "    \"HTTPStatusCode\": 200,\n",
      "    \"HTTPHeaders\": {\n",
      "      \"date\": \"Thu, 01 May 2025 17:13:29 GMT\",\n",
      "      \"content-type\": \"application/json\",\n",
      "      \"content-length\": \"3804\",\n",
      "      \"connection\": \"keep-alive\",\n",
      "      \"x-amzn-requestid\": \"be68000a-ece1-4ebb-bc4d-7a9e90eb34b5\"\n",
      "    },\n",
      "    \"RetryAttempts\": 0\n",
      "  },\n",
      "  \"citations\": [\n",
      "    {\n",
      "      \"generatedResponsePart\": {\n",
      "        \"textResponsePart\": {\n",
      "          \"span\": {\n",
      "            \"end\": 91,\n",
      "            \"start\": 0\n",
      "          },\n",
      "          \"text\": \"Amazon's Operating Income for the fiscal year ending December 31, 2022, was $12,248 million\"\n",
      "        }\n",
      "      },\n",
      "      \"retrievedReferences\": [\n",
      "        {\n",
      "          \"content\": {\n",
      "            \"text\": \"Dollar is as follows (in millions): Year Ended December 31, 2022 Year Ended December 31, 2023 \\n \\n  \\n \\n As Reported \\n \\n Exchange Rate \\n \\n Effect (1) \\n \\n At Prior Year \\n \\n Rates (2) As \\n \\n Reported \\n \\n Exchange Rate \\n \\n Effect (1) \\n \\n At Prior Year \\n \\n Rates (2) \\n \\n Net sales $ 513,983 $ 15,495 $ 529,478 $ 574,785 $ 71 $ 574,856 Operating expenses 501,735 16,356 518,091 537,933 531 538,464 Operating income 12,248 (861) 11,387 36,852 (460) 36,392 \\n \\n ___________________ (1) Represents the change in reported amounts resulting from changes in foreign exchange rates from those in effect in the comparable prior year period for \\n \\n operating results. (2) Represents the outcome that would have resulted had foreign exchange rates in the reported period been the same as those in effect in the comparable prior \\n \\n year period for operating results. \\n \\n 30Table of Contents \\n \\n Guidance \\n \\n We provided guidance on February 1, 2024, in our earnings release furnished on Form 8-K as set forth below. These forward-looking statements reflect Amazon.com\\u2019s expectations as of February 1, 2024, and are subject to substantial uncertainty.\",\n",
      "            \"type\": \"TEXT\"\n",
      "          },\n",
      "          \"location\": {\n",
      "            \"s3Location\": {\n",
      "              \"uri\": \"s3://977018081517-us-west-2-advanced-rag-workshop/data/pdf_documents/Amazon-10k-2024.pdf\"\n",
      "            },\n",
      "            \"type\": \"S3\"\n",
      "          },\n",
      "          \"metadata\": {\n",
      "            \"x-amz-bedrock-kb-source-uri\": \"s3://977018081517-us-west-2-advanced-rag-workshop/data/pdf_documents/Amazon-10k-2024.pdf\",\n",
      "            \"x-amz-bedrock-kb-document-page-number\": 30.0,\n",
      "            \"year\": 2024.0,\n",
      "            \"docType\": \"10K Report\",\n",
      "            \"x-amz-bedrock-kb-data-source-id\": \"6YDOWKBZ2M\",\n",
      "            \"company\": \"Amazon\",\n",
      "            \"x-amz-bedrock-kb-chunk-id\": \"1%3A0%3AlzG8jJYBRzwPEWWc9PTa\",\n",
      "            \"authors\": [\n",
      "              \"Amazon\"\n",
      "            ]\n",
      "          }\n",
      "        },\n",
      "        {\n",
      "          \"content\": {\n",
      "            \"text\": \"Dollar is as follows (in millions): Year Ended December 31, 2021 Year Ended December 31, 2022 \\n \\n  \\n \\n As Reported \\n \\n Exchange Rate \\n \\n Effect (1) \\n \\n At Prior Year \\n \\n Rates (2) As \\n \\n Reported \\n \\n Exchange Rate \\n \\n Effect (1) \\n \\n At Prior Year \\n \\n Rates (2) \\n \\n Net sales $ 469,822 $ (3,804) $ 466,018 $ 513,983 $ 15,495 $ 529,478 Operating expenses 444,943 (3,653) 441,290 501,735 16,356 518,091 Operating income 24,879 (151) 24,728 12,248 (861) 11,387 \\n \\n ___________________ (1) Represents the change in reported amounts resulting from changes in foreign exchange rates from those in effect in the comparable prior year period for \\n \\n operating results. (2) Represents the outcome that would have resulted had foreign exchange rates in the reported period been the same as those in effect in the comparable prior \\n \\n year period for operating results. \\n \\n 29Table of Contents \\n \\n Guidance We provided guidance on February 2, 2023, in our earnings release furnished on Form 8-K as set forth below. These forward-looking statements reflect \\n \\n Amazon.com\\u2019s expectations as of February 2, 2023, and are subject to substantial uncertainty.\",\n",
      "            \"type\": \"TEXT\"\n",
      "          },\n",
      "          \"location\": {\n",
      "            \"s3Location\": {\n",
      "              \"uri\": \"s3://977018081517-us-west-2-advanced-rag-workshop/data/pdf_documents/Amazon-10k-2023.pdf\"\n",
      "            },\n",
      "            \"type\": \"S3\"\n",
      "          },\n",
      "          \"metadata\": {\n",
      "            \"x-amz-bedrock-kb-source-uri\": \"s3://977018081517-us-west-2-advanced-rag-workshop/data/pdf_documents/Amazon-10k-2023.pdf\",\n",
      "            \"x-amz-bedrock-kb-document-page-number\": 29.0,\n",
      "            \"year\": 2023.0,\n",
      "            \"docType\": \"10K Report\",\n",
      "            \"x-amz-bedrock-kb-data-source-id\": \"6YDOWKBZ2M\",\n",
      "            \"company\": \"Amazon\",\n",
      "            \"x-amz-bedrock-kb-chunk-id\": \"1%3A0%3A4DG8jJYBRzwPEWWc5_Nv\",\n",
      "            \"authors\": [\n",
      "              \"Amazon\"\n",
      "            ]\n",
      "          }\n",
      "        }\n",
      "      ]\n",
      "    }\n",
      "  ],\n",
      "  \"output\": {\n",
      "    \"text\": \"Amazon's Operating Income for the fiscal year ending December 31, 2022, was $12,248 million.\"\n",
      "  },\n",
      "  \"sessionId\": \"9b7f1b31-e839-4968-929d-9ed3e618de03\"\n",
      "}\n"
     ]
    }
   ],
   "source": [
    "# WITH QUERY DECOMPOSITION\n",
    "\n",
    "# Use Nova Pro model for better table interpretation\n",
    "nova_pro_model_id = f\"arn:aws:bedrock:us-west-2:{variables['accountNumber']}:inference-profile/us.amazon.nova-pro-v1:0\"\n",
    "\n",
    "# Query example (same as before)\n",
    "query = \"What was Amazon's Operating Income as reported for the fiscal year ending December 31, 2022? What is text-to-SQL? How did text-to-SQL contribute to Amazons earnings, if any?\"\n",
    "\n",
    "# Perform RAG with query decomposition\n",
    "response = retrieve_and_generate_with_decomposition(\n",
    "    query=query, \n",
    "    kb_id=kb_config[\"kb_id\"], \n",
    "    model_id=nova_pro_model_id, \n",
    "    generation_configuration=kb_config[\"generation_configuration\"],\n",
    "    number_of_results=kb_config[\"number_of_results\"],\n",
    "    region_name=variables[\"regionName\"]\n",
    ")\n",
    "\n",
    "# Display the results\n",
    "display_rag_results(response)"
   ]
  },
  {
   "cell_type": "markdown",
   "id": "f807e57b-016b-48cd-a53d-cd0314b13d82",
   "metadata": {},
   "source": [
    "## Query Decomposition with Agentic RAG using SageMaker and LangChain"
   ]
  },
  {
   "cell_type": "markdown",
   "id": "4abbf82a-c1c2-4637-941d-3909211043bb",
   "metadata": {},
   "source": [
    "#### Prerequisites"
   ]
  },
  {
   "cell_type": "code",
   "execution_count": 6,
   "id": "65baa6fd-8797-4265-879e-65b9523789a8",
   "metadata": {
    "scrolled": true
   },
   "outputs": [],
   "source": [
    "# Set up LangChain components\n",
    "llm, retriever = setup_langchain_components(\n",
    "    endpoint_name=variables[\"sagemakerLLMEndpoint\"],\n",
    "    kb_id=variables[\"kbSemanticChunk\"],\n",
    "    region_name=variables[\"regionName\"],\n",
    "    number_of_results=5\n",
    ")"
   ]
  },
  {
   "cell_type": "markdown",
   "id": "3bca334e-6d0e-4763-8c1d-ef5e5199be6c",
   "metadata": {},
   "source": [
    "#### Test a complex query with plain Q&A chain"
   ]
  },
  {
   "cell_type": "code",
   "execution_count": 7,
   "id": "4b22e3a7-4d3a-4fb4-9350-2d66474b4736",
   "metadata": {
    "scrolled": true
   },
   "outputs": [],
   "source": [
    "# Create a simple QA chain\n",
    "qa_chain = create_qa_chain(retriever, llm)"
   ]
  },
  {
   "cell_type": "code",
   "execution_count": 8,
   "id": "b8be0f15-b378-482c-844c-0e5e6fdb2e46",
   "metadata": {
    "scrolled": true
   },
   "outputs": [
    {
     "name": "stdout",
     "output_type": "stream",
     "text": [
      "Answer:  What was the Operating Income of Amazon As Reported for the Year Ending December 31, 2022?\n",
      "             The Operating Income of Amazon As Reported for the Year Ending December 31, 2022 is $12,248 million.\n",
      "\n",
      "             What is text-to-SQL?\n",
      "             I don't know about it. The context provided does not mention text-to-SQL.\n",
      "\n",
      "             How did text-to-SQL contribute to Amazons earnings, if any?\n",
      "             I don't know about it. The context provided does not mention text-to-SQL. Therefore, I cannot provide any information about how it contributed to Amazon's earnings.\n"
     ]
    }
   ],
   "source": [
    "# Query example\n",
    "query = \"What was the Operating Income of Amazon As Reported for the Year Ending December 31, 2022? What is text-to-SQL? How did text-to-SQL contribute to Amazons earnings, if any?\"\n",
    "\n",
    "# Invoke the QA chain\n",
    "answer = qa_chain.invoke(query)\n",
    "\n",
    "print(\"Answer:\", answer)"
   ]
  },
  {
   "cell_type": "markdown",
   "id": "8ceddc3b-4ca6-4309-ba9a-6a2e5fc4a064",
   "metadata": {},
   "source": [
    "### Query Decomposition using Agentic RAG with LangChain"
   ]
  },
  {
   "cell_type": "code",
   "execution_count": 9,
   "id": "35323e79-5336-4e1d-a5b4-fc274a977ba6",
   "metadata": {
    "scrolled": true
   },
   "outputs": [],
   "source": [
    "# Create a custom output parser\n",
    "custom_parser = create_output_parser()"
   ]
  },
  {
   "cell_type": "code",
   "execution_count": 10,
   "id": "abaf9355-e0db-4f00-b8c3-4522ba7f55d1",
   "metadata": {
    "scrolled": true
   },
   "outputs": [
    {
     "name": "stderr",
     "output_type": "stream",
     "text": [
      "/home/sagemaker-user/simplified-labs/sample-advanced-rag-using-bedrock-and-sagemaker/Lab 1. Build your RAG Application/advanced_rag_utils.py:2768: LangChainDeprecationWarning: LangChain agents will continue to be supported, but it is recommended for new use cases to be built with LangGraph. LangGraph offers a more flexible and full-featured framework for building agents, including support for tool-calling, persistence of state, and human-in-the-loop workflows. For details, refer to the `LangGraph documentation <https://langchain-ai.github.io/langgraph/>`_ as well as guides for `Migrating from AgentExecutor <https://python.langchain.com/docs/how_to/migrate_agent/>`_ and LangGraph's `Pre-built ReAct agent <https://langchain-ai.github.io/langgraph/how-tos/create-react-agent/>`_.\n",
      "  agent = initialize_agent(\n",
      "/tmp/ipykernel_1783/2443662035.py:8: LangChainDeprecationWarning: The method `Chain.run` was deprecated in langchain 0.1.0 and will be removed in 1.0. Use :meth:`~invoke` instead.\n",
      "  result = agent.run(query)\n"
     ]
    },
    {
     "name": "stdout",
     "output_type": "stream",
     "text": [
      "\n",
      "\n",
      "\u001b[1m> Entering new AgentExecutor chain...\u001b[0m\n",
      "\u001b[32;1m\u001b[1;3m I need to find the answer to the first part of the question, which is Amazon's Operating Income for the fiscal year ending December 31, 2022. I can use the SearchFinancialStatements tool to find this information. For the second part of the question, I need to find out what text-to-SQL is and how it contributed to Amazon's earnings. I can use the SearchTechnologyDocuments tool to find this information.\n",
      "Action: SearchFinancialStatements\n",
      "Action Input: Amazon's Operating Income for the fiscal year ending December 31, 2022\u001b[0m\n",
      "Observation: \u001b[36;1m\u001b[1;3m['Dollar is as follows (in millions): Year Ended December 31, 2022 Year Ended December 31, 2023 \\n \\n  \\n \\n As Reported \\n \\n Exchange Rate \\n \\n Effect (1) \\n \\n At Prior Year \\n \\n Rates (2) As \\n \\n Reported \\n \\n Exchange Rate \\n \\n Effect (1) \\n \\n At Prior Year \\n \\n Rates (2) \\n \\n Net sales $ 513,983 $ 15,495 $ 529,478 $ 574,785 $ 71 $ 574,856 Operating expenses 501,735 16,356 518,091 537,933 531 538,464 Operating income 12,248 (861) 11,387 36,852 (460) 36,392 \\n \\n ___________________ (1) Represents the change in reported amounts resulting from changes in foreign exchange rates from those in effect in the comparable prior year period for \\n \\n operating results. (2) Represents the outcome that would have resulted had foreign exchange rates in the reported period been the same as those in effect in the comparable prior \\n \\n year period for operating results. \\n \\n 30Table of Contents \\n \\n Guidance \\n \\n We provided guidance on February 1, 2024, in our earnings release furnished on Form 8-K as set forth below. These forward-looking statements reflect Amazon.com’s expectations as of February 1, 2024, and are subject to substantial uncertainty.', 'Dollar is as follows (in millions): Year Ended December 31, 2021 Year Ended December 31, 2022 \\n \\n  \\n \\n As Reported \\n \\n Exchange Rate \\n \\n Effect (1) \\n \\n At Prior Year \\n \\n Rates (2) As \\n \\n Reported \\n \\n Exchange Rate \\n \\n Effect (1) \\n \\n At Prior Year \\n \\n Rates (2) \\n \\n Net sales $ 469,822 $ (3,804) $ 466,018 $ 513,983 $ 15,495 $ 529,478 Operating expenses 444,943 (3,653) 441,290 501,735 16,356 518,091 Operating income 24,879 (151) 24,728 12,248 (861) 11,387 \\n \\n ___________________ (1) Represents the change in reported amounts resulting from changes in foreign exchange rates from those in effect in the comparable prior year period for \\n \\n operating results. (2) Represents the outcome that would have resulted had foreign exchange rates in the reported period been the same as those in effect in the comparable prior \\n \\n year period for operating results. \\n \\n 29Table of Contents \\n \\n Guidance We provided guidance on February 2, 2023, in our earnings release furnished on Form 8-K as set forth below. These forward-looking statements reflect \\n \\n Amazon.com’s expectations as of February 2, 2023, and are subject to substantial uncertainty.', 'CONSOLIDATED STATEMENTS OF COMPREHENSIVE INCOME (LOSS) \\n \\n (in millions) Year Ended December 31, \\n \\n  2020 2021 2022 \\n \\n Net income (loss) $ 21,331 $ 33,364 $ (2,722) Other comprehensive income (loss): \\n \\n Foreign currency translation adjustments, net of tax of $(36), $47, and $100 561 (819) (2,586) Net change in unrealized gains (losses) on available-for-sale debt securities: \\n \\n Unrealized gains (losses), net of tax of $(83), $72, and $159 273 (343) (823) Reclassification adjustment for losses (gains) included in “Other income (expense), net,” net of tax of $8, $13, and $0 (28) (34) 298 \\n \\n Net unrealized gains (losses) on available-for-sale debt securities 245 (377) (525) Total other comprehensive income (loss) 806 (1,196) (3,111) \\n \\n Comprehensive income (loss) $ 22,137 $ 32,168 $ (5,833) \\n \\n See accompanying notes to consolidated financial statements. \\n \\n 38Table of Contents \\n \\n AMAZON.COM, INC.', 'Dollar is as follows (in millions): Year Ended December 31, 2023 Year Ended December 31, 2024 \\n \\n  \\n \\n As Reported \\n \\n Exchange Rate \\n \\n Effect (1) \\n \\n At Prior Year \\n \\n Rates (2) As \\n \\n Reported \\n \\n Exchange Rate \\n \\n Effect (1) \\n \\n At Prior Year \\n \\n Rates (2) \\n \\n Net sales $ 574,785 $ 71 $ 574,856 $ 637,959 $ 2,335 $ 640,294 Operating expenses 537,933 531 538,464 569,366 2,466 571,832 Operating income 36,852 (460) 36,392 68,593 (131) 68,462 \\n \\n ___________________ (1) Represents the change in reported amounts resulting from changes in foreign exchange rates from those in effect in the comparable prior year period for \\n \\n operating results. (2) Represents the outcome that would have resulted had foreign exchange rates in the reported period been the same as those in effect in the comparable prior \\n \\n year period for operating results. \\n \\n 29Table of Contents \\n \\n Guidance We provided guidance on February 6, 2025, in our earnings release furnished on Form 8-K as set forth below. These forward-looking statements reflect \\n \\n Amazon.com’s expectations as of February 6, 2025, and are subject to substantial uncertainty.', 'CONSOLIDATED STATEMENTS OF COMPREHENSIVE INCOME (LOSS) \\n \\n (in millions) Year Ended December 31, \\n \\n  2021 2022 2023 \\n \\n Net income (loss) $ 33,364 $ (2,722) $ 30,425 Other comprehensive income (loss): \\n \\n Foreign currency translation adjustments, net of tax of $47, $100, and $(55) (819) (2,586) 1,027 Available-for-sale debt securities: \\n \\n Change in net unrealized gains (losses), net of tax of $72, $159, and $(110) (343) (823) 366 Less: reclassification adjustment for losses (gains) included in “Other income (expense), net,” net of tax of $13, $0, and $(15) (34) 298 50 \\n \\n Net change (377) (525) 416 Other, net of tax of $0, $0, and $(1) — — 4 \\n \\n Total other comprehensive income (loss) (1,196) (3,111) 1,447 Comprehensive income (loss) $ 32,168 $ (5,833) $ 31,872 \\n \\n See accompanying notes to consolidated financial statements. \\n \\n 39Table of Contents \\n \\n AMAZON.COM, INC.']\u001b[0m\n",
      "Thought:\u001b[32;1m\u001b[1;3m I now know the answer to the first part of the question, which is Amazon's Operating Income for the fiscal year ending December 31, 2022. The answer is $11,387 million.\n",
      "Action: SearchTechnologyDocuments\n",
      "Action Input: text-to-SQL\u001b[0m\n",
      "Observation: \u001b[33;1m\u001b[1;3m['Then, we generate conversations with four turns: the initial user question, an assistant response seek- ing clarification, the user’s clarification, and the assistant’s clarified SQL response with the natural language explanation of the execution results. For some ambiguous queries, we also directly generate helpful SQL responses, that consider multiple aspects of ambiguity, instead of requesting user clarification. To benchmark the performance on ambiguous, unanswerable, and answerable questions, we implemented large language model (LLM)-based baselines using various LLMs. Our approach involves two steps: question category classification and clarification SQL prediction. Our experiments reveal that state-of-the-art systems struggle to handle ambiguous and unanswerable questions effectively. We will release our code for data generation and experiments on GitHub1. \\n \\n 1 Introduction \\n \\n Text-to-SQL systems aim to convert natural lan- guage questions into SQL queries that can be used to query a database. The systems serve as an inter- face between users and databases to allow the users \\n \\n *Co-first authors with equal contribution. Work done while Nischal Ashok Kumar was an intern at AWS. \\n \\n 1https://github.com/amazon-science/ conversational-ambiguous-unanswerable-text2sql \\n \\n access to information from the databases through their natural language questions.', 'Finally, we propose prompt-based base- lines to benchmark our dataset on the text-to-SQL generation task, which involves two tasks, classi- fying the category of the user question, and then generating the clarification SQL based on the user question. We experiment with several SoTA LLMs and show that the current text-to-SQL systems still \\n \\n 3We only used “train_spider.json” and “dev.json” from Spider in our dataset construction and related experiments. We did NOT use any data from “train_others.json” or “yelp”. \\n \\n need improvements on real-world queries that in- clude ambiguous or unanswerable questions. \\n \\n Our contributions can be summarized as follows: \\n \\n • We study existing text-to-SQL datasets and iden- tify four ambiguous and four unanswerable ques- tion categories inspired by real-world user ques- tions. We implemented a framework and pro- grammatically generated PRACTIQ, a compre- hensive and fine-grained ambiguous and unan- swerable text-to-SQL dataset consisting of 2800 conversations. \\n \\n • We extend the ambiguous/unanswerable data into conversations between a user and an assistant. The conversation typically includes a user ini- tial question, a helpful assistant response seeking user clarification, a user clarification response, the assistant SQL response, SQL execution re- sults, and a natural language explanation.', 'SQL modification along with clarification response generation, and refining the conversation. The top box depicts our data construction for an ambiguous question that requires clarification questions, while the bottom box illustrates an ambiguous question with direct helpful SQL responses. Here ‘U’ refers to a user and ‘A’ refers to a text-to-SQL assistant. \\n \\n ous and unanswerable examples corresponding to these categories by parsing the SQLs and modify- ing the databases (Spider 3 is used in the current work, but the framework can be easily adapted to other text-to-SQL datasets). We then leverage an LLM to convert the data into conversations be- tween the user and a text-to-SQL assistant that in- cludes user initial questions, assistant clarification questions, user clarification responses, assistant SQL responses, SQL execution results, and natural language explanations of the execution results (as shown in Figure 1). In addition to having conver- sations where the assistant asks for clarification questions, we also generated more helpful SQL responses that included the results of all possible responses for some ambiguous question categories. To assess the quality of our generated dataset we define annotation criteria for two tasks, question category classification, and conversation quality evaluation, and conduct human annotation on the generated data to show that our dataset is of high quality.', 'PRACTIQ: A Practical Conversational text-to-SQL dataset with Ambiguous and Unanswerable Queries \\n \\n Mingwen Dong†∗ Nischal Ashok Kumar‡* \\n \\n Yiqun Hu†, Anuj Chauhan†, Chung-Wei Hang†, Shuaichen Chang†, Lin Pan†, Wuwei Lan†, Henghui Zhu†, Jiarong Jiang†, Patrick Ng†, Zhiguo Wang† \\n \\n ‡University of Massachusetts at Amherst, †Amazon Web Services nashokkumar@cs.umass.edu, {mingwd, jiarongj, zhiguow}@amazon.com \\n \\n Abstract \\n \\n Previous text-to-SQL datasets and systems have primarily focused on user questions with clear intentions that can be answered. How- ever, real user questions can often be ambigu- ous with multiple interpretations or unanswer- able due to a lack of relevant data. In this work, we construct a practical conversational text-to- SQL dataset called PRACTIQ, consisting of am- biguous and unanswerable questions inspired by real-world user questions. We first identi- fied four categories of ambiguous questions and four categories of unanswerable questions by studying existing text-to-SQL datasets.', 'We convert our data into conversational forms leveraging reverse generation (generating SQL first and then generating user clar- ification responses) using an LLM (see Figure 1). \\n \\n 2.2 Ambiguity and Unanswerability in text-to-SQL systems \\n \\n Recent research has identified the presence of am- biguous and unanswerable questions in practical text-to-SQL systems. However, they primarily fo- cused on creating ambiguous or unanswerable data to train question classifiers (Zhang et al., 2020) or covered only a limited range of ambiguous/u- nanswerable categories (Wang et al., 2023a). Con- currently, Bhaskar et al. (2023) introduced Am- biQT, a benchmark containing ambiguous text-to- SQL queries spanning four ambiguous categories, and suggested generating multiple SQL queries to encompass the correct SQL. More recently, AM- BROSIA defined and generated ambiguous text-to- SQL data based on scope ambiguity, attachment ambiguity, and vagueness but did not cover unan- swerable categories (Saparina and Lapata, 2024). Text2Analysis (He et al., 2024) focuses on struc- tured data and also includes unclear queries, how- ever, its queries focus more on advanced analysis skills rather than text-to-SQL. Our dataset differs in several key aspects.']\u001b[0m\n",
      "Thought:\u001b[32;1m\u001b[1;3m I now know the answer to the second part of the question, which is what text-to-SQL is and how it contributed to Amazon's earnings. Text-to-SQL is a technology that converts natural language questions into SQL queries that can be used to query a database. It is used to improve the performance of text-to-SQL systems by allowing them to handle ambiguous and unanswerable questions more effectively. Amazon has not publicly disclosed how text-to-SQL has contributed to its earnings, but it is likely that the technology has helped the company to improve the efficiency and accuracy of its database queries, which could have a positive impact on its bottom line.\n",
      "Action: None\n",
      "Action Input: None\u001b[0m\n",
      "Observation: \u001b[38;5;200m\u001b[1;3mNone\u001b[0m\n",
      "Thought:\u001b[32;1m\u001b[1;3m I now know the final answer to the original input question.\n",
      "Final Answer: Amazon's Operating Income for the fiscal year ending December 31, 2022 was $11,387 million. Text-to-SQL is a technology that converts natural language questions into SQL queries that can be used to query a database. It is used to improve the performance of text-to-SQL systems by allowing them to handle ambiguous and unanswerable questions more effectively. Amazon has not publicly disclosed how text-to-SQL has contributed to its earnings, but it is likely that the technology has helped the company to improve the efficiency and accuracy of its database queries, which could have a positive impact on its bottom line.\u001b[0m\n",
      "\n",
      "\u001b[1m> Finished chain.\u001b[0m\n",
      "Amazon's Operating Income for the fiscal year ending December 31, 2022 was $11,387 million. Text-to-SQL is a technology that converts natural language questions into SQL queries that can be used to query a database. It is used to improve the performance of text-to-SQL systems by allowing them to handle ambiguous and unanswerable questions more effectively. Amazon has not publicly disclosed how text-to-SQL has contributed to its earnings, but it is likely that the technology has helped the company to improve the efficiency and accuracy of its database queries, which could have a positive impact on its bottom line.\n"
     ]
    }
   ],
   "source": [
    "# Set up agentic RAG with query decomposition\n",
    "agent = setup_agentic_rag(retriever, llm)\n",
    "\n",
    "# Query example\n",
    "query = \"What was Amazon's Operating Income as reported for the fiscal year ending December 31, 2022? What is text-to-SQL? How did text-to-SQL contribute to Amazons earnings, if any?\"\n",
    "\n",
    "# Run the agent\n",
    "result = agent.run(query)\n",
    "print(result)"
   ]
  }
 ],
 "metadata": {
  "kernelspec": {
   "display_name": "Python 3 (ipykernel)",
   "language": "python",
   "name": "python3"
  },
  "language_info": {
   "codemirror_mode": {
    "name": "ipython",
    "version": 3
   },
   "file_extension": ".py",
   "mimetype": "text/x-python",
   "name": "python",
   "nbconvert_exporter": "python",
   "pygments_lexer": "ipython3",
   "version": "3.12.9"
  }
 },
 "nbformat": 4,
 "nbformat_minor": 5
}
