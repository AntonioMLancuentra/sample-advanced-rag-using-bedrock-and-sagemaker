{
 "cells": [
  {
   "cell_type": "markdown",
   "id": "9bdb93e3-4eea-486b-b5d4-6d4a330a2338",
   "metadata": {},
   "source": [
    "## Create a Knowledge Base with Fixed Chunking Strategy\n",
    "#### What will we do in this workshop?\n",
    "1. Create a Knowledgebase (KB) in the vector database.\n",
    "2. We will create a data source for the KB. The data source will be the Amazon Science and 10K documents stored in S3.\n",
    "3. We will ingest the data from S3, use Fixed Chunking to chunk the data, generate vector embeddings, and store the chunks and their corresponding vector embeddings in the KB.\n",
    "4. We will then ask some questions and query the KB to return some chunks and inspect relevancy score.\n",
    "<br>Note: We are not sending the query and its chunks to a LLM in this notebook. We will do that in other notebooks.\n",
    "![We are generating vector embeddings and storing them in a KB in Vector Database](./Fixed_Chunking.png)"
   ]
  },
  {
   "cell_type": "markdown",
   "id": "494778cc-5990-465f-aa97-86a4b3ad9620",
   "metadata": {},
   "source": [
    "Chunking data is essential. If you are adding large documents with hundreds of pages to your knowledge base then you need to split them up and return only the relevant sections to use as context for your inference. If you are returning too much context it will increase costs (models charge based on input token count) and latency. It may also harm output quality. Shorter chunks will provide a better match but may lack the context necessary to answer a question.\n",
    "\n",
    "Bedrock Knowledge bases have a few different chunking strategies to choose from. They handle everything from splitting at semantic boundaries like paragraphs and hierarchical structures. However some document types can benefit from custom chunking. For example, any form of mark up can be used by a custom chunking approach.\n",
    "\n",
    "You can also create your own custom chunking approach using a Lambda function. If you want to add any custom metadata then you will need to add a Lambda function. You can either handle the chunking yourself, edit an existing chunk or just add metadata. Metadata can then be used for filtering.\n",
    "\n",
    "It is important to tune your chunking to the type of documents being ingested. Getting the wrong chunk size will affect the accuracy and response times. It will also increase the costs in both the vector storage and inference steps. The defaults supplied in Bedrock are pretty good but they may need tailored to your specific circumstances. Longer and more technical documents may need larger chunk sizes to make sure they include more context. Speech (like a chat transcript) can benefit from shorter chunks.\n",
    "\n",
    "![Chunking Strategies](./chunking-strategies.png)"
   ]
  },
  {
   "cell_type": "markdown",
   "id": "2ddd926b-0c3f-43b0-9e32-459389fcb7a3",
   "metadata": {},
   "source": [
    "## Overview\n",
    "\n",
    "In this notebook, we will implement a knowledge base using a fixed chunking strategy. Here are the key steps we'll perform:\n",
    "\n",
    "1. **Create a Knowledge Base**: Set up an Amazon Bedrock Knowledge Base with fixed-size chunking configuration that will store and retrieve our vector embeddings.\n",
    "\n",
    "2. **Create a Data Source**: Connect our Knowledge Base to the documents we uploaded to S3 in the previous notebook.\n",
    "\n",
    "3. **Start Ingestion Job**: Begin the process of transforming our documents into chunks, creating embeddings, and storing them in our vector database.\n",
    "\n",
    "4. **Retrieve and Generate**: Test our Knowledge Base by retrieving relevant information based on a sample query."
   ]
  },
  {
   "cell_type": "markdown",
   "id": "1e0c1927-f3d4-4cb0-b2db-d2fc4fba8aac",
   "metadata": {},
   "source": [
    "#### Concept\n",
    "\n",
    "**Fixed Chunking**: Involves dividing your documents into fixed-size chunks, regardless of the content within them. Each chunk contains a predefined number of tokens or characters, and this method allows for more uniform data organization. \n",
    "\n",
    "![How Fixed Sized Chunking Works](./Fixed_how_it_works.png)\n",
    "\n",
    "Fixed chunking is useful when you want to ensure that your chunks are of a consistent size, making them easier to process and retrieve in a predictable manner. The document is split into sections of equal length, and each section becomes a separate chunk. This method works well when the content is relatively homogeneous, and the chunk boundaries are not as crucial to understanding the underlying context.\n",
    "\n",
    "#### Benefits\n",
    "\n",
    "- **Uniformity**: Each chunk has the same size, making the system more predictable. This helps with processing efficiency since you know that each chunk is of a consistent size, making batch operations and parallel processing easier.\n",
    "- **Simplified Retrieval**: Since the chunk sizes are uniform, searching through the data becomes straightforward. You can quickly determine the length of chunks, which can be useful for performance optimization and scalability in large datasets.\n",
    "- **Performance Optimization**: Fixed chunks are ideal when you want to control the computational cost of document retrieval and chunking. Having equal-sized chunks reduces the chance of computational bottlenecks in scenarios requiring large-scale document processing.\n",
    "\n",
    "> **Note:** While fixed chunking can be efficient for certain use cases, it may not preserve the natural semantic boundaries of the content, such as paragraphs or sections. This may lead to chunks that start or end at arbitrary places, potentially cutting off context in the middle of a sentence or idea.\n",
    "\n",
    "### **Best Use Cases**\n",
    "Fixed chunking is suitable for cases where:\n",
    "- **Homogeneous content**: The content is consistent, and boundaries are not as important.\n",
    "- **Performance**: You need uniform-sized chunks for predictable processing or optimization of large-scale systems.\n",
    "- **Simplified text processing**: When chunk boundaries do not need to match natural semantic structures like paragraphs or sentences.\n",
    "\n",
    "Examples include:\n",
    "- **General document indexing**: When large datasets are involved, and uniform chunk sizes optimize retrieval.\n",
    "- **Text summarization**: Fixed chunking is helpful when generating summaries from uniformly sized data pieces.\n"
   ]
  },
  {
   "cell_type": "code",
   "execution_count": 1,
   "id": "8c67e01c-6f6a-4b11-bb8f-256fb15ef2f4",
   "metadata": {},
   "outputs": [],
   "source": [
    "# Import a module with few helper functions. \n",
    "# These functions will help us create knowledge base (KB), create data source for KB, and ingest data using semantic chunking to KB.\n",
    "\n",
    "import importlib\n",
    "import advanced_rag_utils\n",
    "\n",
    "# Reload module\n",
    "importlib.reload(advanced_rag_utils)\n",
    "\n",
    "# Re-import all functions\n",
    "from advanced_rag_utils import *\n",
    "\n",
    "from datetime import datetime, timedelta, UTC\n",
    "\n",
    "notebook_start_time = datetime.now(UTC)"
   ]
  },
  {
   "cell_type": "code",
   "execution_count": 2,
   "id": "9b874664-bd21-4929-8fe0-165da697e11f",
   "metadata": {
    "scrolled": true
   },
   "outputs": [
    {
     "data": {
      "text/plain": [
       "{'accountNumber': '270597685972',\n",
       " 'regionName': 'us-west-2',\n",
       " 'collectionArn': 'arn:aws:aoss:us-west-2:270597685972:collection/3ethft3xms9as2092ulg',\n",
       " 'collectionId': '3ethft3xms9as2092ulg',\n",
       " 'vectorIndexName': 'ws-index-',\n",
       " 'bedrockExecutionRoleArn': 'arn:aws:iam::270597685972:role/advanced-rag-workshop-bedrock_execution_role-us-west-2',\n",
       " 's3Bucket': '270597685972-us-west-2-advanced-rag-workshop',\n",
       " 'kbFixedChunk': 'SN9KSOQPOV',\n",
       " 'kbSemanticChunk': 'KMZYCTNSWW',\n",
       " 'kbHierarchicalChunk': 'V8EJKFPYTK',\n",
       " 'kbCustomChunk': 'G8P2D7M28S',\n",
       " 'sagemakerLLMEndpoint': 'endpoint-llama-3-2-3b-instruct-2025-05-02-18-22-06'}"
      ]
     },
     "execution_count": 2,
     "metadata": {},
     "output_type": "execute_result"
    }
   ],
   "source": [
    "# Let's load the variables we saved in the first notebook. We will use these variables\n",
    "import json\n",
    "with open(\"../variables.json\", \"r\") as f:\n",
    "    variables = json.load(f)\n",
    "\n",
    "variables"
   ]
  },
  {
   "cell_type": "code",
   "execution_count": 17,
   "id": "50b05117-98b9-4f6a-94e8-51924a3a25b9",
   "metadata": {},
   "outputs": [
    {
     "name": "stdout",
     "output_type": "stream",
     "text": [
      "Loaded existing file: /home/sagemaker-user/sample-advanced-rag-using-bedrock-and-sagemaker/embed_algo_costs.csv\n"
     ]
    },
    {
     "data": {
      "text/html": [
       "<div>\n",
       "<style scoped>\n",
       "    .dataframe tbody tr th:only-of-type {\n",
       "        vertical-align: middle;\n",
       "    }\n",
       "\n",
       "    .dataframe tbody tr th {\n",
       "        vertical-align: top;\n",
       "    }\n",
       "\n",
       "    .dataframe thead th {\n",
       "        text-align: right;\n",
       "    }\n",
       "</style>\n",
       "<table border=\"1\" class=\"dataframe\">\n",
       "  <thead>\n",
       "    <tr style=\"text-align: right;\">\n",
       "      <th></th>\n",
       "      <th>chunking_algo</th>\n",
       "      <th>embedding_seconds</th>\n",
       "      <th>input_tokens</th>\n",
       "      <th>invocation_count</th>\n",
       "      <th>total_token_costs</th>\n",
       "    </tr>\n",
       "  </thead>\n",
       "  <tbody>\n",
       "    <tr>\n",
       "      <th>0</th>\n",
       "      <td>fixed</td>\n",
       "      <td>47.174016</td>\n",
       "      <td>111341</td>\n",
       "      <td>417</td>\n",
       "      <td>0.002227</td>\n",
       "    </tr>\n",
       "    <tr>\n",
       "      <th>1</th>\n",
       "      <td>hierarchical</td>\n",
       "      <td>56.287275</td>\n",
       "      <td>295358</td>\n",
       "      <td>1157</td>\n",
       "      <td>0.005907</td>\n",
       "    </tr>\n",
       "    <tr>\n",
       "      <th>2</th>\n",
       "      <td>semantic</td>\n",
       "      <td>131.845039</td>\n",
       "      <td>680599</td>\n",
       "      <td>4178</td>\n",
       "      <td>0.013612</td>\n",
       "    </tr>\n",
       "  </tbody>\n",
       "</table>\n",
       "</div>"
      ],
      "text/plain": [
       "  chunking_algo  embedding_seconds  input_tokens  invocation_count  \\\n",
       "0         fixed          47.174016        111341               417   \n",
       "1  hierarchical          56.287275        295358              1157   \n",
       "2      semantic         131.845039        680599              4178   \n",
       "\n",
       "   total_token_costs  \n",
       "0           0.002227  \n",
       "1           0.005907  \n",
       "2           0.013612  "
      ]
     },
     "execution_count": 17,
     "metadata": {},
     "output_type": "execute_result"
    }
   ],
   "source": [
    "# Load the dataframe related to costs from a csv file (if it already exists)\n",
    "df_costs = load_df_from_csv()\n",
    "df_costs"
   ]
  },
  {
   "cell_type": "markdown",
   "id": "d805c37f-2e62-4945-b0e3-05af7db0e60d",
   "metadata": {},
   "source": [
    "### 1. Create a Knowledge Base\n",
    "Let's specify  chunking strategy, name and descripotion for Knowledge Base (KB) and create a KB."
   ]
  },
  {
   "cell_type": "code",
   "execution_count": 3,
   "id": "6a1ac212-083b-4bd0-abf1-e73919a054f1",
   "metadata": {},
   "outputs": [],
   "source": [
    "model_id = \"amazon.titan-embed-text-v2:0\"\n",
    "kb_chunking_strategy = \"fixed\" # [\"fixed\", \"hierarchical\", \"semantic\", \"custom\"]"
   ]
  },
  {
   "cell_type": "code",
   "execution_count": 4,
   "id": "415c4796-f812-49c1-8188-962cadd6eb51",
   "metadata": {},
   "outputs": [
    {
     "name": "stdout",
     "output_type": "stream",
     "text": [
      "{'collectionArn': 'arn:aws:aoss:us-west-2:270597685972:collection/3ethft3xms9as2092ulg', 'vectorIndexName': 'ws-index-fixed', 'fieldMapping': {'vectorField': 'vector', 'textField': 'text', 'metadataField': 'text-metadata'}}\n",
      "{'collectionArn': 'arn:aws:aoss:us-west-2:270597685972:collection/3ethft3xms9as2092ulg', 'vectorIndexName': 'ws-index-fixed', 'fieldMapping': {'vectorField': 'vector', 'textField': 'text', 'metadataField': 'text-metadata'}}\n",
      "{'collectionArn': 'arn:aws:aoss:us-west-2:270597685972:collection/3ethft3xms9as2092ulg', 'vectorIndexName': 'ws-index-fixed', 'fieldMapping': {'vectorField': 'vector', 'textField': 'text', 'metadataField': 'text-metadata'}}\n",
      "Knowledge Base already exists. Retrieving its ID...\n",
      "Found existing knowledge base with Name: advanced-rag-workshop-fixed-chunking and ID: SN9KSOQPOV\n",
      "OpenSearch Knowledge Response: {\n",
      "    \"createdAt\": \"2025-05-02 22:29:24.527448+00:00\",\n",
      "    \"description\": \"Knowledge base using Amazon OpenSearch Service as a vector store\",\n",
      "    \"knowledgeBaseArn\": \"arn:aws:bedrock:us-west-2:270597685972:knowledge-base/SN9KSOQPOV\",\n",
      "    \"knowledgeBaseConfiguration\": {\n",
      "        \"type\": \"VECTOR\",\n",
      "        \"vectorKnowledgeBaseConfiguration\": {\n",
      "            \"embeddingModelArn\": \"arn:aws:bedrock:us-west-2::foundation-model/amazon.titan-embed-text-v2:0\"\n",
      "        }\n",
      "    },\n",
      "    \"knowledgeBaseId\": \"SN9KSOQPOV\",\n",
      "    \"name\": \"advanced-rag-workshop-fixed-chunking\",\n",
      "    \"roleArn\": \"arn:aws:iam::270597685972:role/advanced-rag-workshop-bedrock_execution_role-us-west-2\",\n",
      "    \"status\": \"ACTIVE\",\n",
      "    \"storageConfiguration\": {\n",
      "        \"opensearchServerlessConfiguration\": {\n",
      "            \"collectionArn\": \"arn:aws:aoss:us-west-2:270597685972:collection/3ethft3xms9as2092ulg\",\n",
      "            \"fieldMapping\": {\n",
      "                \"metadataField\": \"text-metadata\",\n",
      "                \"textField\": \"text\",\n",
      "                \"vectorField\": \"vector\"\n",
      "            },\n",
      "            \"vectorIndexName\": \"ws-index-fixed\"\n",
      "        },\n",
      "        \"type\": \"OPENSEARCH_SERVERLESS\"\n",
      "    },\n",
      "    \"updatedAt\": \"2025-05-02 22:29:24.527448+00:00\"\n",
      "}\n"
     ]
    }
   ],
   "source": [
    "kb_name = f\"advanced-rag-workshop-{kb_chunking_strategy}-chunking\"\n",
    "\n",
    "kb_description = \"Knowledge base using Amazon OpenSearch Service as a vector store\"\n",
    "\n",
    "kb = create_kb(kb_name, kb_description, kb_chunking_strategy, variables, model_id)"
   ]
  },
  {
   "cell_type": "markdown",
   "id": "b5bfebc0-bdeb-4f43-a0a0-921d34be6aba",
   "metadata": {},
   "source": [
    "### 2. Create Datasource for Knowledge Base"
   ]
  },
  {
   "cell_type": "code",
   "execution_count": 12,
   "id": "d6cc990e-b0da-4853-a48a-071219d1461b",
   "metadata": {},
   "outputs": [
    {
     "name": "stdout",
     "output_type": "stream",
     "text": [
      "Found existing data source 'advanced-rag-example-fixed'. Deleting it...\n",
      "Waiting for data source deletion to complete...\n",
      "Data source deleted successfully.\n",
      "Creating new data source 'advanced-rag-example-fixed' with {'chunkingStrategy': 'FIXED_SIZE', 'fixedSizeChunkingConfiguration': {'maxTokens': 300, 'overlapPercentage': 20}} chunking...\n",
      "fixed chunking data source created successfully.\n"
     ]
    }
   ],
   "source": [
    "data_source_name = f\"advanced-rag-example-{kb_chunking_strategy}\"\n",
    "\n",
    "ds_object = create_data_source_for_kb(kb_chunking_strategy, data_source_name, kb, variables)"
   ]
  },
  {
   "cell_type": "markdown",
   "id": "7e5d415f-d61f-49ae-9d9a-1ea3063a1452",
   "metadata": {},
   "source": [
    "### 3. Start Ingestion Job for Amazon Bedrock Knowledge base pointing to Amazon OpenSearch"
   ]
  },
  {
   "cell_type": "markdown",
   "id": "ab5cc69d",
   "metadata": {},
   "source": [
    "> **Note**: The ingestion process will take approximately 2-3 minutes to complete. During this time, the system is processing your documents by:\n",
    "> 1. Extracting text from the source files\n",
    "> 2. Chunking the content according to the defined strategy (Fixed / Semantic / Hierachical / Custom)\n",
    "> 3. Generating embeddings for each chunk\n",
    "> 4. Storing the embeddings and associated metadata in a Knowledge Base (KB) in OpenSearch vector database\n",
    ">\n",
    "> You'll see status updates as the process progresses. Please wait for the \"Ingestion job completed successfully\" message before proceeding to the next step."
   ]
  },
  {
   "cell_type": "code",
   "execution_count": 13,
   "id": "72e084b1-9c83-45b2-a08f-36b8d2bf0bf7",
   "metadata": {},
   "outputs": [
    {
     "name": "stdout",
     "output_type": "stream",
     "text": [
      "Ingestion job started successfully for kb_name = advanced-rag-workshop-fixed-chunking and kb_id = SN9KSOQPOV\n",
      "\n",
      "running...\n",
      "running...\n",
      "running...\n",
      "running...\n",
      "Job completed successfully\n",
      "\n"
     ]
    }
   ],
   "source": [
    "from time import sleep\n",
    "ingestion_start_time = datetime.now(UTC)\n",
    "create_ingestion_job(kb, ds_object, variables)\n",
    "ingestion_end_time = datetime.now(UTC)"
   ]
  },
  {
   "cell_type": "code",
   "execution_count": 14,
   "id": "194e8c41-caed-451b-9be2-8e28f6c7a121",
   "metadata": {},
   "outputs": [
    {
     "name": "stdout",
     "output_type": "stream",
     "text": [
      "time taken to ingest into KB = 35.17 seconds\n"
     ]
    }
   ],
   "source": [
    "time_taken = (ingestion_end_time-ingestion_start_time).total_seconds()-6\n",
    "print(f\"time taken to ingest into KB = {fmt_n(time_taken)} seconds\")"
   ]
  },
  {
   "cell_type": "markdown",
   "id": "8fabeab5-a96d-484f-b172-df1691a6dc52",
   "metadata": {},
   "source": [
    "## Embedding LLM Costs\n",
    "1. Specify model id\n",
    "2. Specify start and end time\n",
    "3. Invoke a helper function to query cloud watch\n",
    "5. Calculate costs (please note that pricing is subject to change per region and over time)\n",
    "\n",
    "<br>![Embedding LLM Input Token Costs](./Input_token_embedding_llm_costs.png)"
   ]
  },
  {
   "cell_type": "code",
   "execution_count": 15,
   "id": "07c9d526-9256-4d42-9d89-9c1230ff0682",
   "metadata": {},
   "outputs": [
    {
     "name": "stdout",
     "output_type": "stream",
     "text": [
      "{\n",
      "    \"WARNING\": \"These costs are approximate and directional as of April 2025. They will vary as per region and may change in future. The costs are for Bedrock On-Demand model. If you see zero costs, chances are high that the LLM was not considered in cost calculations when the notebook was prepared. Please use AWS calculator for more accurate cost calculations.\",\n",
      "    \"model_id\": \"amazon.titan-embed-text-v2:0\",\n",
      "    \"start_time\": \"2025-05-03T00:50:37.355961+00:00\",\n",
      "    \"end_time\": \"2025-05-03T00:51:18.524309+00:00\",\n",
      "    \"duration in minutes\": 0.6861391333333333,\n",
      "    \"input_tokens\": 88179,\n",
      "    \"output_tokens\": 0,\n",
      "    \"invocation_count\": 329,\n",
      "    \"per million input token costs\": 0.02,\n",
      "    \"per million output token costs\": 0.0,\n",
      "    \"input token costs\": 0.0017635799999999998,\n",
      "    \"output token costs\": 0.0,\n",
      "    \"total token costs\": 0.0017635799999999998,\n",
      "    \"average token costs per invocation\": 5.360425531914893e-06,\n",
      "    \"token costs per MILLION such invocations\": 5.360425531914893\n",
      "}\n"
     ]
    }
   ],
   "source": [
    "vector_store_embedding_cost = get_bedrock_token_based_cost(model_id, ingestion_start_time, ingestion_end_time)\n",
    "print(json.dumps(vector_store_embedding_cost, indent=4))"
   ]
  },
  {
   "cell_type": "code",
   "execution_count": 18,
   "id": "6e61e328-1350-4e44-83d7-352f8cd8d413",
   "metadata": {},
   "outputs": [
    {
     "name": "stdout",
     "output_type": "stream",
     "text": [
      "Updated existing row for: fixed\n"
     ]
    },
    {
     "data": {
      "text/html": [
       "<div>\n",
       "<style scoped>\n",
       "    .dataframe tbody tr th:only-of-type {\n",
       "        vertical-align: middle;\n",
       "    }\n",
       "\n",
       "    .dataframe tbody tr th {\n",
       "        vertical-align: top;\n",
       "    }\n",
       "\n",
       "    .dataframe thead th {\n",
       "        text-align: right;\n",
       "    }\n",
       "</style>\n",
       "<table border=\"1\" class=\"dataframe\">\n",
       "  <thead>\n",
       "    <tr style=\"text-align: right;\">\n",
       "      <th></th>\n",
       "      <th>chunking_algo</th>\n",
       "      <th>embedding_seconds</th>\n",
       "      <th>input_tokens</th>\n",
       "      <th>invocation_count</th>\n",
       "      <th>total_token_costs</th>\n",
       "    </tr>\n",
       "  </thead>\n",
       "  <tbody>\n",
       "    <tr>\n",
       "      <th>0</th>\n",
       "      <td>fixed</td>\n",
       "      <td>41.168348</td>\n",
       "      <td>88179</td>\n",
       "      <td>329</td>\n",
       "      <td>0.001764</td>\n",
       "    </tr>\n",
       "    <tr>\n",
       "      <th>1</th>\n",
       "      <td>hierarchical</td>\n",
       "      <td>56.287275</td>\n",
       "      <td>295358</td>\n",
       "      <td>1157</td>\n",
       "      <td>0.005907</td>\n",
       "    </tr>\n",
       "    <tr>\n",
       "      <th>2</th>\n",
       "      <td>semantic</td>\n",
       "      <td>131.845039</td>\n",
       "      <td>680599</td>\n",
       "      <td>4178</td>\n",
       "      <td>0.013612</td>\n",
       "    </tr>\n",
       "  </tbody>\n",
       "</table>\n",
       "</div>"
      ],
      "text/plain": [
       "  chunking_algo  embedding_seconds  input_tokens  invocation_count  \\\n",
       "0         fixed          41.168348         88179               329   \n",
       "1  hierarchical          56.287275        295358              1157   \n",
       "2      semantic         131.845039        680599              4178   \n",
       "\n",
       "   total_token_costs  \n",
       "0           0.001764  \n",
       "1           0.005907  \n",
       "2           0.013612  "
      ]
     },
     "execution_count": 18,
     "metadata": {},
     "output_type": "execute_result"
    }
   ],
   "source": [
    "# Let's add or update the cost binfo to dataframe. \n",
    "# This will help us compare the costs from various chunking strategies visually.\n",
    "new_row = {\n",
    "    'chunking_algo': kb_chunking_strategy,\n",
    "    'embedding_seconds': vector_store_embedding_cost['duration in minutes']*60,\n",
    "    'input_tokens': vector_store_embedding_cost['input_tokens'],\n",
    "    'invocation_count': vector_store_embedding_cost['invocation_count'],\n",
    "    'total_token_costs': vector_store_embedding_cost['total token costs']\n",
    "}\n",
    "df_costs = update_or_add_row(df_costs, new_row)\n",
    "df_costs"
   ]
  },
  {
   "cell_type": "code",
   "execution_count": 19,
   "id": "47c1bcab-f6d2-496f-9abc-6e961700ef12",
   "metadata": {},
   "outputs": [
    {
     "name": "stdout",
     "output_type": "stream",
     "text": [
      "Successfully saved DataFrame to: /home/sagemaker-user/sample-advanced-rag-using-bedrock-and-sagemaker/embed_algo_costs.csv\n"
     ]
    }
   ],
   "source": [
    "# Let's save the df\n",
    "save_df_to_csv(df_costs)"
   ]
  },
  {
   "cell_type": "markdown",
   "id": "988051f4-2741-4180-af71-d445f2eaf37d",
   "metadata": {},
   "source": [
    "### 4. Retrieve: Use input query to RETRIEVE chunks from Vector Database\n",
    "We will use a helper function where you can specify the number of chunks to extract.<br>\n",
    "The helper function will 1/ generate a vector embedding for the query, 2/ search the vector embedding in the Knowledge Base (KB) vector database, 3/ get the number of chunks specified, 4/ Optionally, you can also specify minimum score for similarity in which case the helper function will get chunks with at least the minimum relevancy.\n",
    "\n",
    "<b>Warning: After data is ingested into a KB, when you query immediately, the results might be empty because of eventual consistency. If that happens, please wait for a few seconds and then retry.</b>"
   ]
  },
  {
   "cell_type": "code",
   "execution_count": 20,
   "id": "7855a3ee-1138-4bff-994c-0b1bf0f60873",
   "metadata": {},
   "outputs": [
    {
     "name": "stdout",
     "output_type": "stream",
     "text": [
      "[\n",
      "    {\n",
      "        \"content\": \"Overview     Our primary source of revenue is the sale of a wide range of products and services to customers. The products offered through our stores include merchandise and content we have purchased for resale and products offered by third-party sellers, and we also manufacture and sell electronic devices and produce media content. Generally, we recognize gross revenue from items we sell from our inventory as product sales and recognize our net share of revenue of items sold by third-party sellers as service sales. We seek to increase unit sales across our stores, through increased product selection, across numerous product categories. We also offer other services such as compute, storage, and database offerings, fulfillment, advertising, publishing, and digital content subscriptions.     Our financial focus is on long-term, sustainable growth in free cash flows. Free cash flows are driven primarily by increasing operating income and efficiently managing accounts receivable, inventory, accounts payable, and cash capital expenditures, including our decision to purchase or lease property and equipment. Increases in operating income primarily result from increases in sales of products and services and efficiently managing our operating costs, partially offset by investments we make in longer-term strategic initiatives, including capital expenditures focused on improving the customer experience. To increase sales of products and services, we focus on improving all aspects of the customer experience, including lowering prices, improving availability, offering faster delivery and performance times, increasing selection, producing original content, increasing product categories and service offerings, expanding product information, improving ease of use, improving reliability, and earning customer trust.\",\n",
      "        \"metadata\": {\n",
      "            \"x-amz-bedrock-kb-source-uri\": \"s3://270597685972-us-west-2-advanced-rag-workshop/data/pdf_documents/Amazon-10k-2024.pdf\",\n",
      "            \"x-amz-bedrock-kb-document-page-number\": 20.0,\n",
      "            \"year\": 2024.0,\n",
      "            \"docType\": \"10K Report\",\n",
      "            \"x-amz-bedrock-kb-data-source-id\": \"MPMMJ5ZDMB\",\n",
      "            \"company\": \"Amazon\",\n",
      "            \"x-amz-bedrock-kb-chunk-id\": \"1%3A0%3AjU6gk5YBxqKOsYV7ObGL\",\n",
      "            \"authors\": [\n",
      "                \"Amazon\"\n",
      "            ]\n",
      "        },\n",
      "        \"score\": 0.3767433\n",
      "    },\n",
      "    {\n",
      "        \"content\": \"Overview     Our primary source of revenue is the sale of a wide range of products and services to customers. The products offered through our stores include merchandise and content we have purchased for resale and products offered by third-party sellers, and we also manufacture and sell electronic devices and produce media content. Generally, we recognize gross revenue from items we sell from our inventory as product sales and recognize our net share of revenue of items sold by third-party sellers as service sales. We seek to increase unit sales across our stores, through increased product selection, across numerous product categories. We also offer other services such as compute, storage, and database offerings, fulfillment, advertising, publishing, and digital content subscriptions.     Our financial focus is on long-term, sustainable growth in free cash flows. Free cash flows are driven primarily by increasing operating income and efficiently managing accounts receivable, inventory, accounts payable, and cash capital expenditures, including our decision to purchase or lease property and equipment. Increases in operating income primarily result from increases in sales of products and services and efficiently managing our operating costs, partially offset by investments we make in longer-term strategic initiatives, including capital expenditures focused on improving the customer experience. To increase sales of products and services, we focus on improving all aspects of the customer experience, including lowering prices, improving availability, offering faster delivery and performance times, increasing selection, producing original content, increasing product categories and service offerings, expanding product information, improving ease of use, improving reliability, and earning customer trust.\",\n",
      "        \"metadata\": {\n",
      "            \"x-amz-bedrock-kb-source-uri\": \"s3://270597685972-us-west-2-advanced-rag-workshop/data/pdf_documents/Amazon-10k-2023.pdf\",\n",
      "            \"x-amz-bedrock-kb-document-page-number\": 19.0,\n",
      "            \"year\": 2023.0,\n",
      "            \"docType\": \"10K Report\",\n",
      "            \"x-amz-bedrock-kb-data-source-id\": \"MPMMJ5ZDMB\",\n",
      "            \"company\": \"Amazon\",\n",
      "            \"x-amz-bedrock-kb-chunk-id\": \"1%3A0%3Amk6gk5YBxqKOsYV7LbAP\",\n",
      "            \"authors\": [\n",
      "                \"Amazon\"\n",
      "            ]\n",
      "        },\n",
      "        \"score\": 0.3767433\n",
      "    },\n",
      "    {\n",
      "        \"content\": \"Overview Our primary source of revenue is the sale of a wide range of products and services to customers. The products offered through our stores include     merchandise and content we have purchased for resale and products offered by third-party sellers, and we also manufacture and sell electronic devices and produce media content. Generally, we recognize gross revenue from items we sell from our inventory as product sales and recognize our net share of revenue of items sold by third-party sellers as service sales. We seek to increase unit sales across our stores, through increased product selection, across numerous product categories. We also offer other services such as compute, storage, and database offerings, fulfillment, advertising, publishing, and digital content subscriptions.     Our financial focus is on long-term, sustainable growth in free cash flows. Free cash flows are driven primarily by increasing operating income and efficiently managing accounts receivable, inventory, accounts payable, and cash capital expenditures, including our decision to purchase or lease property and equipment. Increases in operating income primarily result from increases in sales of products and services and efficiently managing our operating costs, partially offset by investments we make in longer-term strategic initiatives, including capital expenditures focused on improving the customer experience. To increase sales of products and services, we focus on improving all aspects of the customer experience, including lowering prices, improving availability, offering faster delivery and performance times, increasing selection, producing original content, increasing product categories and service offerings, expanding product information, improving ease of use, improving reliability, and earning customer trust.\",\n",
      "        \"metadata\": {\n",
      "            \"x-amz-bedrock-kb-source-uri\": \"s3://270597685972-us-west-2-advanced-rag-workshop/data/pdf_documents/Amazon-10k-2025.pdf\",\n",
      "            \"x-amz-bedrock-kb-document-page-number\": 20.0,\n",
      "            \"year\": 2025.0,\n",
      "            \"docType\": \"10K Report\",\n",
      "            \"x-amz-bedrock-kb-data-source-id\": \"MPMMJ5ZDMB\",\n",
      "            \"company\": \"Amazon\",\n",
      "            \"x-amz-bedrock-kb-chunk-id\": \"1%3A0%3Aq_ugk5YBIk6Sd2CHIMvl\",\n",
      "            \"authors\": [\n",
      "                \"Amazon\"\n",
      "            ]\n",
      "        },\n",
      "        \"score\": 0.37658685\n",
      "    }\n",
      "]\n"
     ]
    }
   ],
   "source": [
    "# Let's ask some completely irrelevant question and see what we get from the KnolwedgeBase (KB) in vector database.\n",
    "query = \"What were the Taco sales in our franchise location on Guadalupe street?\"\n",
    "\n",
    "# specify the number of chunks we want to get from the KB in vector database.\n",
    "n_chunks = 3 \n",
    "\n",
    "# get chunks from KB\n",
    "chunks_from_kb = retrieve_from_kb(query, kb, n_chunks, variables)\n",
    "\n",
    "# print the chunks, metadata, and the score\n",
    "print(json.dumps(chunks_from_kb, indent=4))\n",
    "\n",
    "# You should see a very low score (typically less than 0.4) as there is nothing related to the question in the KB."
   ]
  },
  {
   "cell_type": "code",
   "execution_count": 21,
   "id": "5d823e6b-f4d7-4320-8eee-fbcde680c1f8",
   "metadata": {},
   "outputs": [
    {
     "name": "stdout",
     "output_type": "stream",
     "text": [
      "{\n",
      "    \"total_chunks\": 3,\n",
      "    \"min_score\": 0.37658685,\n",
      "    \"max_score\": 0.3767433,\n",
      "    \"avg_score\": 0.37669115000000003,\n",
      "    \"count_above_threshold\": 0\n",
      "}\n"
     ]
    }
   ],
   "source": [
    "# Let's summarize with total chunks, minimum score, maximum score, average score, \n",
    "# and lastly the number of chunks with a score more than a specified threshold.\n",
    "score_threshold = 0.40\n",
    "\n",
    "# We will use the helper function below to iterate through each element in json structure and print the \n",
    "# score statistics for the returned chunks from the KB\n",
    "score_structure = analyze_chunk_scores_above_threshold(chunks_from_kb, score_threshold)\n",
    "\n",
    "print(json.dumps(score_structure, indent=4))"
   ]
  },
  {
   "cell_type": "code",
   "execution_count": 22,
   "id": "ec9cf039-2dfe-41e9-9324-ffe789d1298a",
   "metadata": {},
   "outputs": [
    {
     "name": "stdout",
     "output_type": "stream",
     "text": [
      "[\n",
      "    {\n",
      "        \"content\": \", 2022 10,242 108 (7,837) 75,066 (4,487) 83,193 146,043 Net income \\u2014 \\u2014 \\u2014 \\u2014 \\u2014 30,425 30,425 Other comprehensive income (loss) \\u2014 \\u2014 \\u2014 \\u2014 1,447 \\u2014 1,447 Stock-based compensation and issuance of employee benefit plan stock 141 1 \\u2014 23,959 \\u2014 \\u2014 23,960 Balance as of December 31, 2023 10,383 $ 109 $ (7,837) $ 99,025 $ (3,040) $ 113,618 $ 201,875     See accompanying notes to consolidated financial statements.     41Table of Contents     AMAZON.COM, INC. NOTES TO CONSOLIDATED FINANCIAL STATEMENTS     Note 1 \\u2014 DESCRIPTION OF BUSINESS, ACCOUNTING POLICIES, AND SUPPLEMENTAL DISCLOSURES     Description of Business We seek to be Earth\\u2019s most customer-centric company. In each of our segments, we serve our primary customer sets, consisting of consumers, sellers,     developers, enterprises, content creators, advertisers, and employees. We serve consumers through our online and physical stores and focus on selection, price, and convenience.\",\n",
      "        \"metadata\": {\n",
      "            \"x-amz-bedrock-kb-source-uri\": \"s3://270597685972-us-west-2-advanced-rag-workshop/data/pdf_documents/Amazon-10k-2024.pdf\",\n",
      "            \"x-amz-bedrock-kb-document-page-number\": 41.0,\n",
      "            \"year\": 2024.0,\n",
      "            \"docType\": \"10K Report\",\n",
      "            \"x-amz-bedrock-kb-data-source-id\": \"MPMMJ5ZDMB\",\n",
      "            \"company\": \"Amazon\",\n",
      "            \"x-amz-bedrock-kb-chunk-id\": \"1%3A0%3A5vugk5YBIk6Sd2CHO8zj\",\n",
      "            \"authors\": [\n",
      "                \"Amazon\"\n",
      "            ]\n",
      "        },\n",
      "        \"score\": 0.64564687\n",
      "    },\n",
      "    {\n",
      "        \"content\": \"(7,837) 99,025 (3,040) 113,618 201,875 Net income \\u2014 \\u2014 \\u2014 \\u2014 \\u2014 59,248 59,248 Other comprehensive income (loss) \\u2014 \\u2014 \\u2014 \\u2014 3,006 \\u2014 3,006 Stock-based compensation and issuance of employee benefit plan stock 210 2 \\u2014 21,839 \\u2014 \\u2014 21,841 Balance as of December 31, 2024 10,593 $ 111 $ (7,837) $ 120,864 $ (34) $ 172,866 $ 285,970     See accompanying notes to consolidated financial statements.     40Table of Contents     AMAZON.COM, INC. NOTES TO CONSOLIDATED FINANCIAL STATEMENTS     Note 1 \\u2014 DESCRIPTION OF BUSINESS, ACCOUNTING POLICIES, AND SUPPLEMENTAL DISCLOSURES     Description of Business     We seek to be Earth\\u2019s most customer-centric company. In each of our segments, we serve our primary customer sets, consisting of consumers, sellers, developers, enterprises, content creators, advertisers, and employees. We serve consumers through our online and physical stores and focus on selection, price, and convenience.\",\n",
      "        \"metadata\": {\n",
      "            \"x-amz-bedrock-kb-source-uri\": \"s3://270597685972-us-west-2-advanced-rag-workshop/data/pdf_documents/Amazon-10k-2025.pdf\",\n",
      "            \"x-amz-bedrock-kb-document-page-number\": 40.0,\n",
      "            \"year\": 2025.0,\n",
      "            \"docType\": \"10K Report\",\n",
      "            \"x-amz-bedrock-kb-data-source-id\": \"MPMMJ5ZDMB\",\n",
      "            \"company\": \"Amazon\",\n",
      "            \"x-amz-bedrock-kb-chunk-id\": \"1%3A0%3AFE6gk5YBxqKOsYV7I7Bt\",\n",
      "            \"authors\": [\n",
      "                \"Amazon\"\n",
      "            ]\n",
      "        },\n",
      "        \"score\": 0.5779068\n",
      "    },\n",
      "    {\n",
      "        \"content\": \"AMAZON.COM, INC. CONSOLIDATED STATEMENTS OF COMPREHENSIVE INCOME (LOSS)     (in millions) Year Ended December 31,      2021 2022 2023     Net income (loss) $ 33,364 $ (2,722) $ 30,425 Other comprehensive income (loss):     Foreign currency translation adjustments, net of tax of $47, $100, and $(55) (819) (2,586) 1,027 Available-for-sale debt securities:     Change in net unrealized gains (losses), net of tax of $72, $159, and $(110) (343) (823) 366 Less: reclassification adjustment for losses (gains) included in \\u201cOther income (expense), net,\\u201d net of tax of $13, $0, and $(15) (34) 298 50     Net change (377) (525) 416 Other, net of tax of $0, $0, and $(1) \\u2014 \\u2014 4     Total other comprehensive income (loss) (1,196) (3,111) 1,447 Comprehensive income (loss) $ 32,168 $ (5,833) $ 31,872     See accompanying notes to consolidated financial statements.     39Table of Contents     AMAZON.COM, INC. CONSOLIDATED BALANCE SHEETS     (in millions, except per share data) December\",\n",
      "        \"metadata\": {\n",
      "            \"x-amz-bedrock-kb-source-uri\": \"s3://270597685972-us-west-2-advanced-rag-workshop/data/pdf_documents/Amazon-10k-2024.pdf\",\n",
      "            \"x-amz-bedrock-kb-document-page-number\": 39.0,\n",
      "            \"year\": 2024.0,\n",
      "            \"docType\": \"10K Report\",\n",
      "            \"x-amz-bedrock-kb-data-source-id\": \"MPMMJ5ZDMB\",\n",
      "            \"company\": \"Amazon\",\n",
      "            \"x-amz-bedrock-kb-chunk-id\": \"1%3A0%3A4vugk5YBIk6Sd2CHO8zj\",\n",
      "            \"authors\": [\n",
      "                \"Amazon\"\n",
      "            ]\n",
      "        },\n",
      "        \"score\": 0.56789297\n",
      "    },\n",
      "    {\n",
      "        \"content\": \"(5,936) 37,557 68,614 Benefit (provision) for income taxes 3,217 (7,120) (9,265) Equity-method investment activity, net of tax (3) (12) (101) Net income (loss) $ (2,722) $ 30,425 $ 59,248 Basic earnings per share $ (0.27) $ 2.95 $ 5.66 Diluted earnings per share $ (0.27) $ 2.90 $ 5.53 Weighted-average shares used in computation of earnings per share:     Basic 10,189 10,304 10,473 Diluted 10,189 10,492 10,721     See accompanying notes to consolidated financial statements.     37Table of Contents     AMAZON.COM, INC.\",\n",
      "        \"metadata\": {\n",
      "            \"x-amz-bedrock-kb-source-uri\": \"s3://270597685972-us-west-2-advanced-rag-workshop/data/pdf_documents/Amazon-10k-2025.pdf\",\n",
      "            \"x-amz-bedrock-kb-document-page-number\": 37.0,\n",
      "            \"year\": 2025.0,\n",
      "            \"docType\": \"10K Report\",\n",
      "            \"x-amz-bedrock-kb-data-source-id\": \"MPMMJ5ZDMB\",\n",
      "            \"company\": \"Amazon\",\n",
      "            \"x-amz-bedrock-kb-chunk-id\": \"1%3A0%3ADk6gk5YBxqKOsYV7I7Bt\",\n",
      "            \"authors\": [\n",
      "                \"Amazon\"\n",
      "            ]\n",
      "        },\n",
      "        \"score\": 0.5635595\n",
      "    },\n",
      "    {\n",
      "        \"content\": \"10,296 10,189     See accompanying notes to consolidated financial statements.     37Table of Contents     AMAZON.COM, INC. CONSOLIDATED STATEMENTS OF COMPREHENSIVE INCOME (LOSS)     (in millions) Year Ended December 31,      2020 2021 2022     Net income (loss) $ 21,331 $ 33,364 $ (2,722) Other comprehensive income (loss):     Foreign currency translation adjustments, net of tax of $(36), $47, and $100 561 (819) (2,586) Net change in unrealized gains (losses) on available-for-sale debt securities:     Unrealized gains (losses), net of tax of $(83), $72, and $159 273 (343) (823) Reclassification adjustment for losses (gains) included in \\u201cOther income (expense), net,\\u201d net of tax of $8, $13, and $0 (28) (34) 298     Net unrealized gains (losses) on available-for-sale debt securities 245 (377) (525) Total other comprehensive income (loss) 806 (1,196) (3,111)     Comprehensive income (loss) $ 22,137 $ 32,168 $ (5,833)     See accompanying notes to consolidated financial statements.     38Table of Contents     AMAZON.COM, INC. CONSOLIDATED\",\n",
      "        \"metadata\": {\n",
      "            \"x-amz-bedrock-kb-source-uri\": \"s3://270597685972-us-west-2-advanced-rag-workshop/data/pdf_documents/Amazon-10k-2023.pdf\",\n",
      "            \"x-amz-bedrock-kb-document-page-number\": 37.0,\n",
      "            \"year\": 2023.0,\n",
      "            \"docType\": \"10K Report\",\n",
      "            \"x-amz-bedrock-kb-data-source-id\": \"MPMMJ5ZDMB\",\n",
      "            \"company\": \"Amazon\",\n",
      "            \"x-amz-bedrock-kb-chunk-id\": \"1%3A0%3AX_ugk5YBIk6Sd2CHLszu\",\n",
      "            \"authors\": [\n",
      "                \"Amazon\"\n",
      "            ]\n",
      "        },\n",
      "        \"score\": 0.56256187\n",
      "    }\n",
      "]\n"
     ]
    }
   ],
   "source": [
    "# Let's ask some something more related about Amazon's net incomes.\n",
    "query = \"What were net incomes of Amazon in 2022, 2023 and 2024?\"\n",
    "\n",
    "# specify the number of chunks\n",
    "n_chunks = 5\n",
    "\n",
    "# get chunks from KB\n",
    "chunks_from_kb = retrieve_from_kb(query, kb, n_chunks, variables)\n",
    "\n",
    "#print the chunks, metadata, and the score\n",
    "print(json.dumps(chunks_from_kb, indent=4))\n",
    "\n",
    "# You should see relevant content with relatively higher score as compared to when youa sked an irrelevant question."
   ]
  },
  {
   "cell_type": "code",
   "execution_count": 23,
   "id": "43e15454-286d-4a07-baa2-50f8c13fe8b2",
   "metadata": {},
   "outputs": [
    {
     "name": "stdout",
     "output_type": "stream",
     "text": [
      "{\n",
      "    \"total_chunks\": 5,\n",
      "    \"min_score\": 0.56256187,\n",
      "    \"max_score\": 0.64564687,\n",
      "    \"avg_score\": 0.583513602,\n",
      "    \"count_above_threshold\": 5\n",
      "}\n"
     ]
    }
   ],
   "source": [
    "# Let's summarize with total chunks, minimum score, maximum score, average score, \n",
    "# and lastly the number of chunks with a score more than a specified threshold.\n",
    "score_threshold = 0.56\n",
    "score_structure = analyze_chunk_scores_above_threshold(chunks_from_kb, score_threshold)\n",
    "print(json.dumps(score_structure, indent=4))"
   ]
  },
  {
   "cell_type": "code",
   "execution_count": 24,
   "id": "01940994-078e-4396-bd73-2425c93f2b3d",
   "metadata": {
    "scrolled": true
   },
   "outputs": [
    {
     "name": "stdout",
     "output_type": "stream",
     "text": [
      "[\n",
      "  {\n",
      "    \"content\": \"We promptly make available on this website, free of charge, the reports that we file or furnish with the Securities and Exchange Commission (\\u201cSEC\\u201d), corporate governance information (including our Code of Business Conduct and Ethics), and select press releases.     Executive Officers and Directors The following tables set forth certain information regarding our Executive Officers and Directors as of January 29, 2025:     Information About Our Executive Officers Name Age Position     Jeffrey P. Bezos 61 Executive Chair Andrew R. Jassy 57 President and Chief Executive Officer Matthew S. Garman 48 CEO Amazon Web Services Douglas J. Herrington 58 CEO Worldwide Amazon Stores Brian T. Olsavsky 61 Senior Vice President and Chief Financial Officer Shelley L. Reynolds 60 Vice President, Worldwide Controller, and Principal Accounting Officer David A. Zapolsky 61 Senior Vice President, Global Public Policy and General Counsel     Jeffrey P. Bezos. Mr. Bezos founded Amazon.com in 1994 and has served as Executive Chair since July 2021. He has served as Chair of the Board since 1994 and served as Chief Executive Officer from May 1996 until July 2021, and as President from 1994 until June 1999 and again from October 2000 to July 2021.     Andrew R. Jassy. Mr.\",\n",
      "    \"metadata\": {\n",
      "      \"x-amz-bedrock-kb-source-uri\": \"s3://270597685972-us-west-2-advanced-rag-workshop/data/pdf_documents/Amazon-10k-2025.pdf\",\n",
      "      \"x-amz-bedrock-kb-document-page-number\": 5.0,\n",
      "      \"year\": 2025.0,\n",
      "      \"docType\": \"10K Report\",\n",
      "      \"x-amz-bedrock-kb-data-source-id\": \"MPMMJ5ZDMB\",\n",
      "      \"company\": \"Amazon\",\n",
      "      \"x-amz-bedrock-kb-chunk-id\": \"1%3A0%3AcPugk5YBIk6Sd2CHIMvl\",\n",
      "      \"authors\": [\n",
      "        \"Amazon\"\n",
      "      ]\n",
      "    },\n",
      "    \"score\": 0.55985385\n",
      "  },\n",
      "  {\n",
      "    \"content\": \"Andrew R. Jassy. Mr. Jassy has served as President and Chief Executive Officer since July 2021, CEO Amazon Web Services from April 2016 until July 2021, and Senior Vice President, Amazon Web Services, from April 2006 until April 2016.     Matthew S. Garman. Mr. Garman has served as CEO Amazon Web Services since June 2024, Senior Vice President, Amazon Web Services from February 2021 until June 2024, Vice President, Marketing, Sales and Support of Amazon Web Services from January 2020 to February 2021, Vice President, AWS Compute Services from September 2018 to January 2020, and Vice President, EC2 from December 2012 to September 2018.     Douglas J. Herrington. Mr. Herrington has served as CEO Worldwide Amazon Stores since July 2022, Senior Vice President, North America Consumer from January 2015 to July 2022, Senior Vice President, Consumables from May 2014 to December 2014, and Vice President, Consumables from May 2005 to April 2014.     Brian T. Olsavsky. Mr.\",\n",
      "    \"metadata\": {\n",
      "      \"x-amz-bedrock-kb-source-uri\": \"s3://270597685972-us-west-2-advanced-rag-workshop/data/pdf_documents/Amazon-10k-2025.pdf\",\n",
      "      \"x-amz-bedrock-kb-document-page-number\": 5.0,\n",
      "      \"year\": 2025.0,\n",
      "      \"docType\": \"10K Report\",\n",
      "      \"x-amz-bedrock-kb-data-source-id\": \"MPMMJ5ZDMB\",\n",
      "      \"company\": \"Amazon\",\n",
      "      \"x-amz-bedrock-kb-chunk-id\": \"1%3A0%3Acfugk5YBIk6Sd2CHIMvl\",\n",
      "      \"authors\": [\n",
      "        \"Amazon\"\n",
      "      ]\n",
      "    },\n",
      "    \"score\": 0.5481572\n",
      "  },\n",
      "  {\n",
      "    \"content\": \"Accounting Firm.     31.1 Certification of Andrew R. Jassy, President and Chief Executive Officer of Amazon.com, Inc., pursuant to Rule 13a-14(a) under the Securities Exchange Act of 1934.     31.2 Certification of Brian T. Olsavsky, Senior Vice President and Chief Financial Officer of Amazon.com, Inc., pursuant to Rule 13a-14(a) under the Securities Exchange Act of 1934.     73           https://content.edgar-online.com/ExternalLink/EDGAR/0001193125-20-159531.html?hash=16ec42e2def9d676c243dade97430c0b550cbfa2eb40b5ecf51e8fa227b36a1a&dest=d933420dex41_htm         https://content.edgar-online.com/ExternalLink/EDGAR/0001193125-20-159531.html?hash=16ec42e2def9d676c243dade97430c0b550cbfa2eb40b5ecf51e8fa227b36a1a&dest=d933420dex41_htm         https://content.edgar-online.com/ExternalLink/EDGAR/0001193125-20-159531.html?\",\n",
      "    \"metadata\": {\n",
      "      \"x-amz-bedrock-kb-source-uri\": \"s3://270597685972-us-west-2-advanced-rag-workshop/data/pdf_documents/Amazon-10k-2023.pdf\",\n",
      "      \"x-amz-bedrock-kb-document-page-number\": 73.0,\n",
      "      \"year\": 2023.0,\n",
      "      \"docType\": \"10K Report\",\n",
      "      \"x-amz-bedrock-kb-data-source-id\": \"MPMMJ5ZDMB\",\n",
      "      \"company\": \"Amazon\",\n",
      "      \"x-amz-bedrock-kb-chunk-id\": \"1%3A0%3A9k6gk5YBxqKOsYV7MLCl\",\n",
      "      \"authors\": [\n",
      "        \"Amazon\"\n",
      "      ]\n",
      "    },\n",
      "    \"score\": 0.5457132\n",
      "  },\n",
      "  {\n",
      "    \"content\": \"We also provide mentorship and support resources to our employees, and have deployed numerous programs that advance employee engagement, communication, and feedback.     4Table of Contents     Available Information     Our investor relations website is amazon.com/ir and we encourage investors to use it as a way of easily finding information about us. We promptly make available on this website, free of charge, the reports that we file or furnish with the Securities and Exchange Commission (\\u201cSEC\\u201d), corporate governance information (including our Code of Business Conduct and Ethics), and select press releases.     Executive Officers and Directors     The following tables set forth certain information regarding our Executive Officers and Directors as of January 25, 2023:     Information About Our Executive Officers Name Age Position     Jeffrey P. Bezos 59 Executive Chair Andrew R. Jassy 55 President and Chief Executive Officer Douglas J. Herrington 56 CEO Worldwide Amazon Stores Brian T. Olsavsky 59 Senior Vice President and Chief Financial Officer Shelley L. Reynolds 58 Vice President, Worldwide Controller, and Principal Accounting Officer Adam N. Selipsky 56 CEO Amazon Web Services David A. Zapolsky 59 Senior Vice President, General Counsel, and Secretary     Jeffrey P. Bezos. Mr. Bezos founded Amazon.com in 1994 and has served as Executive Chair since July 2021.\",\n",
      "    \"metadata\": {\n",
      "      \"x-amz-bedrock-kb-source-uri\": \"s3://270597685972-us-west-2-advanced-rag-workshop/data/pdf_documents/Amazon-10k-2023.pdf\",\n",
      "      \"x-amz-bedrock-kb-document-page-number\": 4.0,\n",
      "      \"year\": 2023.0,\n",
      "      \"docType\": \"10K Report\",\n",
      "      \"x-amz-bedrock-kb-data-source-id\": \"MPMMJ5ZDMB\",\n",
      "      \"company\": \"Amazon\",\n",
      "      \"x-amz-bedrock-kb-chunk-id\": \"1%3A0%3AZU6gk5YBxqKOsYV7LbAP\",\n",
      "      \"authors\": [\n",
      "        \"Amazon\"\n",
      "      ]\n",
      "    },\n",
      "    \"score\": 0.539641\n",
      "  },\n",
      "  {\n",
      "    \"content\": \"Mr. Bezos founded Amazon.com in 1994 and has served as Executive Chair since July 2021. He has served as Chair of the Board since 1994 and served as Chief Executive Officer from May 1996 until July 2021, and as President from 1994 until June 1999 and again from October 2000 to July 2021.     Andrew R. Jassy. Mr. Jassy has served as President and Chief Executive Officer since July 2021, CEO Amazon Web Services from April 2016 until July 2021, and Senior Vice President, Amazon Web Services, from April 2006 until April 2016.     Douglas J. Herrington. Mr. Herrington has served as CEO Worldwide Amazon Stores since July 2022, Senior Vice President, North America Consumer from January 2015 to July 2022, and Senior Vice President, Consumables from May 2014 to December 2014.     Brian T. Olsavsky. Mr. Olsavsky has served as Senior Vice President and Chief Financial Officer since June 2015, Vice President, Finance for the Global Consumer Business from December 2011 to June 2015, and numerous financial leadership roles across Amazon with global responsibility since April 2002.     Shelley L. Reynolds. Ms. Reynolds has served as Vice President, Worldwide Controller, and Principal Accounting Officer since April 2007. Adam N.\",\n",
      "    \"metadata\": {\n",
      "      \"x-amz-bedrock-kb-source-uri\": \"s3://270597685972-us-west-2-advanced-rag-workshop/data/pdf_documents/Amazon-10k-2023.pdf\",\n",
      "      \"x-amz-bedrock-kb-document-page-number\": 5.0,\n",
      "      \"year\": 2023.0,\n",
      "      \"docType\": \"10K Report\",\n",
      "      \"x-amz-bedrock-kb-data-source-id\": \"MPMMJ5ZDMB\",\n",
      "      \"company\": \"Amazon\",\n",
      "      \"x-amz-bedrock-kb-chunk-id\": \"1%3A0%3AZk6gk5YBxqKOsYV7LbAP\",\n",
      "      \"authors\": [\n",
      "        \"Amazon\"\n",
      "      ]\n",
      "    },\n",
      "    \"score\": 0.5365593\n",
      "  }\n",
      "]\n"
     ]
    }
   ],
   "source": [
    "# For the following query. We know that the document does not mention the abbreviations CEO, CFO or CTO but mentions\n",
    "# Chief Executive Officer and Chief Fincnace Officer. Let's see how good is the vector search.\n",
    "query = \"Who is the CEO, CFO, and CTO of Amazon? While answering the question, only use the data in context. If for any part of the question, you dont find the information in the context, please say I dont know for that part of the question.\"\n",
    "\n",
    "#specify the number of chunks\n",
    "n_chunks = 5 \n",
    "\n",
    "# get chunks from KB\n",
    "chunks_from_kb = retrieve_from_kb(query, kb, n_chunks, variables)\n",
    "\n",
    "#print the chunks, metadata, and the score\n",
    "print(json.dumps(chunks_from_kb, indent=2))\n",
    "\n",
    "#You will see that vector search extracts the chunks that contains the word Chief Executive Officer and Chief Financial Officer"
   ]
  },
  {
   "cell_type": "markdown",
   "id": "59dc3062-49d1-4f9d-9eee-ceeaa64577c7",
   "metadata": {},
   "source": [
    "#### Note: In the above results, the metadata has the name of the file, page number and other info. Optionally, this is something you could choose to share in your Generative application. Users can then click on the link and learn more from that content."
   ]
  },
  {
   "cell_type": "code",
   "execution_count": 25,
   "id": "39f992ba-d37d-4c3f-89d3-128f3a8920ca",
   "metadata": {},
   "outputs": [
    {
     "name": "stdout",
     "output_type": "stream",
     "text": [
      "[\n",
      "  {\n",
      "    \"content\": \"We promptly make available on this website, free of charge, the reports that we file or furnish with the Securities and Exchange Commission (\\u201cSEC\\u201d), corporate governance information (including our Code of Business Conduct and Ethics), and select press releases.     Executive Officers and Directors The following tables set forth certain information regarding our Executive Officers and Directors as of January 29, 2025:     Information About Our Executive Officers Name Age Position     Jeffrey P. Bezos 61 Executive Chair Andrew R. Jassy 57 President and Chief Executive Officer Matthew S. Garman 48 CEO Amazon Web Services Douglas J. Herrington 58 CEO Worldwide Amazon Stores Brian T. Olsavsky 61 Senior Vice President and Chief Financial Officer Shelley L. Reynolds 60 Vice President, Worldwide Controller, and Principal Accounting Officer David A. Zapolsky 61 Senior Vice President, Global Public Policy and General Counsel     Jeffrey P. Bezos. Mr. Bezos founded Amazon.com in 1994 and has served as Executive Chair since July 2021. He has served as Chair of the Board since 1994 and served as Chief Executive Officer from May 1996 until July 2021, and as President from 1994 until June 1999 and again from October 2000 to July 2021.     Andrew R. Jassy. Mr.\",\n",
      "    \"metadata\": {\n",
      "      \"x-amz-bedrock-kb-source-uri\": \"s3://270597685972-us-west-2-advanced-rag-workshop/data/pdf_documents/Amazon-10k-2025.pdf\",\n",
      "      \"x-amz-bedrock-kb-document-page-number\": 5.0,\n",
      "      \"year\": 2025.0,\n",
      "      \"docType\": \"10K Report\",\n",
      "      \"x-amz-bedrock-kb-data-source-id\": \"MPMMJ5ZDMB\",\n",
      "      \"company\": \"Amazon\",\n",
      "      \"x-amz-bedrock-kb-chunk-id\": \"1%3A0%3AcPugk5YBIk6Sd2CHIMvl\",\n",
      "      \"authors\": [\n",
      "        \"Amazon\"\n",
      "      ]\n",
      "    },\n",
      "    \"score\": 0.55985385\n",
      "  },\n",
      "  {\n",
      "    \"content\": \"Andrew R. Jassy. Mr. Jassy has served as President and Chief Executive Officer since July 2021, CEO Amazon Web Services from April 2016 until July 2021, and Senior Vice President, Amazon Web Services, from April 2006 until April 2016.     Matthew S. Garman. Mr. Garman has served as CEO Amazon Web Services since June 2024, Senior Vice President, Amazon Web Services from February 2021 until June 2024, Vice President, Marketing, Sales and Support of Amazon Web Services from January 2020 to February 2021, Vice President, AWS Compute Services from September 2018 to January 2020, and Vice President, EC2 from December 2012 to September 2018.     Douglas J. Herrington. Mr. Herrington has served as CEO Worldwide Amazon Stores since July 2022, Senior Vice President, North America Consumer from January 2015 to July 2022, Senior Vice President, Consumables from May 2014 to December 2014, and Vice President, Consumables from May 2005 to April 2014.     Brian T. Olsavsky. Mr.\",\n",
      "    \"metadata\": {\n",
      "      \"x-amz-bedrock-kb-source-uri\": \"s3://270597685972-us-west-2-advanced-rag-workshop/data/pdf_documents/Amazon-10k-2025.pdf\",\n",
      "      \"x-amz-bedrock-kb-document-page-number\": 5.0,\n",
      "      \"year\": 2025.0,\n",
      "      \"docType\": \"10K Report\",\n",
      "      \"x-amz-bedrock-kb-data-source-id\": \"MPMMJ5ZDMB\",\n",
      "      \"company\": \"Amazon\",\n",
      "      \"x-amz-bedrock-kb-chunk-id\": \"1%3A0%3Acfugk5YBIk6Sd2CHIMvl\",\n",
      "      \"authors\": [\n",
      "        \"Amazon\"\n",
      "      ]\n",
      "    },\n",
      "    \"score\": 0.5481572\n",
      "  },\n",
      "  {\n",
      "    \"content\": \"Accounting Firm.     31.1 Certification of Andrew R. Jassy, President and Chief Executive Officer of Amazon.com, Inc., pursuant to Rule 13a-14(a) under the Securities Exchange Act of 1934.     31.2 Certification of Brian T. Olsavsky, Senior Vice President and Chief Financial Officer of Amazon.com, Inc., pursuant to Rule 13a-14(a) under the Securities Exchange Act of 1934.     73           https://content.edgar-online.com/ExternalLink/EDGAR/0001193125-20-159531.html?hash=16ec42e2def9d676c243dade97430c0b550cbfa2eb40b5ecf51e8fa227b36a1a&dest=d933420dex41_htm         https://content.edgar-online.com/ExternalLink/EDGAR/0001193125-20-159531.html?hash=16ec42e2def9d676c243dade97430c0b550cbfa2eb40b5ecf51e8fa227b36a1a&dest=d933420dex41_htm         https://content.edgar-online.com/ExternalLink/EDGAR/0001193125-20-159531.html?\",\n",
      "    \"metadata\": {\n",
      "      \"x-amz-bedrock-kb-source-uri\": \"s3://270597685972-us-west-2-advanced-rag-workshop/data/pdf_documents/Amazon-10k-2023.pdf\",\n",
      "      \"x-amz-bedrock-kb-document-page-number\": 73.0,\n",
      "      \"year\": 2023.0,\n",
      "      \"docType\": \"10K Report\",\n",
      "      \"x-amz-bedrock-kb-data-source-id\": \"MPMMJ5ZDMB\",\n",
      "      \"company\": \"Amazon\",\n",
      "      \"x-amz-bedrock-kb-chunk-id\": \"1%3A0%3A9k6gk5YBxqKOsYV7MLCl\",\n",
      "      \"authors\": [\n",
      "        \"Amazon\"\n",
      "      ]\n",
      "    },\n",
      "    \"score\": 0.5457132\n",
      "  },\n",
      "  {\n",
      "    \"content\": \"We also provide mentorship and support resources to our employees, and have deployed numerous programs that advance employee engagement, communication, and feedback.     4Table of Contents     Available Information     Our investor relations website is amazon.com/ir and we encourage investors to use it as a way of easily finding information about us. We promptly make available on this website, free of charge, the reports that we file or furnish with the Securities and Exchange Commission (\\u201cSEC\\u201d), corporate governance information (including our Code of Business Conduct and Ethics), and select press releases.     Executive Officers and Directors     The following tables set forth certain information regarding our Executive Officers and Directors as of January 25, 2023:     Information About Our Executive Officers Name Age Position     Jeffrey P. Bezos 59 Executive Chair Andrew R. Jassy 55 President and Chief Executive Officer Douglas J. Herrington 56 CEO Worldwide Amazon Stores Brian T. Olsavsky 59 Senior Vice President and Chief Financial Officer Shelley L. Reynolds 58 Vice President, Worldwide Controller, and Principal Accounting Officer Adam N. Selipsky 56 CEO Amazon Web Services David A. Zapolsky 59 Senior Vice President, General Counsel, and Secretary     Jeffrey P. Bezos. Mr. Bezos founded Amazon.com in 1994 and has served as Executive Chair since July 2021.\",\n",
      "    \"metadata\": {\n",
      "      \"x-amz-bedrock-kb-source-uri\": \"s3://270597685972-us-west-2-advanced-rag-workshop/data/pdf_documents/Amazon-10k-2023.pdf\",\n",
      "      \"x-amz-bedrock-kb-document-page-number\": 4.0,\n",
      "      \"year\": 2023.0,\n",
      "      \"docType\": \"10K Report\",\n",
      "      \"x-amz-bedrock-kb-data-source-id\": \"MPMMJ5ZDMB\",\n",
      "      \"company\": \"Amazon\",\n",
      "      \"x-amz-bedrock-kb-chunk-id\": \"1%3A0%3AZU6gk5YBxqKOsYV7LbAP\",\n",
      "      \"authors\": [\n",
      "        \"Amazon\"\n",
      "      ]\n",
      "    },\n",
      "    \"score\": 0.539641\n",
      "  },\n",
      "  {\n",
      "    \"content\": \"Mr. Bezos founded Amazon.com in 1994 and has served as Executive Chair since July 2021. He has served as Chair of the Board since 1994 and served as Chief Executive Officer from May 1996 until July 2021, and as President from 1994 until June 1999 and again from October 2000 to July 2021.     Andrew R. Jassy. Mr. Jassy has served as President and Chief Executive Officer since July 2021, CEO Amazon Web Services from April 2016 until July 2021, and Senior Vice President, Amazon Web Services, from April 2006 until April 2016.     Douglas J. Herrington. Mr. Herrington has served as CEO Worldwide Amazon Stores since July 2022, Senior Vice President, North America Consumer from January 2015 to July 2022, and Senior Vice President, Consumables from May 2014 to December 2014.     Brian T. Olsavsky. Mr. Olsavsky has served as Senior Vice President and Chief Financial Officer since June 2015, Vice President, Finance for the Global Consumer Business from December 2011 to June 2015, and numerous financial leadership roles across Amazon with global responsibility since April 2002.     Shelley L. Reynolds. Ms. Reynolds has served as Vice President, Worldwide Controller, and Principal Accounting Officer since April 2007. Adam N.\",\n",
      "    \"metadata\": {\n",
      "      \"x-amz-bedrock-kb-source-uri\": \"s3://270597685972-us-west-2-advanced-rag-workshop/data/pdf_documents/Amazon-10k-2023.pdf\",\n",
      "      \"x-amz-bedrock-kb-document-page-number\": 5.0,\n",
      "      \"year\": 2023.0,\n",
      "      \"docType\": \"10K Report\",\n",
      "      \"x-amz-bedrock-kb-data-source-id\": \"MPMMJ5ZDMB\",\n",
      "      \"company\": \"Amazon\",\n",
      "      \"x-amz-bedrock-kb-chunk-id\": \"1%3A0%3AZk6gk5YBxqKOsYV7LbAP\",\n",
      "      \"authors\": [\n",
      "        \"Amazon\"\n",
      "      ]\n",
      "    },\n",
      "    \"score\": 0.5365593\n",
      "  }\n",
      "]\n"
     ]
    }
   ],
   "source": [
    "# Now let's pick the chunks with some minimum relevance score for the same question.\n",
    "query = \"Who is the CEO, CFO, and CTO of Amazon? While answering the question, only use the data in context. If for any part of the question, you dont find the information in the context, please say I dont know for that part of the question.\"\n",
    "\n",
    "#specify the number of chunks\n",
    "n_chunks = 5\n",
    "\n",
    "#Let's specify a minimum similarity score. We should see less chunks retrieved as compared to the previous invocation.\n",
    "min_score = 0.50\n",
    "\n",
    "# get chunks from KB\n",
    "chunks_from_kb = retrieve_from_kb(query, kb, n_chunks, variables, min_score)\n",
    "\n",
    "print(json.dumps(chunks_from_kb, indent=2))\n",
    "\n",
    "# You should see less number of chunks retrieved as compared to the previous cell \n",
    "# because of the minimum relevance score."
   ]
  },
  {
   "cell_type": "code",
   "execution_count": 26,
   "id": "b48b2372-8932-4df2-8c73-b5960655752c",
   "metadata": {},
   "outputs": [
    {
     "name": "stdout",
     "output_type": "stream",
     "text": [
      "{\n",
      "    \"total_chunks\": 5,\n",
      "    \"min_score\": 0.5365593,\n",
      "    \"max_score\": 0.55985385,\n",
      "    \"avg_score\": 0.5459849099999999,\n",
      "    \"count_above_threshold\": 1\n",
      "}\n"
     ]
    }
   ],
   "source": [
    "# Let's summarize with total chunks, minimum score, maximum score, average score, \n",
    "# and lastly the number of chunks with a score more than a specified threshold.\n",
    "score_threshold = 0.55\n",
    "score_structure = analyze_chunk_scores_above_threshold(chunks_from_kb, score_threshold)\n",
    "print(json.dumps(score_structure, indent=4))"
   ]
  },
  {
   "cell_type": "markdown",
   "id": "743eb5af-a252-4063-bad8-f6e89c0460b5",
   "metadata": {},
   "source": [
    "### Cost Summary for Running This Notebook\n",
    "In this notebook, we have used an embedding LLM for two purposes. \n",
    "1. Populate a vector store for six PDF files and one CSV file. (7 documents in total)\n",
    "2. Generate a query embedding."
   ]
  },
  {
   "cell_type": "code",
   "execution_count": 27,
   "id": "a92b060c-352c-47c5-9fc6-1f156b1210fc",
   "metadata": {},
   "outputs": [],
   "source": [
    "import time\n",
    "time.sleep(5)\n",
    "\n",
    "# Marking notebook endtime\n",
    "notebook_end_time = datetime.now(UTC)"
   ]
  },
  {
   "cell_type": "code",
   "execution_count": 31,
   "id": "485a62f2-6a59-4e30-88a1-d37d8cacf061",
   "metadata": {},
   "outputs": [
    {
     "data": {
      "text/markdown": [
       "\n",
       "#### Scenario\n",
       "* Number of documents to ingest: 100000\n",
       "* Number of queries: 5000000\n",
       "\n",
       "#### Cost Estimation based on the Scenario (USD)\n",
       "|-| Notebook Cost | Scenario Cost |\n",
       "|-|-|-|\n",
       "|VectorStore|0.001764|25.194|\n",
       "|Queries|0.010145600000000001|26.698947|\n",
       "|**TOTAL**|0.011909|51.892947|\n",
       "\n",
       "#### The cost estimation is based on a scenario that the similar documents and queries are multiplied.\n",
       "        "
      ],
      "text/plain": [
       "<IPython.core.display.Markdown object>"
      ]
     },
     "metadata": {},
     "output_type": "display_data"
    }
   ],
   "source": [
    "from IPython.display import display, Markdown\n",
    "from advanced_rag_utils import embedding_cost_report\n",
    "\n",
    "cost_for_notebook = get_bedrock_token_based_cost(model_id, notebook_start_time, notebook_end_time)\n",
    "\n",
    "# Your assumptions for your use case:\n",
    "scenario_number_of_documents = 100000\n",
    "scenario_number_of_queries =   5000000\n",
    " \n",
    "display(Markdown(embedding_cost_report(vector_store_embedding_cost, cost_for_notebook, scenario_number_of_documents, scenario_number_of_queries)))"
   ]
  }
 ],
 "metadata": {
  "kernelspec": {
   "display_name": "Python 3 (ipykernel)",
   "language": "python",
   "name": "python3"
  },
  "language_info": {
   "codemirror_mode": {
    "name": "ipython",
    "version": 3
   },
   "file_extension": ".py",
   "mimetype": "text/x-python",
   "name": "python",
   "nbconvert_exporter": "python",
   "pygments_lexer": "ipython3",
   "version": "3.12.9"
  }
 },
 "nbformat": 4,
 "nbformat_minor": 5
}
