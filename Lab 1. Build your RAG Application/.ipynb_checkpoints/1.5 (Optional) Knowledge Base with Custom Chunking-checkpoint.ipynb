{
 "cells": [
  {
   "cell_type": "markdown",
   "id": "bd35c145-e59c-4c6f-8ce2-3662b5d36151",
   "metadata": {},
   "source": [
    "## Create a Knowledge Base with Custom chunking strategy"
   ]
  },
  {
   "cell_type": "markdown",
   "id": "683c7ebc-5152-4564-bac5-14cb7261aa44",
   "metadata": {},
   "source": [
    "#### Custom Chunking Logic with Lambda Functions in Amazon Bedrock\n",
    "\n",
    "When creating a Knowledge Base (KB) for Amazon Bedrock, you can connect a Lambda function to specify your custom chunking logic. During the ingestion process, if a Lambda function is provided, the Knowledge Base will execute the Lambda function and store the input and output values in the specified intermediate S3 bucket.\n",
    "\n",
    "#### Use Cases for Lambda Functions in KBs\n",
    "\n",
    "- **Custom Chunking Logic:** Lambda functions can be used to implement custom logic for chunking documents during ingestion, enabling more control over how documents are divided into meaningful chunks.\n",
    "- **Chunk-level Metadata Processing:** Lambda functions can also process chunked data, for example, by adding custom metadata at the chunk level, enriching the data for more advanced retrieval or analysis.\n",
    "\n",
    "This allows for more flexibility and tailored handling of document data within the Knowledge Base, making it possible to apply unique chunking strategies and augment the data with specific metadata for improved search and retrieval.\n"
   ]
  },
  {
   "cell_type": "code",
   "execution_count": 1,
   "id": "2e0b6f2e-3e64-4bb0-8f70-d7be425a4a87",
   "metadata": {
    "scrolled": true
   },
   "outputs": [
    {
     "data": {
      "text/plain": [
       "{'accountNumber': '989679345636',\n",
       " 'regionName': 'us-west-2',\n",
       " 'collectionArn': 'arn:aws:aoss:us-west-2:989679345636:collection/ny2d41n7rmju74rh4ue2',\n",
       " 'collectionId': 'ny2d41n7rmju74rh4ue2',\n",
       " 'vectorIndexName': 'ws-index-',\n",
       " 'bedrockExecutionRoleArn': 'arn:aws:iam::989679345636:role/advanced-rag-workshop-bedrock_execution_role-us-west-2',\n",
       " 's3Bucket': '989679345636-us-west-2-advanced-rag-workshop',\n",
       " 'kbFixedChunk': 'TYG3IXCHCX',\n",
       " 'kbSemanticChunk': 'N7ZHYZVLOX',\n",
       " 'kbHierarchicalChunk': 'UDPUVOULM1',\n",
       " 'kbCustomChunk': 'AD07GOEBQ2'}"
      ]
     },
     "execution_count": 1,
     "metadata": {},
     "output_type": "execute_result"
    }
   ],
   "source": [
    "# Import the advanced_rag_utils module\n",
    "import advanced_rag_utils\n",
    "import json\n",
    "import importlib\n",
    "\n",
    "# Reload module\n",
    "importlib.reload(advanced_rag_utils)\n",
    "\n",
    "# Re-import all functions\n",
    "from advanced_rag_utils import *\n",
    "\n",
    "from datetime import datetime, timedelta, UTC\n",
    "\n",
    "notebook_start_time = datetime.now(UTC)\n",
    "\n",
    "# Load the variables from the JSON file\n",
    "with open(\"../variables.json\", \"r\") as f:\n",
    "    variables = json.load(f)\n",
    "\n",
    "variables"
   ]
  },
  {
   "cell_type": "code",
   "execution_count": 2,
   "id": "8e319173-e2ae-4821-8a46-ba6781a71b05",
   "metadata": {},
   "outputs": [],
   "source": [
    "kb_chunking_strategy = \"custom\" # [\"fixed\", \"hierarchical\", \"semantic\", \"custom\"]"
   ]
  },
  {
   "cell_type": "code",
   "execution_count": 3,
   "id": "5319b75a-152d-4d8c-9816-417b7f318c62",
   "metadata": {},
   "outputs": [
    {
     "name": "stdout",
     "output_type": "stream",
     "text": [
      "Loaded existing file: /home/sagemaker-user/brsk-GTM/Advanced_RAG_Workshop/simplified_labs/embed_algo_costs.csv\n"
     ]
    },
    {
     "data": {
      "text/html": [
       "<div>\n",
       "<style scoped>\n",
       "    .dataframe tbody tr th:only-of-type {\n",
       "        vertical-align: middle;\n",
       "    }\n",
       "\n",
       "    .dataframe tbody tr th {\n",
       "        vertical-align: top;\n",
       "    }\n",
       "\n",
       "    .dataframe thead th {\n",
       "        text-align: right;\n",
       "    }\n",
       "</style>\n",
       "<table border=\"1\" class=\"dataframe\">\n",
       "  <thead>\n",
       "    <tr style=\"text-align: right;\">\n",
       "      <th></th>\n",
       "      <th>chunking_algo</th>\n",
       "      <th>embedding_seconds</th>\n",
       "      <th>input_tokens</th>\n",
       "      <th>invocation_count</th>\n",
       "      <th>total_token_costs</th>\n",
       "    </tr>\n",
       "  </thead>\n",
       "  <tbody>\n",
       "    <tr>\n",
       "      <th>0</th>\n",
       "      <td>fixed</td>\n",
       "      <td>54.113933</td>\n",
       "      <td>0</td>\n",
       "      <td>0</td>\n",
       "      <td>0.0</td>\n",
       "    </tr>\n",
       "    <tr>\n",
       "      <th>1</th>\n",
       "      <td>semantic</td>\n",
       "      <td>122.857522</td>\n",
       "      <td>0</td>\n",
       "      <td>0</td>\n",
       "      <td>0.0</td>\n",
       "    </tr>\n",
       "    <tr>\n",
       "      <th>2</th>\n",
       "      <td>hierarchical</td>\n",
       "      <td>46.745694</td>\n",
       "      <td>0</td>\n",
       "      <td>0</td>\n",
       "      <td>0.0</td>\n",
       "    </tr>\n",
       "  </tbody>\n",
       "</table>\n",
       "</div>"
      ],
      "text/plain": [
       "  chunking_algo  embedding_seconds  input_tokens  invocation_count  \\\n",
       "0         fixed          54.113933             0                 0   \n",
       "1      semantic         122.857522             0                 0   \n",
       "2  hierarchical          46.745694             0                 0   \n",
       "\n",
       "   total_token_costs  \n",
       "0                0.0  \n",
       "1                0.0  \n",
       "2                0.0  "
      ]
     },
     "execution_count": 3,
     "metadata": {},
     "output_type": "execute_result"
    }
   ],
   "source": [
    "df_costs = load_df_from_csv()\n",
    "df_costs"
   ]
  },
  {
   "cell_type": "markdown",
   "id": "ac9b3661-448e-4717-90cd-e7b56ddf15da",
   "metadata": {},
   "source": [
    "### 0. Create a Lambda function with custom chunking logic"
   ]
  },
  {
   "cell_type": "code",
   "execution_count": 4,
   "id": "da24d0d2-ec77-4ef5-b73f-a8877dc21d27",
   "metadata": {
    "scrolled": true
   },
   "outputs": [
    {
     "name": "stdout",
     "output_type": "stream",
     "text": [
      "IAM role 'advanced-rag-custom-chunk-us-west-2-role' already exists. Using the existing role.\n",
      "Lambda function 'advanced-rag-custom-chunk' already exists. Updating code...\n",
      "Lambda function code updated successfully\n"
     ]
    }
   ],
   "source": [
    "# Create or update the Lambda function with custom chunking logic\n",
    "role_arn, function_arn = create_or_update_custom_chunking_lambda(\n",
    "    region_name=variables[\"regionName\"],\n",
    "    account_number=variables[\"accountNumber\"],\n",
    "    role_name=f\"advanced-rag-custom-chunk-{variables['regionName']}-role\",\n",
    "    function_name=\"advanced-rag-custom-chunk\",\n",
    "    s3_bucket=variables['s3Bucket']\n",
    ")"
   ]
  },
  {
   "cell_type": "code",
   "execution_count": 5,
   "id": "325eb5bd-f3a6-4144-835d-5b6db60fd516",
   "metadata": {
    "scrolled": true
   },
   "outputs": [
    {
     "name": "stdout",
     "output_type": "stream",
     "text": [
      "Bucket '989679345636-us-west-2-advanced-rag-workshop-custom-chunk' already exists.\n"
     ]
    },
    {
     "data": {
      "text/plain": [
       "'989679345636-us-west-2-advanced-rag-workshop-custom-chunk'"
      ]
     },
     "execution_count": 5,
     "metadata": {},
     "output_type": "execute_result"
    }
   ],
   "source": [
    "# Create an S3 bucket for custom chunking if it doesn't exist\n",
    "create_custom_chunk_s3_bucket(\n",
    "    s3_bucket=variables[\"s3Bucket\"],\n",
    "    region_name=variables[\"regionName\"]\n",
    ")"
   ]
  },
  {
   "cell_type": "markdown",
   "id": "e446f270-acf7-4278-a664-643169ee2646",
   "metadata": {},
   "source": [
    "### 1. Create a Knowledge Base"
   ]
  },
  {
   "cell_type": "code",
   "execution_count": 6,
   "id": "fe36ef26-2058-454e-b4ba-1804e086fcd7",
   "metadata": {
    "scrolled": true
   },
   "outputs": [
    {
     "name": "stdout",
     "output_type": "stream",
     "text": [
      "{'collectionArn': 'arn:aws:aoss:us-west-2:989679345636:collection/ny2d41n7rmju74rh4ue2', 'vectorIndexName': 'ws-index-custom', 'fieldMapping': {'vectorField': 'vector', 'textField': 'text', 'metadataField': 'text-metadata'}}\n",
      "{'collectionArn': 'arn:aws:aoss:us-west-2:989679345636:collection/ny2d41n7rmju74rh4ue2', 'vectorIndexName': 'ws-index-custom', 'fieldMapping': {'vectorField': 'vector', 'textField': 'text', 'metadataField': 'text-metadata'}}\n",
      "{'collectionArn': 'arn:aws:aoss:us-west-2:989679345636:collection/ny2d41n7rmju74rh4ue2', 'vectorIndexName': 'ws-index-custom', 'fieldMapping': {'vectorField': 'vector', 'textField': 'text', 'metadataField': 'text-metadata'}}\n",
      "Knowledge Base already exists. Retrieving its ID...\n",
      "Found existing knowledge base with Name: advanced-rag-workshop-custom-chunking and ID: AD07GOEBQ2\n",
      "OpenSearch Knowledge Response: {\n",
      "    \"createdAt\": \"2025-03-19 16:39:43.196942+00:00\",\n",
      "    \"description\": \"Knowledge base using Amazon OpenSearch Service as a vector store\",\n",
      "    \"knowledgeBaseArn\": \"arn:aws:bedrock:us-west-2:989679345636:knowledge-base/AD07GOEBQ2\",\n",
      "    \"knowledgeBaseConfiguration\": {\n",
      "        \"type\": \"VECTOR\",\n",
      "        \"vectorKnowledgeBaseConfiguration\": {\n",
      "            \"embeddingModelArn\": \"arn:aws:bedrock:us-west-2::foundation-model/amazon.titan-embed-text-v2:0\"\n",
      "        }\n",
      "    },\n",
      "    \"knowledgeBaseId\": \"AD07GOEBQ2\",\n",
      "    \"name\": \"advanced-rag-workshop-custom-chunking\",\n",
      "    \"roleArn\": \"arn:aws:iam::989679345636:role/advanced-rag-workshop-bedrock_execution_role-us-west-2\",\n",
      "    \"status\": \"ACTIVE\",\n",
      "    \"storageConfiguration\": {\n",
      "        \"opensearchServerlessConfiguration\": {\n",
      "            \"collectionArn\": \"arn:aws:aoss:us-west-2:989679345636:collection/ny2d41n7rmju74rh4ue2\",\n",
      "            \"fieldMapping\": {\n",
      "                \"metadataField\": \"text-metadata\",\n",
      "                \"textField\": \"text\",\n",
      "                \"vectorField\": \"vector\"\n",
      "            },\n",
      "            \"vectorIndexName\": \"ws-index-custom\"\n",
      "        },\n",
      "        \"type\": \"OPENSEARCH_SERVERLESS\"\n",
      "    },\n",
      "    \"updatedAt\": \"2025-03-19 16:39:43.196942+00:00\"\n",
      "}\n"
     ]
    }
   ],
   "source": [
    "# Create the knowledge base with custom chunking\n",
    "kb = create_kb(\n",
    "    kb_name=\"advanced-rag-workshop-custom-chunking\",\n",
    "    kb_description=\"Knowledge base using Amazon OpenSearch Service as a vector store\",\n",
    "    kb_chunking_type=\"custom\",\n",
    "    variables=variables\n",
    ")"
   ]
  },
  {
   "cell_type": "markdown",
   "id": "f684676c-0c32-47aa-9d48-d2c38b5a6206",
   "metadata": {},
   "source": [
    "### 2. Create Datasources for Knowledge Base"
   ]
  },
  {
   "cell_type": "code",
   "execution_count": 7,
   "id": "e081015d-a84e-4481-a6fd-381d86417450",
   "metadata": {
    "scrolled": true
   },
   "outputs": [
    {
     "name": "stdout",
     "output_type": "stream",
     "text": [
      "Checking for existing data sources in knowledge base AD07GOEBQ2...\n",
      "Found existing data source 'advanced-rag-example'. Deleting it...\n",
      "Waiting for data source deletion to complete...\n",
      "Data source deleted.\n",
      "Creating new data source 'advanced-rag-example' with custom chunking...\n",
      "Custom chunking data source created successfully with ID: JX7YUQ0R7E\n"
     ]
    }
   ],
   "source": [
    "# Create the data source with custom transformation configuration\n",
    "ds_custom_chunk = create_custom_data_source_for_kb(\n",
    "    kb=kb,\n",
    "    variables=variables,\n",
    "    data_source_name=\"advanced-rag-example\",\n",
    "    function_arn=function_arn\n",
    ")"
   ]
  },
  {
   "cell_type": "markdown",
   "id": "53ee4ce6-10ee-4c4b-ae9a-8d16be4ed48b",
   "metadata": {},
   "source": [
    "### 3. Start Ingestion Job for Amazon Bedrock Knowledge base pointing to Amazon OpenSearch"
   ]
  },
  {
   "cell_type": "markdown",
   "id": "769885e3",
   "metadata": {},
   "source": [
    "> **Note**: The ingestion process will take approximately 2-3 minutes to complete. During this time, the system is processing your documents by:\n",
    "> 1. Extracting text from the source files\n",
    "> 2. Chunking the content according to the defined strategy (Fixed / Semantic / Hierachical / Custom)\n",
    "> 3. Generating embeddings for each chunk\n",
    "> 4. Storing the embeddings and associated metadata in the OpenSearch vector database\n",
    ">\n",
    "> You'll see status updates as the process progresses. Please wait for the \"Ingestion job completed successfully\" message before proceeding to the next step."
   ]
  },
  {
   "cell_type": "code",
   "execution_count": 8,
   "id": "6d003980-60ba-4b7e-94c2-1bc99c0b63ba",
   "metadata": {
    "scrolled": true
   },
   "outputs": [
    {
     "name": "stdout",
     "output_type": "stream",
     "text": [
      "Ingestion job started successfully for kb_name = advanced-rag-workshop-custom-chunking and kb_id = AD07GOEBQ2\n",
      "\n",
      "running...\n",
      "running...\n",
      "running...\n",
      "running...\n",
      "running...\n",
      "running...\n",
      "Job completed successfully\n",
      "\n"
     ]
    }
   ],
   "source": [
    "# Create the ingestion job\n",
    "ingestion_start_time = datetime.now(UTC)\n",
    "time.sleep(5)\n",
    "\n",
    "create_ingestion_job(\n",
    "    kb=kb,\n",
    "    ds_object=ds_custom_chunk,\n",
    "    variables=variables\n",
    ")\n",
    "ingestion_end_time = datetime.now(UTC)"
   ]
  },
  {
   "cell_type": "code",
   "execution_count": 9,
   "id": "75bf04f0-5ca5-411f-97c7-f7abc6819079",
   "metadata": {},
   "outputs": [
    {
     "name": "stdout",
     "output_type": "stream",
     "text": [
      "time taken to ingest into KB = 67.00 seconds\n"
     ]
    }
   ],
   "source": [
    "time_taken = (ingestion_end_time-ingestion_start_time).total_seconds()\n",
    "print(f\"time taken to ingest into KB = {fmt_n(time_taken)} seconds\")"
   ]
  },
  {
   "cell_type": "code",
   "execution_count": 10,
   "id": "a4aa90b2-1fa3-4517-b9a6-651352800cfe",
   "metadata": {},
   "outputs": [
    {
     "name": "stdout",
     "output_type": "stream",
     "text": [
      "{\n",
      "    \"WARNING\": \"These costs are approximate and directional as of April 2025. They will vary as per region and may change in future. The costs are for Embedding LLM using Bedrock On-Demand model.\",\n",
      "    \"model_id\": \"arn:aws:bedrock:us-west-2::foundation-model/amazon.titan-embed-text-v2:0\",\n",
      "    \"start_time\": \"2025-04-30T03:11:54.511984+00:00\",\n",
      "    \"end_time\": \"2025-04-30T03:13:01.511178+00:00\",\n",
      "    \"duration in minutes\": 1.1166532333333334,\n",
      "    \"input_tokens\": 0,\n",
      "    \"invocation_count\": 0,\n",
      "    \"per million input token costs\": 0.02,\n",
      "    \"total token costs\": 0.0\n",
      "}\n"
     ]
    }
   ],
   "source": [
    "model_id = 'arn:aws:bedrock:us-west-2::foundation-model/amazon.titan-embed-text-v2:0'\n",
    "\n",
    "# use the helper function to get input tokens to embedding LLM and the associated costs\n",
    "tokens = get_embedding_LLM_costs_for_KB(model_id, ingestion_start_time, ingestion_end_time)\n",
    "\n",
    "print(json.dumps(tokens, indent=4))"
   ]
  },
  {
   "cell_type": "code",
   "execution_count": 11,
   "id": "debd6e05-f821-4d61-91ae-4c2f3a38f483",
   "metadata": {},
   "outputs": [
    {
     "name": "stdout",
     "output_type": "stream",
     "text": [
      "Added new row for: custom\n"
     ]
    },
    {
     "data": {
      "text/html": [
       "<div>\n",
       "<style scoped>\n",
       "    .dataframe tbody tr th:only-of-type {\n",
       "        vertical-align: middle;\n",
       "    }\n",
       "\n",
       "    .dataframe tbody tr th {\n",
       "        vertical-align: top;\n",
       "    }\n",
       "\n",
       "    .dataframe thead th {\n",
       "        text-align: right;\n",
       "    }\n",
       "</style>\n",
       "<table border=\"1\" class=\"dataframe\">\n",
       "  <thead>\n",
       "    <tr style=\"text-align: right;\">\n",
       "      <th></th>\n",
       "      <th>chunking_algo</th>\n",
       "      <th>embedding_seconds</th>\n",
       "      <th>input_tokens</th>\n",
       "      <th>invocation_count</th>\n",
       "      <th>total_token_costs</th>\n",
       "    </tr>\n",
       "  </thead>\n",
       "  <tbody>\n",
       "    <tr>\n",
       "      <th>0</th>\n",
       "      <td>fixed</td>\n",
       "      <td>54.113933</td>\n",
       "      <td>0</td>\n",
       "      <td>0</td>\n",
       "      <td>0.0</td>\n",
       "    </tr>\n",
       "    <tr>\n",
       "      <th>1</th>\n",
       "      <td>semantic</td>\n",
       "      <td>122.857522</td>\n",
       "      <td>0</td>\n",
       "      <td>0</td>\n",
       "      <td>0.0</td>\n",
       "    </tr>\n",
       "    <tr>\n",
       "      <th>2</th>\n",
       "      <td>hierarchical</td>\n",
       "      <td>46.745694</td>\n",
       "      <td>0</td>\n",
       "      <td>0</td>\n",
       "      <td>0.0</td>\n",
       "    </tr>\n",
       "    <tr>\n",
       "      <th>3</th>\n",
       "      <td>custom</td>\n",
       "      <td>66.999194</td>\n",
       "      <td>0</td>\n",
       "      <td>0</td>\n",
       "      <td>0.0</td>\n",
       "    </tr>\n",
       "  </tbody>\n",
       "</table>\n",
       "</div>"
      ],
      "text/plain": [
       "  chunking_algo  embedding_seconds  input_tokens  invocation_count  \\\n",
       "0         fixed          54.113933             0                 0   \n",
       "1      semantic         122.857522             0                 0   \n",
       "2  hierarchical          46.745694             0                 0   \n",
       "3        custom          66.999194             0                 0   \n",
       "\n",
       "   total_token_costs  \n",
       "0                0.0  \n",
       "1                0.0  \n",
       "2                0.0  \n",
       "3                0.0  "
      ]
     },
     "execution_count": 11,
     "metadata": {},
     "output_type": "execute_result"
    }
   ],
   "source": [
    "# Let's add or update the cost binfo to dataframe. \n",
    "# This will help us compare the costs from various chunking strategies visually.\n",
    "new_row = {\n",
    "    'chunking_algo': kb_chunking_strategy,\n",
    "    'embedding_seconds': tokens['duration in minutes']*60,\n",
    "    'input_tokens': tokens['input_tokens'],\n",
    "    'invocation_count': tokens['invocation_count'],\n",
    "    'total_token_costs': tokens['total token costs']\n",
    "}\n",
    "df_costs = update_or_add_row(df_costs, new_row)\n",
    "df_costs"
   ]
  },
  {
   "cell_type": "markdown",
   "id": "4b1edb27-a7f5-4ab4-8770-2de83134b430",
   "metadata": {},
   "source": [
    "### 4. Retrieve"
   ]
  },
  {
   "cell_type": "code",
   "execution_count": 12,
   "id": "e8f7fad3-3114-4010-9870-5f52e5fb5e24",
   "metadata": {
    "scrolled": true
   },
   "outputs": [
    {
     "name": "stdout",
     "output_type": "stream",
     "text": [
      "[\n",
      "  {\n",
      "    \"content\": \"computation of earnings per share: Basic 10,005 10,117 10,189 Diluted 10,198 10,296 10,189 See accompanying notes to consolidated financial statements. 37Table of Contents AMAZON.COM, INC. CONSOLIDATED STATEMENTS OF COMPREHENSIVE INCOME (LOSS) (in millions) Year Ended December 31, 2020 2021 2022 Net income (loss) $ 21,331 $ 33,364 $ (2,722) Other comprehensive income (loss): Foreign currency translation adjustments, net of tax of $(36), $47, and $100 561 (819) (2,586) Net change in unrealized gains (losses) on available-for-sale debt securities: Unrealized gains (losses), net of tax of $(83), $72, and $159 273 (343) (823) Reclassification adjustment for losses (gains) included in \\u201cOther\",\n",
      "    \"metadata\": {\n",
      "      \"x-amz-bedrock-kb-source-uri\": \"s3://989679345636-us-west-2-advanced-rag-workshop/data/pdf_documents/Amazon-10k-2023.pdf\",\n",
      "      \"x-amz-bedrock-kb-document-page-number\": 1.0,\n",
      "      \"year\": 2023.0,\n",
      "      \"docType\": \"10K Report\",\n",
      "      \"x-amz-bedrock-kb-data-source-id\": \"JX7YUQ0R7E\",\n",
      "      \"company\": \"Amazon\",\n",
      "      \"x-amz-bedrock-kb-chunk-id\": \"1%3A0%3A__yuhJYB_Wl5InOvyepg\",\n",
      "      \"authors\": [\n",
      "        \"Amazon\"\n",
      "      ]\n",
      "    },\n",
      "    \"score\": 0.5553531\n",
      "  },\n",
      "  {\n",
      "    \"content\": \"\\u2014 (2,722) (2,722) Other comprehensive income (loss) \\u2014 \\u2014 \\u2014 \\u2014 (3,111) \\u2014 (3,111) Stock-based compensation and issuance of employee benefit plan stock 113 2 \\u2014 19,629 \\u2014 \\u2014 19,631 Common stock repurchased (46) \\u2014 (6,000) \\u2014 \\u2014 \\u2014 (6,000) Balance as of December 31, 2022 10,242 $ 108 $ (7,837) $ 75,066 $ (4,487) $ 83,193 $ 146,043 See accompanying notes to consolidated financial statements. 40Table of Contents AMAZON.COM, INC. NOTES TO CONSOLIDATED FINANCIAL STATEMENTS Note 1 \\u2014 DESCRIPTION OF BUSINESS, ACCOUNTING POLICIES, AND SUPPLEMENTAL DISCLOSURES Description of Business We seek to be Earth\\u2019s most customer-centric company. In each\",\n",
      "    \"metadata\": {\n",
      "      \"x-amz-bedrock-kb-source-uri\": \"s3://989679345636-us-west-2-advanced-rag-workshop/data/pdf_documents/Amazon-10k-2023.pdf\",\n",
      "      \"x-amz-bedrock-kb-document-page-number\": 1.0,\n",
      "      \"year\": 2023.0,\n",
      "      \"docType\": \"10K Report\",\n",
      "      \"x-amz-bedrock-kb-data-source-id\": \"JX7YUQ0R7E\",\n",
      "      \"company\": \"Amazon\",\n",
      "      \"x-amz-bedrock-kb-chunk-id\": \"1%3A0%3ABPyuhJYB_Wl5InOvyetg\",\n",
      "      \"authors\": [\n",
      "        \"Amazon\"\n",
      "      ]\n",
      "    },\n",
      "    \"score\": 0.53410494\n",
      "  },\n",
      "  {\n",
      "    \"content\": \"income (expense), net,\\u201d net of tax of $8, $13, and $0 (28) (34) 298 Net unrealized gains (losses) on available-for-sale debt securities 245 (377) (525) Total other comprehensive income (loss) 806 (1,196) (3,111) Comprehensive income (loss) $ 22,137 $ 32,168 $ (5,833) See accompanying notes to consolidated financial statements. 38Table of Contents AMAZON.COM, INC. CONSOLIDATED BALANCE SHEETS (in millions, except per share data) December 31, 2021 2022 ASSETS Current assets: Cash and cash equivalents $ 36,220 $ 53,888 Marketable securities 59,829 16,138 Inventories 32,640 34,405 Accounts receivable, net and other 32,891 42,360 Total current assets 161,580 146,791 Property and equipment,\",\n",
      "    \"metadata\": {\n",
      "      \"x-amz-bedrock-kb-source-uri\": \"s3://989679345636-us-west-2-advanced-rag-workshop/data/pdf_documents/Amazon-10k-2023.pdf\",\n",
      "      \"x-amz-bedrock-kb-document-page-number\": 1.0,\n",
      "      \"year\": 2023.0,\n",
      "      \"docType\": \"10K Report\",\n",
      "      \"x-amz-bedrock-kb-data-source-id\": \"JX7YUQ0R7E\",\n",
      "      \"company\": \"Amazon\",\n",
      "      \"x-amz-bedrock-kb-chunk-id\": \"1%3A0%3AAPyuhJYB_Wl5InOvyetg\",\n",
      "      \"authors\": [\n",
      "        \"Amazon\"\n",
      "      ]\n",
      "    },\n",
      "    \"score\": 0.5282634\n",
      "  }\n",
      "]\n"
     ]
    }
   ],
   "source": [
    "# Define the query for retrieving relevant documents\n",
    "query = \"What were net incomes of Amazon in 2022, 2023 and 2024?\"\n",
    "\n",
    "# Get the knowledge base ID from the variables\n",
    "kb_id = variables.get(\"kbCustomChunk\")\n",
    "\n",
    "# Retrieve results from the knowledge base\n",
    "chunks_from_kb = retrieve_from_kb(\n",
    "    query=query,\n",
    "    kb={\"knowledgeBaseId\": kb_id},\n",
    "    n_chunks=3,\n",
    "    variables=variables\n",
    ")\n",
    "\n",
    "\n",
    "#Let's specify a minimum similarity score. We should see less chunks retrieved as compared to the previous invocation.\n",
    "min_score = 0.50\n",
    "\n",
    "# # get chunks from KB\n",
    "# chunks_from_kb = retrieve_from_kb(query, kb, n_chunks, variables, min_score)\n",
    "\n",
    "print(json.dumps(chunks_from_kb, indent=2))\n"
   ]
  },
  {
   "cell_type": "markdown",
   "id": "da6e804b",
   "metadata": {},
   "source": [
    "> **Note**: After creating the knowledge base, you can explore its details and settings in the Amazon Bedrock console. This gives you a more visual interface to understand how the knowledge base is structured.\n",
    "> \n",
    "> **[➡️ View your Knowledge Bases in the AWS Console](https://us-west-2.console.aws.amazon.com/bedrock/home?region=us-west-2#/knowledge-bases)**\n",
    ">\n",
    "> In the console, you can:\n",
    "> - See all your knowledge bases in one place\n",
    "> - View ingestion status and statistics\n",
    "> - Test queries through the built-in chat interface\n",
    "> - Modify settings and configurations"
   ]
  },
  {
   "cell_type": "code",
   "execution_count": 13,
   "id": "186f619b-d141-40bd-8670-68103006a22e",
   "metadata": {},
   "outputs": [
    {
     "name": "stdout",
     "output_type": "stream",
     "text": [
      "{\n",
      "    \"total_chunks\": 3,\n",
      "    \"min_score\": 0.5282634,\n",
      "    \"max_score\": 0.5553531,\n",
      "    \"avg_score\": 0.53924048,\n",
      "    \"count_above_threshold\": 3\n",
      "}\n"
     ]
    }
   ],
   "source": [
    "# Let's summarize with total chunks, minimum score, maximum score, average score, \n",
    "# and lastly the number of chunks with a score more than a specified threshold.\n",
    "score_threshold = 0.40\n",
    "score_structure = analyze_chunk_scores_above_threshold(chunks_from_kb, score_threshold)\n",
    "print(json.dumps(score_structure, indent=4))"
   ]
  },
  {
   "cell_type": "code",
   "execution_count": 14,
   "id": "52490791-74e7-4293-9d29-05166265517a",
   "metadata": {},
   "outputs": [
    {
     "name": "stdout",
     "output_type": "stream",
     "text": [
      "{\n",
      "    \"WARNING\": \"These costs are approximate and directional as of April 2025. They will vary as per region and may change in future. The costs are for Bedrock On-Demand model. If you see zero costs, chances are high that the LLM was not considered in cost calculations when the notebook was prepared. Please use AWS calculator for more accurate cost calculations.\",\n",
      "    \"model_id\": \"arn:aws:bedrock:us-west-2::foundation-model/amazon.titan-embed-text-v2:0\",\n",
      "    \"start_time\": \"2025-04-30T03:11:17.494770+00:00\",\n",
      "    \"end_time\": \"2025-04-30T03:13:02.151004+00:00\",\n",
      "    \"duration in minutes\": 1.7442705666666667,\n",
      "    \"input_tokens\": 0,\n",
      "    \"output_tokens\": 0,\n",
      "    \"invocation_count\": 0,\n",
      "    \"per million input token costs\": 0.02,\n",
      "    \"per million output token costs\": 0,\n",
      "    \"input token costs\": 0.0,\n",
      "    \"output token costs\": 0.0,\n",
      "    \"total token costs\": 0.0,\n",
      "    \"average token costs per invocation\": 0,\n",
      "    \"token costs per MILLION such invocations\": 0\n",
      "}\n",
      "Cost of running this notebook is approximately $0.0\n"
     ]
    }
   ],
   "source": [
    "#Let's print the costs of running this notebook.\n",
    "\n",
    "model_id = 'arn:aws:bedrock:us-west-2::foundation-model/amazon.titan-embed-text-v2:0'\n",
    "\n",
    "notebook_end_time = datetime.now(UTC)\n",
    "tokens = get_bedrock_tokens(model_id, notebook_start_time, notebook_end_time, 5)\n",
    "print(json.dumps(tokens, indent=4))\n",
    "print(f\"Cost of running this notebook is approximately ${tokens['total token costs']}\")"
   ]
  },
  {
   "cell_type": "code",
   "execution_count": null,
   "id": "0bfc5262-2e6b-4551-8acc-54a46614637f",
   "metadata": {},
   "outputs": [],
   "source": []
  }
 ],
 "metadata": {
  "kernelspec": {
   "display_name": "Python 3 (ipykernel)",
   "language": "python",
   "name": "python3"
  },
  "language_info": {
   "codemirror_mode": {
    "name": "ipython",
    "version": 3
   },
   "file_extension": ".py",
   "mimetype": "text/x-python",
   "name": "python",
   "nbconvert_exporter": "python",
   "pygments_lexer": "ipython3",
   "version": "3.11.10"
  }
 },
 "nbformat": 4,
 "nbformat_minor": 5
}
