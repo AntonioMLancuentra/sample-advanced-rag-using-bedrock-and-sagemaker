{
 "cells": [
  {
   "cell_type": "markdown",
   "id": "8c01279f-f6b3-46a2-9c76-ecf34f9dc275",
   "metadata": {},
   "source": [
    "## Create a Knowledge Base with Hierarchical Chunking Strategy\n",
    "#### What will we do in this workshop?\n",
    "1. Create a Knowledgebase (KB) in the vector database.\n",
    "2. We will create a data source for the KB. The data source will be the Amazon Science and 10K documents stored in S3.\n",
    "3. We will ingest the data from S3, use Hierarchical Chunking to chunk the data, generate vector embeddings, and store the chunks and their corresponding vector embeddings in the KB.\n",
    "4. We will then ask some questions and query the KB to return some chunks and inspect relevancy score.\n",
    "<br>Note: We are not sending the query and its chunks to a LLM in this notebook. We will do that in other notebooks."
   ]
  },
  {
   "cell_type": "markdown",
   "id": "c1e0a202-87f1-4a0f-9d2f-e697e6b98bee",
   "metadata": {},
   "source": [
    "#### Concept\n",
    "\n",
    "**Hierarchical Chunking**: Organizes your data into a hierarchical structure, allowing for more granular and efficient retrieval based on the inherent relationships within your data. \n",
    "\n",
    "Organizing your data into a hierarchical structure enables your **RAG (Retrieval-Augmented Generation)** workflow to efficiently navigate and retrieve information from complex, nested datasets. After documents are parsed, the first step is to **chunk** them based on the **parent** and **child chunking size**. \n",
    "\n",
    "- **Parent chunks (higher level)** represent larger segments, such as entire documents or sections.\n",
    "- **Child chunks (lower level)** represent smaller segments, such as paragraphs or sentences.\n",
    "\n",
    "The relationship between parent and child chunks is maintained, allowing for **efficient retrieval and navigation** of the corpus.\n",
    "\n",
    "#### Benefits\n",
    "\n",
    "- **Efficient Retrieval**: The hierarchical structure enables faster and more targeted retrieval of relevant information by first performing a **semantic search** on child chunks and then returning the parent chunk. By replacing child chunks with parent chunks, we provide **larger and more comprehensive context** to the foundation model (FM).\n",
    "- **Context Preservation**: Organizing the corpus hierarchically helps maintain contextual relationships between chunks, ensuring more **coherent and contextually relevant** text generation.\n",
    "\n",
    "> **Note:** In hierarchical chunking, **parent chunks** are returned while **search is performed on child chunks**. As a result, you may see **fewer search results**, since one parent can have multiple child chunks.\n",
    "\n",
    "### **Best Use Cases**\n",
    "Hierarchical chunking is best suited for **complex documents** with a nested or hierarchical structure, such as:\n",
    "- **Technical manuals**\n",
    "- **Legal documents**\n",
    "- **Academic papers** with complex formatting and nested tables.\n"
   ]
  },
  {
   "cell_type": "code",
   "execution_count": 15,
   "id": "8c67e01c-6f6a-4b11-bb8f-256fb15ef2f4",
   "metadata": {},
   "outputs": [],
   "source": [
    "# Import a module with few helper functions. \n",
    "# These functions will help us create knowledge base (KB), create data source for KB, and ingest data using semantic chunking to KB.\n",
    "\n",
    "import importlib\n",
    "import advanced_rag_utils\n",
    "\n",
    "# Reload module\n",
    "importlib.reload(advanced_rag_utils)\n",
    "\n",
    "# Re-import all functions\n",
    "from advanced_rag_utils import *\n",
    "\n",
    "from datetime import datetime, timedelta, UTC\n",
    "\n",
    "notebook_start_time = datetime.now(UTC)"
   ]
  },
  {
   "cell_type": "code",
   "execution_count": 16,
   "id": "9b874664-bd21-4929-8fe0-165da697e11f",
   "metadata": {
    "scrolled": true
   },
   "outputs": [
    {
     "data": {
      "text/plain": [
       "{'accountNumber': '989679345636',\n",
       " 'regionName': 'us-west-2',\n",
       " 'collectionArn': 'arn:aws:aoss:us-west-2:989679345636:collection/ny2d41n7rmju74rh4ue2',\n",
       " 'collectionId': 'ny2d41n7rmju74rh4ue2',\n",
       " 'vectorIndexName': 'ws-index-',\n",
       " 'bedrockExecutionRoleArn': 'arn:aws:iam::989679345636:role/advanced-rag-workshop-bedrock_execution_role-us-west-2',\n",
       " 's3Bucket': '989679345636-us-west-2-advanced-rag-workshop',\n",
       " 'kbFixedChunk': 'TYG3IXCHCX',\n",
       " 'kbSemanticChunk': 'N7ZHYZVLOX',\n",
       " 'kbHierarchicalChunk': 'UDPUVOULM1',\n",
       " 'kbCustomChunk': 'AD07GOEBQ2'}"
      ]
     },
     "execution_count": 16,
     "metadata": {},
     "output_type": "execute_result"
    }
   ],
   "source": [
    "# Let's load the variables we saved in the first notebook. We will use these variables\n",
    "import json\n",
    "with open(\"../variables.json\", \"r\") as f:\n",
    "    variables = json.load(f)\n",
    "\n",
    "variables"
   ]
  },
  {
   "cell_type": "code",
   "execution_count": 17,
   "id": "fe3b88f7-04cb-4a2f-80c0-5957e723c287",
   "metadata": {},
   "outputs": [
    {
     "name": "stdout",
     "output_type": "stream",
     "text": [
      "Loaded existing file: /home/sagemaker-user/brsk-GTM/Advanced_RAG_Workshop/simplified_labs/embed_algo_costs.csv\n"
     ]
    },
    {
     "data": {
      "text/html": [
       "<div>\n",
       "<style scoped>\n",
       "    .dataframe tbody tr th:only-of-type {\n",
       "        vertical-align: middle;\n",
       "    }\n",
       "\n",
       "    .dataframe tbody tr th {\n",
       "        vertical-align: top;\n",
       "    }\n",
       "\n",
       "    .dataframe thead th {\n",
       "        text-align: right;\n",
       "    }\n",
       "</style>\n",
       "<table border=\"1\" class=\"dataframe\">\n",
       "  <thead>\n",
       "    <tr style=\"text-align: right;\">\n",
       "      <th></th>\n",
       "      <th>chunking_algo</th>\n",
       "      <th>embedding_seconds</th>\n",
       "      <th>input_tokens</th>\n",
       "      <th>invocation_count</th>\n",
       "      <th>total_token_costs</th>\n",
       "    </tr>\n",
       "  </thead>\n",
       "  <tbody>\n",
       "    <tr>\n",
       "      <th>0</th>\n",
       "      <td>fixed</td>\n",
       "      <td>54.113933</td>\n",
       "      <td>0</td>\n",
       "      <td>0</td>\n",
       "      <td>0.0</td>\n",
       "    </tr>\n",
       "    <tr>\n",
       "      <th>1</th>\n",
       "      <td>semantic</td>\n",
       "      <td>122.857522</td>\n",
       "      <td>0</td>\n",
       "      <td>0</td>\n",
       "      <td>0.0</td>\n",
       "    </tr>\n",
       "    <tr>\n",
       "      <th>2</th>\n",
       "      <td>hierarchical</td>\n",
       "      <td>56.829955</td>\n",
       "      <td>0</td>\n",
       "      <td>0</td>\n",
       "      <td>0.0</td>\n",
       "    </tr>\n",
       "  </tbody>\n",
       "</table>\n",
       "</div>"
      ],
      "text/plain": [
       "  chunking_algo  embedding_seconds  input_tokens  invocation_count  \\\n",
       "0         fixed          54.113933             0                 0   \n",
       "1      semantic         122.857522             0                 0   \n",
       "2  hierarchical          56.829955             0                 0   \n",
       "\n",
       "   total_token_costs  \n",
       "0                0.0  \n",
       "1                0.0  \n",
       "2                0.0  "
      ]
     },
     "execution_count": 17,
     "metadata": {},
     "output_type": "execute_result"
    }
   ],
   "source": [
    "# Load the dataframe related to costs from a csv file (if it already exists)\n",
    "df_costs = load_df_from_csv()\n",
    "df_costs"
   ]
  },
  {
   "cell_type": "markdown",
   "id": "d805c37f-2e62-4945-b0e3-05af7db0e60d",
   "metadata": {},
   "source": [
    "### 1. Create a Knowledge Base\n",
    "Let's specify  chunking strategy, name and descripotion for Knowledge Base (KB) and create a KB."
   ]
  },
  {
   "cell_type": "code",
   "execution_count": 18,
   "id": "6a1ac212-083b-4bd0-abf1-e73919a054f1",
   "metadata": {},
   "outputs": [],
   "source": [
    "kb_chunking_strategy = \"hierarchical\" # [\"fixed\", \"hierarchical\", \"semantic\", \"custom\"]"
   ]
  },
  {
   "cell_type": "code",
   "execution_count": 19,
   "id": "415c4796-f812-49c1-8188-962cadd6eb51",
   "metadata": {},
   "outputs": [
    {
     "name": "stdout",
     "output_type": "stream",
     "text": [
      "{'collectionArn': 'arn:aws:aoss:us-west-2:989679345636:collection/ny2d41n7rmju74rh4ue2', 'vectorIndexName': 'ws-index-hierarchical', 'fieldMapping': {'vectorField': 'vector', 'textField': 'text', 'metadataField': 'text-metadata'}}\n",
      "{'collectionArn': 'arn:aws:aoss:us-west-2:989679345636:collection/ny2d41n7rmju74rh4ue2', 'vectorIndexName': 'ws-index-hierarchical', 'fieldMapping': {'vectorField': 'vector', 'textField': 'text', 'metadataField': 'text-metadata'}}\n",
      "{'collectionArn': 'arn:aws:aoss:us-west-2:989679345636:collection/ny2d41n7rmju74rh4ue2', 'vectorIndexName': 'ws-index-hierarchical', 'fieldMapping': {'vectorField': 'vector', 'textField': 'text', 'metadataField': 'text-metadata'}}\n",
      "Knowledge Base already exists. Retrieving its ID...\n",
      "Found existing knowledge base with Name: advanced-rag-workshop-hierarchical-chunking and ID: UDPUVOULM1\n",
      "OpenSearch Knowledge Response: {\n",
      "    \"createdAt\": \"2025-03-19 16:33:25.632886+00:00\",\n",
      "    \"description\": \"Knowledge base using Amazon OpenSearch Service as a vector store\",\n",
      "    \"knowledgeBaseArn\": \"arn:aws:bedrock:us-west-2:989679345636:knowledge-base/UDPUVOULM1\",\n",
      "    \"knowledgeBaseConfiguration\": {\n",
      "        \"type\": \"VECTOR\",\n",
      "        \"vectorKnowledgeBaseConfiguration\": {\n",
      "            \"embeddingModelArn\": \"arn:aws:bedrock:us-west-2::foundation-model/amazon.titan-embed-text-v2:0\"\n",
      "        }\n",
      "    },\n",
      "    \"knowledgeBaseId\": \"UDPUVOULM1\",\n",
      "    \"name\": \"advanced-rag-workshop-hierarchical-chunking\",\n",
      "    \"roleArn\": \"arn:aws:iam::989679345636:role/advanced-rag-workshop-bedrock_execution_role-us-west-2\",\n",
      "    \"status\": \"ACTIVE\",\n",
      "    \"storageConfiguration\": {\n",
      "        \"opensearchServerlessConfiguration\": {\n",
      "            \"collectionArn\": \"arn:aws:aoss:us-west-2:989679345636:collection/ny2d41n7rmju74rh4ue2\",\n",
      "            \"fieldMapping\": {\n",
      "                \"metadataField\": \"text-metadata\",\n",
      "                \"textField\": \"text\",\n",
      "                \"vectorField\": \"vector\"\n",
      "            },\n",
      "            \"vectorIndexName\": \"ws-index-hierarchical\"\n",
      "        },\n",
      "        \"type\": \"OPENSEARCH_SERVERLESS\"\n",
      "    },\n",
      "    \"updatedAt\": \"2025-03-19 16:33:25.632886+00:00\"\n",
      "}\n"
     ]
    }
   ],
   "source": [
    "kb_name = f\"advanced-rag-workshop-{kb_chunking_strategy}-chunking\"\n",
    "\n",
    "kb_description = \"Knowledge base using Amazon OpenSearch Service as a vector store\"\n",
    "\n",
    "kb = create_kb(kb_name, kb_description, kb_chunking_strategy, variables)"
   ]
  },
  {
   "cell_type": "markdown",
   "id": "b5bfebc0-bdeb-4f43-a0a0-921d34be6aba",
   "metadata": {},
   "source": [
    "### 2. Create Datasource for Knowledge Base"
   ]
  },
  {
   "cell_type": "code",
   "execution_count": 20,
   "id": "d6cc990e-b0da-4853-a48a-071219d1461b",
   "metadata": {},
   "outputs": [
    {
     "name": "stdout",
     "output_type": "stream",
     "text": [
      "Found existing data source 'advanced-rag-example-hierarchical'. Deleting it...\n",
      "Waiting for data source deletion to complete...\n",
      "Data source deleted successfully.\n",
      "Creating new data source 'advanced-rag-example-hierarchical' with {'chunkingStrategy': 'HIERARCHICAL', 'hierarchicalChunkingConfiguration': {'levelConfigurations': [{'maxTokens': 1500}, {'maxTokens': 300}], 'overlapTokens': 60}} chunking...\n",
      "hierarchical chunking data source created successfully.\n"
     ]
    }
   ],
   "source": [
    "data_source_name = f\"advanced-rag-example-{kb_chunking_strategy}\"\n",
    "\n",
    "ds_object = create_data_source_for_kb(kb_chunking_strategy, data_source_name, kb, variables)"
   ]
  },
  {
   "cell_type": "markdown",
   "id": "7e5d415f-d61f-49ae-9d9a-1ea3063a1452",
   "metadata": {},
   "source": [
    "### 3. Start Ingestion Job for Amazon Bedrock Knowledge base pointing to Amazon OpenSearch"
   ]
  },
  {
   "cell_type": "markdown",
   "id": "ab5cc69d",
   "metadata": {},
   "source": [
    "> **Note**: The ingestion process will take approximately 2-3 minutes to complete. During this time, the system is processing your documents by:\n",
    "> 1. Extracting text from the source files\n",
    "> 2. Chunking the content according to the defined strategy (Fixed / Semantic / Hierachical / Custom)\n",
    "> 3. Generating embeddings for each chunk\n",
    "> 4. Storing the embeddings and associated metadata in a Knowledge Base (KB) in OpenSearch vector database\n",
    ">\n",
    "> You'll see status updates as the process progresses. Please wait for the \"Ingestion job completed successfully\" message before proceeding to the next step."
   ]
  },
  {
   "cell_type": "code",
   "execution_count": 21,
   "id": "72e084b1-9c83-45b2-a08f-36b8d2bf0bf7",
   "metadata": {},
   "outputs": [
    {
     "name": "stdout",
     "output_type": "stream",
     "text": [
      "Ingestion job started successfully for kb_name = advanced-rag-workshop-hierarchical-chunking and kb_id = UDPUVOULM1\n",
      "\n",
      "running...\n",
      "running...\n",
      "running...\n",
      "running...\n",
      "running...\n",
      "Job completed successfully\n",
      "\n"
     ]
    }
   ],
   "source": [
    "ingestion_start_time = datetime.now(UTC)\n",
    "time.sleep(5)\n",
    "create_ingestion_job(kb, ds_object, variables)\n",
    "ingestion_end_time = datetime.now(UTC)"
   ]
  },
  {
   "cell_type": "code",
   "execution_count": 22,
   "id": "014a5d31-22fa-4a23-be51-b479d02da181",
   "metadata": {},
   "outputs": [
    {
     "name": "stdout",
     "output_type": "stream",
     "text": [
      "time taken to ingest into KB = 56.80 seconds\n"
     ]
    }
   ],
   "source": [
    "time_taken = (ingestion_end_time-ingestion_start_time).total_seconds()\n",
    "print(f\"time taken to ingest into KB = {fmt_n(time_taken)} seconds\")"
   ]
  },
  {
   "cell_type": "markdown",
   "id": "d4db1388-55e0-4db9-a05d-b7c2f2cf5379",
   "metadata": {},
   "source": [
    "## Embedding LLM Costs\n",
    "1. Specify model id\n",
    "2. Specify start and end time\n",
    "3. Invoke a helper function to query cloud watch\n",
    "5. Calculate costs (please note that pricing is subject to change per region and over time)\n",
    "\n",
    "<br>![Embedding LLM Input Token Costs](./Input_token_embedding_llm_costs.png)"
   ]
  },
  {
   "cell_type": "code",
   "execution_count": 23,
   "id": "abbc155e-d7c2-4979-a09d-997af630e33f",
   "metadata": {},
   "outputs": [
    {
     "name": "stdout",
     "output_type": "stream",
     "text": [
      "{\n",
      "    \"WARNING\": \"These costs are approximate and directional as of April 2025. They will vary as per region and may change in future. The costs are for Embedding LLM using Bedrock On-Demand model.\",\n",
      "    \"model_id\": \"arn:aws:bedrock:us-west-2::foundation-model/amazon.titan-embed-text-v2:0\",\n",
      "    \"start_time\": \"2025-04-30T13:56:14.605092+00:00\",\n",
      "    \"end_time\": \"2025-04-30T13:57:11.404447+00:00\",\n",
      "    \"duration in minutes\": 0.9466559166666666,\n",
      "    \"input_tokens\": 0,\n",
      "    \"output_tokens\": 0,\n",
      "    \"invocation_count\": 0,\n",
      "    \"per million input token costs\": 0.0,\n",
      "    \"per million output token costs\": 0.0,\n",
      "    \"input token costs\": 0.0,\n",
      "    \"output token costs\": 0.0,\n",
      "    \"total token costs\": 0.0,\n",
      "    \"average token costs per invocation\": 0,\n",
      "    \"token costs per MILLION such invocations\": 0\n",
      "}\n"
     ]
    }
   ],
   "source": [
    "model_id = 'arn:aws:bedrock:us-west-2::foundation-model/amazon.titan-embed-text-v2:0'\n",
    "\n",
    "# use the helper function to get input tokens to embedding LLM and the associated costs\n",
    "tokens = get_embedding_LLM_costs_for_KB(model_id, ingestion_start_time, ingestion_end_time)\n",
    "\n",
    "print(json.dumps(tokens, indent=4))"
   ]
  },
  {
   "cell_type": "code",
   "execution_count": 10,
   "id": "be2cf00a-ae49-4d1c-8ec5-9c847d9947a6",
   "metadata": {},
   "outputs": [
    {
     "name": "stdout",
     "output_type": "stream",
     "text": [
      "Updated existing row for: hierarchical\n"
     ]
    },
    {
     "data": {
      "text/html": [
       "<div>\n",
       "<style scoped>\n",
       "    .dataframe tbody tr th:only-of-type {\n",
       "        vertical-align: middle;\n",
       "    }\n",
       "\n",
       "    .dataframe tbody tr th {\n",
       "        vertical-align: top;\n",
       "    }\n",
       "\n",
       "    .dataframe thead th {\n",
       "        text-align: right;\n",
       "    }\n",
       "</style>\n",
       "<table border=\"1\" class=\"dataframe\">\n",
       "  <thead>\n",
       "    <tr style=\"text-align: right;\">\n",
       "      <th></th>\n",
       "      <th>chunking_algo</th>\n",
       "      <th>embedding_seconds</th>\n",
       "      <th>input_tokens</th>\n",
       "      <th>invocation_count</th>\n",
       "      <th>total_token_costs</th>\n",
       "    </tr>\n",
       "  </thead>\n",
       "  <tbody>\n",
       "    <tr>\n",
       "      <th>0</th>\n",
       "      <td>fixed</td>\n",
       "      <td>54.113933</td>\n",
       "      <td>0</td>\n",
       "      <td>0</td>\n",
       "      <td>0.0</td>\n",
       "    </tr>\n",
       "    <tr>\n",
       "      <th>1</th>\n",
       "      <td>semantic</td>\n",
       "      <td>122.857522</td>\n",
       "      <td>0</td>\n",
       "      <td>0</td>\n",
       "      <td>0.0</td>\n",
       "    </tr>\n",
       "    <tr>\n",
       "      <th>2</th>\n",
       "      <td>hierarchical</td>\n",
       "      <td>56.829955</td>\n",
       "      <td>0</td>\n",
       "      <td>0</td>\n",
       "      <td>0.0</td>\n",
       "    </tr>\n",
       "  </tbody>\n",
       "</table>\n",
       "</div>"
      ],
      "text/plain": [
       "  chunking_algo  embedding_seconds  input_tokens  invocation_count  \\\n",
       "0         fixed          54.113933             0                 0   \n",
       "1      semantic         122.857522             0                 0   \n",
       "2  hierarchical          56.829955             0                 0   \n",
       "\n",
       "   total_token_costs  \n",
       "0                0.0  \n",
       "1                0.0  \n",
       "2                0.0  "
      ]
     },
     "execution_count": 10,
     "metadata": {},
     "output_type": "execute_result"
    }
   ],
   "source": [
    "# Let's add or update the cost binfo to dataframe. \n",
    "# This will help us compare the costs from various chunking strategies visually.\n",
    "new_row = {\n",
    "    'chunking_algo': kb_chunking_strategy,\n",
    "    'embedding_seconds': tokens['duration in minutes']*60,\n",
    "    'input_tokens': tokens['input_tokens'],\n",
    "    'invocation_count': tokens['invocation_count'],\n",
    "    'total_token_costs': tokens['total token costs']\n",
    "}\n",
    "df_costs = update_or_add_row(df_costs, new_row)\n",
    "df_costs"
   ]
  },
  {
   "cell_type": "code",
   "execution_count": 11,
   "id": "5c6709d5-79db-4d82-8117-4668d0d8f693",
   "metadata": {},
   "outputs": [
    {
     "name": "stdout",
     "output_type": "stream",
     "text": [
      "Successfully saved DataFrame to: /home/sagemaker-user/brsk-GTM/Advanced_RAG_Workshop/simplified_labs/embed_algo_costs.csv\n"
     ]
    }
   ],
   "source": [
    "# Let's save the df\n",
    "save_df_to_csv(df_costs)"
   ]
  },
  {
   "cell_type": "markdown",
   "id": "988051f4-2741-4180-af71-d445f2eaf37d",
   "metadata": {},
   "source": [
    "### 4. Retrieve: Use input query to RETRIEVE chunks from Vector Database\n",
    "We will use a helper function where you can specify the number of chunks to extract.<br>\n",
    "The helper function will 1/ generate a vector embedding for the query, 2/ search the vector embedding in the Knowledge Base (KB) vector database, 3/ get the number of chunks specified, 4/ Optionally, you can also specify minimum score for similarity in which case the helper function will get chunks with at least the minimum relevancy.\n",
    "\n",
    "<b>Warning: After data is ingested into a KB, when you query immediately, the results might be empty because of eventual consistency. If that happens, please wait for a few seconds and then retry.</b>"
   ]
  },
  {
   "cell_type": "code",
   "execution_count": 12,
   "id": "39f992ba-d37d-4c3f-89d3-128f3a8920ca",
   "metadata": {},
   "outputs": [
    {
     "name": "stdout",
     "output_type": "stream",
     "text": [
      "[\n",
      "  {\n",
      "    \"content\": \"We also continue to inspect and refine the mechanisms we use to hire, develop, evaluate, and retain our employees. In addition, safety is integral to everything we do at Amazon and we continue to invest in safety improvements such as capital improvements, new safety technology, vehicle safety controls, and engineering ergonomic solutions. Our safety team is dedicated to using the science of safety to solve complex problems and establish new industry best practices. We also provide mentorship and support resources to our employees, and have deployed numerous programs that advance employee engagement, communication, and feedback.     4Table of Contents     Available Information     Our investor relations website is amazon.com/ir and we encourage investors to use it as a way of easily finding information about us. We promptly make available on this website, free of charge, the reports that we file or furnish with the Securities and Exchange Commission (\\u201cSEC\\u201d), corporate governance information (including our Code of Business Conduct and Ethics), and select press releases.     Executive Officers and Directors The following tables set forth certain information regarding our Executive Officers and Directors as of January 29, 2025:     Information About Our Executive Officers Name Age Position     Jeffrey P. Bezos 61 Executive Chair Andrew R. Jassy 57 President and Chief Executive Officer Matthew S. Garman 48 CEO Amazon Web Services Douglas J. Herrington 58 CEO Worldwide Amazon Stores Brian T. Olsavsky 61 Senior Vice President and Chief Financial Officer Shelley L. Reynolds 60 Vice President, Worldwide Controller, and Principal Accounting Officer David A. Zapolsky 61 Senior Vice President, Global Public Policy and General Counsel     Jeffrey P. Bezos. Mr. Bezos founded Amazon.com in 1994 and has served as Executive Chair since July 2021. He has served as Chair of the Board since 1994 and served as Chief Executive Officer from May 1996 until July 2021, and as President from 1994 until June 1999 and again from October 2000 to July 2021.     Andrew R. Jassy. Mr. Jassy has served as President and Chief Executive Officer since July 2021, CEO Amazon Web Services from April 2016 until July 2021, and Senior Vice President, Amazon Web Services, from April 2006 until April 2016.     Matthew S. Garman. Mr. Garman has served as CEO Amazon Web Services since June 2024, Senior Vice President, Amazon Web Services from February 2021 until June 2024, Vice President, Marketing, Sales and Support of Amazon Web Services from January 2020 to February 2021, Vice President, AWS Compute Services from September 2018 to January 2020, and Vice President, EC2 from December 2012 to September 2018.     Douglas J. Herrington. Mr. Herrington has served as CEO Worldwide Amazon Stores since July 2022, Senior Vice President, North America Consumer from January 2015 to July 2022, Senior Vice President, Consumables from May 2014 to December 2014, and Vice President, Consumables from May 2005 to April 2014.     Brian T. Olsavsky. Mr. Olsavsky has served as Senior Vice President and Chief Financial Officer since June 2015, Vice President, Finance for the Global Consumer Business from December 2011 to June 2015, and numerous financial leadership roles across Amazon with global responsibility since April 2002.     Shelley L. Reynolds. Ms. Reynolds has served as Vice President, Worldwide Controller, and Principal Accounting Officer since April 2007. David A. Zapolsky. Mr. Zapolsky has served as Senior Vice President, Global Public Policy and General Counsel since May 2023. He served as our     Secretary from September 2012 to January 2024, Senior Vice President and General Counsel from May 2014 to May 2023, Vice President and General Counsel from September 2012 to May 2014, and as Vice President and Associate General Counsel for Litigation and Regulatory matters from April 2002 until September 2012.     5Table of Contents     Board of Directors Name Age Position     Jeffrey P. Bezos 61 Executive Chair Andrew R. Jassy 57 President and Chief Executive Officer Keith B. Alexander 73 Former Chair and CEO of IronNet, Inc. Edith W. Cooper 63 Former Executive Vice President, Goldman Sachs Group, Inc. Jamie S. Gorelick 74 Partner, Wilmer Cutler Pickering Hale and Dorr LLP Daniel P. Huttenlocher 66 Dean, MIT Schwarzman College of Computing Andrew Y. Ng 48 Managing General Partner, AI Fund, L.P. Indra K. Nooyi 69 Former Chair and CEO, PepsiCo, Inc. Jonathan J. Rubinstein 68 Former co-CEO, Bridgewater Associates, LP Brad D. Smith 60 President, Marshall University Patricia Q. Stonesifer 68 Former President and Chief Executive Officer, Martha\\u2019s Table Wendell P. Weeks 65 Chairman and CEO, Corning Incorporated     Item 1A. Risk Factors     Please carefully consider the following discussion of significant factors, events, and uncertainties that make an investment in our securities risky. The events and consequences discussed in these risk factors could, in circumstances we may or may not be able to accurately predict, recognize, or control, have a material adverse effect on our business, growth, reputation, prospects, financial condition, operating results (including components of our financial results), cash flows, liquidity, and stock price. These risk factors do not identify all risks that we face; our operations could also be affected by factors, events, or uncertainties that are not presently known to us or that we currently do not consider to present significant risks to our operations. In addition to the factors discussed in Item 7 of Part II, \\u201cManagement\\u2019s Discussion and Analysis of Financial Condition and Results of Operations,\\u201d and in the risk factors below, global economic and geopolitical conditions and additional or unforeseen circumstances, developments, or events may give rise to or amplify many of the risks discussed below. Many of the risks discussed below also impact our customers, including third-party sellers, which could indirectly have a material adverse effect on us.     Business and Industry Risks We Face Intense Competition     Our businesses are rapidly evolving and intensely competitive, and we have many competitors across geographies, including cross-border competition, and in different industries, including physical, e-commerce, and omnichannel retail, e-commerce services, web and infrastructure computing services, electronic devices, digital content, advertising, grocery, healthcare, communications, and transportation and logistics services. Some of our current and potential competitors have greater resources, longer histories, more customers, and/or greater brand recognition, particularly with our newly-launched products and services and in our newer geographic regions. They may secure better terms from vendors, adopt more aggressive pricing, and devote more resources to technology, infrastructure, fulfillment, and marketing.     Competition continues to intensify, including with the development of new business models and the entry of new and well-funded competitors, and as our competitors enter into business combinations or alliances and established companies in other market segments expand to become competitive with our business. \",\n",
      "    \"metadata\": {\n",
      "      \"x-amz-bedrock-kb-source-uri\": \"s3://989679345636-us-west-2-advanced-rag-workshop/data/pdf_documents/Amazon-10k-2025.pdf\",\n",
      "      \"x-amz-bedrock-kb-document-page-number\": 5.0,\n",
      "      \"year\": 2025.0,\n",
      "      \"docType\": \"10K Report\",\n",
      "      \"x-amz-bedrock-kb-data-source-id\": \"DGI9YVQVJ2\",\n",
      "      \"company\": \"Amazon\",\n",
      "      \"authors\": [\n",
      "        \"Amazon\"\n",
      "      ]\n",
      "    },\n",
      "    \"score\": 0.7151378\n",
      "  },\n",
      "  {\n",
      "    \"content\": \"We also continue to inspect and refine the mechanisms we use to hire, develop, evaluate, and retain our employees. In addition, safety is integral to everything we do at Amazon and we continue to invest in safety improvements such as capital improvements, new safety technology, vehicle safety controls, and engineering ergonomic solutions. Our safety team is dedicated to using the science of safety to solve complex problems and establish new industry best practices. We also provide mentorship and support resources to our employees, and have deployed numerous programs that advance employee engagement, communication, and feedback.     4Table of Contents     Available Information     Our investor relations website is amazon.com/ir and we encourage investors to use it as a way of easily finding information about us. We promptly make available on this website, free of charge, the reports that we file or furnish with the Securities and Exchange Commission (\\u201cSEC\\u201d), corporate governance information (including our Code of Business Conduct and Ethics), and select press releases.     Executive Officers and Directors The following tables set forth certain information regarding our Executive Officers and Directors as of January 29, 2025:     Information About Our Executive Officers Name Age Position     Jeffrey P. Bezos 61 Executive Chair Andrew R. Jassy 57 President and Chief Executive Officer Matthew S. Garman 48 CEO Amazon Web Services Douglas J. Herrington 58 CEO Worldwide Amazon Stores Brian T. Olsavsky 61 Senior Vice President and Chief Financial Officer Shelley L. Reynolds 60 Vice President, Worldwide Controller, and Principal Accounting Officer David A. Zapolsky 61 Senior Vice President, Global Public Policy and General Counsel     Jeffrey P. Bezos. Mr. Bezos founded Amazon.com in 1994 and has served as Executive Chair since July 2021. He has served as Chair of the Board since 1994 and served as Chief Executive Officer from May 1996 until July 2021, and as President from 1994 until June 1999 and again from October 2000 to July 2021.     Andrew R. Jassy. Mr. Jassy has served as President and Chief Executive Officer since July 2021, CEO Amazon Web Services from April 2016 until July 2021, and Senior Vice President, Amazon Web Services, from April 2006 until April 2016.     Matthew S. Garman. Mr. Garman has served as CEO Amazon Web Services since June 2024, Senior Vice President, Amazon Web Services from February 2021 until June 2024, Vice President, Marketing, Sales and Support of Amazon Web Services from January 2020 to February 2021, Vice President, AWS Compute Services from September 2018 to January 2020, and Vice President, EC2 from December 2012 to September 2018.     Douglas J. Herrington. Mr. Herrington has served as CEO Worldwide Amazon Stores since July 2022, Senior Vice President, North America Consumer from January 2015 to July 2022, Senior Vice President, Consumables from May 2014 to December 2014, and Vice President, Consumables from May 2005 to April 2014.     Brian T. Olsavsky. Mr. Olsavsky has served as Senior Vice President and Chief Financial Officer since June 2015, Vice President, Finance for the Global Consumer Business from December 2011 to June 2015, and numerous financial leadership roles across Amazon with global responsibility since April 2002.     Shelley L. Reynolds. Ms. Reynolds has served as Vice President, Worldwide Controller, and Principal Accounting Officer since April 2007. David A. Zapolsky. Mr. Zapolsky has served as Senior Vice President, Global Public Policy and General Counsel since May 2023. He served as our     Secretary from September 2012 to January 2024, Senior Vice President and General Counsel from May 2014 to May 2023, Vice President and General Counsel from September 2012 to May 2014, and as Vice President and Associate General Counsel for Litigation and Regulatory matters from April 2002 until September 2012.     5Table of Contents     Board of Directors Name Age Position     Jeffrey P. Bezos 61 Executive Chair Andrew R. Jassy 57 President and Chief Executive Officer Keith B. Alexander 73 Former Chair and CEO of IronNet, Inc. Edith W. Cooper 63 Former Executive Vice President, Goldman Sachs Group, Inc. Jamie S. Gorelick 74 Partner, Wilmer Cutler Pickering Hale and Dorr LLP Daniel P. Huttenlocher 66 Dean, MIT Schwarzman College of Computing Andrew Y. Ng 48 Managing General Partner, AI Fund, L.P. Indra K. Nooyi 69 Former Chair and CEO, PepsiCo, Inc. Jonathan J. Rubinstein 68 Former co-CEO, Bridgewater Associates, LP Brad D. Smith 60 President, Marshall University Patricia Q. Stonesifer 68 Former President and Chief Executive Officer, Martha\\u2019s Table Wendell P. Weeks 65 Chairman and CEO, Corning Incorporated     Item 1A. Risk Factors     Please carefully consider the following discussion of significant factors, events, and uncertainties that make an investment in our securities risky. The events and consequences discussed in these risk factors could, in circumstances we may or may not be able to accurately predict, recognize, or control, have a material adverse effect on our business, growth, reputation, prospects, financial condition, operating results (including components of our financial results), cash flows, liquidity, and stock price. These risk factors do not identify all risks that we face; our operations could also be affected by factors, events, or uncertainties that are not presently known to us or that we currently do not consider to present significant risks to our operations. In addition to the factors discussed in Item 7 of Part II, \\u201cManagement\\u2019s Discussion and Analysis of Financial Condition and Results of Operations,\\u201d and in the risk factors below, global economic and geopolitical conditions and additional or unforeseen circumstances, developments, or events may give rise to or amplify many of the risks discussed below. Many of the risks discussed below also impact our customers, including third-party sellers, which could indirectly have a material adverse effect on us.     Business and Industry Risks We Face Intense Competition     Our businesses are rapidly evolving and intensely competitive, and we have many competitors across geographies, including cross-border competition, and in different industries, including physical, e-commerce, and omnichannel retail, e-commerce services, web and infrastructure computing services, electronic devices, digital content, advertising, grocery, healthcare, communications, and transportation and logistics services. Some of our current and potential competitors have greater resources, longer histories, more customers, and/or greater brand recognition, particularly with our newly-launched products and services and in our newer geographic regions. They may secure better terms from vendors, adopt more aggressive pricing, and devote more resources to technology, infrastructure, fulfillment, and marketing.     Competition continues to intensify, including with the development of new business models and the entry of new and well-funded competitors, and as our competitors enter into business combinations or alliances and established companies in other market segments expand to become competitive with our business. \",\n",
      "    \"metadata\": {\n",
      "      \"x-amz-bedrock-kb-source-uri\": \"s3://989679345636-us-west-2-advanced-rag-workshop/pdf_documents/Amazon-10k-2025.pdf\",\n",
      "      \"x-amz-bedrock-kb-document-page-number\": 5.0,\n",
      "      \"year\": 2025.0,\n",
      "      \"docType\": \"10K Report\",\n",
      "      \"x-amz-bedrock-kb-data-source-id\": \"OI9IIRKJW7\",\n",
      "      \"company\": \"Amazon\",\n",
      "      \"authors\": [\n",
      "        \"Amazon\"\n",
      "      ]\n",
      "    },\n",
      "    \"score\": 0.7146554\n",
      "  },\n",
      "  {\n",
      "    \"content\": \"We also continue to inspect and refine the mechanisms we use to hire, develop, evaluate, and retain our employees to promote equity for all candidates and employees. In addition, safety is integral to everything we do at Amazon and we continue to invest in safety improvements such as capital improvements, new safety technology, vehicle safety controls, and engineering ergonomic solutions. Our safety team is dedicated to using the science of safety to solve complex problems and establish new industry best practices. We also provide mentorship and support resources to our employees, and have deployed numerous programs that advance employee engagement, communication, and feedback.     4Table of Contents     Available Information     Our investor relations website is amazon.com/ir and we encourage investors to use it as a way of easily finding information about us. We promptly make available on this website, free of charge, the reports that we file or furnish with the Securities and Exchange Commission (\\u201cSEC\\u201d), corporate governance information (including our Code of Business Conduct and Ethics), and select press releases.     Executive Officers and Directors The following tables set forth certain information regarding our Executive Officers and Directors as of January 24, 2024:     Information About Our Executive Officers Name Age Position     Jeffrey P. Bezos 60 Executive Chair Andrew R. Jassy 56 President and Chief Executive Officer Douglas J. Herrington 57 CEO Worldwide Amazon Stores Brian T. Olsavsky 60 Senior Vice President and Chief Financial Officer Shelley L. Reynolds 59 Vice President, Worldwide Controller, and Principal Accounting Officer Adam N. Selipsky 57 CEO Amazon Web Services David A. Zapolsky 60 Senior Vice President, Global Public Policy and General Counsel     Jeffrey P. Bezos. Mr. Bezos founded Amazon.com in 1994 and has served as Executive Chair since July 2021. He has served as Chair of the Board since 1994 and served as Chief Executive Officer from May 1996 until July 2021, and as President from 1994 until June 1999 and again from October 2000 to July 2021.     Andrew R. Jassy. Mr. Jassy has served as President and Chief Executive Officer since July 2021, CEO Amazon Web Services from April 2016 until July 2021, and Senior Vice President, Amazon Web Services, from April 2006 until April 2016.     Douglas J. Herrington. Mr. Herrington has served as CEO Worldwide Amazon Stores since July 2022, Senior Vice President, North America Consumer from January 2015 to July 2022, Senior Vice President, Consumables from May 2014 to December 2014, and Vice President, Consumables from May 2005 to April 2014.     Brian T. Olsavsky. Mr. Olsavsky has served as Senior Vice President and Chief Financial Officer since June 2015, Vice President, Finance for the Global Consumer Business from December 2011 to June 2015, and numerous financial leadership roles across Amazon with global responsibility since April 2002.     Shelley L. Reynolds. Ms. Reynolds has served as Vice President, Worldwide Controller, and Principal Accounting Officer since April 2007.     Adam N. Selipsky. Mr. Selipsky has served as CEO Amazon Web Services since July 2021, Senior Vice President, Amazon Web Services from May 2021 until July 2021, President and CEO of Tableau Software from September 2016 until May 2021, and Vice President, Marketing, Sales and Support of Amazon Web Services from May 2005 to September 2016.     David A. Zapolsky. Mr. Zapolsky has served as Senior Vice President, Global Public Policy and General Counsel since May 2023 and has served as our Secretary since September 2012. He served as Senior Vice President and General Counsel from May 2014 to May 2023, Vice President and General Counsel from September 2012 to May 2014, and as Vice President and Associate General Counsel for Litigation and Regulatory matters from April 2002 until September 2012.     5Table of Contents     Board of Directors Name Age Position     Jeffrey P. Bezos 60 Executive Chair Andrew R. Jassy 56 President and Chief Executive Officer Keith B. Alexander 72 Chair of IronNet, Inc. Edith W. Cooper 62 Former Executive Vice President, Goldman Sachs Group, Inc. Jamie S. Gorelick 73 Partner, Wilmer Cutler Pickering Hale and Dorr LLP Daniel P. Huttenlocher 65 Dean, MIT Schwarzman College of Computing Judith A. McGrath 71 Former Chair and CEO, MTV Networks Indra K. Nooyi 68 Former Chair and CEO, PepsiCo, Inc. Jonathan J. Rubinstein 67 Former co-CEO, Bridgewater Associates, LP Brad D. Smith 59 President, Marshall University Patricia Q. Stonesifer 67 Former President and Chief Executive Officer, Martha\\u2019s Table Wendell P. Weeks 64 Chairman and CEO, Corning Incorporated     Item 1A. Risk Factors     Please carefully consider the following discussion of significant factors, events, and uncertainties that make an investment in our securities risky. The events and consequences discussed in these risk factors could, in circumstances we may or may not be able to accurately predict, recognize, or control, have a material adverse effect on our business, growth, reputation, prospects, financial condition, operating results (including components of our financial results), cash flows, liquidity, and stock price. These risk factors do not identify all risks that we face; our operations could also be affected by factors, events, or uncertainties that are not presently known to us or that we currently do not consider to present significant risks to our operations. In addition to the factors discussed in Item 7 of Part II, \\u201cManagement\\u2019s Discussion and Analysis of Financial Condition and Results of Operations,\\u201d and in the risk factors below, global economic and geopolitical conditions and additional or unforeseen circumstances, developments, or events may give rise to or amplify many of the risks discussed below. Many of the risks discussed below also impact our customers, including third-party sellers, which could indirectly have a material adverse effect on us.     Business and Industry Risks We Face Intense Competition     Our businesses are rapidly evolving and intensely competitive, and we have many competitors across geographies, including cross-border competition, and in different industries, including physical, e-commerce, and omnichannel retail, e-commerce services, web and infrastructure computing services, electronic devices, digital content, advertising, grocery, and transportation and logistics services. Some of our current and potential competitors have greater resources, longer histories, more customers, and/or greater brand recognition, particularly with our newly-launched products and services and in our newer geographic regions. They may secure better terms from vendors, adopt more aggressive pricing, and devote more resources to technology, infrastructure, fulfillment, and marketing.     Competition continues to intensify, including with the development of new business models and the entry of new and well-funded competitors, and as our competitors enter into business combinations or alliances and established companies in other market segments expand to become competitive with our business. \",\n",
      "    \"metadata\": {\n",
      "      \"x-amz-bedrock-kb-source-uri\": \"s3://989679345636-us-west-2-advanced-rag-workshop/pdf_documents/Amazon-10k-2024.pdf\",\n",
      "      \"x-amz-bedrock-kb-document-page-number\": 5.0,\n",
      "      \"year\": 2024.0,\n",
      "      \"docType\": \"10K Report\",\n",
      "      \"x-amz-bedrock-kb-data-source-id\": \"OI9IIRKJW7\",\n",
      "      \"company\": \"Amazon\",\n",
      "      \"authors\": [\n",
      "        \"Amazon\"\n",
      "      ]\n",
      "    },\n",
      "    \"score\": 0.7090822\n",
      "  },\n",
      "  {\n",
      "    \"content\": \"hash=6e8225dbb17cbf3fc629f493e3f720d52b594db724e32c338ebb3fe5d2b467b0&dest=dex1016_htm         https://content.edgar-online.com/ExternalLink/EDGAR/0001018724-22-000005.html?hash=9258a1825e3d52e231e0cebc1336704b232acdc2a4ae5b12158c0f2bcb378e33&dest=amzn-20211231xex107_htm         https://content.edgar-online.com/ExternalLink/EDGAR/0001018724-22-000005.html?hash=9258a1825e3d52e231e0cebc1336704b232acdc2a4ae5b12158c0f2bcb378e33&dest=amzn-20211231xex107_htm         https://content.edgar-online.com/ExternalLink/EDGAR/0001018724-22-000013.html?hash=97dd39248fd32dd7836dabb2eaecd5a05255dfcba713f76cae3f27ae2a6619d6&dest=amzn-20220331xex101_htm         https://content.edgar-online.com/ExternalLink/EDGAR/0001018724-22-000013.html?hash=97dd39248fd32dd7836dabb2eaecd5a05255dfcba713f76cae3f27ae2a6619d6&dest=amzn-20220331xex101_htm         https://content.edgar-online.com/ExternalLink/EDGAR/0001018724-22-000013.html?hash=97dd39248fd32dd7836dabb2eaecd5a05255dfcba713f76cae3f27ae2a6619d6&dest=amzn-20220331xex101_htm         https://content.edgar-online.com/ExternalLink/EDGAR/0001193125-22-289041.html?hash=e407711d9512c697d322d25f2665b37e7cfed920d07923fad01008073d384e79&dest=d413765dex101_htm         https://content.edgar-online.com/ExternalLink/EDGAR/0001193125-22-289041.html?hash=e407711d9512c697d322d25f2665b37e7cfed920d07923fad01008073d384e79&dest=d413765dex101_htm         https://content.edgar-online.com/ExternalLink/EDGAR/0001193125-22-289041.html?hash=e407711d9512c697d322d25f2665b37e7cfed920d07923fad01008073d384e79&dest=d413765dex101_htm         https://content.edgar-online.com/ExternalLink/EDGAR/0001193125-23-000849.html?hash=2b307f494bc4d9e11a79af2491599072f05b1f7a27e926f9f48242ab784bee46&dest=d429499dex101_htm         https://content.edgar-online.com/ExternalLink/EDGAR/0001193125-23-000849.html?hash=2b307f494bc4d9e11a79af2491599072f05b1f7a27e926f9f48242ab784bee46&dest=d429499dex101_htmTable of Contents     32.1 Certification of Andrew R. Jassy, President and Chief Executive Officer of Amazon.com, Inc., pursuant to 18 U.S.C. Section 1350.     32.2 Certification of Brian T. Olsavsky, Senior Vice President and Chief Financial Officer of Amazon.com, Inc., pursuant to 18 U.S.C. Section 1350.     101 The following financial statements from the Company\\u2019s Annual Report on Form 10-K for the year ended December 31, 2022, formatted in Inline XBRL: (i) Consolidated Statements of Cash Flows, (ii) Consolidated Statements of Operations, (iii) Consolidated Statements of Comprehensive Income (Loss), (iv) Consolidated Balance Sheets, (v) Consolidated Statements of Stockholders\\u2019 Equity, and (vi) Notes to Consolidated Financial Statements, tagged as blocks of text and including detailed tags.     As permitted by Item 601(b)(4)(iii)(A) of Regulation S-K, the Company has not filed with this Annual Report on Form 10-K certain instruments defining the rights of holders of long-term debt of the Company and its subsidiaries because the total amount of securities authorized thereunder does not exceed 10 percent of the total assets of the Company and its subsidiaries on a consolidated basis. The Company agrees to furnish a copy of such agreements to the Commission upon request.     104 The cover page from the Company\\u2019s Annual Report on Form 10-K for the year ended December 31, 2022, formatted in Inline XBRL (included as Exhibit 101).     __________________ \\u2020 Executive Compensation Plan or Agreement.     Item 16. Form 10-K Summary     None.     74Table of Contents     SIGNATURES     Pursuant to the requirements of Section 13 or 15(d) of the Securities Exchange Act of 1934, the registrant has duly caused this Report to be signed on its behalf by the undersigned, thereunto duly authorized, as of February 2, 2023.     AMAZON.COM, INC.     By: /s/ Andrew R. Jassy Andrew R. Jassy     President and Chief Executive Officer     Pursuant to the requirements of the Securities Exchange Act of 1934, this Report has been signed below by the following persons on behalf of the registrant and in the capacities indicated as of February 2, 2023.     Signature Title     /s/ Andrew R. Jassy Andrew R. Jassy President and Chief Executive Officer (Principal Executive Officer) and Director     /s/ Brian T. Olsavsky Brian T. Olsavsky Senior Vice President and Chief Financial Officer (Principal Financial Officer)     /s/ Shelley L. Reynolds Shelley L. Reynolds Vice President, Worldwide Controller (Principal Accounting Officer)     /s/ Jeffrey P. Bezos Jeffrey P. Bezos Executive Chair     /s/ Keith B. Alexander Keith B. Alexander Director     /s/ Edith W. Cooper Edith W. Cooper Director     /s/ Jamie S. Gorelick Jamie S. Gorelick Director     /s/ Daniel P. Huttenlocher Daniel P. Huttenlocher Director     /s/ Judith A. McGrath Judith A. McGrath Director     /s/ Indra K. Nooyi Indra K. \",\n",
      "    \"metadata\": {\n",
      "      \"x-amz-bedrock-kb-source-uri\": \"s3://989679345636-us-west-2-advanced-rag-workshop/pdf_documents/Amazon-10k-2023.pdf\",\n",
      "      \"x-amz-bedrock-kb-document-page-number\": 73.0,\n",
      "      \"year\": 2023.0,\n",
      "      \"docType\": \"10K Report\",\n",
      "      \"x-amz-bedrock-kb-data-source-id\": \"OI9IIRKJW7\",\n",
      "      \"company\": \"Amazon\",\n",
      "      \"authors\": [\n",
      "        \"Amazon\"\n",
      "      ]\n",
      "    },\n",
      "    \"score\": 0.66214144\n",
      "  },\n",
      "  {\n",
      "    \"content\": \"hash=6e8225dbb17cbf3fc629f493e3f720d52b594db724e32c338ebb3fe5d2b467b0&dest=dex1016_htm         https://content.edgar-online.com/ExternalLink/EDGAR/0001018724-22-000005.html?hash=9258a1825e3d52e231e0cebc1336704b232acdc2a4ae5b12158c0f2bcb378e33&dest=amzn-20211231xex107_htm         https://content.edgar-online.com/ExternalLink/EDGAR/0001018724-22-000005.html?hash=9258a1825e3d52e231e0cebc1336704b232acdc2a4ae5b12158c0f2bcb378e33&dest=amzn-20211231xex107_htm         https://content.edgar-online.com/ExternalLink/EDGAR/0001018724-22-000013.html?hash=97dd39248fd32dd7836dabb2eaecd5a05255dfcba713f76cae3f27ae2a6619d6&dest=amzn-20220331xex101_htm         https://content.edgar-online.com/ExternalLink/EDGAR/0001018724-22-000013.html?hash=97dd39248fd32dd7836dabb2eaecd5a05255dfcba713f76cae3f27ae2a6619d6&dest=amzn-20220331xex101_htm         https://content.edgar-online.com/ExternalLink/EDGAR/0001018724-22-000013.html?hash=97dd39248fd32dd7836dabb2eaecd5a05255dfcba713f76cae3f27ae2a6619d6&dest=amzn-20220331xex101_htm         https://content.edgar-online.com/ExternalLink/EDGAR/0001193125-22-289041.html?hash=e407711d9512c697d322d25f2665b37e7cfed920d07923fad01008073d384e79&dest=d413765dex101_htm         https://content.edgar-online.com/ExternalLink/EDGAR/0001193125-22-289041.html?hash=e407711d9512c697d322d25f2665b37e7cfed920d07923fad01008073d384e79&dest=d413765dex101_htm         https://content.edgar-online.com/ExternalLink/EDGAR/0001193125-22-289041.html?hash=e407711d9512c697d322d25f2665b37e7cfed920d07923fad01008073d384e79&dest=d413765dex101_htm         https://content.edgar-online.com/ExternalLink/EDGAR/0001193125-23-000849.html?hash=2b307f494bc4d9e11a79af2491599072f05b1f7a27e926f9f48242ab784bee46&dest=d429499dex101_htm         https://content.edgar-online.com/ExternalLink/EDGAR/0001193125-23-000849.html?hash=2b307f494bc4d9e11a79af2491599072f05b1f7a27e926f9f48242ab784bee46&dest=d429499dex101_htmTable of Contents     32.1 Certification of Andrew R. Jassy, President and Chief Executive Officer of Amazon.com, Inc., pursuant to 18 U.S.C. Section 1350.     32.2 Certification of Brian T. Olsavsky, Senior Vice President and Chief Financial Officer of Amazon.com, Inc., pursuant to 18 U.S.C. Section 1350.     101 The following financial statements from the Company\\u2019s Annual Report on Form 10-K for the year ended December 31, 2022, formatted in Inline XBRL: (i) Consolidated Statements of Cash Flows, (ii) Consolidated Statements of Operations, (iii) Consolidated Statements of Comprehensive Income (Loss), (iv) Consolidated Balance Sheets, (v) Consolidated Statements of Stockholders\\u2019 Equity, and (vi) Notes to Consolidated Financial Statements, tagged as blocks of text and including detailed tags.     As permitted by Item 601(b)(4)(iii)(A) of Regulation S-K, the Company has not filed with this Annual Report on Form 10-K certain instruments defining the rights of holders of long-term debt of the Company and its subsidiaries because the total amount of securities authorized thereunder does not exceed 10 percent of the total assets of the Company and its subsidiaries on a consolidated basis. The Company agrees to furnish a copy of such agreements to the Commission upon request.     104 The cover page from the Company\\u2019s Annual Report on Form 10-K for the year ended December 31, 2022, formatted in Inline XBRL (included as Exhibit 101).     __________________ \\u2020 Executive Compensation Plan or Agreement.     Item 16. Form 10-K Summary     None.     74Table of Contents     SIGNATURES     Pursuant to the requirements of Section 13 or 15(d) of the Securities Exchange Act of 1934, the registrant has duly caused this Report to be signed on its behalf by the undersigned, thereunto duly authorized, as of February 2, 2023.     AMAZON.COM, INC.     By: /s/ Andrew R. Jassy Andrew R. Jassy     President and Chief Executive Officer     Pursuant to the requirements of the Securities Exchange Act of 1934, this Report has been signed below by the following persons on behalf of the registrant and in the capacities indicated as of February 2, 2023.     Signature Title     /s/ Andrew R. Jassy Andrew R. Jassy President and Chief Executive Officer (Principal Executive Officer) and Director     /s/ Brian T. Olsavsky Brian T. Olsavsky Senior Vice President and Chief Financial Officer (Principal Financial Officer)     /s/ Shelley L. Reynolds Shelley L. Reynolds Vice President, Worldwide Controller (Principal Accounting Officer)     /s/ Jeffrey P. Bezos Jeffrey P. Bezos Executive Chair     /s/ Keith B. Alexander Keith B. Alexander Director     /s/ Edith W. Cooper Edith W. Cooper Director     /s/ Jamie S. Gorelick Jamie S. Gorelick Director     /s/ Daniel P. Huttenlocher Daniel P. Huttenlocher Director     /s/ Judith A. McGrath Judith A. McGrath Director     /s/ Indra K. Nooyi Indra K. \",\n",
      "    \"metadata\": {\n",
      "      \"x-amz-bedrock-kb-source-uri\": \"s3://989679345636-us-west-2-advanced-rag-workshop/data/pdf_documents/Amazon-10k-2023.pdf\",\n",
      "      \"x-amz-bedrock-kb-document-page-number\": 73.0,\n",
      "      \"year\": 2023.0,\n",
      "      \"docType\": \"10K Report\",\n",
      "      \"x-amz-bedrock-kb-data-source-id\": \"DGI9YVQVJ2\",\n",
      "      \"company\": \"Amazon\",\n",
      "      \"authors\": [\n",
      "        \"Amazon\"\n",
      "      ]\n",
      "    },\n",
      "    \"score\": 0.6608245\n",
      "  }\n",
      "]\n"
     ]
    }
   ],
   "source": [
    "# Now let's pick the chunks with some minimum relevance score for the same question.\n",
    "query = \"Who is the CEO, CFO, and CTO of Amazon?\"\n",
    "\n",
    "#specify the number of chunks\n",
    "n_chunks = 5\n",
    "\n",
    "#Let's specify a minimum similarity score. We should see less chunks retrieved as compared to the previous invocation.\n",
    "min_score = 0.60\n",
    "\n",
    "# get chunks from KB\n",
    "chunks_from_kb = retrieve_from_kb(query, kb, n_chunks, variables, min_score)\n",
    "\n",
    "print(json.dumps(chunks_from_kb, indent=2))\n",
    "\n",
    "# You should see less number of chunks retrieved as compared to the previous cell \n",
    "# because of the minimum relevance score."
   ]
  },
  {
   "cell_type": "code",
   "execution_count": 13,
   "id": "b48b2372-8932-4df2-8c73-b5960655752c",
   "metadata": {},
   "outputs": [
    {
     "name": "stdout",
     "output_type": "stream",
     "text": [
      "{\n",
      "    \"total_chunks\": 5,\n",
      "    \"min_score\": 0.6608245,\n",
      "    \"max_score\": 0.7151378,\n",
      "    \"avg_score\": 0.6923682680000001,\n",
      "    \"count_above_threshold\": 5\n",
      "}\n"
     ]
    }
   ],
   "source": [
    "# Let's summarize with total chunks, minimum score, maximum score, average score, \n",
    "# and lastly the number of chunks with a score more than a specified threshold.\n",
    "score_threshold = 0.40\n",
    "score_structure = analyze_chunk_scores_above_threshold(chunks_from_kb, score_threshold)\n",
    "print(json.dumps(score_structure, indent=4))"
   ]
  },
  {
   "cell_type": "code",
   "execution_count": 14,
   "id": "c434aba2-ccef-4531-a50d-9734777d1280",
   "metadata": {},
   "outputs": [
    {
     "name": "stdout",
     "output_type": "stream",
     "text": [
      "{\n",
      "    \"WARNING\": \"These costs are approximate and directional as of April 2025. They will vary as per region and may change in future. The costs are for Bedrock On-Demand model. If you see zero costs, chances are high that the LLM was not considered in cost calculations when the notebook was prepared. Please use AWS calculator for more accurate cost calculations.\",\n",
      "    \"model_id\": \"arn:aws:bedrock:us-west-2::foundation-model/amazon.titan-embed-text-v2:0\",\n",
      "    \"start_time\": \"2025-04-30T04:19:43.448278+00:00\",\n",
      "    \"end_time\": \"2025-04-30T04:20:56.064424+00:00\",\n",
      "    \"duration in minutes\": 1.2102691,\n",
      "    \"input_tokens\": 0,\n",
      "    \"output_tokens\": 0,\n",
      "    \"invocation_count\": 0,\n",
      "    \"per million input token costs\": 0.0,\n",
      "    \"per million output token costs\": 0.0,\n",
      "    \"input token costs\": 0.0,\n",
      "    \"output token costs\": 0.0,\n",
      "    \"total token costs\": 0.0,\n",
      "    \"average token costs per invocation\": 0,\n",
      "    \"token costs per MILLION such invocations\": 0\n",
      "}\n",
      "Cost of running this notebook is approximately $0.0\n"
     ]
    }
   ],
   "source": [
    "#Let's print the costs of running this notebook.\n",
    "\n",
    "model_id = 'arn:aws:bedrock:us-west-2::foundation-model/amazon.titan-embed-text-v2:0'\n",
    "\n",
    "notebook_end_time = datetime.now(UTC)\n",
    "tokens = get_bedrock_tokens(model_id, notebook_start_time, notebook_end_time, 5)\n",
    "print(json.dumps(tokens, indent=4))\n",
    "print(f\"Cost of running this notebook is approximately ${tokens['total token costs']}\")"
   ]
  },
  {
   "cell_type": "code",
   "execution_count": null,
   "id": "f1bb5e67-2ba2-4464-84aa-06337efebbdf",
   "metadata": {},
   "outputs": [],
   "source": []
  },
  {
   "cell_type": "code",
   "execution_count": null,
   "id": "fc34bff3-047e-4fda-9800-3bd79ddb05f3",
   "metadata": {},
   "outputs": [],
   "source": []
  }
 ],
 "metadata": {
  "kernelspec": {
   "display_name": "Python 3 (ipykernel)",
   "language": "python",
   "name": "python3"
  },
  "language_info": {
   "codemirror_mode": {
    "name": "ipython",
    "version": 3
   },
   "file_extension": ".py",
   "mimetype": "text/x-python",
   "name": "python",
   "nbconvert_exporter": "python",
   "pygments_lexer": "ipython3",
   "version": "3.11.10"
  }
 },
 "nbformat": 4,
 "nbformat_minor": 5
}
