{
 "cells": [
  {
   "cell_type": "markdown",
   "id": "f92c5158-0cce-4ffa-bdab-6a397caba9ed",
   "metadata": {},
   "source": [
    "## Query Decomposition: Avoid semantic delutions in the queries\n",
    " * \"Semantic dilutions\" refer to the loss of meaning or relevance when chunks of text, intended to represent information for retrieval, become too large or lack semantic cohesion, leading to less accurate and useful results.\n",
    " * Semantic dilutions can be mitigated on the indexed documents side by applying optimized chunking strategies per each use case.\n",
    " * Query texts can also have semantic delutions when multiple contexts or topics are combined. This can be improved by reforming the queries.\n",
    "\n",
    "This notebook will demonstrate \"query decomposition\" strategy to improve the search quality against a knowledge base. \n",
    "\n",
    "![Query Decomposition](https://raw.githubusercontent.com/aws-samples/langgraph-agents-with-amazon-bedrock/refs/heads/main/assets/lab3_2.png \"https://github.com/aws-samples/langgraph-agents-with-amazon-bedrock/tree/main/Lab_3\")"
   ]
  },
  {
   "cell_type": "markdown",
   "id": "6cd964ae-e143-4ce6-b242-978c4d29bcdc",
   "metadata": {},
   "source": [
    "#### Prerequisites"
   ]
  },
  {
   "cell_type": "code",
   "execution_count": 1,
   "id": "be1782f4-a89d-4044-bff6-05e038aeb7de",
   "metadata": {
    "scrolled": true
   },
   "outputs": [],
   "source": [
    "\n",
    "import importlib\n",
    "import advanced_rag_utils\n",
    "\n",
    "# Reload module\n",
    "importlib.reload(advanced_rag_utils)\n",
    "\n",
    "# Re-import all functions\n",
    "from advanced_rag_utils import *\n",
    "\n",
    "from datetime import datetime, timedelta, UTC\n",
    "\n",
    "notebook_start_time = datetime.now(UTC)\n",
    "suppress_warnings()\n"
   ]
  },
  {
   "cell_type": "code",
   "execution_count": 2,
   "id": "423f773f-683c-4bc4-918b-15a086080bbb",
   "metadata": {
    "scrolled": true
   },
   "outputs": [
    {
     "data": {
      "text/plain": [
       "{'accountNumber': '989679345636',\n",
       " 'regionName': 'us-west-2',\n",
       " 'collectionArn': 'arn:aws:aoss:us-west-2:989679345636:collection/ny2d41n7rmju74rh4ue2',\n",
       " 'collectionId': 'ny2d41n7rmju74rh4ue2',\n",
       " 'vectorIndexName': 'ws-index-',\n",
       " 'bedrockExecutionRoleArn': 'arn:aws:iam::989679345636:role/advanced-rag-workshop-bedrock_execution_role-us-west-2',\n",
       " 's3Bucket': '989679345636-us-west-2-advanced-rag-workshop',\n",
       " 'kbFixedChunk': 'TYG3IXCHCX',\n",
       " 'kbSemanticChunk': 'N7ZHYZVLOX',\n",
       " 'kbHierarchicalChunk': 'UDPUVOULM1',\n",
       " 'kbCustomChunk': 'AD07GOEBQ2'}"
      ]
     },
     "execution_count": 2,
     "metadata": {},
     "output_type": "execute_result"
    }
   ],
   "source": [
    "# Load variables from the JSON file\n",
    "import json\n",
    "with open(\"../variables.json\", \"r\") as f:\n",
    "    variables = json.load(f)\n",
    "\n",
    "variables"
   ]
  },
  {
   "cell_type": "code",
   "execution_count": 4,
   "id": "2229c2a7-12f9-4965-aeec-8f869fd41cd6",
   "metadata": {
    "scrolled": true
   },
   "outputs": [],
   "source": [
    "# Get KB configuration\n",
    "kb_config = get_kb_config(\n",
    "    kb_id=variables[\"kbSemanticChunk\"],\n",
    "    account_number=variables['accountNumber'],\n",
    "    region_name=variables['regionName'],\n",
    "    number_of_results=5\n",
    ")"
   ]
  },
  {
   "cell_type": "markdown",
   "id": "a6ebee40",
   "metadata": {},
   "source": [
    "### How Model Size Affects Table Interpretation  \n",
    "\n",
    "When querying Amazon's Operating Income for 2022, **smaller models (Nova Lite, Llama 3B)** tend to pick the **\"At Prior Year Rates\"** value (\\$11,387), while **larger models (Nova Pro)** correctly select the **\"As Reported\"** value (\\$12,248).\n",
    "\n",
    "#### Possible Reasons:\n",
    "- **Table Parsing Limitations:** Smaller models may not accurately align column headers to values.  \n",
    "- **Context Misinterpretation:** They might default to the last numerical column or fail to strongly associate **\"As Reported\"** with the correct column.  \n",
    "- **Stronger Reasoning in Larger Models:** Nova Pro better understands structured data, leading to more accurate retrieval.  \n",
    "\n",
    "![Image](./operating_income.png)"
   ]
  },
  {
   "cell_type": "markdown",
   "id": "b5130cdb-5d9f-4c5c-9a68-2352026616fb",
   "metadata": {},
   "source": [
    "### Basic RAG query\n",
    "The query retrieves only one of the topics mentioned. It is because of the mix of two queries dilluted the second topic, which is called \"semantic dillution.\"\n",
    "In real world scenarios, it is required to pull multiple chunks with different contexts, for example:\n",
    "* How Amazon's net income increased from 2018 to 2024?\n",
    "* What is difference between RAG and text-to-SQL?"
   ]
  },
  {
   "cell_type": "code",
   "execution_count": 6,
   "id": "60064755-7215-4b10-9246-30b53697e677",
   "metadata": {
    "scrolled": true
   },
   "outputs": [
    {
     "name": "stdout",
     "output_type": "stream",
     "text": [
      "----------------- Answer ---------------------\n",
      "Answer: Amazon's Operating Income as reported for the fiscal year ending December 31, 2022, was $11,387 million. Text-to-SQL is a technology that allows users to interact with databases using natural language queries. However, the search results do not provide information on how text-to-SQL contributed to Amazon's earnings.\n",
      "\n",
      "----------------- Citations ------------------\n",
      "{\n",
      "  \"ResponseMetadata\": {\n",
      "    \"RequestId\": \"143b1d29-185e-4042-bc48-3171e61be3f8\",\n",
      "    \"HTTPStatusCode\": 200,\n",
      "    \"HTTPHeaders\": {\n",
      "      \"date\": \"Tue, 29 Apr 2025 22:25:31 GMT\",\n",
      "      \"content-type\": \"application/json\",\n",
      "      \"content-length\": \"6184\",\n",
      "      \"connection\": \"keep-alive\",\n",
      "      \"x-amzn-requestid\": \"143b1d29-185e-4042-bc48-3171e61be3f8\"\n",
      "    },\n",
      "    \"RetryAttempts\": 0\n",
      "  },\n",
      "  \"citations\": [\n",
      "    {\n",
      "      \"generatedResponsePart\": {\n",
      "        \"textResponsePart\": {\n",
      "          \"span\": {\n",
      "            \"end\": 111,\n",
      "            \"start\": 0\n",
      "          },\n",
      "          \"text\": \"Answer: Amazon's Operating Income as reported for the fiscal year ending December 31, 2022, was $11,387 million\"\n",
      "        }\n",
      "      },\n",
      "      \"retrievedReferences\": [\n",
      "        {\n",
      "          \"content\": {\n",
      "            \"text\": \"Dollar is as follows (in millions): Year Ended December 31, 2022 Year Ended December 31, 2023 \\n \\n  \\n \\n As Reported \\n \\n Exchange Rate \\n \\n Effect (1) \\n \\n At Prior Year \\n \\n Rates (2) As \\n \\n Reported \\n \\n Exchange Rate \\n \\n Effect (1) \\n \\n At Prior Year \\n \\n Rates (2) \\n \\n Net sales $ 513,983 $ 15,495 $ 529,478 $ 574,785 $ 71 $ 574,856 Operating expenses 501,735 16,356 518,091 537,933 531 538,464 Operating income 12,248 (861) 11,387 36,852 (460) 36,392 \\n \\n ___________________ (1) Represents the change in reported amounts resulting from changes in foreign exchange rates from those in effect in the comparable prior year period for \\n \\n operating results. (2) Represents the outcome that would have resulted had foreign exchange rates in the reported period been the same as those in effect in the comparable prior \\n \\n year period for operating results. \\n \\n 30Table of Contents \\n \\n Guidance \\n \\n We provided guidance on February 1, 2024, in our earnings release furnished on Form 8-K as set forth below. These forward-looking statements reflect Amazon.com\\u2019s expectations as of February 1, 2024, and are subject to substantial uncertainty.\",\n",
      "            \"type\": \"TEXT\"\n",
      "          },\n",
      "          \"location\": {\n",
      "            \"s3Location\": {\n",
      "              \"uri\": \"s3://989679345636-us-west-2-advanced-rag-workshop/data/pdf_documents/Amazon-10k-2024.pdf\"\n",
      "            },\n",
      "            \"type\": \"S3\"\n",
      "          },\n",
      "          \"metadata\": {\n",
      "            \"x-amz-bedrock-kb-source-uri\": \"s3://989679345636-us-west-2-advanced-rag-workshop/data/pdf_documents/Amazon-10k-2024.pdf\",\n",
      "            \"x-amz-bedrock-kb-document-page-number\": 30.0,\n",
      "            \"year\": 2024.0,\n",
      "            \"docType\": \"10K Report\",\n",
      "            \"x-amz-bedrock-kb-data-source-id\": \"8JWHIAELKL\",\n",
      "            \"company\": \"Amazon\",\n",
      "            \"x-amz-bedrock-kb-chunk-id\": \"1%3A0%3AxAuHg5YBDm_VVXpUlACW\",\n",
      "            \"authors\": [\n",
      "              \"Amazon\"\n",
      "            ]\n",
      "          }\n",
      "        }\n",
      "      ]\n",
      "    },\n",
      "    {\n",
      "      \"generatedResponsePart\": {\n",
      "        \"textResponsePart\": {\n",
      "          \"span\": {\n",
      "            \"end\": 217,\n",
      "            \"start\": 113\n",
      "          },\n",
      "          \"text\": \"Text-to-SQL is a technology that allows users to interact with databases using natural language queries\"\n",
      "        }\n",
      "      },\n",
      "      \"retrievedReferences\": [\n",
      "        {\n",
      "          \"content\": {\n",
      "            \"text\": \"Dollar is as follows (in millions): Year Ended December 31, 2022 Year Ended December 31, 2023 \\n \\n  \\n \\n As Reported \\n \\n Exchange Rate \\n \\n Effect (1) \\n \\n At Prior Year \\n \\n Rates (2) As \\n \\n Reported \\n \\n Exchange Rate \\n \\n Effect (1) \\n \\n At Prior Year \\n \\n Rates (2) \\n \\n Net sales $ 513,983 $ 15,495 $ 529,478 $ 574,785 $ 71 $ 574,856 Operating expenses 501,735 16,356 518,091 537,933 531 538,464 Operating income 12,248 (861) 11,387 36,852 (460) 36,392 \\n \\n ___________________ (1) Represents the change in reported amounts resulting from changes in foreign exchange rates from those in effect in the comparable prior year period for \\n \\n operating results. (2) Represents the outcome that would have resulted had foreign exchange rates in the reported period been the same as those in effect in the comparable prior \\n \\n year period for operating results. \\n \\n 30Table of Contents \\n \\n Guidance \\n \\n We provided guidance on February 1, 2024, in our earnings release furnished on Form 8-K as set forth below. These forward-looking statements reflect Amazon.com\\u2019s expectations as of February 1, 2024, and are subject to substantial uncertainty.\",\n",
      "            \"type\": \"TEXT\"\n",
      "          },\n",
      "          \"location\": {\n",
      "            \"s3Location\": {\n",
      "              \"uri\": \"s3://989679345636-us-west-2-advanced-rag-workshop/pdf_documents/Amazon-10k-2024.pdf\"\n",
      "            },\n",
      "            \"type\": \"S3\"\n",
      "          },\n",
      "          \"metadata\": {\n",
      "            \"x-amz-bedrock-kb-source-uri\": \"s3://989679345636-us-west-2-advanced-rag-workshop/pdf_documents/Amazon-10k-2024.pdf\",\n",
      "            \"x-amz-bedrock-kb-document-page-number\": 30.0,\n",
      "            \"year\": 2024.0,\n",
      "            \"docType\": \"10K Report\",\n",
      "            \"x-amz-bedrock-kb-data-source-id\": \"CAK2UZC83T\",\n",
      "            \"company\": \"Amazon\",\n",
      "            \"x-amz-bedrock-kb-chunk-id\": \"1%3A0%3AYU1Er5UBZuowdich6RXS\",\n",
      "            \"authors\": [\n",
      "              \"Amazon\"\n",
      "            ]\n",
      "          }\n",
      "        }\n",
      "      ]\n",
      "    },\n",
      "    {\n",
      "      \"generatedResponsePart\": {\n",
      "        \"textResponsePart\": {\n",
      "          \"span\": {\n",
      "            \"end\": 326,\n",
      "            \"start\": 219\n",
      "          },\n",
      "          \"text\": \"However, the search results do not provide information on how text-to-SQL contributed to Amazon's earnings.\"\n",
      "        }\n",
      "      },\n",
      "      \"retrievedReferences\": [\n",
      "        {\n",
      "          \"content\": {\n",
      "            \"text\": \"Dollar is as follows (in millions): Year Ended December 31, 2022 Year Ended December 31, 2023 \\n \\n  \\n \\n As Reported \\n \\n Exchange Rate \\n \\n Effect (1) \\n \\n At Prior Year \\n \\n Rates (2) As \\n \\n Reported \\n \\n Exchange Rate \\n \\n Effect (1) \\n \\n At Prior Year \\n \\n Rates (2) \\n \\n Net sales $ 513,983 $ 15,495 $ 529,478 $ 574,785 $ 71 $ 574,856 Operating expenses 501,735 16,356 518,091 537,933 531 538,464 Operating income 12,248 (861) 11,387 36,852 (460) 36,392 \\n \\n ___________________ (1) Represents the change in reported amounts resulting from changes in foreign exchange rates from those in effect in the comparable prior year period for \\n \\n operating results. (2) Represents the outcome that would have resulted had foreign exchange rates in the reported period been the same as those in effect in the comparable prior \\n \\n year period for operating results. \\n \\n 30Table of Contents \\n \\n Guidance \\n \\n We provided guidance on February 1, 2024, in our earnings release furnished on Form 8-K as set forth below. These forward-looking statements reflect Amazon.com\\u2019s expectations as of February 1, 2024, and are subject to substantial uncertainty.\",\n",
      "            \"type\": \"TEXT\"\n",
      "          },\n",
      "          \"location\": {\n",
      "            \"s3Location\": {\n",
      "              \"uri\": \"s3://989679345636-us-west-2-advanced-rag-workshop/data/pdf_documents/Amazon-10k-2024.pdf\"\n",
      "            },\n",
      "            \"type\": \"S3\"\n",
      "          },\n",
      "          \"metadata\": {\n",
      "            \"x-amz-bedrock-kb-source-uri\": \"s3://989679345636-us-west-2-advanced-rag-workshop/data/pdf_documents/Amazon-10k-2024.pdf\",\n",
      "            \"x-amz-bedrock-kb-document-page-number\": 30.0,\n",
      "            \"year\": 2024.0,\n",
      "            \"docType\": \"10K Report\",\n",
      "            \"x-amz-bedrock-kb-data-source-id\": \"8JWHIAELKL\",\n",
      "            \"company\": \"Amazon\",\n",
      "            \"x-amz-bedrock-kb-chunk-id\": \"1%3A0%3AxAuHg5YBDm_VVXpUlACW\",\n",
      "            \"authors\": [\n",
      "              \"Amazon\"\n",
      "            ]\n",
      "          }\n",
      "        }\n",
      "      ]\n",
      "    }\n",
      "  ],\n",
      "  \"output\": {\n",
      "    \"text\": \"Answer: Amazon's Operating Income as reported for the fiscal year ending December 31, 2022, was $11,387 million. Text-to-SQL is a technology that allows users to interact with databases using natural language queries. However, the search results do not provide information on how text-to-SQL contributed to Amazon's earnings.\"\n",
      "  },\n",
      "  \"sessionId\": \"4606b1cc-1048-4c8c-9186-0ab1b63ca738\"\n",
      "}\n"
     ]
    }
   ],
   "source": [
    "# WITHOUT QUERY DECOMPOSITION\n",
    "\n",
    "# Query example\n",
    "query = \"What was Amazon's Operating Income as reported for the fiscal year ending December 31, 2022? What is text-to-SQL? How did text-to-SQL contribute to Amazons earnings, if any?\"\n",
    "\n",
    "# Perform basic RAG without query decomposition\n",
    "response = retrieve_and_generate_basic(\n",
    "    query=query, \n",
    "    kb_id=kb_config[\"kb_id\"], \n",
    "    model_id=kb_config[\"model_id\"], \n",
    "    generation_configuration=kb_config[\"generation_configuration\"],\n",
    "    number_of_results=kb_config[\"number_of_results\"],\n",
    "    region_name=variables[\"regionName\"]\n",
    ")\n",
    "\n",
    "# Display the results\n",
    "display_rag_results(response)"
   ]
  },
  {
   "cell_type": "markdown",
   "id": "31c25c30-3314-4790-a9bc-dac071ebde6b",
   "metadata": {},
   "source": [
    "### Use Amazon Bedrock API feature to decompose a query.\n",
    "ReteriveAndGenerate API support built-in query decompose feature."
   ]
  },
  {
   "cell_type": "code",
   "execution_count": 7,
   "id": "33b21ca6-e1e7-4878-b9ff-0c5727f101cc",
   "metadata": {
    "scrolled": true
   },
   "outputs": [
    {
     "name": "stdout",
     "output_type": "stream",
     "text": [
      "----------------- Answer ---------------------\n",
      "Amazon's Operating Income for the fiscal year ending December 31, 2022, was $12,248 million, as reported.\n",
      "\n",
      "----------------- Citations ------------------\n",
      "{\n",
      "  \"ResponseMetadata\": {\n",
      "    \"RequestId\": \"f6ef9a3f-5f60-4846-a538-a2540cb9b432\",\n",
      "    \"HTTPStatusCode\": 200,\n",
      "    \"HTTPHeaders\": {\n",
      "      \"date\": \"Tue, 29 Apr 2025 22:26:07 GMT\",\n",
      "      \"content-type\": \"application/json\",\n",
      "      \"content-length\": \"3812\",\n",
      "      \"connection\": \"keep-alive\",\n",
      "      \"x-amzn-requestid\": \"f6ef9a3f-5f60-4846-a538-a2540cb9b432\"\n",
      "    },\n",
      "    \"RetryAttempts\": 0\n",
      "  },\n",
      "  \"citations\": [\n",
      "    {\n",
      "      \"generatedResponsePart\": {\n",
      "        \"textResponsePart\": {\n",
      "          \"span\": {\n",
      "            \"end\": 104,\n",
      "            \"start\": 0\n",
      "          },\n",
      "          \"text\": \"Amazon's Operating Income for the fiscal year ending December 31, 2022, was $12,248 million, as reported\"\n",
      "        }\n",
      "      },\n",
      "      \"retrievedReferences\": [\n",
      "        {\n",
      "          \"content\": {\n",
      "            \"text\": \"Dollar is as follows (in millions): Year Ended December 31, 2022 Year Ended December 31, 2023 \\n \\n  \\n \\n As Reported \\n \\n Exchange Rate \\n \\n Effect (1) \\n \\n At Prior Year \\n \\n Rates (2) As \\n \\n Reported \\n \\n Exchange Rate \\n \\n Effect (1) \\n \\n At Prior Year \\n \\n Rates (2) \\n \\n Net sales $ 513,983 $ 15,495 $ 529,478 $ 574,785 $ 71 $ 574,856 Operating expenses 501,735 16,356 518,091 537,933 531 538,464 Operating income 12,248 (861) 11,387 36,852 (460) 36,392 \\n \\n ___________________ (1) Represents the change in reported amounts resulting from changes in foreign exchange rates from those in effect in the comparable prior year period for \\n \\n operating results. (2) Represents the outcome that would have resulted had foreign exchange rates in the reported period been the same as those in effect in the comparable prior \\n \\n year period for operating results. \\n \\n 30Table of Contents \\n \\n Guidance \\n \\n We provided guidance on February 1, 2024, in our earnings release furnished on Form 8-K as set forth below. These forward-looking statements reflect Amazon.com\\u2019s expectations as of February 1, 2024, and are subject to substantial uncertainty.\",\n",
      "            \"type\": \"TEXT\"\n",
      "          },\n",
      "          \"location\": {\n",
      "            \"s3Location\": {\n",
      "              \"uri\": \"s3://989679345636-us-west-2-advanced-rag-workshop/data/pdf_documents/Amazon-10k-2024.pdf\"\n",
      "            },\n",
      "            \"type\": \"S3\"\n",
      "          },\n",
      "          \"metadata\": {\n",
      "            \"x-amz-bedrock-kb-source-uri\": \"s3://989679345636-us-west-2-advanced-rag-workshop/data/pdf_documents/Amazon-10k-2024.pdf\",\n",
      "            \"x-amz-bedrock-kb-document-page-number\": 30.0,\n",
      "            \"year\": 2024.0,\n",
      "            \"docType\": \"10K Report\",\n",
      "            \"x-amz-bedrock-kb-data-source-id\": \"8JWHIAELKL\",\n",
      "            \"company\": \"Amazon\",\n",
      "            \"x-amz-bedrock-kb-chunk-id\": \"1%3A0%3AxAuHg5YBDm_VVXpUlACW\",\n",
      "            \"authors\": [\n",
      "              \"Amazon\"\n",
      "            ]\n",
      "          }\n",
      "        },\n",
      "        {\n",
      "          \"content\": {\n",
      "            \"text\": \"Dollar is as follows (in millions): Year Ended December 31, 2022 Year Ended December 31, 2023 \\n \\n  \\n \\n As Reported \\n \\n Exchange Rate \\n \\n Effect (1) \\n \\n At Prior Year \\n \\n Rates (2) As \\n \\n Reported \\n \\n Exchange Rate \\n \\n Effect (1) \\n \\n At Prior Year \\n \\n Rates (2) \\n \\n Net sales $ 513,983 $ 15,495 $ 529,478 $ 574,785 $ 71 $ 574,856 Operating expenses 501,735 16,356 518,091 537,933 531 538,464 Operating income 12,248 (861) 11,387 36,852 (460) 36,392 \\n \\n ___________________ (1) Represents the change in reported amounts resulting from changes in foreign exchange rates from those in effect in the comparable prior year period for \\n \\n operating results. (2) Represents the outcome that would have resulted had foreign exchange rates in the reported period been the same as those in effect in the comparable prior \\n \\n year period for operating results. \\n \\n 30Table of Contents \\n \\n Guidance \\n \\n We provided guidance on February 1, 2024, in our earnings release furnished on Form 8-K as set forth below. These forward-looking statements reflect Amazon.com\\u2019s expectations as of February 1, 2024, and are subject to substantial uncertainty.\",\n",
      "            \"type\": \"TEXT\"\n",
      "          },\n",
      "          \"location\": {\n",
      "            \"s3Location\": {\n",
      "              \"uri\": \"s3://989679345636-us-west-2-advanced-rag-workshop/pdf_documents/Amazon-10k-2024.pdf\"\n",
      "            },\n",
      "            \"type\": \"S3\"\n",
      "          },\n",
      "          \"metadata\": {\n",
      "            \"x-amz-bedrock-kb-source-uri\": \"s3://989679345636-us-west-2-advanced-rag-workshop/pdf_documents/Amazon-10k-2024.pdf\",\n",
      "            \"x-amz-bedrock-kb-document-page-number\": 30.0,\n",
      "            \"year\": 2024.0,\n",
      "            \"docType\": \"10K Report\",\n",
      "            \"x-amz-bedrock-kb-data-source-id\": \"CAK2UZC83T\",\n",
      "            \"company\": \"Amazon\",\n",
      "            \"x-amz-bedrock-kb-chunk-id\": \"1%3A0%3AYU1Er5UBZuowdich6RXS\",\n",
      "            \"authors\": [\n",
      "              \"Amazon\"\n",
      "            ]\n",
      "          }\n",
      "        }\n",
      "      ]\n",
      "    }\n",
      "  ],\n",
      "  \"output\": {\n",
      "    \"text\": \"Amazon's Operating Income for the fiscal year ending December 31, 2022, was $12,248 million, as reported.\"\n",
      "  },\n",
      "  \"sessionId\": \"9242cf9a-c93b-4c67-9e3b-64832a4fc8f7\"\n",
      "}\n"
     ]
    }
   ],
   "source": [
    "# WITH QUERY DECOMPOSITION\n",
    "\n",
    "# Use Nova Pro model for better table interpretation\n",
    "nova_pro_model_id = f\"arn:aws:bedrock:us-west-2:{variables['accountNumber']}:inference-profile/us.amazon.nova-pro-v1:0\"\n",
    "\n",
    "# Query example (same as before)\n",
    "query = \"What was Amazon's Operating Income as reported for the fiscal year ending December 31, 2022? What is text-to-SQL? How did text-to-SQL contribute to Amazons earnings, if any?\"\n",
    "\n",
    "# Perform RAG with query decomposition\n",
    "response = retrieve_and_generate_with_decomposition(\n",
    "    query=query, \n",
    "    kb_id=kb_config[\"kb_id\"], \n",
    "    model_id=nova_pro_model_id, \n",
    "    generation_configuration=kb_config[\"generation_configuration\"],\n",
    "    number_of_results=kb_config[\"number_of_results\"],\n",
    "    region_name=variables[\"regionName\"]\n",
    ")\n",
    "\n",
    "# Display the results\n",
    "display_rag_results(response)"
   ]
  },
  {
   "cell_type": "markdown",
   "id": "f807e57b-016b-48cd-a53d-cd0314b13d82",
   "metadata": {},
   "source": [
    "## Query Decomposition with Agentic RAG using SageMaker and LangChain"
   ]
  },
  {
   "cell_type": "markdown",
   "id": "4abbf82a-c1c2-4637-941d-3909211043bb",
   "metadata": {},
   "source": [
    "#### Prerequisites"
   ]
  },
  {
   "cell_type": "code",
   "execution_count": 8,
   "id": "65baa6fd-8797-4265-879e-65b9523789a8",
   "metadata": {
    "scrolled": true
   },
   "outputs": [
    {
     "ename": "KeyError",
     "evalue": "'sagemakerLLMEndpoint'",
     "output_type": "error",
     "traceback": [
      "\u001b[0;31m---------------------------------------------------------------------------\u001b[0m",
      "\u001b[0;31mKeyError\u001b[0m                                  Traceback (most recent call last)",
      "Cell \u001b[0;32mIn[8], line 3\u001b[0m\n\u001b[1;32m      1\u001b[0m \u001b[38;5;66;03m# Set up LangChain components\u001b[39;00m\n\u001b[1;32m      2\u001b[0m llm, retriever \u001b[38;5;241m=\u001b[39m setup_langchain_components(\n\u001b[0;32m----> 3\u001b[0m     endpoint_name\u001b[38;5;241m=\u001b[39m\u001b[43mvariables\u001b[49m\u001b[43m[\u001b[49m\u001b[38;5;124;43m\"\u001b[39;49m\u001b[38;5;124;43msagemakerLLMEndpoint\u001b[39;49m\u001b[38;5;124;43m\"\u001b[39;49m\u001b[43m]\u001b[49m,\n\u001b[1;32m      4\u001b[0m     kb_id\u001b[38;5;241m=\u001b[39mvariables[\u001b[38;5;124m\"\u001b[39m\u001b[38;5;124mkbSemanticChunk\u001b[39m\u001b[38;5;124m\"\u001b[39m],\n\u001b[1;32m      5\u001b[0m     region_name\u001b[38;5;241m=\u001b[39mvariables[\u001b[38;5;124m\"\u001b[39m\u001b[38;5;124mregionName\u001b[39m\u001b[38;5;124m\"\u001b[39m],\n\u001b[1;32m      6\u001b[0m     number_of_results\u001b[38;5;241m=\u001b[39m\u001b[38;5;241m5\u001b[39m\n\u001b[1;32m      7\u001b[0m )\n",
      "\u001b[0;31mKeyError\u001b[0m: 'sagemakerLLMEndpoint'"
     ]
    }
   ],
   "source": [
    "# Set up LangChain components\n",
    "llm, retriever = setup_langchain_components(\n",
    "    endpoint_name=variables[\"sagemakerLLMEndpoint\"],\n",
    "    kb_id=variables[\"kbSemanticChunk\"],\n",
    "    region_name=variables[\"regionName\"],\n",
    "    number_of_results=5\n",
    ")"
   ]
  },
  {
   "cell_type": "markdown",
   "id": "3bca334e-6d0e-4763-8c1d-ef5e5199be6c",
   "metadata": {},
   "source": [
    "#### Test a complex query with plain Q&A chain"
   ]
  },
  {
   "cell_type": "code",
   "execution_count": 9,
   "id": "4b22e3a7-4d3a-4fb4-9350-2d66474b4736",
   "metadata": {
    "scrolled": true
   },
   "outputs": [
    {
     "ename": "NameError",
     "evalue": "name 'retriever' is not defined",
     "output_type": "error",
     "traceback": [
      "\u001b[0;31m---------------------------------------------------------------------------\u001b[0m",
      "\u001b[0;31mNameError\u001b[0m                                 Traceback (most recent call last)",
      "Cell \u001b[0;32mIn[9], line 2\u001b[0m\n\u001b[1;32m      1\u001b[0m \u001b[38;5;66;03m# Create a simple QA chain\u001b[39;00m\n\u001b[0;32m----> 2\u001b[0m qa_chain \u001b[38;5;241m=\u001b[39m create_qa_chain(\u001b[43mretriever\u001b[49m, llm)\n",
      "\u001b[0;31mNameError\u001b[0m: name 'retriever' is not defined"
     ]
    }
   ],
   "source": [
    "# Create a simple QA chain\n",
    "qa_chain = create_qa_chain(retriever, llm)"
   ]
  },
  {
   "cell_type": "code",
   "execution_count": null,
   "id": "b8be0f15-b378-482c-844c-0e5e6fdb2e46",
   "metadata": {
    "scrolled": true
   },
   "outputs": [],
   "source": [
    "# Query example\n",
    "query = \"What was the Operating Income of Amazon As Reported for the Year Ending December 31, 2022? What is text-to-SQL? How did text-to-SQL contribute to Amazons earnings, if any?\"\n",
    "\n",
    "# Invoke the QA chain\n",
    "answer = qa_chain.invoke(query)\n",
    "\n",
    "print(\"Answer:\", answer)"
   ]
  },
  {
   "cell_type": "markdown",
   "id": "8ceddc3b-4ca6-4309-ba9a-6a2e5fc4a064",
   "metadata": {},
   "source": [
    "### Query Decomposition using Agentic RAG with LangChain"
   ]
  },
  {
   "cell_type": "code",
   "execution_count": 10,
   "id": "35323e79-5336-4e1d-a5b4-fc274a977ba6",
   "metadata": {
    "scrolled": true
   },
   "outputs": [],
   "source": [
    "# Create a custom output parser\n",
    "custom_parser = create_output_parser()"
   ]
  },
  {
   "cell_type": "code",
   "execution_count": 11,
   "id": "abaf9355-e0db-4f00-b8c3-4522ba7f55d1",
   "metadata": {
    "scrolled": true
   },
   "outputs": [
    {
     "ename": "NameError",
     "evalue": "name 'retriever' is not defined",
     "output_type": "error",
     "traceback": [
      "\u001b[0;31m---------------------------------------------------------------------------\u001b[0m",
      "\u001b[0;31mNameError\u001b[0m                                 Traceback (most recent call last)",
      "Cell \u001b[0;32mIn[11], line 2\u001b[0m\n\u001b[1;32m      1\u001b[0m \u001b[38;5;66;03m# Set up agentic RAG with query decomposition\u001b[39;00m\n\u001b[0;32m----> 2\u001b[0m agent \u001b[38;5;241m=\u001b[39m setup_agentic_rag(\u001b[43mretriever\u001b[49m, llm)\n\u001b[1;32m      4\u001b[0m \u001b[38;5;66;03m# Query example\u001b[39;00m\n\u001b[1;32m      5\u001b[0m query \u001b[38;5;241m=\u001b[39m \u001b[38;5;124m\"\u001b[39m\u001b[38;5;124mWhat was Amazon\u001b[39m\u001b[38;5;124m'\u001b[39m\u001b[38;5;124ms Operating Income as reported for the fiscal year ending December 31, 2022? What is text-to-SQL? How did text-to-SQL contribute to Amazons earnings, if any?\u001b[39m\u001b[38;5;124m\"\u001b[39m\n",
      "\u001b[0;31mNameError\u001b[0m: name 'retriever' is not defined"
     ]
    }
   ],
   "source": [
    "# Set up agentic RAG with query decomposition\n",
    "agent = setup_agentic_rag(retriever, llm)\n",
    "\n",
    "# Query example\n",
    "query = \"What was Amazon's Operating Income as reported for the fiscal year ending December 31, 2022? What is text-to-SQL? How did text-to-SQL contribute to Amazons earnings, if any?\"\n",
    "\n",
    "# Run the agent\n",
    "result = agent.run(query)\n",
    "print(result)"
   ]
  },
  {
   "cell_type": "code",
   "execution_count": null,
   "id": "28e454a7-12a7-4eaf-80b1-b9dc30cb0d07",
   "metadata": {},
   "outputs": [],
   "source": []
  }
 ],
 "metadata": {
  "kernelspec": {
   "display_name": "Python 3 (ipykernel)",
   "language": "python",
   "name": "python3"
  },
  "language_info": {
   "codemirror_mode": {
    "name": "ipython",
    "version": 3
   },
   "file_extension": ".py",
   "mimetype": "text/x-python",
   "name": "python",
   "nbconvert_exporter": "python",
   "pygments_lexer": "ipython3",
   "version": "3.11.10"
  }
 },
 "nbformat": 4,
 "nbformat_minor": 5
}
