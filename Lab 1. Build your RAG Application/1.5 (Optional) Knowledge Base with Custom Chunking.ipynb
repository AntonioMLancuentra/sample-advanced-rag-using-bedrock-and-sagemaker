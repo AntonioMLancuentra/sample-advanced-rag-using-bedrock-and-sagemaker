{
 "cells": [
  {
   "cell_type": "markdown",
   "id": "bd35c145-e59c-4c6f-8ce2-3662b5d36151",
   "metadata": {},
   "source": [
    "## Create a Knowledge Base with Custom chunking strategy"
   ]
  },
  {
   "cell_type": "markdown",
   "id": "683c7ebc-5152-4564-bac5-14cb7261aa44",
   "metadata": {},
   "source": [
    "#### Custom Chunking Logic with Lambda Functions in Amazon Bedrock\n",
    "\n",
    "When creating a Knowledge Base (KB) for Amazon Bedrock, you can connect a Lambda function to specify your custom chunking logic. During the ingestion process, if a Lambda function is provided, the Knowledge Base will execute the Lambda function and store the input and output values in the specified intermediate S3 bucket.\n",
    "\n",
    "#### Use Cases for Lambda Functions in KBs\n",
    "\n",
    "- **Custom Chunking Logic:** Lambda functions can be used to implement custom logic for chunking documents during ingestion, enabling more control over how documents are divided into meaningful chunks.\n",
    "- **Chunk-level Metadata Processing:** Lambda functions can also process chunked data, for example, by adding custom metadata at the chunk level, enriching the data for more advanced retrieval or analysis.\n",
    "\n",
    "This allows for more flexibility and tailored handling of document data within the Knowledge Base, making it possible to apply unique chunking strategies and augment the data with specific metadata for improved search and retrieval.\n"
   ]
  },
  {
   "cell_type": "code",
   "execution_count": 1,
   "id": "2e0b6f2e-3e64-4bb0-8f70-d7be425a4a87",
   "metadata": {
    "scrolled": true
   },
   "outputs": [
    {
     "data": {
      "text/plain": [
       "{'accountNumber': '977018081517',\n",
       " 'regionName': 'us-west-2',\n",
       " 'collectionArn': 'arn:aws:aoss:us-west-2:977018081517:collection/x6j41w4wldt22s0mc4oa',\n",
       " 'collectionId': 'x6j41w4wldt22s0mc4oa',\n",
       " 'vectorIndexName': 'ws-index-',\n",
       " 'bedrockExecutionRoleArn': 'arn:aws:iam::977018081517:role/advanced-rag-workshop-bedrock_execution_role-us-west-2',\n",
       " 's3Bucket': '977018081517-us-west-2-advanced-rag-workshop',\n",
       " 'kbFixedChunk': 'WFJRA66ARJ',\n",
       " 'kbSemanticChunk': 'XRQUIKPQAB',\n",
       " 'kbHierarchicalChunk': 'DBCDV6VOVB'}"
      ]
     },
     "execution_count": 1,
     "metadata": {},
     "output_type": "execute_result"
    }
   ],
   "source": [
    "# Import the advanced_rag_utils module\n",
    "import advanced_rag_utils\n",
    "import json\n",
    "import importlib\n",
    "\n",
    "# Reload module\n",
    "importlib.reload(advanced_rag_utils)\n",
    "\n",
    "# Re-import all functions\n",
    "from advanced_rag_utils import *\n",
    "\n",
    "from datetime import datetime, timedelta, UTC\n",
    "\n",
    "notebook_start_time = datetime.now(UTC)\n",
    "\n",
    "# Load the variables from the JSON file\n",
    "with open(\"../variables.json\", \"r\") as f:\n",
    "    variables = json.load(f)\n",
    "\n",
    "variables"
   ]
  },
  {
   "cell_type": "code",
   "execution_count": 2,
   "id": "8e319173-e2ae-4821-8a46-ba6781a71b05",
   "metadata": {},
   "outputs": [],
   "source": [
    "kb_chunking_strategy = \"custom\" # [\"fixed\", \"hierarchical\", \"semantic\", \"custom\"]"
   ]
  },
  {
   "cell_type": "code",
   "execution_count": 3,
   "id": "5319b75a-152d-4d8c-9816-417b7f318c62",
   "metadata": {},
   "outputs": [
    {
     "name": "stdout",
     "output_type": "stream",
     "text": [
      "Loaded existing file: /home/sagemaker-user/simplified-labs/sample-advanced-rag-using-bedrock-and-sagemaker/embed_algo_costs.csv\n"
     ]
    },
    {
     "data": {
      "text/html": [
       "<div>\n",
       "<style scoped>\n",
       "    .dataframe tbody tr th:only-of-type {\n",
       "        vertical-align: middle;\n",
       "    }\n",
       "\n",
       "    .dataframe tbody tr th {\n",
       "        vertical-align: top;\n",
       "    }\n",
       "\n",
       "    .dataframe thead th {\n",
       "        text-align: right;\n",
       "    }\n",
       "</style>\n",
       "<table border=\"1\" class=\"dataframe\">\n",
       "  <thead>\n",
       "    <tr style=\"text-align: right;\">\n",
       "      <th></th>\n",
       "      <th>chunking_algo</th>\n",
       "      <th>embedding_seconds</th>\n",
       "      <th>input_tokens</th>\n",
       "      <th>invocation_count</th>\n",
       "      <th>total_token_costs</th>\n",
       "    </tr>\n",
       "  </thead>\n",
       "  <tbody>\n",
       "  </tbody>\n",
       "</table>\n",
       "</div>"
      ],
      "text/plain": [
       "Empty DataFrame\n",
       "Columns: [chunking_algo, embedding_seconds, input_tokens, invocation_count, total_token_costs]\n",
       "Index: []"
      ]
     },
     "execution_count": 3,
     "metadata": {},
     "output_type": "execute_result"
    }
   ],
   "source": [
    "df_costs = load_df_from_csv()\n",
    "df_costs"
   ]
  },
  {
   "cell_type": "markdown",
   "id": "ac9b3661-448e-4717-90cd-e7b56ddf15da",
   "metadata": {},
   "source": [
    "### 0. Create a Lambda function with custom chunking logic"
   ]
  },
  {
   "cell_type": "code",
   "execution_count": 4,
   "id": "da24d0d2-ec77-4ef5-b73f-a8877dc21d27",
   "metadata": {
    "scrolled": true
   },
   "outputs": [
    {
     "name": "stdout",
     "output_type": "stream",
     "text": [
      "Created new IAM role: advanced-rag-custom-chunk-us-west-2-role\n",
      "Creating new Lambda function: advanced-rag-custom-chunk\n",
      "Lambda function created successfully\n"
     ]
    }
   ],
   "source": [
    "# Create or update the Lambda function with custom chunking logic\n",
    "role_arn, function_arn = create_or_update_custom_chunking_lambda(\n",
    "    region_name=variables[\"regionName\"],\n",
    "    account_number=variables[\"accountNumber\"],\n",
    "    role_name=f\"advanced-rag-custom-chunk-{variables['regionName']}-role\",\n",
    "    function_name=\"advanced-rag-custom-chunk\",\n",
    "    s3_bucket=variables['s3Bucket']\n",
    ")"
   ]
  },
  {
   "cell_type": "code",
   "execution_count": 5,
   "id": "325eb5bd-f3a6-4144-835d-5b6db60fd516",
   "metadata": {
    "scrolled": true
   },
   "outputs": [
    {
     "name": "stdout",
     "output_type": "stream",
     "text": [
      "Bucket '977018081517-us-west-2-advanced-rag-workshop-custom-chunk' created.\n"
     ]
    },
    {
     "data": {
      "text/plain": [
       "'977018081517-us-west-2-advanced-rag-workshop-custom-chunk'"
      ]
     },
     "execution_count": 5,
     "metadata": {},
     "output_type": "execute_result"
    }
   ],
   "source": [
    "# Create an S3 bucket for custom chunking if it doesn't exist\n",
    "create_custom_chunk_s3_bucket(\n",
    "    s3_bucket=variables[\"s3Bucket\"],\n",
    "    region_name=variables[\"regionName\"]\n",
    ")"
   ]
  },
  {
   "cell_type": "markdown",
   "id": "e446f270-acf7-4278-a664-643169ee2646",
   "metadata": {},
   "source": [
    "### 1. Create a Knowledge Base"
   ]
  },
  {
   "cell_type": "code",
   "execution_count": 6,
   "id": "fe36ef26-2058-454e-b4ba-1804e086fcd7",
   "metadata": {
    "scrolled": true
   },
   "outputs": [
    {
     "name": "stdout",
     "output_type": "stream",
     "text": [
      "{'collectionArn': 'arn:aws:aoss:us-west-2:977018081517:collection/x6j41w4wldt22s0mc4oa', 'vectorIndexName': 'ws-index-custom', 'fieldMapping': {'vectorField': 'vector', 'textField': 'text', 'metadataField': 'text-metadata'}}\n",
      "OpenSearch Knowledge Response: {\n",
      "    \"ResponseMetadata\": {\n",
      "        \"RequestId\": \"1d6d6ef9-7f5d-4168-9bc7-987361753a54\",\n",
      "        \"HTTPStatusCode\": 200,\n",
      "        \"HTTPHeaders\": {\n",
      "            \"date\": \"Thu, 01 May 2025 16:51:14 GMT\",\n",
      "            \"content-type\": \"application/json\",\n",
      "            \"content-length\": \"958\",\n",
      "            \"connection\": \"keep-alive\",\n",
      "            \"x-amzn-requestid\": \"1d6d6ef9-7f5d-4168-9bc7-987361753a54\",\n",
      "            \"x-amz-apigw-id\": \"J5b0gEcsvHcEW_w=\",\n",
      "            \"x-amzn-trace-id\": \"Root=1-6813a682-3fb5d51535a3792178af7c14\"\n",
      "        },\n",
      "        \"RetryAttempts\": 0\n",
      "    },\n",
      "    \"knowledgeBase\": {\n",
      "        \"createdAt\": \"2025-05-01 16:51:14.437092+00:00\",\n",
      "        \"description\": \"Knowledge base using Amazon OpenSearch Service as a vector store\",\n",
      "        \"knowledgeBaseArn\": \"arn:aws:bedrock:us-west-2:977018081517:knowledge-base/SVUWGDQTQZ\",\n",
      "        \"knowledgeBaseConfiguration\": {\n",
      "            \"type\": \"VECTOR\",\n",
      "            \"vectorKnowledgeBaseConfiguration\": {\n",
      "                \"embeddingModelArn\": \"arn:aws:bedrock:us-west-2::foundation-model/amazon.titan-embed-text-v2:0\"\n",
      "            }\n",
      "        },\n",
      "        \"knowledgeBaseId\": \"SVUWGDQTQZ\",\n",
      "        \"name\": \"advanced-rag-workshop-custom-chunking\",\n",
      "        \"roleArn\": \"arn:aws:iam::977018081517:role/advanced-rag-workshop-bedrock_execution_role-us-west-2\",\n",
      "        \"status\": \"CREATING\",\n",
      "        \"storageConfiguration\": {\n",
      "            \"opensearchServerlessConfiguration\": {\n",
      "                \"collectionArn\": \"arn:aws:aoss:us-west-2:977018081517:collection/x6j41w4wldt22s0mc4oa\",\n",
      "                \"fieldMapping\": {\n",
      "                    \"metadataField\": \"text-metadata\",\n",
      "                    \"textField\": \"text\",\n",
      "                    \"vectorField\": \"vector\"\n",
      "                },\n",
      "                \"vectorIndexName\": \"ws-index-custom\"\n",
      "            },\n",
      "            \"type\": \"OPENSEARCH_SERVERLESS\"\n",
      "        },\n",
      "        \"updatedAt\": \"2025-05-01 16:51:14.437092+00:00\"\n",
      "    }\n",
      "}\n"
     ]
    }
   ],
   "source": [
    "# Create the knowledge base with custom chunking\n",
    "kb = create_kb(\n",
    "    kb_name=\"advanced-rag-workshop-custom-chunking\",\n",
    "    kb_description=\"Knowledge base using Amazon OpenSearch Service as a vector store\",\n",
    "    kb_chunking_type=\"custom\",\n",
    "    variables=variables\n",
    ")"
   ]
  },
  {
   "cell_type": "markdown",
   "id": "f684676c-0c32-47aa-9d48-d2c38b5a6206",
   "metadata": {},
   "source": [
    "### 2. Create Datasources for Knowledge Base"
   ]
  },
  {
   "cell_type": "code",
   "execution_count": 7,
   "id": "e081015d-a84e-4481-a6fd-381d86417450",
   "metadata": {
    "scrolled": true
   },
   "outputs": [
    {
     "name": "stdout",
     "output_type": "stream",
     "text": [
      "Checking for existing data sources in knowledge base SVUWGDQTQZ...\n",
      "Creating new data source 'advanced-rag-example' with custom chunking...\n",
      "Custom chunking data source created successfully with ID: SEMXXDZO8H\n"
     ]
    }
   ],
   "source": [
    "# Create the data source with custom transformation configuration\n",
    "ds_custom_chunk = create_custom_data_source_for_kb(\n",
    "    kb=kb,\n",
    "    variables=variables,\n",
    "    data_source_name=\"advanced-rag-example\",\n",
    "    function_arn=function_arn\n",
    ")"
   ]
  },
  {
   "cell_type": "markdown",
   "id": "53ee4ce6-10ee-4c4b-ae9a-8d16be4ed48b",
   "metadata": {},
   "source": [
    "### 3. Start Ingestion Job for Amazon Bedrock Knowledge base pointing to Amazon OpenSearch"
   ]
  },
  {
   "cell_type": "markdown",
   "id": "769885e3",
   "metadata": {},
   "source": [
    "> **Note**: The ingestion process will take approximately 2-3 minutes to complete. During this time, the system is processing your documents by:\n",
    "> 1. Extracting text from the source files\n",
    "> 2. Chunking the content according to the defined strategy (Fixed / Semantic / Hierachical / Custom)\n",
    "> 3. Generating embeddings for each chunk\n",
    "> 4. Storing the embeddings and associated metadata in the OpenSearch vector database\n",
    ">\n",
    "> You'll see status updates as the process progresses. Please wait for the \"Ingestion job completed successfully\" message before proceeding to the next step."
   ]
  },
  {
   "cell_type": "code",
   "execution_count": 8,
   "id": "6d003980-60ba-4b7e-94c2-1bc99c0b63ba",
   "metadata": {
    "scrolled": true
   },
   "outputs": [
    {
     "name": "stdout",
     "output_type": "stream",
     "text": [
      "Ingestion job started successfully for kb_name = advanced-rag-workshop-custom-chunking and kb_id = SVUWGDQTQZ\n",
      "\n",
      "running...\n",
      "running...\n",
      "running...\n",
      "running...\n",
      "running...\n",
      "running...\n",
      "running...\n",
      "running...\n",
      "running...\n",
      "running...\n",
      "Job completed successfully\n",
      "\n"
     ]
    }
   ],
   "source": [
    "# Create the ingestion job\n",
    "ingestion_start_time = datetime.now(UTC)\n",
    "time.sleep(5)\n",
    "\n",
    "create_ingestion_job(\n",
    "    kb=kb,\n",
    "    ds_object=ds_custom_chunk,\n",
    "    variables=variables\n",
    ")\n",
    "ingestion_end_time = datetime.now(UTC)"
   ]
  },
  {
   "cell_type": "code",
   "execution_count": 10,
   "id": "75bf04f0-5ca5-411f-97c7-f7abc6819079",
   "metadata": {},
   "outputs": [
    {
     "name": "stdout",
     "output_type": "stream",
     "text": [
      "time taken to ingest into KB = 106.82 seconds\n"
     ]
    }
   ],
   "source": [
    "time_taken = (ingestion_end_time-ingestion_start_time).total_seconds()\n",
    "print(f\"time taken to ingest into KB = {fmt_n(time_taken)} seconds\")"
   ]
  },
  {
   "cell_type": "code",
   "execution_count": 11,
   "id": "a4aa90b2-1fa3-4517-b9a6-651352800cfe",
   "metadata": {},
   "outputs": [
    {
     "ename": "ClientError",
     "evalue": "An error occurred (AccessDenied) when calling the GetMetricStatistics operation: User: arn:aws:sts::977018081517:assumed-role/rag-workshop-cfn-SageMakerExecutionRole-0DQmQ1a9XTSk/SageMaker is not authorized to perform: cloudwatch:GetMetricStatistics because no identity-based policy allows the cloudwatch:GetMetricStatistics action",
     "output_type": "error",
     "traceback": [
      "\u001b[0;31m---------------------------------------------------------------------------\u001b[0m",
      "\u001b[0;31mClientError\u001b[0m                               Traceback (most recent call last)",
      "Cell \u001b[0;32mIn[11], line 4\u001b[0m\n\u001b[1;32m      1\u001b[0m model_id \u001b[38;5;241m=\u001b[39m \u001b[38;5;124m'\u001b[39m\u001b[38;5;124marn:aws:bedrock:us-west-2::foundation-model/amazon.titan-embed-text-v2:0\u001b[39m\u001b[38;5;124m'\u001b[39m\n\u001b[1;32m      3\u001b[0m \u001b[38;5;66;03m# use the helper function to get input tokens to embedding LLM and the associated costs\u001b[39;00m\n\u001b[0;32m----> 4\u001b[0m tokens \u001b[38;5;241m=\u001b[39m \u001b[43mget_embedding_LLM_costs_for_KB\u001b[49m\u001b[43m(\u001b[49m\u001b[43mmodel_id\u001b[49m\u001b[43m,\u001b[49m\u001b[43m \u001b[49m\u001b[43mingestion_start_time\u001b[49m\u001b[43m,\u001b[49m\u001b[43m \u001b[49m\u001b[43mingestion_end_time\u001b[49m\u001b[43m)\u001b[49m\n\u001b[1;32m      6\u001b[0m \u001b[38;5;28mprint\u001b[39m(json\u001b[38;5;241m.\u001b[39mdumps(tokens, indent\u001b[38;5;241m=\u001b[39m\u001b[38;5;241m4\u001b[39m))\n",
      "File \u001b[0;32m~/simplified-labs/sample-advanced-rag-using-bedrock-and-sagemaker/Lab 1. Build your RAG Application/advanced_rag_utils.py:1346\u001b[0m, in \u001b[0;36mget_embedding_LLM_costs_for_KB\u001b[0;34m(model_id, start_time, end_time, granularity_seconds_period, assumed_GB_text)\u001b[0m\n\u001b[1;32m   1343\u001b[0m results \u001b[38;5;241m=\u001b[39m {}\n\u001b[1;32m   1345\u001b[0m \u001b[38;5;28;01mfor\u001b[39;00m metric \u001b[38;5;129;01min\u001b[39;00m metrics:\n\u001b[0;32m-> 1346\u001b[0m     response \u001b[38;5;241m=\u001b[39m \u001b[43mcloudwatch\u001b[49m\u001b[38;5;241;43m.\u001b[39;49m\u001b[43mget_metric_statistics\u001b[49m\u001b[43m(\u001b[49m\n\u001b[1;32m   1347\u001b[0m \u001b[43m        \u001b[49m\u001b[43mNamespace\u001b[49m\u001b[38;5;241;43m=\u001b[39;49m\u001b[43mnamespace\u001b[49m\u001b[43m,\u001b[49m\n\u001b[1;32m   1348\u001b[0m \u001b[43m        \u001b[49m\u001b[43mMetricName\u001b[49m\u001b[38;5;241;43m=\u001b[39;49m\u001b[43mmetric\u001b[49m\u001b[43m,\u001b[49m\n\u001b[1;32m   1349\u001b[0m \u001b[43m        \u001b[49m\u001b[43mDimensions\u001b[49m\u001b[38;5;241;43m=\u001b[39;49m\u001b[43m[\u001b[49m\n\u001b[1;32m   1350\u001b[0m \u001b[43m            \u001b[49m\u001b[43m{\u001b[49m\n\u001b[1;32m   1351\u001b[0m \u001b[43m                \u001b[49m\u001b[38;5;124;43m'\u001b[39;49m\u001b[38;5;124;43mName\u001b[39;49m\u001b[38;5;124;43m'\u001b[39;49m\u001b[43m:\u001b[49m\u001b[43m \u001b[49m\u001b[38;5;124;43m'\u001b[39;49m\u001b[38;5;124;43mModelId\u001b[39;49m\u001b[38;5;124;43m'\u001b[39;49m\u001b[43m,\u001b[49m\n\u001b[1;32m   1352\u001b[0m \u001b[43m                \u001b[49m\u001b[38;5;124;43m'\u001b[39;49m\u001b[38;5;124;43mValue\u001b[39;49m\u001b[38;5;124;43m'\u001b[39;49m\u001b[43m:\u001b[49m\u001b[43m \u001b[49m\u001b[43mmodel_id\u001b[49m\n\u001b[1;32m   1353\u001b[0m \u001b[43m            \u001b[49m\u001b[43m}\u001b[49m\n\u001b[1;32m   1354\u001b[0m \u001b[43m        \u001b[49m\u001b[43m]\u001b[49m\u001b[43m,\u001b[49m\n\u001b[1;32m   1355\u001b[0m \u001b[43m        \u001b[49m\u001b[43mStartTime\u001b[49m\u001b[38;5;241;43m=\u001b[39;49m\u001b[43mstart_time\u001b[49m\u001b[43m,\u001b[49m\n\u001b[1;32m   1356\u001b[0m \u001b[43m        \u001b[49m\u001b[43mEndTime\u001b[49m\u001b[38;5;241;43m=\u001b[39;49m\u001b[43mend_time\u001b[49m\u001b[43m,\u001b[49m\n\u001b[1;32m   1357\u001b[0m \u001b[43m        \u001b[49m\u001b[43mPeriod\u001b[49m\u001b[38;5;241;43m=\u001b[39;49m\u001b[43mgranularity_seconds_period\u001b[49m\u001b[43m,\u001b[49m\n\u001b[1;32m   1358\u001b[0m \u001b[43m        \u001b[49m\u001b[43mStatistics\u001b[49m\u001b[38;5;241;43m=\u001b[39;49m\u001b[43m[\u001b[49m\u001b[38;5;124;43m'\u001b[39;49m\u001b[38;5;124;43mSum\u001b[39;49m\u001b[38;5;124;43m'\u001b[39;49m\u001b[43m]\u001b[49m\n\u001b[1;32m   1359\u001b[0m \u001b[43m    \u001b[49m\u001b[43m)\u001b[49m\n\u001b[1;32m   1361\u001b[0m     \u001b[38;5;66;03m# Sum up all datapoints\u001b[39;00m\n\u001b[1;32m   1362\u001b[0m     total_tokens \u001b[38;5;241m=\u001b[39m \u001b[38;5;28msum\u001b[39m(dp[\u001b[38;5;124m'\u001b[39m\u001b[38;5;124mSum\u001b[39m\u001b[38;5;124m'\u001b[39m] \u001b[38;5;28;01mfor\u001b[39;00m dp \u001b[38;5;129;01min\u001b[39;00m response[\u001b[38;5;124m'\u001b[39m\u001b[38;5;124mDatapoints\u001b[39m\u001b[38;5;124m'\u001b[39m])\n",
      "File \u001b[0;32m/opt/conda/lib/python3.12/site-packages/botocore/client.py:570\u001b[0m, in \u001b[0;36mClientCreator._create_api_method.<locals>._api_call\u001b[0;34m(self, *args, **kwargs)\u001b[0m\n\u001b[1;32m    566\u001b[0m     \u001b[38;5;28;01mraise\u001b[39;00m \u001b[38;5;167;01mTypeError\u001b[39;00m(\n\u001b[1;32m    567\u001b[0m         \u001b[38;5;124mf\u001b[39m\u001b[38;5;124m\"\u001b[39m\u001b[38;5;132;01m{\u001b[39;00mpy_operation_name\u001b[38;5;132;01m}\u001b[39;00m\u001b[38;5;124m() only accepts keyword arguments.\u001b[39m\u001b[38;5;124m\"\u001b[39m\n\u001b[1;32m    568\u001b[0m     )\n\u001b[1;32m    569\u001b[0m \u001b[38;5;66;03m# The \"self\" in this scope is referring to the BaseClient.\u001b[39;00m\n\u001b[0;32m--> 570\u001b[0m \u001b[38;5;28;01mreturn\u001b[39;00m \u001b[38;5;28;43mself\u001b[39;49m\u001b[38;5;241;43m.\u001b[39;49m\u001b[43m_make_api_call\u001b[49m\u001b[43m(\u001b[49m\u001b[43moperation_name\u001b[49m\u001b[43m,\u001b[49m\u001b[43m \u001b[49m\u001b[43mkwargs\u001b[49m\u001b[43m)\u001b[49m\n",
      "File \u001b[0;32m/opt/conda/lib/python3.12/site-packages/botocore/context.py:123\u001b[0m, in \u001b[0;36mwith_current_context.<locals>.decorator.<locals>.wrapper\u001b[0;34m(*args, **kwargs)\u001b[0m\n\u001b[1;32m    121\u001b[0m \u001b[38;5;28;01mif\u001b[39;00m hook:\n\u001b[1;32m    122\u001b[0m     hook()\n\u001b[0;32m--> 123\u001b[0m \u001b[38;5;28;01mreturn\u001b[39;00m \u001b[43mfunc\u001b[49m\u001b[43m(\u001b[49m\u001b[38;5;241;43m*\u001b[39;49m\u001b[43margs\u001b[49m\u001b[43m,\u001b[49m\u001b[43m \u001b[49m\u001b[38;5;241;43m*\u001b[39;49m\u001b[38;5;241;43m*\u001b[39;49m\u001b[43mkwargs\u001b[49m\u001b[43m)\u001b[49m\n",
      "File \u001b[0;32m/opt/conda/lib/python3.12/site-packages/botocore/client.py:1031\u001b[0m, in \u001b[0;36mBaseClient._make_api_call\u001b[0;34m(self, operation_name, api_params)\u001b[0m\n\u001b[1;32m   1027\u001b[0m     error_code \u001b[38;5;241m=\u001b[39m error_info\u001b[38;5;241m.\u001b[39mget(\u001b[38;5;124m\"\u001b[39m\u001b[38;5;124mQueryErrorCode\u001b[39m\u001b[38;5;124m\"\u001b[39m) \u001b[38;5;129;01mor\u001b[39;00m error_info\u001b[38;5;241m.\u001b[39mget(\n\u001b[1;32m   1028\u001b[0m         \u001b[38;5;124m\"\u001b[39m\u001b[38;5;124mCode\u001b[39m\u001b[38;5;124m\"\u001b[39m\n\u001b[1;32m   1029\u001b[0m     )\n\u001b[1;32m   1030\u001b[0m     error_class \u001b[38;5;241m=\u001b[39m \u001b[38;5;28mself\u001b[39m\u001b[38;5;241m.\u001b[39mexceptions\u001b[38;5;241m.\u001b[39mfrom_code(error_code)\n\u001b[0;32m-> 1031\u001b[0m     \u001b[38;5;28;01mraise\u001b[39;00m error_class(parsed_response, operation_name)\n\u001b[1;32m   1032\u001b[0m \u001b[38;5;28;01melse\u001b[39;00m:\n\u001b[1;32m   1033\u001b[0m     \u001b[38;5;28;01mreturn\u001b[39;00m parsed_response\n",
      "\u001b[0;31mClientError\u001b[0m: An error occurred (AccessDenied) when calling the GetMetricStatistics operation: User: arn:aws:sts::977018081517:assumed-role/rag-workshop-cfn-SageMakerExecutionRole-0DQmQ1a9XTSk/SageMaker is not authorized to perform: cloudwatch:GetMetricStatistics because no identity-based policy allows the cloudwatch:GetMetricStatistics action"
     ]
    }
   ],
   "source": [
    "model_id = 'arn:aws:bedrock:us-west-2::foundation-model/amazon.titan-embed-text-v2:0'\n",
    "\n",
    "# use the helper function to get input tokens to embedding LLM and the associated costs\n",
    "tokens = get_embedding_LLM_costs_for_KB(model_id, ingestion_start_time, ingestion_end_time)\n",
    "\n",
    "print(json.dumps(tokens, indent=4))"
   ]
  },
  {
   "cell_type": "code",
   "execution_count": 12,
   "id": "debd6e05-f821-4d61-91ae-4c2f3a38f483",
   "metadata": {},
   "outputs": [
    {
     "ename": "NameError",
     "evalue": "name 'tokens' is not defined",
     "output_type": "error",
     "traceback": [
      "\u001b[0;31m---------------------------------------------------------------------------\u001b[0m",
      "\u001b[0;31mNameError\u001b[0m                                 Traceback (most recent call last)",
      "Cell \u001b[0;32mIn[12], line 5\u001b[0m\n\u001b[1;32m      1\u001b[0m \u001b[38;5;66;03m# Let's add or update the cost binfo to dataframe. \u001b[39;00m\n\u001b[1;32m      2\u001b[0m \u001b[38;5;66;03m# This will help us compare the costs from various chunking strategies visually.\u001b[39;00m\n\u001b[1;32m      3\u001b[0m new_row \u001b[38;5;241m=\u001b[39m {\n\u001b[1;32m      4\u001b[0m     \u001b[38;5;124m'\u001b[39m\u001b[38;5;124mchunking_algo\u001b[39m\u001b[38;5;124m'\u001b[39m: kb_chunking_strategy,\n\u001b[0;32m----> 5\u001b[0m     \u001b[38;5;124m'\u001b[39m\u001b[38;5;124membedding_seconds\u001b[39m\u001b[38;5;124m'\u001b[39m: \u001b[43mtokens\u001b[49m[\u001b[38;5;124m'\u001b[39m\u001b[38;5;124mduration in minutes\u001b[39m\u001b[38;5;124m'\u001b[39m]\u001b[38;5;241m*\u001b[39m\u001b[38;5;241m60\u001b[39m,\n\u001b[1;32m      6\u001b[0m     \u001b[38;5;124m'\u001b[39m\u001b[38;5;124minput_tokens\u001b[39m\u001b[38;5;124m'\u001b[39m: tokens[\u001b[38;5;124m'\u001b[39m\u001b[38;5;124minput_tokens\u001b[39m\u001b[38;5;124m'\u001b[39m],\n\u001b[1;32m      7\u001b[0m     \u001b[38;5;124m'\u001b[39m\u001b[38;5;124minvocation_count\u001b[39m\u001b[38;5;124m'\u001b[39m: tokens[\u001b[38;5;124m'\u001b[39m\u001b[38;5;124minvocation_count\u001b[39m\u001b[38;5;124m'\u001b[39m],\n\u001b[1;32m      8\u001b[0m     \u001b[38;5;124m'\u001b[39m\u001b[38;5;124mtotal_token_costs\u001b[39m\u001b[38;5;124m'\u001b[39m: tokens[\u001b[38;5;124m'\u001b[39m\u001b[38;5;124mtotal token costs\u001b[39m\u001b[38;5;124m'\u001b[39m]\n\u001b[1;32m      9\u001b[0m }\n\u001b[1;32m     10\u001b[0m df_costs \u001b[38;5;241m=\u001b[39m update_or_add_row(df_costs, new_row)\n\u001b[1;32m     11\u001b[0m df_costs\n",
      "\u001b[0;31mNameError\u001b[0m: name 'tokens' is not defined"
     ]
    }
   ],
   "source": [
    "# Let's add or update the cost binfo to dataframe. \n",
    "# This will help us compare the costs from various chunking strategies visually.\n",
    "new_row = {\n",
    "    'chunking_algo': kb_chunking_strategy,\n",
    "    'embedding_seconds': tokens['duration in minutes']*60,\n",
    "    'input_tokens': tokens['input_tokens'],\n",
    "    'invocation_count': tokens['invocation_count'],\n",
    "    'total_token_costs': tokens['total token costs']\n",
    "}\n",
    "df_costs = update_or_add_row(df_costs, new_row)\n",
    "df_costs"
   ]
  },
  {
   "cell_type": "markdown",
   "id": "4b1edb27-a7f5-4ab4-8770-2de83134b430",
   "metadata": {},
   "source": [
    "### 4. Retrieve"
   ]
  },
  {
   "cell_type": "code",
   "execution_count": 13,
   "id": "e8f7fad3-3114-4010-9870-5f52e5fb5e24",
   "metadata": {
    "scrolled": true
   },
   "outputs": [
    {
     "name": "stdout",
     "output_type": "stream",
     "text": [
      "[\n",
      "  {\n",
      "    \"content\": \"and may inevitably cause the emission of more CO2. References Adithya Bhaskar, Tushar Tomar, Ashutosh Sathe, and Sunita Sarawagi. 2023. Benchmarking and improv- ing text-to-SQL generation under ambiguity. In Pro- ceedings of the 2023 Conference on Empirical Meth- ods in Natural Language Processing, pages 7053\\u2013 7074, Singapore. Association for Computational Lin- guistics. S\\u00e9bastien Bubeck, Varun Chandrasekaran, Ronen El- dan, Johannes Gehrke, Eric Horvitz, Ece Kamar, Peter Lee, Yin Tat Lee, Yuanzhi Li, Scott Lund- berg, et al. 2023. Sparks of artificial general intelli- gence: Early experiments with gpt-4. arXiv preprint arXiv:2303.12712. Yang Deng, Lizi Liao, Liang Chen, Hongru Wang, Wenqiang\",\n",
      "    \"metadata\": {\n",
      "      \"x-amz-bedrock-kb-source-uri\": \"s3://977018081517-us-west-2-advanced-rag-workshop/data/pdf_documents/practiq-a-practical-conversational-text-to-sql-dataset-with-ambiguous-and-unanswerable-queries.pdf\",\n",
      "      \"x-amz-bedrock-kb-document-page-number\": 1.0,\n",
      "      \"year\": 2025.0,\n",
      "      \"docType\": \"science\",\n",
      "      \"x-amz-bedrock-kb-data-source-id\": \"SEMXXDZO8H\",\n",
      "      \"company\": \"Amazon\",\n",
      "      \"x-amz-bedrock-kb-chunk-id\": \"1%3A0%3AabrDjJYBuKy61F-cOnk2\",\n",
      "      \"authors\": [\n",
      "        \"Marvin Dong\",\n",
      "        \"Nischal Ashok Kumar\",\n",
      "        \"Yiqun Hu\",\n",
      "        \"Anuj Chauhan\",\n",
      "        \"Chung-Wei Hang\",\n",
      "        \"Shuaichen Chang\",\n",
      "        \"Lin Pan\",\n",
      "        \"Wuwei Lan\",\n",
      "        \"Henry Zhu\",\n",
      "        \"Jiarong Jiang\",\n",
      "        \"Patrick Ng\",\n",
      "        \"Zhiguo Wang\"\n",
      "      ]\n",
      "    },\n",
      "    \"score\": 0.35834876\n",
      "  },\n",
      "  {\n",
      "    \"content\": \"region? A: SELECT sum(SurfaceArea) FROM country WHERE Region = \\\"Caribbean\\\" Table 8: Category-wise human annotation results for factuality, helpfulness, and naturalness. For every category, 1 denotes the best quality and 5 the worst. Category Naturalness Factuality Helpfulness Mean Std Mean Std Mean Std Ambiguous SELECT Column 1.9 0.876 1.0 0.000 1.5 0.527 Ambiguous WHERE Column 1.9 0.994 1.1 0.316 1.6 1.075 Ambiguous Values Within Column 2.0 1.414 1.4 1.265 1.6 1.075 Ambiguous Filter Criteria 1.3 0.483 1.0 0.000 1.4 0.699 Nonexistent Filter Value 1.1 0.316 1.2 0.632 1.1 0.316 Nonexistent WHERE Column 1.35 0.412 1.2 0.483 1.35 0.474 Unsupported Join\",\n",
      "    \"metadata\": {\n",
      "      \"x-amz-bedrock-kb-source-uri\": \"s3://977018081517-us-west-2-advanced-rag-workshop/data/pdf_documents/practiq-a-practical-conversational-text-to-sql-dataset-with-ambiguous-and-unanswerable-queries.pdf\",\n",
      "      \"x-amz-bedrock-kb-document-page-number\": 1.0,\n",
      "      \"year\": 2025.0,\n",
      "      \"docType\": \"science\",\n",
      "      \"x-amz-bedrock-kb-data-source-id\": \"SEMXXDZO8H\",\n",
      "      \"company\": \"Amazon\",\n",
      "      \"x-amz-bedrock-kb-chunk-id\": \"1%3A0%3AhrrDjJYBuKy61F-cOnk3\",\n",
      "      \"authors\": [\n",
      "        \"Marvin Dong\",\n",
      "        \"Nischal Ashok Kumar\",\n",
      "        \"Yiqun Hu\",\n",
      "        \"Anuj Chauhan\",\n",
      "        \"Chung-Wei Hang\",\n",
      "        \"Shuaichen Chang\",\n",
      "        \"Lin Pan\",\n",
      "        \"Wuwei Lan\",\n",
      "        \"Henry Zhu\",\n",
      "        \"Jiarong Jiang\",\n",
      "        \"Patrick Ng\",\n",
      "        \"Zhiguo Wang\"\n",
      "      ]\n",
      "    },\n",
      "    \"score\": 0.35281587\n",
      "  },\n",
      "  {\n",
      "    \"content\": \"show that although some SoTA LLMs are approaching human-level accuracy, they are far from being perfect. For open-source models, the gap from human performance is much larger, indicating areas for further improvement. Our pro- posed framework provides a technique for gener- ating additional practical text-to-SQL data on ex- isting text-to-SQL datasets like WikiSQL, Spider Train, BIRD, or any other general synthetic single- turn answerable text-to-SQL data. This practical enhancement of the datasets can be used to further train open-source models to enhance their capabil- ities in handling practical text-to-SQL tasks (Liu et al., 2024). In a broader sense, our work\",\n",
      "    \"metadata\": {\n",
      "      \"x-amz-bedrock-kb-source-uri\": \"s3://977018081517-us-west-2-advanced-rag-workshop/data/pdf_documents/practiq-a-practical-conversational-text-to-sql-dataset-with-ambiguous-and-unanswerable-queries.pdf\",\n",
      "      \"x-amz-bedrock-kb-document-page-number\": 1.0,\n",
      "      \"year\": 2025.0,\n",
      "      \"docType\": \"science\",\n",
      "      \"x-amz-bedrock-kb-data-source-id\": \"SEMXXDZO8H\",\n",
      "      \"company\": \"Amazon\",\n",
      "      \"x-amz-bedrock-kb-chunk-id\": \"1%3A0%3AZrrDjJYBuKy61F-cOnk2\",\n",
      "      \"authors\": [\n",
      "        \"Marvin Dong\",\n",
      "        \"Nischal Ashok Kumar\",\n",
      "        \"Yiqun Hu\",\n",
      "        \"Anuj Chauhan\",\n",
      "        \"Chung-Wei Hang\",\n",
      "        \"Shuaichen Chang\",\n",
      "        \"Lin Pan\",\n",
      "        \"Wuwei Lan\",\n",
      "        \"Henry Zhu\",\n",
      "        \"Jiarong Jiang\",\n",
      "        \"Patrick Ng\",\n",
      "        \"Zhiguo Wang\"\n",
      "      ]\n",
      "    },\n",
      "    \"score\": 0.35199982\n",
      "  }\n",
      "]\n"
     ]
    }
   ],
   "source": [
    "# Define the query for retrieving relevant documents\n",
    "query = \"What were net incomes of Amazon in 2022, 2023 and 2024?\"\n",
    "\n",
    "# Get the knowledge base ID from the variables\n",
    "kb_id = variables.get(\"kbCustomChunk\")\n",
    "\n",
    "# Retrieve results from the knowledge base\n",
    "chunks_from_kb = retrieve_from_kb(\n",
    "    query=query,\n",
    "    kb={\"knowledgeBaseId\": kb_id},\n",
    "    n_chunks=3,\n",
    "    variables=variables\n",
    ")\n",
    "\n",
    "\n",
    "#Let's specify a minimum similarity score. We should see less chunks retrieved as compared to the previous invocation.\n",
    "min_score = 0.50\n",
    "\n",
    "# # get chunks from KB\n",
    "# chunks_from_kb = retrieve_from_kb(query, kb, n_chunks, variables, min_score)\n",
    "\n",
    "print(json.dumps(chunks_from_kb, indent=2))\n"
   ]
  },
  {
   "cell_type": "markdown",
   "id": "da6e804b",
   "metadata": {},
   "source": [
    "> **Note**: After creating the knowledge base, you can explore its details and settings in the Amazon Bedrock console. This gives you a more visual interface to understand how the knowledge base is structured.\n",
    "> \n",
    "> **[➡️ View your Knowledge Bases in the AWS Console](https://us-west-2.console.aws.amazon.com/bedrock/home?region=us-west-2#/knowledge-bases)**\n",
    ">\n",
    "> In the console, you can:\n",
    "> - See all your knowledge bases in one place\n",
    "> - View ingestion status and statistics\n",
    "> - Test queries through the built-in chat interface\n",
    "> - Modify settings and configurations"
   ]
  },
  {
   "cell_type": "code",
   "execution_count": 14,
   "id": "186f619b-d141-40bd-8670-68103006a22e",
   "metadata": {},
   "outputs": [
    {
     "name": "stdout",
     "output_type": "stream",
     "text": [
      "{\n",
      "    \"total_chunks\": 3,\n",
      "    \"min_score\": 0.35199982,\n",
      "    \"max_score\": 0.35834876,\n",
      "    \"avg_score\": 0.35438814999999996,\n",
      "    \"count_above_threshold\": 0\n",
      "}\n"
     ]
    }
   ],
   "source": [
    "# Let's summarize with total chunks, minimum score, maximum score, average score, \n",
    "# and lastly the number of chunks with a score more than a specified threshold.\n",
    "score_threshold = 0.40\n",
    "score_structure = analyze_chunk_scores_above_threshold(chunks_from_kb, score_threshold)\n",
    "print(json.dumps(score_structure, indent=4))"
   ]
  },
  {
   "cell_type": "code",
   "execution_count": 15,
   "id": "52490791-74e7-4293-9d29-05166265517a",
   "metadata": {},
   "outputs": [
    {
     "ename": "ClientError",
     "evalue": "An error occurred (AccessDenied) when calling the GetMetricStatistics operation: User: arn:aws:sts::977018081517:assumed-role/rag-workshop-cfn-SageMakerExecutionRole-0DQmQ1a9XTSk/SageMaker is not authorized to perform: cloudwatch:GetMetricStatistics because no identity-based policy allows the cloudwatch:GetMetricStatistics action",
     "output_type": "error",
     "traceback": [
      "\u001b[0;31m---------------------------------------------------------------------------\u001b[0m",
      "\u001b[0;31mClientError\u001b[0m                               Traceback (most recent call last)",
      "Cell \u001b[0;32mIn[15], line 6\u001b[0m\n\u001b[1;32m      3\u001b[0m model_id \u001b[38;5;241m=\u001b[39m \u001b[38;5;124m'\u001b[39m\u001b[38;5;124marn:aws:bedrock:us-west-2::foundation-model/amazon.titan-embed-text-v2:0\u001b[39m\u001b[38;5;124m'\u001b[39m\n\u001b[1;32m      5\u001b[0m notebook_end_time \u001b[38;5;241m=\u001b[39m datetime\u001b[38;5;241m.\u001b[39mnow(UTC)\n\u001b[0;32m----> 6\u001b[0m tokens \u001b[38;5;241m=\u001b[39m \u001b[43mget_bedrock_tokens\u001b[49m\u001b[43m(\u001b[49m\u001b[43mmodel_id\u001b[49m\u001b[43m,\u001b[49m\u001b[43m \u001b[49m\u001b[43mnotebook_start_time\u001b[49m\u001b[43m,\u001b[49m\u001b[43m \u001b[49m\u001b[43mnotebook_end_time\u001b[49m\u001b[43m,\u001b[49m\u001b[43m \u001b[49m\u001b[38;5;241;43m5\u001b[39;49m\u001b[43m)\u001b[49m\n\u001b[1;32m      7\u001b[0m \u001b[38;5;28mprint\u001b[39m(json\u001b[38;5;241m.\u001b[39mdumps(tokens, indent\u001b[38;5;241m=\u001b[39m\u001b[38;5;241m4\u001b[39m))\n\u001b[1;32m      8\u001b[0m \u001b[38;5;28mprint\u001b[39m(\u001b[38;5;124mf\u001b[39m\u001b[38;5;124m\"\u001b[39m\u001b[38;5;124mCost of running this notebook is approximately $\u001b[39m\u001b[38;5;132;01m{\u001b[39;00mtokens[\u001b[38;5;124m'\u001b[39m\u001b[38;5;124mtotal token costs\u001b[39m\u001b[38;5;124m'\u001b[39m]\u001b[38;5;132;01m}\u001b[39;00m\u001b[38;5;124m\"\u001b[39m)\n",
      "File \u001b[0;32m~/simplified-labs/sample-advanced-rag-using-bedrock-and-sagemaker/Lab 1. Build your RAG Application/advanced_rag_utils.py:1433\u001b[0m, in \u001b[0;36mget_bedrock_tokens\u001b[0;34m(model_id, start_time, end_time, granularity_seconds_period)\u001b[0m\n\u001b[1;32m   1430\u001b[0m results \u001b[38;5;241m=\u001b[39m {}\n\u001b[1;32m   1432\u001b[0m \u001b[38;5;28;01mfor\u001b[39;00m metric \u001b[38;5;129;01min\u001b[39;00m metrics:\n\u001b[0;32m-> 1433\u001b[0m     response \u001b[38;5;241m=\u001b[39m \u001b[43mcloudwatch\u001b[49m\u001b[38;5;241;43m.\u001b[39;49m\u001b[43mget_metric_statistics\u001b[49m\u001b[43m(\u001b[49m\n\u001b[1;32m   1434\u001b[0m \u001b[43m        \u001b[49m\u001b[43mNamespace\u001b[49m\u001b[38;5;241;43m=\u001b[39;49m\u001b[43mnamespace\u001b[49m\u001b[43m,\u001b[49m\n\u001b[1;32m   1435\u001b[0m \u001b[43m        \u001b[49m\u001b[43mMetricName\u001b[49m\u001b[38;5;241;43m=\u001b[39;49m\u001b[43mmetric\u001b[49m\u001b[43m,\u001b[49m\n\u001b[1;32m   1436\u001b[0m \u001b[43m        \u001b[49m\u001b[43mDimensions\u001b[49m\u001b[38;5;241;43m=\u001b[39;49m\u001b[43m[\u001b[49m\n\u001b[1;32m   1437\u001b[0m \u001b[43m            \u001b[49m\u001b[43m{\u001b[49m\n\u001b[1;32m   1438\u001b[0m \u001b[43m                \u001b[49m\u001b[38;5;124;43m'\u001b[39;49m\u001b[38;5;124;43mName\u001b[39;49m\u001b[38;5;124;43m'\u001b[39;49m\u001b[43m:\u001b[49m\u001b[43m \u001b[49m\u001b[38;5;124;43m'\u001b[39;49m\u001b[38;5;124;43mModelId\u001b[39;49m\u001b[38;5;124;43m'\u001b[39;49m\u001b[43m,\u001b[49m\n\u001b[1;32m   1439\u001b[0m \u001b[43m                \u001b[49m\u001b[38;5;124;43m'\u001b[39;49m\u001b[38;5;124;43mValue\u001b[39;49m\u001b[38;5;124;43m'\u001b[39;49m\u001b[43m:\u001b[49m\u001b[43m \u001b[49m\u001b[43mmodel_id\u001b[49m\n\u001b[1;32m   1440\u001b[0m \u001b[43m            \u001b[49m\u001b[43m}\u001b[49m\n\u001b[1;32m   1441\u001b[0m \u001b[43m        \u001b[49m\u001b[43m]\u001b[49m\u001b[43m,\u001b[49m\n\u001b[1;32m   1442\u001b[0m \u001b[43m        \u001b[49m\u001b[43mStartTime\u001b[49m\u001b[38;5;241;43m=\u001b[39;49m\u001b[43mstart_time\u001b[49m\u001b[43m,\u001b[49m\n\u001b[1;32m   1443\u001b[0m \u001b[43m        \u001b[49m\u001b[43mEndTime\u001b[49m\u001b[38;5;241;43m=\u001b[39;49m\u001b[43mend_time\u001b[49m\u001b[43m,\u001b[49m\n\u001b[1;32m   1444\u001b[0m \u001b[43m        \u001b[49m\u001b[43mPeriod\u001b[49m\u001b[38;5;241;43m=\u001b[39;49m\u001b[43mgranularity_seconds_period\u001b[49m\u001b[43m,\u001b[49m\n\u001b[1;32m   1445\u001b[0m \u001b[43m        \u001b[49m\u001b[43mStatistics\u001b[49m\u001b[38;5;241;43m=\u001b[39;49m\u001b[43m[\u001b[49m\u001b[38;5;124;43m'\u001b[39;49m\u001b[38;5;124;43mSum\u001b[39;49m\u001b[38;5;124;43m'\u001b[39;49m\u001b[43m]\u001b[49m\n\u001b[1;32m   1446\u001b[0m \u001b[43m    \u001b[49m\u001b[43m)\u001b[49m\n\u001b[1;32m   1448\u001b[0m     \u001b[38;5;66;03m# Sum up all datapoints\u001b[39;00m\n\u001b[1;32m   1449\u001b[0m     total_tokens \u001b[38;5;241m=\u001b[39m \u001b[38;5;28msum\u001b[39m(dp[\u001b[38;5;124m'\u001b[39m\u001b[38;5;124mSum\u001b[39m\u001b[38;5;124m'\u001b[39m] \u001b[38;5;28;01mfor\u001b[39;00m dp \u001b[38;5;129;01min\u001b[39;00m response[\u001b[38;5;124m'\u001b[39m\u001b[38;5;124mDatapoints\u001b[39m\u001b[38;5;124m'\u001b[39m])\n",
      "File \u001b[0;32m/opt/conda/lib/python3.12/site-packages/botocore/client.py:570\u001b[0m, in \u001b[0;36mClientCreator._create_api_method.<locals>._api_call\u001b[0;34m(self, *args, **kwargs)\u001b[0m\n\u001b[1;32m    566\u001b[0m     \u001b[38;5;28;01mraise\u001b[39;00m \u001b[38;5;167;01mTypeError\u001b[39;00m(\n\u001b[1;32m    567\u001b[0m         \u001b[38;5;124mf\u001b[39m\u001b[38;5;124m\"\u001b[39m\u001b[38;5;132;01m{\u001b[39;00mpy_operation_name\u001b[38;5;132;01m}\u001b[39;00m\u001b[38;5;124m() only accepts keyword arguments.\u001b[39m\u001b[38;5;124m\"\u001b[39m\n\u001b[1;32m    568\u001b[0m     )\n\u001b[1;32m    569\u001b[0m \u001b[38;5;66;03m# The \"self\" in this scope is referring to the BaseClient.\u001b[39;00m\n\u001b[0;32m--> 570\u001b[0m \u001b[38;5;28;01mreturn\u001b[39;00m \u001b[38;5;28;43mself\u001b[39;49m\u001b[38;5;241;43m.\u001b[39;49m\u001b[43m_make_api_call\u001b[49m\u001b[43m(\u001b[49m\u001b[43moperation_name\u001b[49m\u001b[43m,\u001b[49m\u001b[43m \u001b[49m\u001b[43mkwargs\u001b[49m\u001b[43m)\u001b[49m\n",
      "File \u001b[0;32m/opt/conda/lib/python3.12/site-packages/botocore/context.py:123\u001b[0m, in \u001b[0;36mwith_current_context.<locals>.decorator.<locals>.wrapper\u001b[0;34m(*args, **kwargs)\u001b[0m\n\u001b[1;32m    121\u001b[0m \u001b[38;5;28;01mif\u001b[39;00m hook:\n\u001b[1;32m    122\u001b[0m     hook()\n\u001b[0;32m--> 123\u001b[0m \u001b[38;5;28;01mreturn\u001b[39;00m \u001b[43mfunc\u001b[49m\u001b[43m(\u001b[49m\u001b[38;5;241;43m*\u001b[39;49m\u001b[43margs\u001b[49m\u001b[43m,\u001b[49m\u001b[43m \u001b[49m\u001b[38;5;241;43m*\u001b[39;49m\u001b[38;5;241;43m*\u001b[39;49m\u001b[43mkwargs\u001b[49m\u001b[43m)\u001b[49m\n",
      "File \u001b[0;32m/opt/conda/lib/python3.12/site-packages/botocore/client.py:1031\u001b[0m, in \u001b[0;36mBaseClient._make_api_call\u001b[0;34m(self, operation_name, api_params)\u001b[0m\n\u001b[1;32m   1027\u001b[0m     error_code \u001b[38;5;241m=\u001b[39m error_info\u001b[38;5;241m.\u001b[39mget(\u001b[38;5;124m\"\u001b[39m\u001b[38;5;124mQueryErrorCode\u001b[39m\u001b[38;5;124m\"\u001b[39m) \u001b[38;5;129;01mor\u001b[39;00m error_info\u001b[38;5;241m.\u001b[39mget(\n\u001b[1;32m   1028\u001b[0m         \u001b[38;5;124m\"\u001b[39m\u001b[38;5;124mCode\u001b[39m\u001b[38;5;124m\"\u001b[39m\n\u001b[1;32m   1029\u001b[0m     )\n\u001b[1;32m   1030\u001b[0m     error_class \u001b[38;5;241m=\u001b[39m \u001b[38;5;28mself\u001b[39m\u001b[38;5;241m.\u001b[39mexceptions\u001b[38;5;241m.\u001b[39mfrom_code(error_code)\n\u001b[0;32m-> 1031\u001b[0m     \u001b[38;5;28;01mraise\u001b[39;00m error_class(parsed_response, operation_name)\n\u001b[1;32m   1032\u001b[0m \u001b[38;5;28;01melse\u001b[39;00m:\n\u001b[1;32m   1033\u001b[0m     \u001b[38;5;28;01mreturn\u001b[39;00m parsed_response\n",
      "\u001b[0;31mClientError\u001b[0m: An error occurred (AccessDenied) when calling the GetMetricStatistics operation: User: arn:aws:sts::977018081517:assumed-role/rag-workshop-cfn-SageMakerExecutionRole-0DQmQ1a9XTSk/SageMaker is not authorized to perform: cloudwatch:GetMetricStatistics because no identity-based policy allows the cloudwatch:GetMetricStatistics action"
     ]
    }
   ],
   "source": [
    "#Let's print the costs of running this notebook.\n",
    "\n",
    "model_id = 'arn:aws:bedrock:us-west-2::foundation-model/amazon.titan-embed-text-v2:0'\n",
    "\n",
    "notebook_end_time = datetime.now(UTC)\n",
    "tokens = get_bedrock_tokens(model_id, notebook_start_time, notebook_end_time, 5)\n",
    "print(json.dumps(tokens, indent=4))\n",
    "print(f\"Cost of running this notebook is approximately ${tokens['total token costs']}\")"
   ]
  }
 ],
 "metadata": {
  "kernelspec": {
   "display_name": "Python 3 (ipykernel)",
   "language": "python",
   "name": "python3"
  },
  "language_info": {
   "codemirror_mode": {
    "name": "ipython",
    "version": 3
   },
   "file_extension": ".py",
   "mimetype": "text/x-python",
   "name": "python",
   "nbconvert_exporter": "python",
   "pygments_lexer": "ipython3",
   "version": "3.12.9"
  }
 },
 "nbformat": 4,
 "nbformat_minor": 5
}
