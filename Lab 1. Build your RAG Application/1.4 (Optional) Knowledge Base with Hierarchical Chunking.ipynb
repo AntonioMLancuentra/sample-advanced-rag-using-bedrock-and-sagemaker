{
 "cells": [
  {
   "cell_type": "markdown",
   "id": "8c01279f-f6b3-46a2-9c76-ecf34f9dc275",
   "metadata": {},
   "source": [
    "## Create a Knowledge Base with Hierarchical Chunking Strategy\n",
    "#### What will we do in this workshop?\n",
    "1. Create a Knowledgebase (KB) in the vector database.\n",
    "2. We will create a data source for the KB. The data source will be the Amazon Science and 10K documents stored in S3.\n",
    "3. We will ingest the data from S3, use Hierarchical Chunking to chunk the data, generate vector embeddings, and store the chunks and their corresponding vector embeddings in the KB.\n",
    "4. We will then ask some questions and query the KB to return some chunks and inspect relevancy score.\n",
    "<br>Note: We are not sending the query and its chunks to a LLM in this notebook. We will do that in other notebooks."
   ]
  },
  {
   "cell_type": "markdown",
   "id": "c1e0a202-87f1-4a0f-9d2f-e697e6b98bee",
   "metadata": {},
   "source": [
    "#### Concept\n",
    "\n",
    "**Hierarchical Chunking**: Organizes your data into a hierarchical structure, allowing for more granular and efficient retrieval based on the inherent relationships within your data. \n",
    "\n",
    "Organizing your data into a hierarchical structure enables your **RAG (Retrieval-Augmented Generation)** workflow to efficiently navigate and retrieve information from complex, nested datasets. After documents are parsed, the first step is to **chunk** them based on the **parent** and **child chunking size**. \n",
    "\n",
    "- **Parent chunks (higher level)** represent larger segments, such as entire documents or sections.\n",
    "- **Child chunks (lower level)** represent smaller segments, such as paragraphs or sentences.\n",
    "\n",
    "The relationship between parent and child chunks is maintained, allowing for **efficient retrieval and navigation** of the corpus.\n",
    "\n",
    "#### Benefits\n",
    "\n",
    "- **Efficient Retrieval**: The hierarchical structure enables faster and more targeted retrieval of relevant information by first performing a **semantic search** on child chunks and then returning the parent chunk. By replacing child chunks with parent chunks, we provide **larger and more comprehensive context** to the foundation model (FM).\n",
    "- **Context Preservation**: Organizing the corpus hierarchically helps maintain contextual relationships between chunks, ensuring more **coherent and contextually relevant** text generation.\n",
    "\n",
    "> **Note:** In hierarchical chunking, **parent chunks** are returned while **search is performed on child chunks**. As a result, you may see **fewer search results**, since one parent can have multiple child chunks.\n",
    "\n",
    "### **Best Use Cases**\n",
    "Hierarchical chunking is best suited for **complex documents** with a nested or hierarchical structure, such as:\n",
    "- **Technical manuals**\n",
    "- **Legal documents**\n",
    "- **Academic papers** with complex formatting and nested tables.\n"
   ]
  },
  {
   "cell_type": "code",
   "execution_count": 79,
   "id": "8c67e01c-6f6a-4b11-bb8f-256fb15ef2f4",
   "metadata": {},
   "outputs": [],
   "source": [
    "# Import a module with few helper functions. \n",
    "# These functions will help us create knowledge base (KB), create data source for KB, and ingest data using semantic chunking to KB.\n",
    "\n",
    "import importlib\n",
    "import advanced_rag_utils\n",
    "\n",
    "# Reload module\n",
    "importlib.reload(advanced_rag_utils)\n",
    "\n",
    "# Re-import all functions\n",
    "from advanced_rag_utils import *\n",
    "\n",
    "from datetime import datetime, timedelta, UTC\n",
    "\n",
    "notebook_start_time = datetime.now(UTC)"
   ]
  },
  {
   "cell_type": "code",
   "execution_count": 80,
   "id": "9b874664-bd21-4929-8fe0-165da697e11f",
   "metadata": {
    "scrolled": true
   },
   "outputs": [
    {
     "data": {
      "text/plain": [
       "{'accountNumber': '270597685972',\n",
       " 'regionName': 'us-west-2',\n",
       " 'collectionArn': 'arn:aws:aoss:us-west-2:270597685972:collection/3ethft3xms9as2092ulg',\n",
       " 'collectionId': '3ethft3xms9as2092ulg',\n",
       " 'vectorIndexName': 'ws-index-',\n",
       " 'bedrockExecutionRoleArn': 'arn:aws:iam::270597685972:role/advanced-rag-workshop-bedrock_execution_role-us-west-2',\n",
       " 's3Bucket': '270597685972-us-west-2-advanced-rag-workshop',\n",
       " 'kbFixedChunk': 'SN9KSOQPOV',\n",
       " 'kbSemanticChunk': 'KMZYCTNSWW',\n",
       " 'kbHierarchicalChunk': 'V8EJKFPYTK',\n",
       " 'kbCustomChunk': 'G8P2D7M28S',\n",
       " 'sagemakerLLMEndpoint': 'endpoint-llama-3-2-3b-instruct-2025-05-02-18-22-06'}"
      ]
     },
     "execution_count": 80,
     "metadata": {},
     "output_type": "execute_result"
    }
   ],
   "source": [
    "# Let's load the variables we saved in the first notebook. We will use these variables\n",
    "import json\n",
    "with open(\"../variables.json\", \"r\") as f:\n",
    "    variables = json.load(f)\n",
    "\n",
    "variables"
   ]
  },
  {
   "cell_type": "code",
   "execution_count": 81,
   "id": "fe3b88f7-04cb-4a2f-80c0-5957e723c287",
   "metadata": {},
   "outputs": [
    {
     "name": "stdout",
     "output_type": "stream",
     "text": [
      "Loaded existing file: /home/sagemaker-user/sample-advanced-rag-using-bedrock-and-sagemaker/embed_algo_costs.csv\n"
     ]
    },
    {
     "data": {
      "text/html": [
       "<div>\n",
       "<style scoped>\n",
       "    .dataframe tbody tr th:only-of-type {\n",
       "        vertical-align: middle;\n",
       "    }\n",
       "\n",
       "    .dataframe tbody tr th {\n",
       "        vertical-align: top;\n",
       "    }\n",
       "\n",
       "    .dataframe thead th {\n",
       "        text-align: right;\n",
       "    }\n",
       "</style>\n",
       "<table border=\"1\" class=\"dataframe\">\n",
       "  <thead>\n",
       "    <tr style=\"text-align: right;\">\n",
       "      <th></th>\n",
       "      <th>chunking_algo</th>\n",
       "      <th>embedding_seconds</th>\n",
       "      <th>input_tokens</th>\n",
       "      <th>invocation_count</th>\n",
       "      <th>total_token_costs</th>\n",
       "    </tr>\n",
       "  </thead>\n",
       "  <tbody>\n",
       "    <tr>\n",
       "      <th>0</th>\n",
       "      <td>fixed</td>\n",
       "      <td>41.132119</td>\n",
       "      <td>243046</td>\n",
       "      <td>906</td>\n",
       "      <td>0.004861</td>\n",
       "    </tr>\n",
       "    <tr>\n",
       "      <th>1</th>\n",
       "      <td>hierarchical</td>\n",
       "      <td>56.310922</td>\n",
       "      <td>0</td>\n",
       "      <td>0</td>\n",
       "      <td>0.000000</td>\n",
       "    </tr>\n",
       "    <tr>\n",
       "      <th>2</th>\n",
       "      <td>semantic</td>\n",
       "      <td>131.723036</td>\n",
       "      <td>633504</td>\n",
       "      <td>3958</td>\n",
       "      <td>0.012670</td>\n",
       "    </tr>\n",
       "  </tbody>\n",
       "</table>\n",
       "</div>"
      ],
      "text/plain": [
       "  chunking_algo  embedding_seconds  input_tokens  invocation_count  \\\n",
       "0         fixed          41.132119        243046               906   \n",
       "1  hierarchical          56.310922             0                 0   \n",
       "2      semantic         131.723036        633504              3958   \n",
       "\n",
       "   total_token_costs  \n",
       "0           0.004861  \n",
       "1           0.000000  \n",
       "2           0.012670  "
      ]
     },
     "execution_count": 81,
     "metadata": {},
     "output_type": "execute_result"
    }
   ],
   "source": [
    "# Load the dataframe related to costs from a csv file (if it already exists)\n",
    "df_costs = load_df_from_csv()\n",
    "df_costs"
   ]
  },
  {
   "cell_type": "markdown",
   "id": "d805c37f-2e62-4945-b0e3-05af7db0e60d",
   "metadata": {},
   "source": [
    "### 1. Create a Knowledge Base\n",
    "Let's specify  chunking strategy, name and descripotion for Knowledge Base (KB) and create a KB."
   ]
  },
  {
   "cell_type": "code",
   "execution_count": 82,
   "id": "6a1ac212-083b-4bd0-abf1-e73919a054f1",
   "metadata": {},
   "outputs": [],
   "source": [
    "model_id = \"amazon.titan-embed-text-v2:0\"\n",
    "kb_chunking_strategy = \"hierarchical\" # [\"fixed\", \"hierarchical\", \"semantic\", \"custom\"]"
   ]
  },
  {
   "cell_type": "code",
   "execution_count": 83,
   "id": "415c4796-f812-49c1-8188-962cadd6eb51",
   "metadata": {},
   "outputs": [
    {
     "name": "stdout",
     "output_type": "stream",
     "text": [
      "{'collectionArn': 'arn:aws:aoss:us-west-2:270597685972:collection/3ethft3xms9as2092ulg', 'vectorIndexName': 'ws-index-hierarchical', 'fieldMapping': {'vectorField': 'vector', 'textField': 'text', 'metadataField': 'text-metadata'}}\n",
      "{'collectionArn': 'arn:aws:aoss:us-west-2:270597685972:collection/3ethft3xms9as2092ulg', 'vectorIndexName': 'ws-index-hierarchical', 'fieldMapping': {'vectorField': 'vector', 'textField': 'text', 'metadataField': 'text-metadata'}}\n",
      "{'collectionArn': 'arn:aws:aoss:us-west-2:270597685972:collection/3ethft3xms9as2092ulg', 'vectorIndexName': 'ws-index-hierarchical', 'fieldMapping': {'vectorField': 'vector', 'textField': 'text', 'metadataField': 'text-metadata'}}\n",
      "Knowledge Base already exists. Retrieving its ID...\n",
      "Found existing knowledge base with Name: advanced-rag-workshop-hierarchical-chunking and ID: V8EJKFPYTK\n",
      "OpenSearch Knowledge Response: {\n",
      "    \"createdAt\": \"2025-05-02 18:04:08.749522+00:00\",\n",
      "    \"description\": \"Knowledge base using Amazon OpenSearch Service as a vector store\",\n",
      "    \"knowledgeBaseArn\": \"arn:aws:bedrock:us-west-2:270597685972:knowledge-base/V8EJKFPYTK\",\n",
      "    \"knowledgeBaseConfiguration\": {\n",
      "        \"type\": \"VECTOR\",\n",
      "        \"vectorKnowledgeBaseConfiguration\": {\n",
      "            \"embeddingModelArn\": \"arn:aws:bedrock:us-west-2::foundation-model/amazon.titan-embed-text-v2:0\"\n",
      "        }\n",
      "    },\n",
      "    \"knowledgeBaseId\": \"V8EJKFPYTK\",\n",
      "    \"name\": \"advanced-rag-workshop-hierarchical-chunking\",\n",
      "    \"roleArn\": \"arn:aws:iam::270597685972:role/advanced-rag-workshop-bedrock_execution_role-us-west-2\",\n",
      "    \"status\": \"ACTIVE\",\n",
      "    \"storageConfiguration\": {\n",
      "        \"opensearchServerlessConfiguration\": {\n",
      "            \"collectionArn\": \"arn:aws:aoss:us-west-2:270597685972:collection/3ethft3xms9as2092ulg\",\n",
      "            \"fieldMapping\": {\n",
      "                \"metadataField\": \"text-metadata\",\n",
      "                \"textField\": \"text\",\n",
      "                \"vectorField\": \"vector\"\n",
      "            },\n",
      "            \"vectorIndexName\": \"ws-index-hierarchical\"\n",
      "        },\n",
      "        \"type\": \"OPENSEARCH_SERVERLESS\"\n",
      "    },\n",
      "    \"updatedAt\": \"2025-05-02 18:04:08.749522+00:00\"\n",
      "}\n"
     ]
    }
   ],
   "source": [
    "kb_name = f\"advanced-rag-workshop-{kb_chunking_strategy}-chunking\"\n",
    "\n",
    "kb_description = \"Knowledge base using Amazon OpenSearch Service as a vector store\"\n",
    "\n",
    "kb = create_kb(kb_name, kb_description, kb_chunking_strategy, variables, model_id)"
   ]
  },
  {
   "cell_type": "markdown",
   "id": "b5bfebc0-bdeb-4f43-a0a0-921d34be6aba",
   "metadata": {},
   "source": [
    "### 2. Create Datasource for Knowledge Base"
   ]
  },
  {
   "cell_type": "code",
   "execution_count": 84,
   "id": "d6cc990e-b0da-4853-a48a-071219d1461b",
   "metadata": {},
   "outputs": [
    {
     "name": "stdout",
     "output_type": "stream",
     "text": [
      "Found existing data source 'advanced-rag-example-hierarchical'. Deleting it...\n",
      "Waiting for data source deletion to complete...\n",
      "Data source deleted successfully.\n",
      "Creating new data source 'advanced-rag-example-hierarchical' with {'chunkingStrategy': 'HIERARCHICAL', 'hierarchicalChunkingConfiguration': {'levelConfigurations': [{'maxTokens': 1500}, {'maxTokens': 300}], 'overlapTokens': 60}} chunking...\n",
      "hierarchical chunking data source created successfully.\n"
     ]
    }
   ],
   "source": [
    "data_source_name = f\"advanced-rag-example-{kb_chunking_strategy}\"\n",
    "\n",
    "ds_object = create_data_source_for_kb(kb_chunking_strategy, data_source_name, kb, variables)"
   ]
  },
  {
   "cell_type": "markdown",
   "id": "7e5d415f-d61f-49ae-9d9a-1ea3063a1452",
   "metadata": {},
   "source": [
    "### 3. Start Ingestion Job for Amazon Bedrock Knowledge base pointing to Amazon OpenSearch"
   ]
  },
  {
   "cell_type": "markdown",
   "id": "ab5cc69d",
   "metadata": {},
   "source": [
    "> **Note**: The ingestion process will take approximately 2-3 minutes to complete. During this time, the system is processing your documents by:\n",
    "> 1. Extracting text from the source files\n",
    "> 2. Chunking the content according to the defined strategy (Fixed / Semantic / Hierachical / Custom)\n",
    "> 3. Generating embeddings for each chunk\n",
    "> 4. Storing the embeddings and associated metadata in a Knowledge Base (KB) in OpenSearch vector database\n",
    ">\n",
    "> You'll see status updates as the process progresses. Please wait for the \"Ingestion job completed successfully\" message before proceeding to the next step."
   ]
  },
  {
   "cell_type": "code",
   "execution_count": 85,
   "id": "72e084b1-9c83-45b2-a08f-36b8d2bf0bf7",
   "metadata": {},
   "outputs": [
    {
     "name": "stdout",
     "output_type": "stream",
     "text": [
      "Ingestion job started successfully for kb_name = advanced-rag-workshop-hierarchical-chunking and kb_id = V8EJKFPYTK\n",
      "\n",
      "running...\n",
      "running...\n",
      "running...\n",
      "running...\n",
      "running...\n",
      "Job completed successfully\n",
      "\n"
     ]
    }
   ],
   "source": [
    "from time import sleep\n",
    "ingestion_start_time = datetime.now(UTC)\n",
    "sleep(3)\n",
    "create_ingestion_job(kb, ds_object, variables)\n",
    "sleep(3)\n",
    "ingestion_end_time = datetime.now(UTC)"
   ]
  },
  {
   "cell_type": "code",
   "execution_count": 86,
   "id": "014a5d31-22fa-4a23-be51-b479d02da181",
   "metadata": {},
   "outputs": [
    {
     "name": "stdout",
     "output_type": "stream",
     "text": [
      "time taken to ingest into KB = 56.29 seconds\n"
     ]
    }
   ],
   "source": [
    "time_taken = (ingestion_end_time-ingestion_start_time).total_seconds()\n",
    "print(f\"time taken to ingest into KB = {fmt_n(time_taken)} seconds\")"
   ]
  },
  {
   "cell_type": "markdown",
   "id": "d4db1388-55e0-4db9-a05d-b7c2f2cf5379",
   "metadata": {},
   "source": [
    "## Embedding LLM Costs\n",
    "1. Specify model id\n",
    "2. Specify start and end time\n",
    "3. Invoke a helper function to query cloud watch\n",
    "5. Calculate costs (please note that pricing is subject to change per region and over time)\n",
    "\n",
    "<br>![Embedding LLM Input Token Costs](./Input_token_embedding_llm_costs.png)"
   ]
  },
  {
   "cell_type": "code",
   "execution_count": 87,
   "id": "abbc155e-d7c2-4979-a09d-997af630e33f",
   "metadata": {},
   "outputs": [
    {
     "name": "stdout",
     "output_type": "stream",
     "text": [
      "{\n",
      "    \"WARNING\": \"These costs are approximate and directional as of April 2025. They will vary as per region and may change in future. The costs are for Bedrock On-Demand model. If you see zero costs, chances are high that the LLM was not considered in cost calculations when the notebook was prepared. Please use AWS calculator for more accurate cost calculations.\",\n",
      "    \"model_id\": \"amazon.titan-embed-text-v2:0\",\n",
      "    \"start_time\": \"2025-05-02T23:19:04.033033+00:00\",\n",
      "    \"end_time\": \"2025-05-02T23:20:00.320308+00:00\",\n",
      "    \"duration in minutes\": 0.93812125,\n",
      "    \"input_tokens\": 295358,\n",
      "    \"output_tokens\": 0,\n",
      "    \"invocation_count\": 1157,\n",
      "    \"per million input token costs\": 0.02,\n",
      "    \"per million output token costs\": 0.0,\n",
      "    \"input token costs\": 0.005907160000000001,\n",
      "    \"output token costs\": 0.0,\n",
      "    \"total token costs\": 0.005907160000000001,\n",
      "    \"average token costs per invocation\": 5.105583405358687e-06,\n",
      "    \"token costs per MILLION such invocations\": 5.105583405358686\n",
      "}\n"
     ]
    }
   ],
   "source": [
    "vector_store_embedding_cost = get_bedrock_token_based_cost(model_id, ingestion_start_time, ingestion_end_time)\n",
    "print(json.dumps(vector_store_embedding_cost, indent=4))"
   ]
  },
  {
   "cell_type": "code",
   "execution_count": 88,
   "id": "be2cf00a-ae49-4d1c-8ec5-9c847d9947a6",
   "metadata": {},
   "outputs": [
    {
     "name": "stdout",
     "output_type": "stream",
     "text": [
      "Updated existing row for: hierarchical\n"
     ]
    },
    {
     "data": {
      "text/html": [
       "<div>\n",
       "<style scoped>\n",
       "    .dataframe tbody tr th:only-of-type {\n",
       "        vertical-align: middle;\n",
       "    }\n",
       "\n",
       "    .dataframe tbody tr th {\n",
       "        vertical-align: top;\n",
       "    }\n",
       "\n",
       "    .dataframe thead th {\n",
       "        text-align: right;\n",
       "    }\n",
       "</style>\n",
       "<table border=\"1\" class=\"dataframe\">\n",
       "  <thead>\n",
       "    <tr style=\"text-align: right;\">\n",
       "      <th></th>\n",
       "      <th>chunking_algo</th>\n",
       "      <th>embedding_seconds</th>\n",
       "      <th>input_tokens</th>\n",
       "      <th>invocation_count</th>\n",
       "      <th>total_token_costs</th>\n",
       "    </tr>\n",
       "  </thead>\n",
       "  <tbody>\n",
       "    <tr>\n",
       "      <th>0</th>\n",
       "      <td>fixed</td>\n",
       "      <td>41.132119</td>\n",
       "      <td>243046</td>\n",
       "      <td>906</td>\n",
       "      <td>0.004861</td>\n",
       "    </tr>\n",
       "    <tr>\n",
       "      <th>1</th>\n",
       "      <td>hierarchical</td>\n",
       "      <td>56.287275</td>\n",
       "      <td>295358</td>\n",
       "      <td>1157</td>\n",
       "      <td>0.005907</td>\n",
       "    </tr>\n",
       "    <tr>\n",
       "      <th>2</th>\n",
       "      <td>semantic</td>\n",
       "      <td>131.723036</td>\n",
       "      <td>633504</td>\n",
       "      <td>3958</td>\n",
       "      <td>0.012670</td>\n",
       "    </tr>\n",
       "  </tbody>\n",
       "</table>\n",
       "</div>"
      ],
      "text/plain": [
       "  chunking_algo  embedding_seconds  input_tokens  invocation_count  \\\n",
       "0         fixed          41.132119        243046               906   \n",
       "1  hierarchical          56.287275        295358              1157   \n",
       "2      semantic         131.723036        633504              3958   \n",
       "\n",
       "   total_token_costs  \n",
       "0           0.004861  \n",
       "1           0.005907  \n",
       "2           0.012670  "
      ]
     },
     "execution_count": 88,
     "metadata": {},
     "output_type": "execute_result"
    }
   ],
   "source": [
    "# Let's add or update the cost binfo to dataframe. \n",
    "# This will help us compare the costs from various chunking strategies visually.\n",
    "new_row = {\n",
    "    'chunking_algo': kb_chunking_strategy,\n",
    "    'embedding_seconds': vector_store_embedding_cost['duration in minutes']*60,\n",
    "    'input_tokens': vector_store_embedding_cost['input_tokens'],\n",
    "    'invocation_count': vector_store_embedding_cost['invocation_count'],\n",
    "    'total_token_costs': vector_store_embedding_cost['total token costs']\n",
    "}\n",
    "df_costs = update_or_add_row(df_costs, new_row)\n",
    "df_costs"
   ]
  },
  {
   "cell_type": "code",
   "execution_count": 89,
   "id": "5c6709d5-79db-4d82-8117-4668d0d8f693",
   "metadata": {},
   "outputs": [
    {
     "name": "stdout",
     "output_type": "stream",
     "text": [
      "Successfully saved DataFrame to: /home/sagemaker-user/sample-advanced-rag-using-bedrock-and-sagemaker/embed_algo_costs.csv\n"
     ]
    }
   ],
   "source": [
    "# Let's save the df\n",
    "save_df_to_csv(df_costs)"
   ]
  },
  {
   "cell_type": "markdown",
   "id": "988051f4-2741-4180-af71-d445f2eaf37d",
   "metadata": {},
   "source": [
    "### 4. Retrieve: Use input query to RETRIEVE chunks from Vector Database\n",
    "We will use a helper function where you can specify the number of chunks to extract.<br>\n",
    "The helper function will 1/ generate a vector embedding for the query, 2/ search the vector embedding in the Knowledge Base (KB) vector database, 3/ get the number of chunks specified, 4/ Optionally, you can also specify minimum score for similarity in which case the helper function will get chunks with at least the minimum relevancy.\n",
    "\n",
    "<b>Warning: After data is ingested into a KB, when you query immediately, the results might be empty because of eventual consistency. If that happens, please wait for a few seconds and then retry.</b>"
   ]
  },
  {
   "cell_type": "code",
   "execution_count": 90,
   "id": "39f992ba-d37d-4c3f-89d3-128f3a8920ca",
   "metadata": {},
   "outputs": [
    {
     "name": "stdout",
     "output_type": "stream",
     "text": [
      "[\n",
      "  {\n",
      "    \"content\": \"We also continue to inspect and refine the mechanisms we use to hire, develop, evaluate, and retain our employees. In addition, safety is integral to everything we do at Amazon and we continue to invest in safety improvements such as capital improvements, new safety technology, vehicle safety controls, and engineering ergonomic solutions. Our safety team is dedicated to using the science of safety to solve complex problems and establish new industry best practices. We also provide mentorship and support resources to our employees, and have deployed numerous programs that advance employee engagement, communication, and feedback.     4Table of Contents     Available Information     Our investor relations website is amazon.com/ir and we encourage investors to use it as a way of easily finding information about us. We promptly make available on this website, free of charge, the reports that we file or furnish with the Securities and Exchange Commission (\\u201cSEC\\u201d), corporate governance information (including our Code of Business Conduct and Ethics), and select press releases.     Executive Officers and Directors The following tables set forth certain information regarding our Executive Officers and Directors as of January 29, 2025:     Information About Our Executive Officers Name Age Position     Jeffrey P. Bezos 61 Executive Chair Andrew R. Jassy 57 President and Chief Executive Officer Matthew S. Garman 48 CEO Amazon Web Services Douglas J. Herrington 58 CEO Worldwide Amazon Stores Brian T. Olsavsky 61 Senior Vice President and Chief Financial Officer Shelley L. Reynolds 60 Vice President, Worldwide Controller, and Principal Accounting Officer David A. Zapolsky 61 Senior Vice President, Global Public Policy and General Counsel     Jeffrey P. Bezos. Mr. Bezos founded Amazon.com in 1994 and has served as Executive Chair since July 2021. He has served as Chair of the Board since 1994 and served as Chief Executive Officer from May 1996 until July 2021, and as President from 1994 until June 1999 and again from October 2000 to July 2021.     Andrew R. Jassy. Mr. Jassy has served as President and Chief Executive Officer since July 2021, CEO Amazon Web Services from April 2016 until July 2021, and Senior Vice President, Amazon Web Services, from April 2006 until April 2016.     Matthew S. Garman. Mr. Garman has served as CEO Amazon Web Services since June 2024, Senior Vice President, Amazon Web Services from February 2021 until June 2024, Vice President, Marketing, Sales and Support of Amazon Web Services from January 2020 to February 2021, Vice President, AWS Compute Services from September 2018 to January 2020, and Vice President, EC2 from December 2012 to September 2018.     Douglas J. Herrington. Mr. Herrington has served as CEO Worldwide Amazon Stores since July 2022, Senior Vice President, North America Consumer from January 2015 to July 2022, Senior Vice President, Consumables from May 2014 to December 2014, and Vice President, Consumables from May 2005 to April 2014.     Brian T. Olsavsky. Mr. Olsavsky has served as Senior Vice President and Chief Financial Officer since June 2015, Vice President, Finance for the Global Consumer Business from December 2011 to June 2015, and numerous financial leadership roles across Amazon with global responsibility since April 2002.     Shelley L. Reynolds. Ms. Reynolds has served as Vice President, Worldwide Controller, and Principal Accounting Officer since April 2007. David A. Zapolsky. Mr. Zapolsky has served as Senior Vice President, Global Public Policy and General Counsel since May 2023. He served as our     Secretary from September 2012 to January 2024, Senior Vice President and General Counsel from May 2014 to May 2023, Vice President and General Counsel from September 2012 to May 2014, and as Vice President and Associate General Counsel for Litigation and Regulatory matters from April 2002 until September 2012.     5Table of Contents     Board of Directors Name Age Position     Jeffrey P. Bezos 61 Executive Chair Andrew R. Jassy 57 President and Chief Executive Officer Keith B. Alexander 73 Former Chair and CEO of IronNet, Inc. Edith W. Cooper 63 Former Executive Vice President, Goldman Sachs Group, Inc. Jamie S. Gorelick 74 Partner, Wilmer Cutler Pickering Hale and Dorr LLP Daniel P. Huttenlocher 66 Dean, MIT Schwarzman College of Computing Andrew Y. Ng 48 Managing General Partner, AI Fund, L.P. Indra K. Nooyi 69 Former Chair and CEO, PepsiCo, Inc. Jonathan J. Rubinstein 68 Former co-CEO, Bridgewater Associates, LP Brad D. Smith 60 President, Marshall University Patricia Q. Stonesifer 68 Former President and Chief Executive Officer, Martha\\u2019s Table Wendell P. Weeks 65 Chairman and CEO, Corning Incorporated     Item 1A. Risk Factors     Please carefully consider the following discussion of significant factors, events, and uncertainties that make an investment in our securities risky. The events and consequences discussed in these risk factors could, in circumstances we may or may not be able to accurately predict, recognize, or control, have a material adverse effect on our business, growth, reputation, prospects, financial condition, operating results (including components of our financial results), cash flows, liquidity, and stock price. These risk factors do not identify all risks that we face; our operations could also be affected by factors, events, or uncertainties that are not presently known to us or that we currently do not consider to present significant risks to our operations. In addition to the factors discussed in Item 7 of Part II, \\u201cManagement\\u2019s Discussion and Analysis of Financial Condition and Results of Operations,\\u201d and in the risk factors below, global economic and geopolitical conditions and additional or unforeseen circumstances, developments, or events may give rise to or amplify many of the risks discussed below. Many of the risks discussed below also impact our customers, including third-party sellers, which could indirectly have a material adverse effect on us.     Business and Industry Risks We Face Intense Competition     Our businesses are rapidly evolving and intensely competitive, and we have many competitors across geographies, including cross-border competition, and in different industries, including physical, e-commerce, and omnichannel retail, e-commerce services, web and infrastructure computing services, electronic devices, digital content, advertising, grocery, healthcare, communications, and transportation and logistics services. Some of our current and potential competitors have greater resources, longer histories, more customers, and/or greater brand recognition, particularly with our newly-launched products and services and in our newer geographic regions. They may secure better terms from vendors, adopt more aggressive pricing, and devote more resources to technology, infrastructure, fulfillment, and marketing.     Competition continues to intensify, including with the development of new business models and the entry of new and well-funded competitors, and as our competitors enter into business combinations or alliances and established companies in other market segments expand to become competitive with our business. \",\n",
      "    \"metadata\": {\n",
      "      \"x-amz-bedrock-kb-source-uri\": \"s3://270597685972-us-west-2-advanced-rag-workshop/data/pdf_documents/Amazon-10k-2025.pdf\",\n",
      "      \"x-amz-bedrock-kb-document-page-number\": 5.0,\n",
      "      \"year\": 2025.0,\n",
      "      \"docType\": \"10K Report\",\n",
      "      \"x-amz-bedrock-kb-data-source-id\": \"WMBCURPDV3\",\n",
      "      \"company\": \"Amazon\",\n",
      "      \"authors\": [\n",
      "        \"Amazon\"\n",
      "      ]\n",
      "    },\n",
      "    \"score\": 0.7151378\n",
      "  },\n",
      "  {\n",
      "    \"content\": \"We also continue to inspect and refine the mechanisms we use to hire, develop, evaluate, and retain our employees to promote equity for all candidates and employees. In addition, safety is integral to everything we do at Amazon and we continue to invest in safety improvements such as capital improvements, new safety technology, vehicle safety controls, and engineering ergonomic solutions. Our safety team is dedicated to using the science of safety to solve complex problems and establish new industry best practices. We also provide mentorship and support resources to our employees, and have deployed numerous programs that advance employee engagement, communication, and feedback.     4Table of Contents     Available Information     Our investor relations website is amazon.com/ir and we encourage investors to use it as a way of easily finding information about us. We promptly make available on this website, free of charge, the reports that we file or furnish with the Securities and Exchange Commission (\\u201cSEC\\u201d), corporate governance information (including our Code of Business Conduct and Ethics), and select press releases.     Executive Officers and Directors The following tables set forth certain information regarding our Executive Officers and Directors as of January 24, 2024:     Information About Our Executive Officers Name Age Position     Jeffrey P. Bezos 60 Executive Chair Andrew R. Jassy 56 President and Chief Executive Officer Douglas J. Herrington 57 CEO Worldwide Amazon Stores Brian T. Olsavsky 60 Senior Vice President and Chief Financial Officer Shelley L. Reynolds 59 Vice President, Worldwide Controller, and Principal Accounting Officer Adam N. Selipsky 57 CEO Amazon Web Services David A. Zapolsky 60 Senior Vice President, Global Public Policy and General Counsel     Jeffrey P. Bezos. Mr. Bezos founded Amazon.com in 1994 and has served as Executive Chair since July 2021. He has served as Chair of the Board since 1994 and served as Chief Executive Officer from May 1996 until July 2021, and as President from 1994 until June 1999 and again from October 2000 to July 2021.     Andrew R. Jassy. Mr. Jassy has served as President and Chief Executive Officer since July 2021, CEO Amazon Web Services from April 2016 until July 2021, and Senior Vice President, Amazon Web Services, from April 2006 until April 2016.     Douglas J. Herrington. Mr. Herrington has served as CEO Worldwide Amazon Stores since July 2022, Senior Vice President, North America Consumer from January 2015 to July 2022, Senior Vice President, Consumables from May 2014 to December 2014, and Vice President, Consumables from May 2005 to April 2014.     Brian T. Olsavsky. Mr. Olsavsky has served as Senior Vice President and Chief Financial Officer since June 2015, Vice President, Finance for the Global Consumer Business from December 2011 to June 2015, and numerous financial leadership roles across Amazon with global responsibility since April 2002.     Shelley L. Reynolds. Ms. Reynolds has served as Vice President, Worldwide Controller, and Principal Accounting Officer since April 2007.     Adam N. Selipsky. Mr. Selipsky has served as CEO Amazon Web Services since July 2021, Senior Vice President, Amazon Web Services from May 2021 until July 2021, President and CEO of Tableau Software from September 2016 until May 2021, and Vice President, Marketing, Sales and Support of Amazon Web Services from May 2005 to September 2016.     David A. Zapolsky. Mr. Zapolsky has served as Senior Vice President, Global Public Policy and General Counsel since May 2023 and has served as our Secretary since September 2012. He served as Senior Vice President and General Counsel from May 2014 to May 2023, Vice President and General Counsel from September 2012 to May 2014, and as Vice President and Associate General Counsel for Litigation and Regulatory matters from April 2002 until September 2012.     5Table of Contents     Board of Directors Name Age Position     Jeffrey P. Bezos 60 Executive Chair Andrew R. Jassy 56 President and Chief Executive Officer Keith B. Alexander 72 Chair of IronNet, Inc. Edith W. Cooper 62 Former Executive Vice President, Goldman Sachs Group, Inc. Jamie S. Gorelick 73 Partner, Wilmer Cutler Pickering Hale and Dorr LLP Daniel P. Huttenlocher 65 Dean, MIT Schwarzman College of Computing Judith A. McGrath 71 Former Chair and CEO, MTV Networks Indra K. Nooyi 68 Former Chair and CEO, PepsiCo, Inc. Jonathan J. Rubinstein 67 Former co-CEO, Bridgewater Associates, LP Brad D. Smith 59 President, Marshall University Patricia Q. Stonesifer 67 Former President and Chief Executive Officer, Martha\\u2019s Table Wendell P. Weeks 64 Chairman and CEO, Corning Incorporated     Item 1A. Risk Factors     Please carefully consider the following discussion of significant factors, events, and uncertainties that make an investment in our securities risky. The events and consequences discussed in these risk factors could, in circumstances we may or may not be able to accurately predict, recognize, or control, have a material adverse effect on our business, growth, reputation, prospects, financial condition, operating results (including components of our financial results), cash flows, liquidity, and stock price. These risk factors do not identify all risks that we face; our operations could also be affected by factors, events, or uncertainties that are not presently known to us or that we currently do not consider to present significant risks to our operations. In addition to the factors discussed in Item 7 of Part II, \\u201cManagement\\u2019s Discussion and Analysis of Financial Condition and Results of Operations,\\u201d and in the risk factors below, global economic and geopolitical conditions and additional or unforeseen circumstances, developments, or events may give rise to or amplify many of the risks discussed below. Many of the risks discussed below also impact our customers, including third-party sellers, which could indirectly have a material adverse effect on us.     Business and Industry Risks We Face Intense Competition     Our businesses are rapidly evolving and intensely competitive, and we have many competitors across geographies, including cross-border competition, and in different industries, including physical, e-commerce, and omnichannel retail, e-commerce services, web and infrastructure computing services, electronic devices, digital content, advertising, grocery, and transportation and logistics services. Some of our current and potential competitors have greater resources, longer histories, more customers, and/or greater brand recognition, particularly with our newly-launched products and services and in our newer geographic regions. They may secure better terms from vendors, adopt more aggressive pricing, and devote more resources to technology, infrastructure, fulfillment, and marketing.     Competition continues to intensify, including with the development of new business models and the entry of new and well-funded competitors, and as our competitors enter into business combinations or alliances and established companies in other market segments expand to become competitive with our business. \",\n",
      "    \"metadata\": {\n",
      "      \"x-amz-bedrock-kb-source-uri\": \"s3://270597685972-us-west-2-advanced-rag-workshop/data/pdf_documents/Amazon-10k-2024.pdf\",\n",
      "      \"x-amz-bedrock-kb-document-page-number\": 5.0,\n",
      "      \"year\": 2024.0,\n",
      "      \"docType\": \"10K Report\",\n",
      "      \"x-amz-bedrock-kb-data-source-id\": \"WMBCURPDV3\",\n",
      "      \"company\": \"Amazon\",\n",
      "      \"authors\": [\n",
      "        \"Amazon\"\n",
      "      ]\n",
      "    },\n",
      "    \"score\": 0.7097872\n",
      "  },\n",
      "  {\n",
      "    \"content\": \"hash=6e8225dbb17cbf3fc629f493e3f720d52b594db724e32c338ebb3fe5d2b467b0&dest=dex1016_htm         https://content.edgar-online.com/ExternalLink/EDGAR/0001018724-22-000005.html?hash=9258a1825e3d52e231e0cebc1336704b232acdc2a4ae5b12158c0f2bcb378e33&dest=amzn-20211231xex107_htm         https://content.edgar-online.com/ExternalLink/EDGAR/0001018724-22-000005.html?hash=9258a1825e3d52e231e0cebc1336704b232acdc2a4ae5b12158c0f2bcb378e33&dest=amzn-20211231xex107_htm         https://content.edgar-online.com/ExternalLink/EDGAR/0001018724-22-000013.html?hash=97dd39248fd32dd7836dabb2eaecd5a05255dfcba713f76cae3f27ae2a6619d6&dest=amzn-20220331xex101_htm         https://content.edgar-online.com/ExternalLink/EDGAR/0001018724-22-000013.html?hash=97dd39248fd32dd7836dabb2eaecd5a05255dfcba713f76cae3f27ae2a6619d6&dest=amzn-20220331xex101_htm         https://content.edgar-online.com/ExternalLink/EDGAR/0001018724-22-000013.html?hash=97dd39248fd32dd7836dabb2eaecd5a05255dfcba713f76cae3f27ae2a6619d6&dest=amzn-20220331xex101_htm         https://content.edgar-online.com/ExternalLink/EDGAR/0001193125-22-289041.html?hash=e407711d9512c697d322d25f2665b37e7cfed920d07923fad01008073d384e79&dest=d413765dex101_htm         https://content.edgar-online.com/ExternalLink/EDGAR/0001193125-22-289041.html?hash=e407711d9512c697d322d25f2665b37e7cfed920d07923fad01008073d384e79&dest=d413765dex101_htm         https://content.edgar-online.com/ExternalLink/EDGAR/0001193125-22-289041.html?hash=e407711d9512c697d322d25f2665b37e7cfed920d07923fad01008073d384e79&dest=d413765dex101_htm         https://content.edgar-online.com/ExternalLink/EDGAR/0001193125-23-000849.html?hash=2b307f494bc4d9e11a79af2491599072f05b1f7a27e926f9f48242ab784bee46&dest=d429499dex101_htm         https://content.edgar-online.com/ExternalLink/EDGAR/0001193125-23-000849.html?hash=2b307f494bc4d9e11a79af2491599072f05b1f7a27e926f9f48242ab784bee46&dest=d429499dex101_htmTable of Contents     32.1 Certification of Andrew R. Jassy, President and Chief Executive Officer of Amazon.com, Inc., pursuant to 18 U.S.C. Section 1350.     32.2 Certification of Brian T. Olsavsky, Senior Vice President and Chief Financial Officer of Amazon.com, Inc., pursuant to 18 U.S.C. Section 1350.     101 The following financial statements from the Company\\u2019s Annual Report on Form 10-K for the year ended December 31, 2022, formatted in Inline XBRL: (i) Consolidated Statements of Cash Flows, (ii) Consolidated Statements of Operations, (iii) Consolidated Statements of Comprehensive Income (Loss), (iv) Consolidated Balance Sheets, (v) Consolidated Statements of Stockholders\\u2019 Equity, and (vi) Notes to Consolidated Financial Statements, tagged as blocks of text and including detailed tags.     As permitted by Item 601(b)(4)(iii)(A) of Regulation S-K, the Company has not filed with this Annual Report on Form 10-K certain instruments defining the rights of holders of long-term debt of the Company and its subsidiaries because the total amount of securities authorized thereunder does not exceed 10 percent of the total assets of the Company and its subsidiaries on a consolidated basis. The Company agrees to furnish a copy of such agreements to the Commission upon request.     104 The cover page from the Company\\u2019s Annual Report on Form 10-K for the year ended December 31, 2022, formatted in Inline XBRL (included as Exhibit 101).     __________________ \\u2020 Executive Compensation Plan or Agreement.     Item 16. Form 10-K Summary     None.     74Table of Contents     SIGNATURES     Pursuant to the requirements of Section 13 or 15(d) of the Securities Exchange Act of 1934, the registrant has duly caused this Report to be signed on its behalf by the undersigned, thereunto duly authorized, as of February 2, 2023.     AMAZON.COM, INC.     By: /s/ Andrew R. Jassy Andrew R. Jassy     President and Chief Executive Officer     Pursuant to the requirements of the Securities Exchange Act of 1934, this Report has been signed below by the following persons on behalf of the registrant and in the capacities indicated as of February 2, 2023.     Signature Title     /s/ Andrew R. Jassy Andrew R. Jassy President and Chief Executive Officer (Principal Executive Officer) and Director     /s/ Brian T. Olsavsky Brian T. Olsavsky Senior Vice President and Chief Financial Officer (Principal Financial Officer)     /s/ Shelley L. Reynolds Shelley L. Reynolds Vice President, Worldwide Controller (Principal Accounting Officer)     /s/ Jeffrey P. Bezos Jeffrey P. Bezos Executive Chair     /s/ Keith B. Alexander Keith B. Alexander Director     /s/ Edith W. Cooper Edith W. Cooper Director     /s/ Jamie S. Gorelick Jamie S. Gorelick Director     /s/ Daniel P. Huttenlocher Daniel P. Huttenlocher Director     /s/ Judith A. McGrath Judith A. McGrath Director     /s/ Indra K. Nooyi Indra K. \",\n",
      "    \"metadata\": {\n",
      "      \"x-amz-bedrock-kb-source-uri\": \"s3://270597685972-us-west-2-advanced-rag-workshop/data/pdf_documents/Amazon-10k-2023.pdf\",\n",
      "      \"x-amz-bedrock-kb-document-page-number\": 73.0,\n",
      "      \"year\": 2023.0,\n",
      "      \"docType\": \"10K Report\",\n",
      "      \"x-amz-bedrock-kb-data-source-id\": \"WMBCURPDV3\",\n",
      "      \"company\": \"Amazon\",\n",
      "      \"authors\": [\n",
      "        \"Amazon\"\n",
      "      ]\n",
      "    },\n",
      "    \"score\": 0.6608245\n",
      "  },\n",
      "  {\n",
      "    \"content\": \"hash=c8db7fdf7e29ae58d3e40b9171afe954aeee487a6ce27bbf9b3d461b4262a179&dest=d466336dex46_htmTable of Contents     4.6 Officers\\u2019 Certificate of Amazon.com, Inc., dated as of June 3, 2020, containing Form of 0.400% Note due 2023, Form of 0.800% Note due 2025, Form of 1.200% Note due 2027, Form of 1.500% Note due 2030, Form of 2.500% Note due 2050, and Form of 2.700% Note due 2060 (incorporated by reference to the Company\\u2019s Current Report on Form 8-K, filed June 3, 2020).     4.7 Officers\\u2019 Certificate of Amazon.com, Inc., dated as of May 12, 2021, containing Form of 0.250% Note due 2023, Form of 0.450% Note due 2024, Form of 1.000% Note due 2026, Form of 1.650% Note due 2028, Form of 2.100% Note due 2031, Form of 2.875% Note due 2041, Form of 3.100% Note due 2051, and Form of 3.250% Note due 2061 (incorporated by reference to the Company\\u2019s Current Report on Form 8-K, filed May 12, 2021).     4.8 Officers\\u2019 Certificate of Amazon.com, Inc., dated as of December 1, 2022, containing Form of 4.700% Note due 2024, Form of 4.600% Note due 2025, Form of 4.550% Note due 2027, Form of 4.650% Note due 2029, and Form of 4.700% Note due 2032 (incorporated by reference to the Company\\u2019s Current Report on Form 8-K, filed December 1, 2022).     4.9 Description of Securities (incorporated by reference to the Company\\u2019s Annual Report on Form 10-K for the Year ended December 31, 2019).     10.1\\u2020 1997 Stock Incentive Plan (amended and restated) (incorporated by reference to the Company\\u2019s Quarterly Report on Form 10-Q for the Quarter ended June 30, 2022).     10.2\\u2020 1999 Nonofficer Employee Stock Option Plan (amended and restated) (incorporated by reference to the Company\\u2019s Quarterly Report on Form 10-Q for the Quarter ended June 30, 2022).     10.3\\u2020 Form of Indemnification Agreement between Amazon.com, Inc. and each of its Directors (incorporated by reference to Exhibit 10.1 to the Company\\u2019s Registration Statement on Form S-1 (Registration No. 333-23795) filed March 24, 1997, as amended on April 21, 1997).     10.4\\u2020 Form of Restricted Stock Unit Agreement for Officers and Employees (incorporated by reference to the Company\\u2019s Annual Report on Form 10- K for the Year ended December 31, 2002).     10.5\\u2020 Form of Restricted Stock Unit Agreement for Directors (incorporated by reference to the Company\\u2019s Annual Report on Form 10-K for the Year ended December 31, 2002).     10.6\\u2020 Form of Restricted Stock Agreement (incorporated by reference to the Company\\u2019s Annual Report on Form 10-K for the Year ended December 31, 2001).     10.7\\u2020 Form of Global Restricted Stock Unit Award Agreement for Executive Officers (incorporated by reference to the Company\\u2019s Annual Report on Form 10-K for the Year ended December 31, 2021).     10.8 Amended and Restated Credit Agreement, dated as of March 29, 2022, among Amazon.com, Inc., JPMorgan Chase Bank, N.A., as administrative agent, and the other lenders party thereto (incorporated by reference to the Company\\u2019s Quarterly Report on Form 10-Q for the Quarter ended March 31, 2022).     10.9 364-Day Revolving Credit Agreement, dated as of November 18, 2022, among Amazon.com, Inc., JPMorgan Chase Bank, N.A., as administrative agent, and the other lenders party thereto (incorporated by reference to the Company\\u2019s Current Report on Form 8-K, filed November 18, 2022).     10.10 Term Loan Agreement, dated as of January 3, 2023, among Amazon.com, Inc., Toronto Dominion (Texas) LLC, as administrative agent, and the other lenders party thereto (incorporated by reference to the Company\\u2019s Current Report on Form 8-K, filed January 3, 2023).     21.1 List of Significant Subsidiaries.     23.1 Consent of Independent Registered Public Accounting Firm.     31.1 Certification of Andrew R. Jassy, President and Chief Executive Officer of Amazon.com, Inc., pursuant to Rule 13a-14(a) under the Securities Exchange Act of 1934.     31.2 Certification of Brian T. Olsavsky, Senior Vice President and Chief Financial Officer of Amazon.com, Inc., pursuant to Rule 13a-14(a) under the Securities Exchange Act of 1934.     73           https://content.edgar-online.com/ExternalLink/EDGAR/0001193125-20-159531.html?hash=16ec42e2def9d676c243dade97430c0b550cbfa2eb40b5ecf51e8fa227b36a1a&dest=d933420dex41_htm         https://content.edgar-online.com/ExternalLink/EDGAR/0001193125-20-159531.html?hash=16ec42e2def9d676c243dade97430c0b550cbfa2eb40b5ecf51e8fa227b36a1a&dest=d933420dex41_htm         https://content.edgar-online.com/ExternalLink/EDGAR/0001193125-20-159531.html?hash=16ec42e2def9d676c243dade97430c0b550cbfa2eb40b5ecf51e8fa227b36a1a&dest=d933420dex41_htm         https://content.edgar-online.com/ExternalLink/EDGAR/0001193125-21-159084.html?\",\n",
      "    \"metadata\": {\n",
      "      \"x-amz-bedrock-kb-source-uri\": \"s3://270597685972-us-west-2-advanced-rag-workshop/data/pdf_documents/Amazon-10k-2023.pdf\",\n",
      "      \"x-amz-bedrock-kb-document-page-number\": 73.0,\n",
      "      \"year\": 2023.0,\n",
      "      \"docType\": \"10K Report\",\n",
      "      \"x-amz-bedrock-kb-data-source-id\": \"WMBCURPDV3\",\n",
      "      \"company\": \"Amazon\",\n",
      "      \"authors\": [\n",
      "        \"Amazon\"\n",
      "      ]\n",
      "    },\n",
      "    \"score\": 0.6470339\n",
      "  }\n",
      "]\n"
     ]
    }
   ],
   "source": [
    "# Now let's pick the chunks with some minimum relevance score for the same question.\n",
    "query = \"Who is the CEO, CFO, and CTO of Amazon?\"\n",
    "\n",
    "#specify the number of chunks\n",
    "n_chunks = 5\n",
    "\n",
    "#Let's specify a minimum similarity score. We should see less chunks retrieved as compared to the previous invocation.\n",
    "min_score = 0.60\n",
    "\n",
    "# get chunks from KB\n",
    "chunks_from_kb = retrieve_from_kb(query, kb, n_chunks, variables, min_score)\n",
    "\n",
    "print(json.dumps(chunks_from_kb, indent=2))\n",
    "\n",
    "# You should see less number of chunks retrieved as compared to the previous cell \n",
    "# because of the minimum relevance score."
   ]
  },
  {
   "cell_type": "code",
   "execution_count": 91,
   "id": "b48b2372-8932-4df2-8c73-b5960655752c",
   "metadata": {},
   "outputs": [
    {
     "name": "stdout",
     "output_type": "stream",
     "text": [
      "{\n",
      "    \"total_chunks\": 4,\n",
      "    \"min_score\": 0.6470339,\n",
      "    \"max_score\": 0.7151378,\n",
      "    \"avg_score\": 0.68319585,\n",
      "    \"count_above_threshold\": 4\n",
      "}\n"
     ]
    }
   ],
   "source": [
    "# Let's summarize with total chunks, minimum score, maximum score, average score, \n",
    "# and lastly the number of chunks with a score more than a specified threshold.\n",
    "score_threshold = 0.40\n",
    "score_structure = analyze_chunk_scores_above_threshold(chunks_from_kb, score_threshold)\n",
    "print(json.dumps(score_structure, indent=4))"
   ]
  },
  {
   "cell_type": "markdown",
   "id": "2d785feb-6bcd-41c0-bf56-f9b99d325151",
   "metadata": {},
   "source": [
    "### Cost Summary for Running This Notebook\n",
    "In this notebook, we have used an embedding LLM for two purposes. \n",
    "1. Populate a vector store for six PDF files and one CSV file. (7 documents in total)\n",
    "2. Generate a query embedding."
   ]
  },
  {
   "cell_type": "code",
   "execution_count": 92,
   "id": "c434aba2-ccef-4531-a50d-9734777d1280",
   "metadata": {},
   "outputs": [
    {
     "data": {
      "text/markdown": [
       "\n",
       "#### Scenario\n",
       "* Number of documents to ingest: 1000\n",
       "* Number of queries: 15000000\n",
       "\n",
       "#### Cost Estimation based on the Scenario (USD)\n",
       "|-| Notebook Cost | Scenario Cost |\n",
       "|-|-|-|\n",
       "|VectorStore|0.005907|0.84388|\n",
       "|Queries|2.8000000000007186e-07|4.2|\n",
       "|**TOTAL**|0.005907|5.04388|\n",
       "\n",
       "#### The cost estimation is based on a scenario that the similar documents and queries are multiplied.\n",
       "        "
      ],
      "text/plain": [
       "<IPython.core.display.Markdown object>"
      ]
     },
     "metadata": {},
     "output_type": "display_data"
    }
   ],
   "source": [
    "from IPython.display import display, Markdown\n",
    "from advanced_rag_utils import embedding_cost_report\n",
    "from time import sleep\n",
    "# Marking notebook endtime\n",
    "\n",
    "sleep(5)\n",
    "notebook_end_time = datetime.now(UTC)\n",
    "\n",
    "cost_for_notebook = get_bedrock_token_based_cost(model_id, notebook_start_time, notebook_end_time)\n",
    "\n",
    "# Your assumptions for your use case:\n",
    "scenario_number_of_documents = 1000\n",
    "scenario_number_of_queries = 15000000\n",
    " \n",
    "display(Markdown(embedding_cost_report(vector_store_embedding_cost, cost_for_notebook, scenario_number_of_documents, scenario_number_of_queries)))"
   ]
  }
 ],
 "metadata": {
  "kernelspec": {
   "display_name": "Python 3 (ipykernel)",
   "language": "python",
   "name": "python3"
  },
  "language_info": {
   "codemirror_mode": {
    "name": "ipython",
    "version": 3
   },
   "file_extension": ".py",
   "mimetype": "text/x-python",
   "name": "python",
   "nbconvert_exporter": "python",
   "pygments_lexer": "ipython3",
   "version": "3.12.9"
  }
 },
 "nbformat": 4,
 "nbformat_minor": 5
}
