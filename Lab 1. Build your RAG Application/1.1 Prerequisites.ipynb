{
 "cells": [
  {
   "cell_type": "markdown",
   "id": "c9e58641-fd5a-4b88-b07d-f187aba9676b",
   "metadata": {},
   "source": [
    "# Prerequisites\n",
    "\n",
    "1. Prepare documents to be used in Amazon Bedrock Knowledge Base.\n",
    "2. Add metadata to the input documents for advanced query features (covered in Lab2).\n",
    "3. Create required AWS resources to run the Bedrock Knowledge Base service.\n",
    "4. Create an Amazon OpenSearch Service collection as a vector store."
   ]
  },
  {
   "cell_type": "markdown",
   "id": "8dca54a5-0a31-493b-95d7-e14996bfa49b",
   "metadata": {},
   "source": [
    "### 1. Environment"
   ]
  },
  {
   "cell_type": "code",
   "execution_count": 1,
   "id": "79bc56f9-c071-4b62-820c-46aa8ecfd5f1",
   "metadata": {
    "scrolled": true
   },
   "outputs": [
    {
     "name": "stdout",
     "output_type": "stream",
     "text": [
      "Requirement already satisfied: boto3 in /opt/conda/lib/python3.12/site-packages (1.38.7)\n",
      "Requirement already satisfied: opensearch-py in /opt/conda/lib/python3.12/site-packages (2.8.0)\n",
      "Requirement already satisfied: botocore<1.39.0,>=1.38.7 in /opt/conda/lib/python3.12/site-packages (from boto3) (1.38.7)\n",
      "Requirement already satisfied: jmespath<2.0.0,>=0.7.1 in /opt/conda/lib/python3.12/site-packages (from boto3) (1.0.1)\n",
      "Requirement already satisfied: s3transfer<0.13.0,>=0.12.0 in /opt/conda/lib/python3.12/site-packages (from boto3) (0.12.0)\n",
      "Requirement already satisfied: urllib3!=2.2.0,!=2.2.1,<3,>=1.26.19 in /opt/conda/lib/python3.12/site-packages (from opensearch-py) (2.3.0)\n",
      "Requirement already satisfied: requests<3.0.0,>=2.32.0 in /opt/conda/lib/python3.12/site-packages (from opensearch-py) (2.32.3)\n",
      "Requirement already satisfied: python-dateutil in /opt/conda/lib/python3.12/site-packages (from opensearch-py) (2.9.0.post0)\n",
      "Requirement already satisfied: certifi>=2024.07.04 in /opt/conda/lib/python3.12/site-packages (from opensearch-py) (2025.1.31)\n",
      "Requirement already satisfied: Events in /opt/conda/lib/python3.12/site-packages (from opensearch-py) (0.5)\n",
      "Requirement already satisfied: six>=1.5 in /opt/conda/lib/python3.12/site-packages (from python-dateutil->opensearch-py) (1.17.0)\n",
      "Requirement already satisfied: charset_normalizer<4,>=2 in /opt/conda/lib/python3.12/site-packages (from requests<3.0.0,>=2.32.0->opensearch-py) (3.4.1)\n",
      "Requirement already satisfied: idna<4,>=2.5 in /opt/conda/lib/python3.12/site-packages (from requests<3.0.0,>=2.32.0->opensearch-py) (3.10)\n"
     ]
    }
   ],
   "source": [
    "# Update python packages\n",
    "!pip install -U boto3 opensearch-py 2>/dev/null"
   ]
  },
  {
   "cell_type": "code",
   "execution_count": 2,
   "id": "020dd9ee",
   "metadata": {},
   "outputs": [],
   "source": [
    "# Import utility functions\n",
    "import advanced_rag_utils as aru\n",
    "import boto3 \n",
    "\n",
    "# Suppress warnings for cleaner output\n",
    "aru.suppress_warnings()"
   ]
  },
  {
   "cell_type": "markdown",
   "id": "b152d6bd-4e06-40ed-b228-a00c2c249d06",
   "metadata": {},
   "source": [
    "#### Check which models have been enabled"
   ]
  },
  {
   "cell_type": "code",
   "execution_count": 3,
   "id": "b4686043-d045-4aef-93e6-33e61f649ce0",
   "metadata": {},
   "outputs": [],
   "source": [
    "# from list_bedrock_models import list_bedrock_models\n",
    "# list_bedrock_models()"
   ]
  },
  {
   "cell_type": "code",
   "execution_count": 4,
   "id": "1268baf2-ed49-4f96-bd3e-6f7c6f4fd2f0",
   "metadata": {},
   "outputs": [
    {
     "name": "stdout",
     "output_type": "stream",
     "text": [
      "AWS Account: 674655509879\n",
      "Role ARN: arn:aws:sts::674655509879:assumed-role/rag-workshop-cfn-SageMakerExecutionRole-6W441Foaa8qv/SageMaker\n"
     ]
    }
   ],
   "source": [
    "# Get AWS account information and set up authentication\n",
    "region_name = \"us-west-2\"\n",
    "aws_info = aru.get_aws_account_info(region_name)\n",
    "account_number = aws_info[\"account_number\"]\n",
    "role_arn = aws_info[\"role_arn\"]\n",
    "\n",
    "# Print account details for verification\n",
    "print(f\"AWS Account: {account_number}\")\n",
    "print(f\"Role ARN: {role_arn}\")"
   ]
  },
  {
   "cell_type": "code",
   "execution_count": 5,
   "id": "dc15787e-c2c3-4d48-bc59-37aff4dcb017",
   "metadata": {
    "scrolled": true
   },
   "outputs": [
    {
     "name": "stdout",
     "output_type": "stream",
     "text": [
      "S3 Bucket Name: 674655509879-us-west-2-advanced-rag-workshop\n",
      "Knowledge Base (AOSS): advanced-rag-workshop-knowledgebase-aoss\n",
      "Knowledge Base (GraphRAG): advanced-rag-workshop-knowledgebase-graphrag\n",
      "OpenSearch Vector Store Name: advancedrag\n",
      "OpenSearch Index Name Prefix: ws-index-\n"
     ]
    }
   ],
   "source": [
    "# Get resource names for the workshop\n",
    "resource_names = aru.get_resource_names(account_number, region_name)\n",
    "\n",
    "# Extract resource names\n",
    "s3_bucket_name = resource_names[\"s3_bucket_name\"]\n",
    "knowledge_base_name_aoss = resource_names[\"knowledge_base_name_aoss\"]\n",
    "knowledge_base_name_graphrag = resource_names[\"knowledge_base_name_graphrag\"]\n",
    "oss_vector_store_name = resource_names[\"oss_vector_store_name\"]\n",
    "oss_index_name = resource_names[\"oss_index_name\"]\n",
    "\n",
    "\n",
    "# Print resource names for verification\n",
    "print(f\"S3 Bucket Name: {s3_bucket_name}\")\n",
    "print(f\"Knowledge Base (AOSS): {knowledge_base_name_aoss}\")\n",
    "print(f\"Knowledge Base (GraphRAG): {knowledge_base_name_graphrag}\")\n",
    "print(f\"OpenSearch Vector Store Name: {oss_vector_store_name}\")\n",
    "print(f\"OpenSearch Index Name Prefix: {oss_index_name}\")"
   ]
  },
  {
   "cell_type": "markdown",
   "id": "b3cc22f1-4cd7-4ba3-b65c-2b4e4769c89f",
   "metadata": {},
   "source": [
    "### 2. Create required AWS resources "
   ]
  },
  {
   "cell_type": "markdown",
   "id": "d11565dc-2a2c-43b4-8c88-1b5c20cc8f5a",
   "metadata": {},
   "source": [
    "#### IAM Role"
   ]
  },
  {
   "cell_type": "code",
   "execution_count": 6,
   "id": "d9e49512-7872-4610-a990-554b8fd5a043",
   "metadata": {},
   "outputs": [
    {
     "name": "stdout",
     "output_type": "stream",
     "text": [
      "sagemaker.config INFO - Not applying SDK defaults from location: /etc/xdg/sagemaker/config.yaml\n",
      "sagemaker.config INFO - Not applying SDK defaults from location: /home/sagemaker-user/.config/sagemaker/config.yaml\n",
      "CloudWatch full access policy attached to advanced-rag-workshop-bedrock_execution_role-us-west-2\n",
      "Bedrock logging policy attached to advanced-rag-workshop-bedrock_execution_role-us-west-2\n",
      "Waiting for IAM changes to propagate...\n",
      "Created Bedrock Knowledge Base Execution Role ARN: arn:aws:iam::674655509879:role/advanced-rag-workshop-bedrock_execution_role-us-west-2\n"
     ]
    }
   ],
   "source": [
    "from bedrock_excution_iam_role import AdvancedRagIamRoles\n",
    "\n",
    "# Initialize IAM role handler\n",
    "bedrock_execution_iam_role = AdvancedRagIamRoles(account_number, region_name)\n",
    "\n",
    "# Create or retrieve Bedrock execution role\n",
    "bedrock_kb_execution_role_arn = aru.create_bedrock_execution_role(\n",
    "    role_handler=bedrock_execution_iam_role,\n",
    "    s3_bucket_name=s3_bucket_name\n",
    ")"
   ]
  },
  {
   "cell_type": "code",
   "execution_count": 7,
   "id": "28114f2c-13b5-48d0-bc70-5d20d1f186cd",
   "metadata": {},
   "outputs": [
    {
     "name": "stdout",
     "output_type": "stream",
     "text": [
      "arn:aws:iam::674655509879:role/advanced-rag-workshop-bedrock_execution_role-us-west-2\n"
     ]
    },
    {
     "data": {
      "text/plain": [
       "{'ResponseMetadata': {'RequestId': '71d27891-9340-4255-af28-78234d8f927b',\n",
       "  'HTTPStatusCode': 200,\n",
       "  'HTTPHeaders': {'date': 'Fri, 02 May 2025 06:13:57 GMT',\n",
       "   'content-type': 'application/json',\n",
       "   'content-length': '2',\n",
       "   'connection': 'keep-alive',\n",
       "   'x-amzn-requestid': '71d27891-9340-4255-af28-78234d8f927b'},\n",
       "  'RetryAttempts': 0}}"
      ]
     },
     "execution_count": 7,
     "metadata": {},
     "output_type": "execute_result"
    }
   ],
   "source": [
    "aru.create_cloudwatch_log_group(log_group_name=\"AdvancedRAGWSLogGroup\")\n",
    "role_name = \"advanced-rag-workshop-bedrock_execution_role-us-west-2\"\n",
    "br_role_arn = f\"arn:aws:iam::{account_number}:role/{role_name}\"\n",
    "print(br_role_arn) \n",
    "\n",
    "client = boto3.client('bedrock')\n",
    "update_log_group_response = client.put_model_invocation_logging_configuration(\n",
    "    loggingConfig={\n",
    "        'cloudWatchConfig': {\n",
    "            'logGroupName': 'AdvancedRAGWSLogGroup',\n",
    "            'roleArn': br_role_arn\n",
    "        }\n",
    "    }\n",
    ")\n",
    "update_log_group_response"
   ]
  },
  {
   "cell_type": "markdown",
   "id": "33f48397-af48-4cb0-81b0-7e4fd7f535aa",
   "metadata": {},
   "source": [
    "#### S3 bucket"
   ]
  },
  {
   "cell_type": "code",
   "execution_count": 8,
   "id": "1b53de93-f6b9-4835-807c-eaf7dd772ede",
   "metadata": {},
   "outputs": [
    {
     "name": "stdout",
     "output_type": "stream",
     "text": [
      "Bucket '674655509879-us-west-2-advanced-rag-workshop' already exists.\n"
     ]
    },
    {
     "data": {
      "text/plain": [
       "True"
      ]
     },
     "execution_count": 8,
     "metadata": {},
     "output_type": "execute_result"
    }
   ],
   "source": [
    "# Create the S3 bucket if it doesn't exist\n",
    "aru.create_s3_bucket(s3_bucket_name, region_name)"
   ]
  },
  {
   "cell_type": "markdown",
   "id": "2624af69-c171-478f-a1be-3bce4c32aefb",
   "metadata": {},
   "source": [
    "### 3. Preparing Data Sources with .metadata.json"
   ]
  },
  {
   "cell_type": "markdown",
   "id": "3caef98c-b9c6-40a6-9dfa-c0ab2984f55c",
   "metadata": {},
   "source": [
    "### Role of Metadata While Indexing Data in Vector Databases  \n",
    "\n",
    "Metadata provides additional context and information about the documents, which can be used to filter, sort, and improve search accuracy. This not only helps reduce the search latency but also helps increase accuracy of responses.  \n",
    "\n",
    "The following are some key uses of metadata when loading documents into a vector data store:  \n",
    "\n",
    "- **Document Identification** – Metadata can include unique identifiers for each document, such as document IDs, URLs, or file names. These identifiers can be used to uniquely reference and retrieve specific documents from the vector data store.  \n",
    "- **Content Categorization** – Metadata can provide information about the content or category of a document, such as the subject matter, domain, or topic. This information can be used to organize and filter documents based on specific categories or domains.  \n",
    "- **Document Attributes** – Metadata can store additional attributes related to the document, such as the author, publication date, language, or any other relevant information. These attributes can be used for filtering, sorting, or faceted search within the vector data store.  \n",
    "- **Access Control** – Metadata can include information about access permissions or security levels associated with a document. This information can be used to control access to sensitive or restricted documents within the vector data store.  \n",
    "- **Relevance Scoring** – Metadata can be used to enhance the relevance scoring of search results. For example, if a user searches for documents within a specific date range or authored by a particular individual, the metadata can be used to prioritize and rank the most relevant documents.  \n",
    "- **Data Enrichment** – Metadata can be used to enrich the vector representations of documents by incorporating additional contextual information. This can potentially improve the accuracy and quality of search results.  \n",
    "- **Data Lineage and Auditing** – Metadata can provide information about the provenance and lineage of documents, such as the source system, data ingestion pipeline, or any transformations applied to the data. This information can be valuable for data governance, auditing, and compliance purposes.  \n"
   ]
  },
  {
   "cell_type": "markdown",
   "id": "83f0ca6f-68c8-40c9-bbef-75aa0fd4dc48",
   "metadata": {},
   "source": [
    "#### 3.1 Unstructured (PDF) document"
   ]
  },
  {
   "cell_type": "markdown",
   "id": "acd13c19-f890-4392-bf8d-fd7221f86346",
   "metadata": {},
   "source": [
    "#### Amazon Science papers"
   ]
  },
  {
   "cell_type": "code",
   "execution_count": 9,
   "id": "c933b1e9-74b4-4061-921a-7cc60c909d25",
   "metadata": {},
   "outputs": [],
   "source": [
    "# Download Amazon Science papers, prepare metadata, and upload to S3\n",
    "aru.download_and_prepare_science_papers(s3_bucket_name, region_name)"
   ]
  },
  {
   "cell_type": "markdown",
   "id": "e63ce136-960b-4848-8a68-bbcf45aa6a19",
   "metadata": {},
   "source": [
    "#### Amazon 10-K filings"
   ]
  },
  {
   "cell_type": "code",
   "execution_count": 10,
   "id": "24be2c40-eabc-4661-bf0f-6800cd38433a",
   "metadata": {},
   "outputs": [],
   "source": [
    "# Download Amazon 10-K reports, prepare metadata, and upload to S3\n",
    "aru.download_and_prepare_10k_reports(s3_bucket_name, region_name)"
   ]
  },
  {
   "cell_type": "markdown",
   "id": "03b7d891-3087-47f0-a89f-eacca3e89a59",
   "metadata": {},
   "source": [
    "#### 3.2 Metadata customization for CSV files\n",
    "The data is downloaded from [here](https://github.com/ali-ce/datasets) and it is licensed under [Creative Commons Attribution-ShareAlike 4.0 International license](https://github.com/ali-ce/datasets/blob/master/README.md#:~:text=Creative%20Commons%20Attribution%2DShareAlike%204.0%20International%20License.)."
   ]
  },
  {
   "cell_type": "code",
   "execution_count": 11,
   "id": "87e32ceb-34e5-46de-9f5b-003f338825b4",
   "metadata": {},
   "outputs": [
    {
     "name": "stdout",
     "output_type": "stream",
     "text": [
      "CSV file downloaded successfully: ./videogame/video_games.csv\n",
      "JSON metadata file './videogame/video_games.metadata.json' has been generated.\n"
     ]
    }
   ],
   "source": [
    "# Download CSV data, prepare metadata, and upload to S3\n",
    "aru.download_and_prepare_csv_data(s3_bucket_name, region_name)"
   ]
  },
  {
   "cell_type": "markdown",
   "id": "39804c97-de8b-4ec5-99c5-e5afa076f649",
   "metadata": {},
   "source": [
    "### 4. Create a Vector Store using Amazon Open Search Serveless"
   ]
  },
  {
   "cell_type": "markdown",
   "id": "e5c7f5c7-71f3-4e80-9450-3c23be65cb8d",
   "metadata": {},
   "source": [
    "#### 4.1 Amazon OpenSearch Vector Collection  \n",
    "This will be used in Amazon Bedrock Knowledge Bases.  \n",
    "\n",
    "### **Code Steps:**  \n",
    "1. **Create security, network, and data access policies** within Amazon OpenSearch Serverless.  \n",
    "   - These will be assigned to the OpenSearch Vector Collection.  \n",
    "2. **Create an OpenSearch Serverless Vector Collection.**  \n",
    "3. **Retrieve the OpenSearch Serverless collection URL** for the Vector Collection created above.  \n",
    "4. **Wait for the Vector Collection** to reach the \"Ready\" state.  \n",
    "5. **Create an OpenSearch Serverless access policy** and attach it to the Bedrock execution role.\n",
    "\n",
    "\n",
    "> **Note**: This process will take approximately 4-5 minutes to complete. The system is creating security policies, network configurations, and a vector collection for storing embeddings."
   ]
  },
  {
   "cell_type": "code",
   "execution_count": 12,
   "id": "75f54cc5-d1e0-4ce6-be05-f066fcc90911",
   "metadata": {
    "scrolled": true
   },
   "outputs": [
    {
     "name": "stdout",
     "output_type": "stream",
     "text": [
      "Creating OpenSearch Serverless vector collection. This process will take approximately 4-5 minutes...\n",
      "Encryption policy already exists or error: An error occurred (ConflictException) when calling the CreateSecurityPolicy operation: Policy with name advanced-rag-enc-policy2 and type encryption already exists\n",
      "Network policy already exists or error: An error occurred (ConflictException) when calling the CreateSecurityPolicy operation: Policy with name advanced-rag-network-policy2 and type network already exists\n",
      "Access policy already exists or error: An error occurred (ConflictException) when calling the CreateAccessPolicy operation: Policy with name advanced-rag-access-policy2 and type data already exists\n",
      "Error: cannot access local variable 'encryption_policy' where it is not associated with a value\n",
      "Policies already exist or were not created properly.\n",
      "Collection 'advancedrag' already exists.\n",
      "Collection Host URL: itgjkhz5b0epjlrptxql.us-west-2.aoss.amazonaws.com\n",
      "{'collectionDetails': [{'id': 'itgjkhz5b0epjlrptxql', 'name': 'advancedrag', 'status': 'ACTIVE', 'type': 'VECTORSEARCH', 'arn': 'arn:aws:aoss:us-west-2:674655509879:collection/itgjkhz5b0epjlrptxql', 'kmsKeyArn': 'auto', 'standbyReplicas': 'ENABLED', 'createdDate': 1746165728090, 'lastModifiedDate': 1746165933690, 'collectionEndpoint': 'https://itgjkhz5b0epjlrptxql.us-west-2.aoss.amazonaws.com', 'dashboardEndpoint': 'https://itgjkhz5b0epjlrptxql.us-west-2.aoss.amazonaws.com/_dashboards'}], 'collectionErrorDetails': [], 'ResponseMetadata': {'RequestId': 'd5efcba1-becf-4355-90fd-474c32c10212', 'HTTPStatusCode': 200, 'HTTPHeaders': {'x-amzn-requestid': 'd5efcba1-becf-4355-90fd-474c32c10212', 'date': 'Fri, 02 May 2025 06:13:59 GMT', 'content-type': 'application/x-amz-json-1.0', 'content-length': '499', 'connection': 'keep-alive'}, 'RetryAttempts': 0}}\n",
      "\n",
      "Collection successfully created!\n",
      "{'Policy': {'PolicyName': 'advanced-rag-oss-policy-us-west-2', 'PolicyId': 'ANPAZ2FE2DV3T2ZTZ565Q', 'Arn': 'arn:aws:iam::674655509879:policy/advanced-rag-oss-policy-us-west-2', 'Path': '/', 'DefaultVersionId': 'v1', 'AttachmentCount': 0, 'PermissionsBoundaryUsageCount': 0, 'IsAttachable': True, 'CreateDate': datetime.datetime(2025, 5, 2, 6, 13, 59, tzinfo=tzlocal()), 'UpdateDate': datetime.datetime(2025, 5, 2, 6, 13, 59, tzinfo=tzlocal())}, 'ResponseMetadata': {'RequestId': '2c3a093d-16da-4ad3-b358-e185a73a140b', 'HTTPStatusCode': 200, 'HTTPHeaders': {'date': 'Fri, 02 May 2025 06:13:59 GMT', 'x-amzn-requestid': '2c3a093d-16da-4ad3-b358-e185a73a140b', 'content-type': 'text/xml', 'content-length': '801'}, 'RetryAttempts': 0}}\n",
      "created oss policy successfully, proceeding to attach policy\n",
      "Successfully attached oss policy to Bedrock Execution Role\n"
     ]
    }
   ],
   "source": [
    "import boto3\n",
    "\n",
    "# Initialize the OpenSearch Serverless client\n",
    "aoss = boto3.client(\"opensearchserverless\", region_name=region_name)\n",
    "\n",
    "print(\"Creating OpenSearch Serverless vector collection. This process will take approximately 4-5 minutes...\")\n",
    "\n",
    "# Create security, network, and data access policies for OpenSearch\n",
    "policies = aru.create_opensearch_policies(\n",
    "    iam_role_handler=bedrock_execution_iam_role,\n",
    "    vector_store_name=oss_vector_store_name,\n",
    "    aoss_client=aoss,\n",
    "    execution_role_arn=bedrock_kb_execution_role_arn\n",
    ")\n",
    "\n",
    "# Create OpenSearch Serverless Vector Collection\n",
    "collection_id, host = aru.create_opensearch_collection(\n",
    "    aoss_client=aoss,\n",
    "    collection_name=oss_vector_store_name,\n",
    "    region_name=region_name\n",
    ")\n",
    "\n",
    "# Wait for collection to become active\n",
    "aru.wait_for_collection_active(aoss, oss_vector_store_name)\n",
    "\n",
    "# Create OpenSearch access policy and attach to Bedrock execution role\n",
    "# aru.create_opensearch_access_policy(\n",
    "#     iam_role_handler=bedrock_execution_iam_role,\n",
    "#     collection_id=collection_id,\n",
    "#     execution_role=bedrock_kb_execution_role_arn\n",
    "# )\n",
    "\n",
    "aru.create_oss_policy_attach_bedrock_execution_role(\n",
    "        bedrock_kb_execution_role=role_name,\n",
    "        collection_id=collection_id,\n",
    "        account_number=account_number,\n",
    "        region_name=region_name\n",
    "        \n",
    "   )\n"
   ]
  },
  {
   "attachments": {
    "b8173a1c-3789-4273-84bf-83fa40b4290f.png": {
     "image/png": "[encoded data removed]"
    }
   },
   "cell_type": "markdown",
   "id": "4b1d0dcd-8a40-4f1c-b8d7-633435a99573",
   "metadata": {},
   "source": [
    "#### 4.2 Create an index for the collection\n",
    "\n",
    "This index will be managed via Bedrock Knowledge Bases.\n",
    "\n",
    "**Code Steps:**\n",
    "\n",
    "1. **Create Index Body JSON**: Define the metadata or index structure that will be used for indexing in the OpenSearch Vector Collection.\n",
    "   \n",
    "2. **Create OpenSearch Object**: Instantiate an object of the `OpenSearch` class from the `opensearchpy` Python module. This object will be used to connect to the OpenSearch Vector Collection.\n",
    "\n",
    "3. **Create Index**: Using the OpenSearch object and the index body JSON, create the index in the OpenSearch Vector Collection.\n",
    "\n",
    "   ![chunking-strategies.png](attachment:b8173a1c-3789-4273-84bf-83fa40b4290f.png)\n"
   ]
  },
  {
   "cell_type": "code",
   "execution_count": 14,
   "id": "c013d7e6-faf3-42a7-92db-0cc1dabdc6de",
   "metadata": {},
   "outputs": [
    {
     "data": {
      "text/html": [
       "<pre style=\"white-space:pre;overflow-x:auto;line-height:normal;font-family:Menlo,'DejaVu Sans Mono',consolas,'Courier New',monospace\"><span style=\"color: #7fbfbf; text-decoration-color: #7fbfbf\">[05/02/25 06:14:37] </span><span style=\"color: #0069ff; text-decoration-color: #0069ff; font-weight: bold\">INFO    </span> <span style=\"color: #d7af00; text-decoration-color: #d7af00; font-weight: bold\">PUT</span>                                                                        <a href=\"file:///opt/conda/lib/python3.12/site-packages/opensearchpy/connection/base.py\" target=\"_blank\"><span style=\"color: #7f7f7f; text-decoration-color: #7f7f7f\">base.py</span></a><span style=\"color: #7f7f7f; text-decoration-color: #7f7f7f\">:</span><a href=\"file:///opt/conda/lib/python3.12/site-packages/opensearchpy/connection/base.py#258\" target=\"_blank\"><span style=\"color: #7f7f7f; text-decoration-color: #7f7f7f\">258</span></a>\n",
       "<span style=\"color: #7fbfbf; text-decoration-color: #7fbfbf\">                    </span>         <span style=\"color: #0069ff; text-decoration-color: #0069ff; text-decoration: underline\">https://itgjkhz5b0epjlrptxql.us-west-2.aoss.amazonaws.com:443/ws-index-fix</span> <span style=\"color: #7f7f7f; text-decoration-color: #7f7f7f\">           </span>\n",
       "<span style=\"color: #7fbfbf; text-decoration-color: #7fbfbf\">                    </span>         <span style=\"color: #0069ff; text-decoration-color: #0069ff; text-decoration: underline\">ed</span>                                                                         <span style=\"color: #7f7f7f; text-decoration-color: #7f7f7f\">           </span>\n",
       "</pre>\n"
      ],
      "text/plain": [
       "\u001b[2;36m[05/02/25 06:14:37]\u001b[0m\u001b[2;36m \u001b[0m\u001b[1;38;2;0;105;255mINFO    \u001b[0m \u001b[1;38;2;215;175;0mPUT\u001b[0m                                                                        \u001b]8;id=873049;file:///opt/conda/lib/python3.12/site-packages/opensearchpy/connection/base.py\u001b\\\u001b[2mbase.py\u001b[0m\u001b]8;;\u001b\\\u001b[2m:\u001b[0m\u001b]8;id=932338;file:///opt/conda/lib/python3.12/site-packages/opensearchpy/connection/base.py#258\u001b\\\u001b[2m258\u001b[0m\u001b]8;;\u001b\\\n",
       "\u001b[2;36m                    \u001b[0m         \u001b[4;38;2;0;105;255mhttps://itgjkhz5b0epjlrptxql.us-west-2.aoss.amazonaws.com:443/ws-index-fix\u001b[0m \u001b[2m           \u001b[0m\n",
       "\u001b[2;36m                    \u001b[0m         \u001b[4;38;2;0;105;255med\u001b[0m                                                                         \u001b[2m           \u001b[0m\n"
      ]
     },
     "metadata": {},
     "output_type": "display_data"
    },
    {
     "name": "stdout",
     "output_type": "stream",
     "text": [
      "Creating Index: ws-index-fixed...\n"
     ]
    },
    {
     "data": {
      "text/html": [
       "<pre style=\"white-space:pre;overflow-x:auto;line-height:normal;font-family:Menlo,'DejaVu Sans Mono',consolas,'Courier New',monospace\"><span style=\"color: #7fbfbf; text-decoration-color: #7fbfbf\">                    </span><span style=\"color: #0069ff; text-decoration-color: #0069ff; font-weight: bold\">INFO    </span> <span style=\"color: #d7af00; text-decoration-color: #d7af00; font-weight: bold\">PUT</span>                                                                        <a href=\"file:///opt/conda/lib/python3.12/site-packages/opensearchpy/connection/base.py\" target=\"_blank\"><span style=\"color: #7f7f7f; text-decoration-color: #7f7f7f\">base.py</span></a><span style=\"color: #7f7f7f; text-decoration-color: #7f7f7f\">:</span><a href=\"file:///opt/conda/lib/python3.12/site-packages/opensearchpy/connection/base.py#258\" target=\"_blank\"><span style=\"color: #7f7f7f; text-decoration-color: #7f7f7f\">258</span></a>\n",
       "<span style=\"color: #7fbfbf; text-decoration-color: #7fbfbf\">                    </span>         <span style=\"color: #0069ff; text-decoration-color: #0069ff; text-decoration: underline\">https://itgjkhz5b0epjlrptxql.us-west-2.aoss.amazonaws.com:443/ws-index-hie</span> <span style=\"color: #7f7f7f; text-decoration-color: #7f7f7f\">           </span>\n",
       "<span style=\"color: #7fbfbf; text-decoration-color: #7fbfbf\">                    </span>         <span style=\"color: #0069ff; text-decoration-color: #0069ff; text-decoration: underline\">rarchical</span>                                                                  <span style=\"color: #7f7f7f; text-decoration-color: #7f7f7f\">           </span>\n",
       "</pre>\n"
      ],
      "text/plain": [
       "\u001b[2;36m                   \u001b[0m\u001b[2;36m \u001b[0m\u001b[1;38;2;0;105;255mINFO    \u001b[0m \u001b[1;38;2;215;175;0mPUT\u001b[0m                                                                        \u001b]8;id=29833;file:///opt/conda/lib/python3.12/site-packages/opensearchpy/connection/base.py\u001b\\\u001b[2mbase.py\u001b[0m\u001b]8;;\u001b\\\u001b[2m:\u001b[0m\u001b]8;id=47727;file:///opt/conda/lib/python3.12/site-packages/opensearchpy/connection/base.py#258\u001b\\\u001b[2m258\u001b[0m\u001b]8;;\u001b\\\n",
       "\u001b[2;36m                    \u001b[0m         \u001b[4;38;2;0;105;255mhttps://itgjkhz5b0epjlrptxql.us-west-2.aoss.amazonaws.com:443/ws-index-hie\u001b[0m \u001b[2m           \u001b[0m\n",
       "\u001b[2;36m                    \u001b[0m         \u001b[4;38;2;0;105;255mrarchical\u001b[0m                                                                  \u001b[2m           \u001b[0m\n"
      ]
     },
     "metadata": {},
     "output_type": "display_data"
    },
    {
     "name": "stdout",
     "output_type": "stream",
     "text": [
      "Creating Index: ws-index-hierarchical...\n"
     ]
    },
    {
     "data": {
      "text/html": [
       "<pre style=\"white-space:pre;overflow-x:auto;line-height:normal;font-family:Menlo,'DejaVu Sans Mono',consolas,'Courier New',monospace\"><span style=\"color: #7fbfbf; text-decoration-color: #7fbfbf\">                    </span><span style=\"color: #0069ff; text-decoration-color: #0069ff; font-weight: bold\">INFO    </span> <span style=\"color: #d7af00; text-decoration-color: #d7af00; font-weight: bold\">PUT</span>                                                                        <a href=\"file:///opt/conda/lib/python3.12/site-packages/opensearchpy/connection/base.py\" target=\"_blank\"><span style=\"color: #7f7f7f; text-decoration-color: #7f7f7f\">base.py</span></a><span style=\"color: #7f7f7f; text-decoration-color: #7f7f7f\">:</span><a href=\"file:///opt/conda/lib/python3.12/site-packages/opensearchpy/connection/base.py#258\" target=\"_blank\"><span style=\"color: #7f7f7f; text-decoration-color: #7f7f7f\">258</span></a>\n",
       "<span style=\"color: #7fbfbf; text-decoration-color: #7fbfbf\">                    </span>         <span style=\"color: #0069ff; text-decoration-color: #0069ff; text-decoration: underline\">https://itgjkhz5b0epjlrptxql.us-west-2.aoss.amazonaws.com:443/ws-index-sem</span> <span style=\"color: #7f7f7f; text-decoration-color: #7f7f7f\">           </span>\n",
       "<span style=\"color: #7fbfbf; text-decoration-color: #7fbfbf\">                    </span>         <span style=\"color: #0069ff; text-decoration-color: #0069ff; text-decoration: underline\">antic</span>                                                                      <span style=\"color: #7f7f7f; text-decoration-color: #7f7f7f\">           </span>\n",
       "</pre>\n"
      ],
      "text/plain": [
       "\u001b[2;36m                   \u001b[0m\u001b[2;36m \u001b[0m\u001b[1;38;2;0;105;255mINFO    \u001b[0m \u001b[1;38;2;215;175;0mPUT\u001b[0m                                                                        \u001b]8;id=566372;file:///opt/conda/lib/python3.12/site-packages/opensearchpy/connection/base.py\u001b\\\u001b[2mbase.py\u001b[0m\u001b]8;;\u001b\\\u001b[2m:\u001b[0m\u001b]8;id=767663;file:///opt/conda/lib/python3.12/site-packages/opensearchpy/connection/base.py#258\u001b\\\u001b[2m258\u001b[0m\u001b]8;;\u001b\\\n",
       "\u001b[2;36m                    \u001b[0m         \u001b[4;38;2;0;105;255mhttps://itgjkhz5b0epjlrptxql.us-west-2.aoss.amazonaws.com:443/ws-index-sem\u001b[0m \u001b[2m           \u001b[0m\n",
       "\u001b[2;36m                    \u001b[0m         \u001b[4;38;2;0;105;255mantic\u001b[0m                                                                      \u001b[2m           \u001b[0m\n"
      ]
     },
     "metadata": {},
     "output_type": "display_data"
    },
    {
     "name": "stdout",
     "output_type": "stream",
     "text": [
      "Creating Index: ws-index-semantic...\n"
     ]
    },
    {
     "data": {
      "text/html": [
       "<pre style=\"white-space:pre;overflow-x:auto;line-height:normal;font-family:Menlo,'DejaVu Sans Mono',consolas,'Courier New',monospace\"><span style=\"color: #7fbfbf; text-decoration-color: #7fbfbf\">                    </span><span style=\"color: #0069ff; text-decoration-color: #0069ff; font-weight: bold\">INFO    </span> <span style=\"color: #d7af00; text-decoration-color: #d7af00; font-weight: bold\">PUT</span>                                                                        <a href=\"file:///opt/conda/lib/python3.12/site-packages/opensearchpy/connection/base.py\" target=\"_blank\"><span style=\"color: #7f7f7f; text-decoration-color: #7f7f7f\">base.py</span></a><span style=\"color: #7f7f7f; text-decoration-color: #7f7f7f\">:</span><a href=\"file:///opt/conda/lib/python3.12/site-packages/opensearchpy/connection/base.py#258\" target=\"_blank\"><span style=\"color: #7f7f7f; text-decoration-color: #7f7f7f\">258</span></a>\n",
       "<span style=\"color: #7fbfbf; text-decoration-color: #7fbfbf\">                    </span>         <span style=\"color: #0069ff; text-decoration-color: #0069ff; text-decoration: underline\">https://itgjkhz5b0epjlrptxql.us-west-2.aoss.amazonaws.com:443/ws-index-cus</span> <span style=\"color: #7f7f7f; text-decoration-color: #7f7f7f\">           </span>\n",
       "<span style=\"color: #7fbfbf; text-decoration-color: #7fbfbf\">                    </span>         <span style=\"color: #0069ff; text-decoration-color: #0069ff; text-decoration: underline\">tom</span>                                                                        <span style=\"color: #7f7f7f; text-decoration-color: #7f7f7f\">           </span>\n",
       "</pre>\n"
      ],
      "text/plain": [
       "\u001b[2;36m                   \u001b[0m\u001b[2;36m \u001b[0m\u001b[1;38;2;0;105;255mINFO    \u001b[0m \u001b[1;38;2;215;175;0mPUT\u001b[0m                                                                        \u001b]8;id=576986;file:///opt/conda/lib/python3.12/site-packages/opensearchpy/connection/base.py\u001b\\\u001b[2mbase.py\u001b[0m\u001b]8;;\u001b\\\u001b[2m:\u001b[0m\u001b]8;id=423799;file:///opt/conda/lib/python3.12/site-packages/opensearchpy/connection/base.py#258\u001b\\\u001b[2m258\u001b[0m\u001b]8;;\u001b\\\n",
       "\u001b[2;36m                    \u001b[0m         \u001b[4;38;2;0;105;255mhttps://itgjkhz5b0epjlrptxql.us-west-2.aoss.amazonaws.com:443/ws-index-cus\u001b[0m \u001b[2m           \u001b[0m\n",
       "\u001b[2;36m                    \u001b[0m         \u001b[4;38;2;0;105;255mtom\u001b[0m                                                                        \u001b[2m           \u001b[0m\n"
      ]
     },
     "metadata": {},
     "output_type": "display_data"
    },
    {
     "name": "stdout",
     "output_type": "stream",
     "text": [
      "Creating Index: ws-index-custom...\n",
      "Index Creation Process Completed.\n"
     ]
    }
   ],
   "source": [
    "# Create indexes for different chunking strategies\n",
    "aru.create_opensearch_index(\n",
    "    collection_host=host,\n",
    "    index_name_prefix=oss_index_name,\n",
    "    region_name=region_name\n",
    ")"
   ]
  },
  {
   "cell_type": "markdown",
   "id": "b9da1be5-ae6d-4fcf-afe5-26c7fe6e7389",
   "metadata": {},
   "source": [
    "### Export variables to a file for the next lab\n",
    "\n",
    "> **Note**: We're saving all the important configuration variables to a JSON file so they can be easily accessed in subsequent notebooks. This ensures consistency and prevents the need to recreate these resources for each notebook in the workshop."
   ]
  },
  {
   "cell_type": "code",
   "execution_count": 15,
   "id": "ac9231e9",
   "metadata": {},
   "outputs": [
    {
     "name": "stdout",
     "output_type": "stream",
     "text": [
      "Variables saved to ../variables.json\n"
     ]
    }
   ],
   "source": [
    "# Create a collection ARN using the standard format\n",
    "collection_arn = f\"arn:aws:aoss:{region_name}:{account_number}:collection/{collection_id}\"\n",
    "\n",
    "# Prepare variables to save\n",
    "variables_to_save = {\n",
    "    \"accountNumber\": account_number,\n",
    "    \"regionName\": region_name,\n",
    "    \"collectionArn\": collection_arn,\n",
    "    \"collectionId\": collection_id,\n",
    "    \"vectorIndexName\": oss_index_name,\n",
    "    \"bedrockExecutionRoleArn\": bedrock_kb_execution_role_arn,\n",
    "    \"s3Bucket\": s3_bucket_name\n",
    "}\n",
    "\n",
    "# Save variables to JSON file\n",
    "aru.save_variables_to_json(variables_to_save, \"../variables.json\")"
   ]
  }
 ],
 "metadata": {
  "kernelspec": {
   "display_name": "Python 3 (ipykernel)",
   "language": "python",
   "name": "python3"
  },
  "language_info": {
   "codemirror_mode": {
    "name": "ipython",
    "version": 3
   },
   "file_extension": ".py",
   "mimetype": "text/x-python",
   "name": "python",
   "nbconvert_exporter": "python",
   "pygments_lexer": "ipython3",
   "version": "3.12.9"
  }
 },
 "nbformat": 4,
 "nbformat_minor": 5
}
