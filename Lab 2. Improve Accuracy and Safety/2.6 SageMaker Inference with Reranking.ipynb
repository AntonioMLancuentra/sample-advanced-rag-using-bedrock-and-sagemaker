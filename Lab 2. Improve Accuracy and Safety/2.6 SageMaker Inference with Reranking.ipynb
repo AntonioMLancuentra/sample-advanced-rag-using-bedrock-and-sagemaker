{
 "cells": [
  {
   "cell_type": "markdown",
   "id": "34f684c8-b863-4dc7-86b5-2d6632d3d7df",
   "metadata": {},
   "source": [
    "# Bedrock Knowledge Base Retrieval and Generation with SageMaker Inference and Reranking"
   ]
  },
  {
   "cell_type": "markdown",
   "id": "3b61f7ef",
   "metadata": {},
   "source": [
    "![Reranking](./reranking.png)"
   ]
  },
  {
   "cell_type": "markdown",
   "id": "import-section",
   "metadata": {},
   "source": [
    "## 1: Import Required Functions"
   ]
  },
  {
   "cell_type": "code",
   "execution_count": 1,
   "id": "import-cell",
   "metadata": {},
   "outputs": [],
   "source": [
    "# Import necessary functions from advanced_rag_utils\n",
    "from advanced_rag_utils import (\n",
    "    load_variables,\n",
    "    setup_bedrock_client,\n",
    "    format_llama3_prompt,\n",
    "    search_knowledge_base_with_reranking,\n",
    "    enhanced_generate_sagemaker_response,\n",
    "    compare_reranking\n",
    ")\n",
    "\n",
    "# For the boto3 import\n",
    "import boto3"
   ]
  },
  {
   "cell_type": "markdown",
   "id": "fc3fef89-4586-4c15-a088-9b491fb7329b",
   "metadata": {},
   "source": [
    "## 2: Load Configuration Variables"
   ]
  },
  {
   "cell_type": "code",
   "execution_count": 2,
   "id": "6e7f2da5-8c58-4826-a216-fcd1c1c5cc9b",
   "metadata": {},
   "outputs": [
    {
     "data": {
      "text/plain": [
       "{'accountNumber': '977018081517',\n",
       " 'regionName': 'us-west-2',\n",
       " 'collectionArn': 'arn:aws:aoss:us-west-2:977018081517:collection/x6j41w4wldt22s0mc4oa',\n",
       " 'collectionId': 'x6j41w4wldt22s0mc4oa',\n",
       " 'vectorIndexName': 'ws-index-',\n",
       " 'bedrockExecutionRoleArn': 'arn:aws:iam::977018081517:role/advanced-rag-workshop-bedrock_execution_role-us-west-2',\n",
       " 's3Bucket': '977018081517-us-west-2-advanced-rag-workshop',\n",
       " 'kbFixedChunk': 'WFJRA66ARJ',\n",
       " 'kbSemanticChunk': 'XRQUIKPQAB',\n",
       " 'kbHierarchicalChunk': 'DBCDV6VOVB',\n",
       " 'kbCustomChunk': 'SVUWGDQTQZ',\n",
       " 'sagemakerLLMEndpoint': 'endpoint-llama-3-2-3b-instruct-2025-05-01-17-04-39',\n",
       " 'guardrail_id': 'vcd1cw90tu5w',\n",
       " 'guardrail_version': '1'}"
      ]
     },
     "execution_count": 2,
     "metadata": {},
     "output_type": "execute_result"
    }
   ],
   "source": [
    "# Load the configuration variables\n",
    "variables = load_variables(\"../variables.json\")\n",
    "variables"
   ]
  },
  {
   "cell_type": "markdown",
   "id": "8c726e87-7ada-412e-9d61-60dd3a0066c8",
   "metadata": {},
   "source": [
    "## 3: Define Configuration Details"
   ]
  },
  {
   "cell_type": "code",
   "execution_count": 3,
   "id": "a3ec1a90-e111-4077-a35b-26d620aaa7ae",
   "metadata": {},
   "outputs": [],
   "source": [
    "# Knowledge Base Selection  \n",
    "kb_id = variables[\"kbFixedChunk\"]  # Options: \"kbFixedChunk\", \"kbHierarchicalChunk\", \"kbSemanticChunk\"\n",
    "\n",
    "# SageMaker endpoint\n",
    "sagemaker_endpoint = variables['sagemakerLLMEndpoint']\n",
    "\n",
    "# Retrieval-Augmented Generation (RAG) Configuration  \n",
    "number_of_results = 10  # Number of relevant documents to retrieve  \n",
    "generation_configuration = {\n",
    "    \"temperature\": 0,  # Lower temperature for more deterministic responses  \n",
    "    \"top_k\": 10,  # Consider top 10 tokens at each generation step  \n",
    "    \"max_new_tokens\": 5000,  # Maximum number of tokens to generate  \n",
    "    \"stop\": \"<|eot_id|>\"  # Stop sequence to end the response generation  \n",
    "}\n",
    "\n",
    "# Define ARN for the reranking model\n",
    "rerank_model_arn = \"arn:aws:bedrock:us-west-2::foundation-model/cohere.rerank-v3-5:0\"\n",
    "\n",
    "# Default user query\n",
    "query = \"what was the % increase in sales?\""
   ]
  },
  {
   "cell_type": "markdown",
   "id": "4a4a73e5-d254-4acc-9f88-78e1b2a0bd69",
   "metadata": {},
   "source": [
    "## 4: Initialize Bedrock Client"
   ]
  },
  {
   "cell_type": "code",
   "execution_count": 4,
   "id": "76d6293a-1467-436d-962b-743f9f6d8b29",
   "metadata": {},
   "outputs": [],
   "source": [
    "# Initialize the Bedrock agent runtime client\n",
    "bedrock_client = setup_bedrock_client(variables[\"regionName\"])"
   ]
  },
  {
   "cell_type": "markdown",
   "id": "4401c9d7-7208-4dc3-8ee7-54286ddd4fc0",
   "metadata": {},
   "source": [
    "## 5: Compare Search Results With & Without Reranking"
   ]
  },
  {
   "cell_type": "code",
   "execution_count": 5,
   "id": "3580c3a5-566b-42a3-a1f9-ca0f08f75097",
   "metadata": {},
   "outputs": [
    {
     "name": "stdout",
     "output_type": "stream",
     "text": [
      "WITHOUT RERANKING:\n",
      "\n",
      "TOP 3 DOCUMENTS WITHOUT RERANKING:\n",
      "Position 1 (Score: 0):\n",
      "This was partially offset by a reduction in excess tax benefits from stock-based compensation and a decrease in the tax impact of foreign earnings and losses driven by a decline in the favorable effects of corporate restructuring transactions. The foreign income deduction benefit recognized in 2022 ...\n",
      "\n",
      "Position 2 (Score: 0):\n",
      "North America sales increased 12% in 2023, compared to the prior year. The sales growth primarily reflects increased unit sales, primarily by third-party sellers, advertising sales, and subscription services. Increased unit sales were driven largely by our continued focus on price, selection, and co...\n",
      "\n",
      "Position 3 (Score: 0):\n",
      "This regime is referred to as the Foreign-Derived Intangible Income deduction and is dependent on the amount of our U.S. taxable income.     We recorded a provision for income taxes in 2023 as compared to an income tax benefit in 2022 primarily due to an increase in pretax income, a decrease in the ...\n",
      "\n"
     ]
    }
   ],
   "source": [
    "# Define a new query for comparison\n",
    "query = \"Compare the results between 2022 and 2023\"\n",
    "\n",
    "# Search without reranking\n",
    "print(\"WITHOUT RERANKING:\")\n",
    "context_without_reranking, details_without_reranking = search_knowledge_base_with_reranking(\n",
    "    query=query,\n",
    "    knowledge_base_id=kb_id,\n",
    "    bedrock_client=bedrock_client,\n",
    "    num_results=number_of_results,\n",
    "    use_reranking=False,\n",
    "    region_name=variables[\"regionName\"]\n",
    ")"
   ]
  },
  {
   "cell_type": "code",
   "execution_count": 6,
   "id": "6ecf8472-12e4-4628-a4fd-7ec6184768ce",
   "metadata": {},
   "outputs": [
    {
     "name": "stdout",
     "output_type": "stream",
     "text": [
      "\n",
      "WITH RERANKING:\n",
      "\n",
      "TOP 3 DOCUMENTS WITHOUT RERANKING:\n",
      "Position 1 (Score: 0):\n",
      "This was partially offset by a reduction in excess tax benefits from stock-based compensation and a decrease in the tax impact of foreign earnings and losses driven by a decline in the favorable effects of corporate restructuring transactions. The foreign income deduction benefit recognized in 2022 ...\n",
      "\n",
      "Position 2 (Score: 0):\n",
      "North America sales increased 12% in 2023, compared to the prior year. The sales growth primarily reflects increased unit sales, primarily by third-party sellers, advertising sales, and subscription services. Increased unit sales were driven largely by our continued focus on price, selection, and co...\n",
      "\n",
      "Position 3 (Score: 0):\n",
      "This regime is referred to as the Foreign-Derived Intangible Income deduction and is dependent on the amount of our U.S. taxable income.     We recorded a provision for income taxes in 2023 as compared to an income tax benefit in 2022 primarily due to an increase in pretax income, a decrease in the ...\n",
      "\n",
      "\n",
      "TOP 3 DOCUMENTS AFTER RERANKING:\n",
      "Moved from position 7 to 1\n",
      "Relevance score: 0.8003336787223816\n",
      "The sales growth primarily reflects increased customer usage, partially offset by pricing changes, primarily driven by long-term customer contracts.     Operating Income (Loss)     Operating income (loss) by segment is as follows (in millions): Year Ended December 31,     2022 2023     Operating Inc...\n",
      "\n",
      "Moved from position 2 to 2\n",
      "Relevance score: 0.7717923521995544\n",
      "North America sales increased 12% in 2023, compared to the prior year. The sales growth primarily reflects increased unit sales, primarily by third-party sellers, advertising sales, and subscription services. Increased unit sales were driven largely by our continued focus on price, selection, and co...\n",
      "\n",
      "Moved from position 9 to 3\n",
      "Relevance score: 0.7511560916900635\n",
      "In 2023, we invested $1.25 billion in a note from Anthropic, PBC, which is convertible into equity. We have an agreement that expires in Q1 2024 to invest up to an additional $2.75 billion in a second convertible note.     Cash provided by (used in) financing activities was $9.7 billion and $(15.9) ...\n",
      "\n"
     ]
    }
   ],
   "source": [
    "# Search with reranking\n",
    "print(\"\\nWITH RERANKING:\")\n",
    "context_with_reranking, details_with_reranking = search_knowledge_base_with_reranking(\n",
    "    query=query,\n",
    "    knowledge_base_id=kb_id,\n",
    "    bedrock_client=bedrock_client,\n",
    "    num_results=number_of_results,\n",
    "    use_reranking=True,\n",
    "    rerank_model_arn=rerank_model_arn,\n",
    "    region_name=variables[\"regionName\"]\n",
    ")"
   ]
  },
  {
   "cell_type": "markdown",
   "id": "3dba6463-ed89-4d6a-9352-d4a88eccc4f0",
   "metadata": {},
   "source": [
    "## 6: Compare Generated Responses With & Without Reranking"
   ]
  },
  {
   "cell_type": "code",
   "execution_count": 7,
   "id": "3209784f-cb9d-4519-bda0-243f78fa5176",
   "metadata": {},
   "outputs": [
    {
     "name": "stdout",
     "output_type": "stream",
     "text": [
      "WITHOUT RERANKING:\n",
      "Question: Compare the results between 2022 and 2023\n",
      "Answer: \n",
      "\n",
      "Based on the provided text, here are the key differences between 2022 and 2023:\n",
      "\n",
      "**Net Income:**\n",
      "\n",
      "* 2022: Net income of $30,425 million\n",
      "* 2023: Net income of $59,248 million (an increase of $28,823 million or 95%)\n",
      "\n",
      "**Operating Income:**\n",
      "\n",
      "* 2022: Operating income of $12,248 million\n",
      "* 2023: Operating income of $36,852 million (an increase of $24,604 million or 200%)\n",
      "\n",
      "**Sales:**\n",
      "\n",
      "* 2022: North America sales increased 13%\n",
      "* 2023: North America sales increased 12%\n",
      "* 2022: International sales decreased 8%\n",
      "* 2023: International sales increased 11%\n",
      "* 2022: AWS sales increased 29%\n",
      "* 2023: AWS sales increased 13%\n",
      "\n",
      "**Tax Benefits:**\n",
      "\n",
      "* 2022: The company recorded an income tax benefit\n",
      "* 2023: The company recorded a provision for income taxes\n",
      "\n",
      "**Cash Flow:**\n",
      "\n",
      "* 2022: Cash provided by (used in) financing activities was $9.7 billion\n",
      "* 2023: Cash used in financing activities was $(15.9) billion\n",
      "\n",
      "**Other:**\n",
      "\n",
      "* 2022: The company invested $1.25 billion in a note from Anthropic, PBC, which is convertible into equity\n",
      "* 2023: The company invested $1.25 billion in a note from Anthropic, PBC, which is convertible into equity, and has an agreement to invest up to an additional $2.75 billion in a second convertible note.\n"
     ]
    }
   ],
   "source": [
    "# Generate response without reranking\n",
    "print(\"WITHOUT RERANKING:\")\n",
    "\n",
    "# Format the prompt\n",
    "prompt_without_reranking = format_llama3_prompt(query, context_without_reranking)\n",
    "\n",
    "# Generate the response\n",
    "response_without_reranking = enhanced_generate_sagemaker_response(\n",
    "    prompt=prompt_without_reranking,\n",
    "    endpoint_name=sagemaker_endpoint,\n",
    "    generation_config=generation_configuration\n",
    ")\n",
    "\n",
    "# Print the query and answer\n",
    "print(\"Question:\", query)\n",
    "print(\"Answer:\", response_without_reranking)"
   ]
  },
  {
   "cell_type": "code",
   "execution_count": 8,
   "id": "5a73a394-e973-4d5a-b1d8-933534be7399",
   "metadata": {},
   "outputs": [
    {
     "name": "stdout",
     "output_type": "stream",
     "text": [
      "WITH RERANKING:\n",
      "Question: Compare the results between 2022 and 2023\n",
      "Answer: \n",
      "\n",
      "Based on the provided text, here are the key results comparisons between 2022 and 2023:\n",
      "\n",
      "**Operating Income (Loss)**\n",
      "\n",
      "* 2022: Operating loss of $12.2 billion\n",
      "* 2023: Operating income of $36.9 billion (a significant increase of $49.1 billion)\n",
      "\n",
      "**North America**\n",
      "\n",
      "* 2022: Operating loss of $2.8 billion\n",
      "* 2023: Operating income of $14.9 billion (a significant increase of $17.7 billion)\n",
      "\n",
      "**International**\n",
      "\n",
      "* 2022: Operating loss of $7.7 billion\n",
      "* 2023: Operating loss of $2.7 billion (a decrease of $5.0 billion)\n",
      "\n",
      "**AWS**\n",
      "\n",
      "* 2022: Operating income of $22.8 billion\n",
      "* 2023: Operating income of $24.6 billion (an increase of $1.8 billion)\n",
      "\n",
      "**Net Sales**\n",
      "\n",
      "* 2022: Not specified\n",
      "* 2023: Expected to be between $121.0 billion and $126.0 billion (an increase of 4% to 8% compared to 2022)\n",
      "\n",
      "**Net Income**\n",
      "\n",
      "* 2022: Not specified\n",
      "* 2023: Net income of $59.2 billion (a significant increase from 2022)\n",
      "\n",
      "**Cash Provided by (Used in) Financing Activities**\n",
      "\n",
      "* 2022: Cash used in financing activities of $15.9 billion\n",
      "* 2023: Cash provided by financing activities of $9.7 billion (a significant improvement)\n",
      "\n",
      "Overall, Amazon's results in 2023 show significant improvements in operating income, net income, and cash provided by financing activities compared to 2022. The company's North America segment saw a significant turnaround, while the International segment's operating loss decreased. The AWS segment also saw a small increase in operating income.\n"
     ]
    }
   ],
   "source": [
    "# Generate response with reranking\n",
    "print(\"WITH RERANKING:\")\n",
    "\n",
    "# Format the prompt\n",
    "prompt_with_reranking = format_llama3_prompt(query, context_with_reranking)\n",
    "\n",
    "# Generate the response\n",
    "response_with_reranking = enhanced_generate_sagemaker_response(\n",
    "    prompt=prompt_with_reranking,\n",
    "    endpoint_name=sagemaker_endpoint,\n",
    "    generation_config=generation_configuration\n",
    ")\n",
    "\n",
    "# Print the query and answer\n",
    "print(\"Question:\", query)\n",
    "print(\"Answer:\", response_with_reranking)"
   ]
  },
  {
   "cell_type": "markdown",
   "id": "all-in-one-section",
   "metadata": {},
   "source": [
    "## 7: All-in-One Comparison (Alternative Approach)"
   ]
  },
  {
   "cell_type": "code",
   "execution_count": 9,
   "id": "all-in-one-cell",
   "metadata": {},
   "outputs": [
    {
     "name": "stdout",
     "output_type": "stream",
     "text": [
      "WITHOUT RERANKING:\n",
      "\n",
      "TOP 3 DOCUMENTS WITHOUT RERANKING:\n",
      "Position 1 (Score: 0):\n",
      "These forward-looking statements reflect     Amazon.com’s expectations as of February 2, 2023, and are subject to substantial uncertainty. Our results are inherently unpredictable and may be materially affected by many factors, such as uncertainty regarding the impacts of the COVID-19 pandemic, fluc...\n",
      "\n",
      "Position 2 (Score: 0):\n",
      "These forward-looking statements reflect Amazon.com’s expectations as of February 1, 2024, and are subject to substantial uncertainty. Our results are inherently unpredictable and may be materially affected by many factors, such as fluctuations in foreign exchange rates, changes in global economic a...\n",
      "\n",
      "Position 3 (Score: 0):\n",
      "These forward-looking statements reflect     Amazon.com’s expectations as of February 6, 2025, and are subject to substantial uncertainty. Our results are inherently unpredictable and may be materially affected by many factors, such as fluctuations in foreign exchange rates, changes in global econom...\n",
      "\n",
      "\n",
      "WITH RERANKING:\n",
      "\n",
      "TOP 3 DOCUMENTS WITHOUT RERANKING:\n",
      "Position 1 (Score: 0):\n",
      "These forward-looking statements reflect     Amazon.com’s expectations as of February 2, 2023, and are subject to substantial uncertainty. Our results are inherently unpredictable and may be materially affected by many factors, such as uncertainty regarding the impacts of the COVID-19 pandemic, fluc...\n",
      "\n",
      "Position 2 (Score: 0):\n",
      "These forward-looking statements reflect Amazon.com’s expectations as of February 1, 2024, and are subject to substantial uncertainty. Our results are inherently unpredictable and may be materially affected by many factors, such as fluctuations in foreign exchange rates, changes in global economic a...\n",
      "\n",
      "Position 3 (Score: 0):\n",
      "These forward-looking statements reflect     Amazon.com’s expectations as of February 6, 2025, and are subject to substantial uncertainty. Our results are inherently unpredictable and may be materially affected by many factors, such as fluctuations in foreign exchange rates, changes in global econom...\n",
      "\n",
      "\n",
      "TOP 3 DOCUMENTS AFTER RERANKING:\n",
      "Moved from position 8 to 1\n",
      "Relevance score: 0.8698143362998962\n",
      "1,258) (3,676) (9,182) Principal repayments of finance leases (7,941) (4,384) (2,043) Principal repayments of financing obligations (248) (271) (669)     Net cash provided by (used in) financing activities 9,718 (15,879) (11,812) Foreign currency effect on cash, cash equivalents, and restricted cash...\n",
      "\n",
      "Moved from position 4 to 2\n",
      "Relevance score: 0.8148942589759827\n",
      ", 2022 10,242 108 (7,837) 75,066 (4,487) 83,193 146,043 Net income — — — — — 30,425 30,425 Other comprehensive income (loss) — — — — 1,447 — 1,447 Stock-based compensation and issuance of employee benefit plan stock 141 1 — 23,959 — — 23,960 Balance as of December 31, 2023 10,383 $ 109 $ (7,837) $ 9...\n",
      "\n",
      "Moved from position 1 to 3\n",
      "Relevance score: 0.7084753513336182\n",
      "These forward-looking statements reflect     Amazon.com’s expectations as of February 2, 2023, and are subject to substantial uncertainty. Our results are inherently unpredictable and may be materially affected by many factors, such as uncertainty regarding the impacts of the COVID-19 pandemic, fluc...\n",
      "\n",
      "\n",
      "-------- FINAL RESPONSE COMPARISON --------\n",
      "\n",
      "QUESTION:  What are the key financial metrics for Amazon in 2023?\n",
      "\n",
      "RESPONSE WITHOUT RERANKING:\n",
      "\n",
      "\n",
      "Based on the provided text, the key financial metrics for Amazon in 2023 are:\n",
      "\n",
      "1. Net sales: Expected to be between $121.0 billion and $126.0 billion, representing a growth of 4% to 8% compared to the first quarter of 2022.\n",
      "2. Operating income: Expected to be between $0 and $4.0 billion, compared to $3.7 billion in the first quarter of 2022.\n",
      "3. Net income: Not specified.\n",
      "4. Operating margin: Not specified.\n",
      "5. Earnings per share (EPS): Not specified.\n",
      "\n",
      "Note that these metrics are based on Amazon's guidance for the first quarter of 2023 and are subject to change.\n",
      "\n",
      "RESPONSE WITH RERANKING:\n",
      "\n",
      "\n",
      "Based on the provided financial statements, the key financial metrics for Amazon in 2023 are:\n",
      "\n",
      "1. Net sales: $574.8 billion\n",
      "2. Operating income: $4.8 billion\n",
      "3. Net income: $59.2 billion\n",
      "4. Basic earnings per share: $5.66\n",
      "5. Diluted earnings per share: $5.53\n",
      "6. Weighted-average shares used in computation of earnings per share: 10,473\n",
      "7. Cash, cash equivalents, and restricted cash, end of period: $54.3 billion\n",
      "\n",
      "Note that these figures are based on the consolidated financial statements of Amazon.com, Inc. for the year ended December 31, 2023.\n"
     ]
    }
   ],
   "source": [
    "# Using the comprehensive function to compare results\n",
    "query = \"What are the key financial metrics for Amazon in 2023?\"\n",
    "\n",
    "# Run the comprehensive comparison\n",
    "comparison_results = compare_reranking(\n",
    "    query=query,\n",
    "    knowledge_base_id=kb_id,\n",
    "    sagemaker_endpoint=sagemaker_endpoint,\n",
    "    rerank_model_arn=rerank_model_arn,\n",
    "    generation_config=generation_configuration,\n",
    "    bedrock_client=bedrock_client,\n",
    "    num_results=number_of_results,\n",
    "    region_name=variables[\"regionName\"]\n",
    ")\n",
    "\n",
    "# Display comparison of final responses\n",
    "print(\"\\n-------- FINAL RESPONSE COMPARISON --------\\n\")\n",
    "print(\"QUESTION: \", query)\n",
    "\n",
    "print(\"\\nRESPONSE WITHOUT RERANKING:\")\n",
    "print(comparison_results[\"without_reranking\"][\"response\"])\n",
    "\n",
    "print(\"\\nRESPONSE WITH RERANKING:\")\n",
    "print(comparison_results[\"with_reranking\"][\"response\"])"
   ]
  }
 ],
 "metadata": {
  "kernelspec": {
   "display_name": "Python 3 (ipykernel)",
   "language": "python",
   "name": "python3"
  },
  "language_info": {
   "codemirror_mode": {
    "name": "ipython",
    "version": 3
   },
   "file_extension": ".py",
   "mimetype": "text/x-python",
   "name": "python",
   "nbconvert_exporter": "python",
   "pygments_lexer": "ipython3",
   "version": "3.12.9"
  }
 },
 "nbformat": 4,
 "nbformat_minor": 5
}
