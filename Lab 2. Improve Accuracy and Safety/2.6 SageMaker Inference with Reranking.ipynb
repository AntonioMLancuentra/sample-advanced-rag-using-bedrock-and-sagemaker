{
 "cells": [
  {
   "cell_type": "markdown",
   "id": "34f684c8-b863-4dc7-86b5-2d6632d3d7df",
   "metadata": {},
   "source": [
    "# Bedrock Knowledge Base Retrieval and Generation with SageMaker Inference and Reranking"
   ]
  },
  {
   "cell_type": "markdown",
   "id": "3b61f7ef",
   "metadata": {},
   "source": [
    "![Reranking](./reranking.png)"
   ]
  },
  {
   "cell_type": "markdown",
   "id": "import-section",
   "metadata": {},
   "source": [
    "## 1: Import Required Functions"
   ]
  },
  {
   "cell_type": "code",
   "execution_count": null,
   "id": "import-cell",
   "metadata": {},
   "outputs": [],
   "source": [
    "# Import necessary functions from advanced_rag_utils\n",
    "from advanced_rag_utils import (\n",
    "    load_variables,\n",
    "    setup_bedrock_client,\n",
    "    format_llama3_prompt,\n",
    "    search_knowledge_base_with_reranking,\n",
    "    enhanced_generate_sagemaker_response,\n",
    "    compare_reranking\n",
    ")\n",
    "\n",
    "# For the boto3 import\n",
    "import boto3"
   ]
  },
  {
   "cell_type": "markdown",
   "id": "fc3fef89-4586-4c15-a088-9b491fb7329b",
   "metadata": {},
   "source": [
    "## 2: Load Configuration Variables"
   ]
  },
  {
   "cell_type": "code",
   "execution_count": null,
   "id": "6e7f2da5-8c58-4826-a216-fcd1c1c5cc9b",
   "metadata": {},
   "outputs": [],
   "source": [
    "# Load the configuration variables\n",
    "variables = load_variables(\"../variables.json\")\n",
    "variables"
   ]
  },
  {
   "cell_type": "markdown",
   "id": "8c726e87-7ada-412e-9d61-60dd3a0066c8",
   "metadata": {},
   "source": [
    "## 3: Define Configuration Details"
   ]
  },
  {
   "cell_type": "code",
   "execution_count": null,
   "id": "a3ec1a90-e111-4077-a35b-26d620aaa7ae",
   "metadata": {},
   "outputs": [],
   "source": [
    "# Knowledge Base Selection  \n",
    "kb_id = variables[\"kbFixedChunk\"]  # Options: \"kbFixedChunk\", \"kbHierarchicalChunk\", \"kbSemanticChunk\"\n",
    "\n",
    "# SageMaker endpoint\n",
    "sagemaker_endpoint = variables['sagemakerLLMEndpoint']\n",
    "\n",
    "# Retrieval-Augmented Generation (RAG) Configuration  \n",
    "number_of_results = 10  # Number of relevant documents to retrieve  \n",
    "generation_configuration = {\n",
    "    \"temperature\": 0,  # Lower temperature for more deterministic responses  \n",
    "    \"top_k\": 10,  # Consider top 10 tokens at each generation step  \n",
    "    \"max_new_tokens\": 5000,  # Maximum number of tokens to generate  \n",
    "    \"stop\": \"<|eot_id|>\"  # Stop sequence to end the response generation  \n",
    "}\n",
    "\n",
    "# Define ARN for the reranking model\n",
    "rerank_model_arn = \"arn:aws:bedrock:us-west-2::foundation-model/cohere.rerank-v3-5:0\"\n",
    "\n",
    "# Default user query\n",
    "query = \"what was the % increase in sales?\""
   ]
  },
  {
   "cell_type": "markdown",
   "id": "4a4a73e5-d254-4acc-9f88-78e1b2a0bd69",
   "metadata": {},
   "source": [
    "## 4: Initialize Bedrock Client"
   ]
  },
  {
   "cell_type": "code",
   "execution_count": null,
   "id": "76d6293a-1467-436d-962b-743f9f6d8b29",
   "metadata": {},
   "outputs": [],
   "source": [
    "# Initialize the Bedrock agent runtime client\n",
    "bedrock_client = setup_bedrock_client(variables[\"regionName\"])"
   ]
  },
  {
   "cell_type": "markdown",
   "id": "4401c9d7-7208-4dc3-8ee7-54286ddd4fc0",
   "metadata": {},
   "source": [
    "## 5: Compare Search Results With & Without Reranking"
   ]
  },
  {
   "cell_type": "code",
   "execution_count": null,
   "id": "3580c3a5-566b-42a3-a1f9-ca0f08f75097",
   "metadata": {},
   "outputs": [],
   "source": [
    "# Define a new query for comparison\n",
    "query = \"Compare the results between 2022 and 2023\"\n",
    "\n",
    "# Search without reranking\n",
    "print(\"WITHOUT RERANKING:\")\n",
    "context_without_reranking, details_without_reranking = search_knowledge_base_with_reranking(\n",
    "    query=query,\n",
    "    knowledge_base_id=kb_id,\n",
    "    bedrock_client=bedrock_client,\n",
    "    num_results=number_of_results,\n",
    "    use_reranking=False,\n",
    "    region_name=variables[\"regionName\"]\n",
    ")"
   ]
  },
  {
   "cell_type": "code",
   "execution_count": null,
   "id": "6ecf8472-12e4-4628-a4fd-7ec6184768ce",
   "metadata": {},
   "outputs": [],
   "source": [
    "# Search with reranking\n",
    "print(\"\\nWITH RERANKING:\")\n",
    "context_with_reranking, details_with_reranking = search_knowledge_base_with_reranking(\n",
    "    query=query,\n",
    "    knowledge_base_id=kb_id,\n",
    "    bedrock_client=bedrock_client,\n",
    "    num_results=number_of_results,\n",
    "    use_reranking=True,\n",
    "    rerank_model_arn=rerank_model_arn,\n",
    "    region_name=variables[\"regionName\"]\n",
    ")"
   ]
  },
  {
   "cell_type": "markdown",
   "id": "3dba6463-ed89-4d6a-9352-d4a88eccc4f0",
   "metadata": {},
   "source": [
    "## 6: Compare Generated Responses With & Without Reranking"
   ]
  },
  {
   "cell_type": "code",
   "execution_count": null,
   "id": "3209784f-cb9d-4519-bda0-243f78fa5176",
   "metadata": {},
   "outputs": [],
   "source": [
    "# Generate response without reranking\n",
    "print(\"WITHOUT RERANKING:\")\n",
    "\n",
    "# Format the prompt\n",
    "prompt_without_reranking = format_llama3_prompt(query, context_without_reranking)\n",
    "\n",
    "# Generate the response\n",
    "response_without_reranking = enhanced_generate_sagemaker_response(\n",
    "    prompt=prompt_without_reranking,\n",
    "    endpoint_name=sagemaker_endpoint,\n",
    "    generation_config=generation_configuration\n",
    ")\n",
    "\n",
    "# Print the query and answer\n",
    "print(\"Question:\", query)\n",
    "print(\"Answer:\", response_without_reranking)"
   ]
  },
  {
   "cell_type": "code",
   "execution_count": null,
   "id": "5a73a394-e973-4d5a-b1d8-933534be7399",
   "metadata": {},
   "outputs": [],
   "source": [
    "# Generate response with reranking\n",
    "print(\"WITH RERANKING:\")\n",
    "\n",
    "# Format the prompt\n",
    "prompt_with_reranking = format_llama3_prompt(query, context_with_reranking)\n",
    "\n",
    "# Generate the response\n",
    "response_with_reranking = enhanced_generate_sagemaker_response(\n",
    "    prompt=prompt_with_reranking,\n",
    "    endpoint_name=sagemaker_endpoint,\n",
    "    generation_config=generation_configuration\n",
    ")\n",
    "\n",
    "# Print the query and answer\n",
    "print(\"Question:\", query)\n",
    "print(\"Answer:\", response_with_reranking)"
   ]
  },
  {
   "cell_type": "markdown",
   "id": "all-in-one-section",
   "metadata": {},
   "source": [
    "## 7: All-in-One Comparison (Alternative Approach)"
   ]
  },
  {
   "cell_type": "code",
   "execution_count": null,
   "id": "all-in-one-cell",
   "metadata": {},
   "outputs": [],
   "source": [
    "# Using the comprehensive function to compare results\n",
    "query = \"What are the key financial metrics for Amazon in 2023?\"\n",
    "\n",
    "# Run the comprehensive comparison\n",
    "comparison_results = compare_reranking(\n",
    "    query=query,\n",
    "    knowledge_base_id=kb_id,\n",
    "    sagemaker_endpoint=sagemaker_endpoint,\n",
    "    rerank_model_arn=rerank_model_arn,\n",
    "    generation_config=generation_configuration,\n",
    "    bedrock_client=bedrock_client,\n",
    "    num_results=number_of_results,\n",
    "    region_name=variables[\"regionName\"]\n",
    ")\n",
    "\n",
    "# Display comparison of final responses\n",
    "print(\"\\n-------- FINAL RESPONSE COMPARISON --------\\n\")\n",
    "print(\"QUESTION: \", query)\n",
    "\n",
    "print(\"\\nRESPONSE WITHOUT RERANKING:\")\n",
    "print(comparison_results[\"without_reranking\"][\"response\"])\n",
    "\n",
    "print(\"\\nRESPONSE WITH RERANKING:\")\n",
    "print(comparison_results[\"with_reranking\"][\"response\"])"
   ]
  }
 ],
 "metadata": {
  "kernelspec": {
   "display_name": "Python 3 (ipykernel)",
   "language": "python",
   "name": "python3"
  },
  "language_info": {
   "codemirror_mode": {
    "name": "ipython",
    "version": 3
   },
   "file_extension": ".py",
   "mimetype": "text/x-python",
   "name": "python",
   "nbconvert_exporter": "python",
   "pygments_lexer": "ipython3",
   "version": "3.12.9"
  }
 },
 "nbformat": 4,
 "nbformat_minor": 5
}
