{
 "cells": [
  {
   "cell_type": "markdown",
   "id": "6c12a22c-1690-4624-93aa-02082c006e33",
   "metadata": {},
   "source": [
    "# Bedrock Knowledge Base Retrieval and Generation with Metadata Filtering\n",
    "\n",
    "### Description:\n",
    "This notebook demonstrates how to query and retrieve data from an Amazon Bedrock-powered knowledge base using different configurations, filters, and citation extraction. The steps include creating a query, retrieving responses, and printing the citations used for generating the results.\n"
   ]
  },
  {
   "cell_type": "markdown",
   "id": "7dc37008",
   "metadata": {},
   "source": [
    "![Metadata Filtering](./metadata_filtering.png)"
   ]
  },
  {
   "cell_type": "markdown",
   "id": "17e05a5d-8cf4-4c26-a66e-9069d145752f",
   "metadata": {},
   "source": [
    "## 1. Load Configuration Variables"
   ]
  },
  {
   "cell_type": "code",
   "execution_count": 2,
   "id": "c033e1f7-8060-4489-b5f7-e1bb6e3f89ae",
   "metadata": {},
   "outputs": [
    {
     "data": {
      "text/plain": [
       "{'accountNumber': '977018081517',\n",
       " 'regionName': 'us-west-2',\n",
       " 'collectionArn': 'arn:aws:aoss:us-west-2:977018081517:collection/x6j41w4wldt22s0mc4oa',\n",
       " 'collectionId': 'x6j41w4wldt22s0mc4oa',\n",
       " 'vectorIndexName': 'ws-index-',\n",
       " 'bedrockExecutionRoleArn': 'arn:aws:iam::977018081517:role/advanced-rag-workshop-bedrock_execution_role-us-west-2',\n",
       " 's3Bucket': '977018081517-us-west-2-advanced-rag-workshop',\n",
       " 'kbFixedChunk': 'WFJRA66ARJ',\n",
       " 'kbSemanticChunk': 'XRQUIKPQAB',\n",
       " 'kbHierarchicalChunk': 'DBCDV6VOVB',\n",
       " 'kbCustomChunk': 'SVUWGDQTQZ',\n",
       " 'sagemakerLLMEndpoint': 'endpoint-llama-3-2-3b-instruct-2025-05-01-17-04-39'}"
      ]
     },
     "execution_count": 2,
     "metadata": {},
     "output_type": "execute_result"
    }
   ],
   "source": [
    "# Import utility functions\n",
    "import advanced_rag_utils as aru\n",
    "\n",
    "# Load configuration variables\n",
    "variables = aru.load_variables(\"../variables.json\")\n",
    "\n",
    "# Display the loaded variables for confirmation\n",
    "variables"
   ]
  },
  {
   "cell_type": "markdown",
   "id": "023f9f7f-3a4c-4f95-b7b4-50e20d8db859",
   "metadata": {},
   "source": [
    "## 2. Set Up Required IDs and Model ARNs"
   ]
  },
  {
   "cell_type": "code",
   "execution_count": 3,
   "id": "92773810-baf9-4718-aaa2-683e2fba2e5e",
   "metadata": {},
   "outputs": [],
   "source": [
    "# Setup IDs and ARNs\n",
    "account_number = variables['accountNumber']\n",
    "knowledge_base_id = variables['kbSemanticChunk']\n",
    "model_id = 'us.amazon.nova-pro-v1:0'\n",
    "model_arn = aru.get_model_arn(account_number, model_id)"
   ]
  },
  {
   "cell_type": "markdown",
   "id": "787578b9-2c24-47f0-8430-9b26d8157aae",
   "metadata": {},
   "source": [
    "## 3. Configure Bedrock Client"
   ]
  },
  {
   "cell_type": "code",
   "execution_count": 4,
   "id": "9a07b9c5-ed24-4bfa-9aaf-a0f7dd6491b6",
   "metadata": {},
   "outputs": [],
   "source": [
    "# Configure the Bedrock client\n",
    "bedrock_agent_runtime = aru.setup_bedrock_client(variables[\"regionName\"])"
   ]
  },
  {
   "cell_type": "markdown",
   "id": "7261e509-7fc8-40fb-a6e1-a017eb793e63",
   "metadata": {},
   "source": [
    "## 4. Define Query"
   ]
  },
  {
   "cell_type": "code",
   "execution_count": 5,
   "id": "b30b6684-1175-4aff-a85e-9b1f5b3c8522",
   "metadata": {},
   "outputs": [],
   "source": [
    "# Define a simple query\n",
    "query = \"what was the % increase in sales?\""
   ]
  },
  {
   "cell_type": "markdown",
   "id": "c53e9ceb-d844-416e-ab9b-ac4301807621",
   "metadata": {},
   "source": [
    "## 5. Retrieve Response Without Metadata Filter"
   ]
  },
  {
   "cell_type": "code",
   "execution_count": 6,
   "id": "107946cb-8a6e-4e42-8a8b-95ccd204b5bd",
   "metadata": {},
   "outputs": [
    {
     "name": "stdout",
     "output_type": "stream",
     "text": [
      "The sales increased by 11% in 2024 compared to the prior year.\n"
     ]
    }
   ],
   "source": [
    "# Retrieve response without metadata filter\n",
    "response_without_metadata = aru.retrieve_and_generate_without_filter(\n",
    "    query=query, \n",
    "    knowledge_base_id=knowledge_base_id, \n",
    "    model_arn=model_arn,\n",
    "    bedrock_client=bedrock_agent_runtime\n",
    ")\n",
    "\n",
    "# Display the response\n",
    "aru.display_rag_response(response_without_metadata)"
   ]
  },
  {
   "cell_type": "markdown",
   "id": "a2ff170a-0d68-4bf8-81d5-9dc7c0c0fa07",
   "metadata": {},
   "source": [
    "## 6. Retrieve and Print Citations Without Metadata Filter"
   ]
  },
  {
   "cell_type": "code",
   "execution_count": 7,
   "id": "efb0aedf-2b15-42d9-b8f1-46499c55fd9e",
   "metadata": {},
   "outputs": [
    {
     "name": "stdout",
     "output_type": "stream",
     "text": [
      "# of citations or chunks used to generate the response:  1\n",
      "Chunk 1:  Service sales primarily represent third-party seller fees, which includes commissions and any related fulfillment and shipping fees, AWS sales, advertising services, Amazon Prime membership fees, and certain digital media content subscriptions. Net sales information is as follows (in millions): Year Ended December 31, \n",
      " \n",
      "  2023 2024 \n",
      " \n",
      " Net Sales: North America $ 352,828 $ 387,497 International 131,200 142,906 AWS 90,757 107,556 \n",
      " \n",
      " Consolidated $ 574,785 $ 637,959 Year-over-year Percentage Growth: \n",
      " \n",
      " North America 12 % 10 % International 11 9 AWS 13 19 \n",
      " \n",
      " Consolidated 12 11 Year-over-year Percentage Growth, excluding the effect of foreign exchange rates: \n",
      " \n",
      " North America 12 % 10 % International 11 10 AWS 13 19 \n",
      " \n",
      " Consolidated 12 11 Net Sales Mix: \n",
      " \n",
      " North America 61 % 61 % International 23 22 AWS 16 17 \n",
      " \n",
      " Consolidated 100 % 100 % \n",
      " \n",
      " Sales increased 11% in 2024, compared to the prior year. Changes in foreign exchange rates reduced net sales by $2.3 billion in 2024. For a discussion of the effect of foreign exchange rates on sales growth, see “Effect of Foreign Exchange Rates” below. \n",
      " \n",
      " North America sales increased 10% in 2024, compared to the prior year.\n",
      "\n",
      "Chunk 1 Location:  {'s3Location': {'uri': 's3://977018081517-us-west-2-advanced-rag-workshop/data/pdf_documents/Amazon-10k-2025.pdf'}, 'type': 'S3'}\n",
      "\n",
      "Chunk 1 Metadata:  {'x-amz-bedrock-kb-source-uri': 's3://977018081517-us-west-2-advanced-rag-workshop/data/pdf_documents/Amazon-10k-2025.pdf', 'x-amz-bedrock-kb-document-page-number': 24.0, 'year': 2025.0, 'docType': '10K Report', 'x-amz-bedrock-kb-data-source-id': '6YDOWKBZ2M', 'company': 'Amazon', 'x-amz-bedrock-kb-chunk-id': '1%3A0%3A9Lq8jJYBuKy61F-c2nQr', 'authors': ['Amazon']}\n",
      "\n"
     ]
    }
   ],
   "source": [
    "# Extract citations used to generate the response\n",
    "response_without_MD = aru.extract_citations(response_without_metadata)\n",
    "\n",
    "# Print the citations\n",
    "aru.citations_rag_print(response_without_MD)"
   ]
  },
  {
   "cell_type": "markdown",
   "id": "9d6f1a6c-ee60-4016-8559-222f77310071",
   "metadata": {},
   "source": [
    "## 7. Define Metadata Filter\n",
    "\n",
    "The code below defines a metadata filter to narrow down the knowledge base search:\n",
    "- Creates a complex filter using logical operators (andAll)\n",
    "- The filter has two conditions that must both be true:\n",
    "  1. docType must equal '10K Report'\n",
    "  2. year must equal 2023\n",
    "- This filter will limit retrieval to only chunks from 2023 10K reports\n",
    "- The structure demonstrates how to build more complex queries with multiple conditions\n",
    "\n",
    "This filter will be used to demonstrate selective retrieval from specific documents."
   ]
  },
  {
   "cell_type": "code",
   "execution_count": 8,
   "id": "006b0092-1cef-49fe-ace7-1f7250fd61d0",
   "metadata": {},
   "outputs": [],
   "source": [
    "# Create a standard filter for 2023 10K Reports\n",
    "one_group_filter = aru.create_standard_filter(docType='10K Report', year=2023)"
   ]
  },
  {
   "cell_type": "markdown",
   "id": "4c40149e-0ac6-4ede-99c7-ab2e41f43ee0",
   "metadata": {},
   "source": [
    "## 8. Retrieve Response With Metadata Filter"
   ]
  },
  {
   "cell_type": "code",
   "execution_count": 9,
   "id": "fc81dcdb-9456-49ed-a2d1-1102ec199879",
   "metadata": {},
   "outputs": [
    {
     "name": "stdout",
     "output_type": "stream",
     "text": [
      "The percentage increase in sales was 9% in 2022 compared to the prior year.\n"
     ]
    }
   ],
   "source": [
    "# Retrieve response with metadata filter\n",
    "response_with_metadata = aru.retrieve_and_generate_with_filter(\n",
    "    query=query, \n",
    "    knowledge_base_id=knowledge_base_id, \n",
    "    model_arn=model_arn, \n",
    "    metadata_filter=one_group_filter,\n",
    "    bedrock_client=bedrock_agent_runtime\n",
    ")\n",
    "\n",
    "# Display the response\n",
    "aru.display_rag_response(response_with_metadata)"
   ]
  },
  {
   "cell_type": "markdown",
   "id": "2c632fb1-271d-46dc-ad9a-9d9a4c7d145a",
   "metadata": {},
   "source": [
    "## 9. Retrieve and Print Citations With Metadata Filter"
   ]
  },
  {
   "cell_type": "code",
   "execution_count": 10,
   "id": "92920fad-2e96-4d8d-96c1-e8aebc70ae2e",
   "metadata": {},
   "outputs": [
    {
     "name": "stdout",
     "output_type": "stream",
     "text": [
      "# of citations or chunks used to generate the response:  1\n",
      "Chunk 1:  Net sales information is as follows (in millions): Year Ended December 31, \n",
      " \n",
      "  2021 2022 \n",
      " \n",
      " Net Sales: North America $ 279,833 $ 315,880 International 127,787 118,007 AWS 62,202 80,096 \n",
      " \n",
      " Consolidated $ 469,822 $ 513,983 Year-over-year Percentage Growth (Decline): \n",
      " \n",
      " North America 18 % 13 % International 22 (8) AWS 37 29 \n",
      " \n",
      " Consolidated 22 9 Year-over-year Percentage Growth, excluding the effect of foreign exchange rates: \n",
      " \n",
      " North America 18 % 13 % International 20 4 AWS 37 29 \n",
      " \n",
      " Consolidated 21 13 Net sales mix: \n",
      " \n",
      " North America 60 % 61 % International 27 23 AWS 13 16 \n",
      " \n",
      " Consolidated 100 % 100 % \n",
      " \n",
      " Sales increased 9% in 2022, compared to the prior year. Changes in foreign currency exchange rates reduced net sales by $15.5 billion in 2022. For a discussion of the effect of foreign exchange rates on sales growth, see “Effect of Foreign Exchange Rates” below. \n",
      " \n",
      " North America sales increased 13% in 2022, compared to the prior year. The sales growth primarily reflects increased unit sales, including sales by third- party sellers, advertising sales, and subscription services.\n",
      "\n",
      "Chunk 1 Location:  {'s3Location': {'uri': 's3://977018081517-us-west-2-advanced-rag-workshop/data/pdf_documents/Amazon-10k-2023.pdf'}, 'type': 'S3'}\n",
      "\n",
      "Chunk 1 Metadata:  {'x-amz-bedrock-kb-source-uri': 's3://977018081517-us-west-2-advanced-rag-workshop/data/pdf_documents/Amazon-10k-2023.pdf', 'x-amz-bedrock-kb-document-page-number': 23.0, 'year': 2023.0, 'docType': '10K Report', 'x-amz-bedrock-kb-data-source-id': '6YDOWKBZ2M', 'company': 'Amazon', 'x-amz-bedrock-kb-chunk-id': '1%3A0%3Atbq8jJYBuKy61F-c5XVf', 'authors': ['Amazon']}\n",
      "\n"
     ]
    }
   ],
   "source": [
    "# Extract and print citations for the filtered response\n",
    "response_with_MD = aru.extract_citations(response_with_metadata)\n",
    "aru.citations_rag_print(response_with_MD)"
   ]
  },
  {
   "cell_type": "markdown",
   "id": "1a05fe8e",
   "metadata": {},
   "source": [
    "## 10. Advanced Metadata Filtering\n",
    "\n",
    "Dynamically creating metadata filters allows  to create query-specific filters programmatically rather than hardcoding them.\n",
    "\n",
    "We'll use a function that creates metadata filters programatically based on various parameters:\n",
    "- company: Filter by company name\n",
    "- year: Filter by year (can be a single year or list of years)\n",
    "- docType: Filter by document type\n",
    "- min_page/max_page: Filter by page number ranges\n",
    "- s3_prefix: Filter by S3 URI prefix\n",
    "\n",
    "The function builds a filter configuration based on the provided parameters,\n",
    "combining them with appropriate operators (equals, greaterThanOrEquals, etc.)."
   ]
  },
  {
   "cell_type": "code",
   "execution_count": 11,
   "id": "053bd52b",
   "metadata": {},
   "outputs": [
    {
     "name": "stdout",
     "output_type": "stream",
     "text": [
      "Using filter configuration:\n",
      "{\n",
      "  \"andAll\": [\n",
      "    {\n",
      "      \"equals\": {\n",
      "        \"key\": \"company\",\n",
      "        \"value\": \"Amazon\"\n",
      "      }\n",
      "    },\n",
      "    {\n",
      "      \"orAll\": [\n",
      "        {\n",
      "          \"equals\": {\n",
      "            \"key\": \"year\",\n",
      "            \"value\": 2023\n",
      "          }\n",
      "        },\n",
      "        {\n",
      "          \"equals\": {\n",
      "            \"key\": \"year\",\n",
      "            \"value\": 2024\n",
      "          }\n",
      "        }\n",
      "      ]\n",
      "    }\n",
      "  ]\n",
      "}\n",
      "\n",
      "Generated Response:\n",
      "================================================================================\n",
      "The year-over-year growth rates for the segments are as follows:\n",
      "\n",
      "- AWS: 13% in 2023 compared to 2022 - North America: Not explicitly provided in the results, but operating income changed from a loss of $2,847 million in 2022 to a profit of $14,877 million in 2023 - International: 11% in 2023 compared to 2022 Factors influencing performance differences:\n",
      "\n",
      "- AWS: Growth was driven by increased customer usage, partially offset by pricing changes due to long-term customer contracts - North America: The significant change in operating income from a loss to a profit suggests a substantial improvement in performance, though the exact growth rate is not provided - International: Growth was influenced by increased unit sales, primarily by third-party sellers, advertising sales, and subscription services. Changes in foreign exchange rates also had an impact The model cannot find sufficient information to provide a direct year-over-year growth rate for the North America segment. However, the substantial change in operating income indicates a significant improvement in performance.\n",
      "================================================================================\n",
      "\n",
      "Number of citations: 1\n",
      "\n",
      "Citation 1:\n",
      "----------------------------------------\n",
      "Content: The sales growth primarily reflects increased unit sales, primarily by third-party sellers, advertising sales, and subscription services. Increased unit sales were driven largely by our continued focus on price, selection, and convenience for our customers, including from our shipping offers. \n",
      " \n",
      " In...\n",
      "Source: {'s3Location': {'uri': 's3://977018081517-us-west-2-advanced-rag-workshop/data/pdf_documents/Amazon-10k-2024.pdf'}, 'type': 'S3'}\n",
      "Metadata:\n",
      "  - x-amz-bedrock-kb-source-uri: s3://977018081517-us-west-2-advanced-rag-workshop/data/pdf_documents/Amazon-10k-2024.pdf\n",
      "  - x-amz-bedrock-kb-document-page-number: 24.0\n",
      "  - year: 2024.0\n",
      "  - docType: 10K Report\n",
      "  - x-amz-bedrock-kb-data-source-id: 6YDOWKBZ2M\n",
      "  - company: Amazon\n",
      "  - x-amz-bedrock-kb-chunk-id: 1%3A0%3Acbq8jJYBuKy61F-c8naW\n",
      "  - authors: ['Amazon']\n"
     ]
    }
   ],
   "source": [
    "# Compare growth rates across all Amazon business segments\n",
    "query = \"Compare the year-over-year growth rates for AWS, North America, and International segments, including factors that influenced performance differences\"\n",
    "\n",
    "# Use the query_financial_data function with dynamic filtering\n",
    "response = aru.query_financial_data(\n",
    "    query_text=query,\n",
    "    kb_id=knowledge_base_id,\n",
    "    model_arn=model_arn,\n",
    "    bedrock_client=bedrock_agent_runtime,\n",
    "    company=\"Amazon\",\n",
    "    year=[2023, 2024]\n",
    ")\n",
    "\n",
    "# Print the citations\n",
    "aru.print_citations(response)"
   ]
  },
  {
   "cell_type": "code",
   "execution_count": 12,
   "id": "db256efa",
   "metadata": {},
   "outputs": [
    {
     "name": "stdout",
     "output_type": "stream",
     "text": [
      "Using filter configuration:\n",
      "{\n",
      "  \"andAll\": [\n",
      "    {\n",
      "      \"orAll\": [\n",
      "        {\n",
      "          \"equals\": {\n",
      "            \"key\": \"year\",\n",
      "            \"value\": 2023\n",
      "          }\n",
      "        },\n",
      "        {\n",
      "          \"equals\": {\n",
      "            \"key\": \"year\",\n",
      "            \"value\": 2024\n",
      "          }\n",
      "        }\n",
      "      ]\n",
      "    },\n",
      "    {\n",
      "      \"startsWith\": {\n",
      "        \"key\": \"x-amz-bedrock-kb-source-uri\",\n",
      "        \"value\": \"s3://977018081517-us-west-2-advanced-rag-workshop/pdf_documents/\"\n",
      "      }\n",
      "    }\n",
      "  ]\n",
      "}\n",
      "\n",
      "Generated Response:\n",
      "================================================================================\n",
      "Sorry, I am unable to assist you with this request.\n",
      "================================================================================\n",
      "\n",
      "No citations available in the response.\n"
     ]
    }
   ],
   "source": [
    "# Filter for documents in a specific S3 folder\n",
    "s3_prefix_2023 = f\"s3://{variables['s3Bucket']}/pdf_documents/\"\n",
    "query = \"What was the AWS revenue growth in 2023?\"\n",
    "\n",
    "# Use query_financial_data with S3 prefix filter\n",
    "response_2023 = aru.query_financial_data(\n",
    "    query_text=query,\n",
    "    kb_id=knowledge_base_id,\n",
    "    model_arn=model_arn,\n",
    "    bedrock_client=bedrock_agent_runtime,\n",
    "    year=[2023, 2024],\n",
    "    s3_prefix=s3_prefix_2023\n",
    ")\n",
    "\n",
    "# Print the citations\n",
    "aru.print_citations(response_2023)"
   ]
  },
  {
   "cell_type": "markdown",
   "id": "3f328c22-93d6-4a48-aad0-0a5642a7e32b",
   "metadata": {},
   "source": [
    "### Dynamic Entity extraction to create filters on the fly\n",
    "In the examples so far you knew the filters that you need to apply. Perhaps your application forces the user to pick a year or department name while asking questions. In those situations, the above approach would work.\n",
    "However, you may have a situation where there is no way for a user to specify filters. Thus, the application may, at run time, have to figure out the filters based on a question.\n",
    "For example, assume that your documents are stored in respective department folders such as HR, Finance, Legal, Science, Engineering, Customer Support, etc. \n",
    "Assume that your user asks an HR related question. There are two options for you.\n",
    "### Option 1: \n",
    "You create a vector embedding for HR related questions and search the vector space in the entire knowledgebase. This will give you some context and might even pick up some HR related content from customer support content.\n",
    "### Option 2: \n",
    "You ask an LLM to determine the topic to which the question most likely belongs to.Then you use the topic as a filter to query the knowledge base. This limits the search to fewer topics and hence reduces the noise from unrelated topics.\n",
    "While this mightb improve accuracy because of richer context with reduced noise, this would also introduce extra costs because of an extra call to LLM to determine the topic to which the questuon belongs to."
   ]
  },
  {
   "cell_type": "code",
   "execution_count": 13,
   "id": "34858df3-085c-47b8-b6fb-d219bce2d472",
   "metadata": {},
   "outputs": [
    {
     "name": "stdout",
     "output_type": "stream",
     "text": [
      "Extracted years: [2023, 2024]\n",
      "Extracted companies: ['Amazon']\n"
     ]
    }
   ],
   "source": [
    "# Define a sample query for entity extraction\n",
    "user_prompt = \"In Amazon's cash flow statement, what was the net income in years 2023 and 2024?\"\n",
    "\n",
    "# Extract entities (years and companies) from the query\n",
    "years, companies = aru.extract_entities_from_query(\n",
    "    user_prompt=user_prompt,\n",
    "    model_id=\"anthropic.claude-3-5-haiku-20241022-v1:0\",\n",
    "    region_name=variables[\"regionName\"]\n",
    ")\n",
    "\n",
    "# Display the extracted entities\n",
    "print(f\"Extracted years: {years}\")\n",
    "print(f\"Extracted companies: {companies}\")"
   ]
  },
  {
   "cell_type": "code",
   "execution_count": 14,
   "id": "e28b4a69-a33b-48a3-a5c2-07927f3a7b1c",
   "metadata": {},
   "outputs": [
    {
     "name": "stdout",
     "output_type": "stream",
     "text": [
      "Using filter configuration:\n",
      "{\n",
      "  \"andAll\": [\n",
      "    {\n",
      "      \"equals\": {\n",
      "        \"key\": \"company\",\n",
      "        \"value\": \"Amazon\"\n",
      "      }\n",
      "    },\n",
      "    {\n",
      "      \"orAll\": [\n",
      "        {\n",
      "          \"equals\": {\n",
      "            \"key\": \"year\",\n",
      "            \"value\": 2023\n",
      "          }\n",
      "        },\n",
      "        {\n",
      "          \"equals\": {\n",
      "            \"key\": \"year\",\n",
      "            \"value\": 2024\n",
      "          }\n",
      "        }\n",
      "      ]\n",
      "    }\n",
      "  ]\n",
      "}\n",
      "\n",
      "Generated Response:\n",
      "================================================================================\n",
      "The net income for Amazon in 2023 was $30,425 million. The model cannot find sufficient information to provide the net income for 2024.\n",
      "================================================================================\n",
      "\n",
      "Number of citations: 1\n",
      "\n",
      "Citation 1:\n",
      "----------------------------------------\n",
      "Content: CONSOLIDATED STATEMENTS OF COMPREHENSIVE INCOME (LOSS) \n",
      " \n",
      " (in millions) Year Ended December 31, \n",
      " \n",
      "  2021 2022 2023 \n",
      " \n",
      " Net income (loss) $ 33,364 $ (2,722) $ 30,425 Other comprehensive income (loss): \n",
      " \n",
      " Foreign currency translation adjustments, net of tax of $47, $100, and $(55) (819) (2,586) 1,0...\n",
      "Source: {'s3Location': {'uri': 's3://977018081517-us-west-2-advanced-rag-workshop/data/pdf_documents/Amazon-10k-2024.pdf'}, 'type': 'S3'}\n",
      "Metadata:\n",
      "  - x-amz-bedrock-kb-source-uri: s3://977018081517-us-west-2-advanced-rag-workshop/data/pdf_documents/Amazon-10k-2024.pdf\n",
      "  - x-amz-bedrock-kb-document-page-number: 39.0\n",
      "  - year: 2024.0\n",
      "  - docType: 10K Report\n",
      "  - x-amz-bedrock-kb-data-source-id: 6YDOWKBZ2M\n",
      "  - company: Amazon\n",
      "  - x-amz-bedrock-kb-chunk-id: 1%3A0%3AqTG8jJYBRzwPEWWc9PTa\n",
      "  - authors: ['Amazon']\n"
     ]
    }
   ],
   "source": [
    "# Use the extracted entities to filter a query\n",
    "response = aru.query_financial_data(\n",
    "    query_text=user_prompt,\n",
    "    kb_id=knowledge_base_id,\n",
    "    model_arn=model_arn,\n",
    "    bedrock_client=bedrock_agent_runtime,\n",
    "    company=companies,\n",
    "    year=years\n",
    ")\n",
    "\n",
    "# Display the response with citations\n",
    "aru.print_citations(response)"
   ]
  },
  {
   "cell_type": "code",
   "execution_count": null,
   "id": "aa41f927-4873-43bd-a058-6700331d4aa9",
   "metadata": {},
   "outputs": [],
   "source": []
  },
  {
   "cell_type": "code",
   "execution_count": null,
   "id": "f45068f0-15f9-4f29-9dd5-f510863bca31",
   "metadata": {},
   "outputs": [],
   "source": []
  }
 ],
 "metadata": {
  "kernelspec": {
   "display_name": "Python 3 (ipykernel)",
   "language": "python",
   "name": "python3"
  },
  "language_info": {
   "codemirror_mode": {
    "name": "ipython",
    "version": 3
   },
   "file_extension": ".py",
   "mimetype": "text/x-python",
   "name": "python",
   "nbconvert_exporter": "python",
   "pygments_lexer": "ipython3",
   "version": "3.12.9"
  }
 },
 "nbformat": 4,
 "nbformat_minor": 5
}
