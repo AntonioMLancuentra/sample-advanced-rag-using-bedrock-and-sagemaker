{
 "cells": [
  {
   "cell_type": "markdown",
   "id": "ac142e85-87d4-4d88-b960-fbc6c526a14c",
   "metadata": {},
   "source": [
    "# Bedrock Knowledge Base Retrieval and Generation with Guardrails\n",
    "\n",
    "## Description\n",
    "This notebook demonstrates how to enhance a Retrieval-Augmented Generation (RAG) pipeline using Amazon Bedrock with Guardrails for better model control and filtering. We will walk through retrieving data from a knowledge base, applying guardrails to control the generation of responses, and filtering results using metadata."
   ]
  },
  {
   "cell_type": "markdown",
   "id": "c5517cc2",
   "metadata": {},
   "source": [
    "![Guardrails](./guardrail.png)"
   ]
  },
  {
   "cell_type": "markdown",
   "id": "137059a9-30e5-4b02-b5dd-3521b423e31e",
   "metadata": {},
   "source": [
    "## 1: Import Required Functions"
   ]
  },
  {
   "cell_type": "code",
   "execution_count": 1,
   "id": "ec67d878-8838-4310-90c5-059d8092d934",
   "metadata": {},
   "outputs": [],
   "source": [
    "# Import necessary functions from advanced_rag_utils\n",
    "from advanced_rag_utils import (\n",
    "    load_variables,\n",
    "    get_model_arn,\n",
    "    get_guardrail_arn,\n",
    "    setup_bedrock_client,\n",
    "    create_standard_filter,\n",
    "    retrieve_and_generate_with_conditional_guardrails,\n",
    "    display_markdown_result,\n",
    "    extract_text_response\n",
    ")"
   ]
  },
  {
   "cell_type": "markdown",
   "id": "variables-section",
   "metadata": {},
   "source": [
    "## 2: Load Configuration Variables"
   ]
  },
  {
   "cell_type": "code",
   "execution_count": 2,
   "id": "variables-cell",
   "metadata": {},
   "outputs": [
    {
     "data": {
      "text/plain": [
       "{'accountNumber': '977018081517',\n",
       " 'regionName': 'us-west-2',\n",
       " 'collectionArn': 'arn:aws:aoss:us-west-2:977018081517:collection/x6j41w4wldt22s0mc4oa',\n",
       " 'collectionId': 'x6j41w4wldt22s0mc4oa',\n",
       " 'vectorIndexName': 'ws-index-',\n",
       " 'bedrockExecutionRoleArn': 'arn:aws:iam::977018081517:role/advanced-rag-workshop-bedrock_execution_role-us-west-2',\n",
       " 's3Bucket': '977018081517-us-west-2-advanced-rag-workshop',\n",
       " 'kbFixedChunk': 'WFJRA66ARJ',\n",
       " 'kbSemanticChunk': 'XRQUIKPQAB',\n",
       " 'kbHierarchicalChunk': 'DBCDV6VOVB',\n",
       " 'kbCustomChunk': 'SVUWGDQTQZ',\n",
       " 'sagemakerLLMEndpoint': 'endpoint-llama-3-2-3b-instruct-2025-05-01-17-04-39',\n",
       " 'guardrail_id': 'vcd1cw90tu5w',\n",
       " 'guardrail_version': '1'}"
      ]
     },
     "execution_count": 2,
     "metadata": {},
     "output_type": "execute_result"
    }
   ],
   "source": [
    "# Load the configuration variables\n",
    "variables = load_variables(\"../variables.json\")\n",
    "variables"
   ]
  },
  {
   "cell_type": "markdown",
   "id": "97d0e45b-265e-4a43-be54-388992941105",
   "metadata": {},
   "source": [
    "## 3: Define ARN and Configuration Details"
   ]
  },
  {
   "cell_type": "code",
   "execution_count": 3,
   "id": "1c2cbca0-2653-45ce-82c0-f58b14c875ff",
   "metadata": {},
   "outputs": [],
   "source": [
    "# Setting up configuration for Bedrock and Guardrails\n",
    "account_number = variables['accountNumber']\n",
    "knowledge_base_id = variables['kbFixedChunk']   \n",
    "model_id = 'us.amazon.nova-pro-v1:0' \n",
    "guardrail_version = variables['guardrail_version'] \n",
    "guardrail_id = variables['guardrail_id']    \n",
    "\n",
    "# Get ARNs for the model and guardrails using utility functions\n",
    "model_arn = get_model_arn(account_number, model_id)\n",
    "guardrail_arn = get_guardrail_arn(account_number, guardrail_id)"
   ]
  },
  {
   "cell_type": "markdown",
   "id": "4a6adda2-7c06-4bf4-aaa6-8ee83df6ed05",
   "metadata": {},
   "source": [
    "## 4: Set Up Bedrock Client"
   ]
  },
  {
   "cell_type": "code",
   "execution_count": 4,
   "id": "d6c62472-d22b-49cc-84c4-a6e207c7a2a7",
   "metadata": {},
   "outputs": [],
   "source": [
    "# Initialize the Bedrock agent runtime client\n",
    "bedrock_client = setup_bedrock_client(\"us-west-2\")"
   ]
  },
  {
   "cell_type": "markdown",
   "id": "6bce5372-d4fb-477a-8446-13379559effe",
   "metadata": {},
   "source": [
    "## 5: Define Metadata Filter"
   ]
  },
  {
   "cell_type": "code",
   "execution_count": 5,
   "id": "2abfc342-f228-41f4-8643-5ef1df38f0c3",
   "metadata": {},
   "outputs": [],
   "source": [
    "# Create a standard filter for document type and year\n",
    "metadata_filter = create_standard_filter('10K Report', 2023)"
   ]
  },
  {
   "cell_type": "markdown",
   "id": "da5a82d6-4ffd-4236-b968-2341c36d599b",
   "metadata": {},
   "source": [
    "## 6: Test Guardrails for Investment Advice\n",
    "Let's ask the model for investment advice. When we created the guardrails, we restricted Bedrock from providing any investment advice. Bedrock should return a preconfigured response \"This request cannot be processed due to safety protocols\""
   ]
  },
  {
   "cell_type": "code",
   "execution_count": 6,
   "id": "a4f113ab-99ab-4883-852a-fb8ad41cf110",
   "metadata": {},
   "outputs": [],
   "source": [
    "# Define the query that will be sent to the model\n",
    "query = \"based on your amazon's results should I buy amazon stock?\""
   ]
  },
  {
   "cell_type": "markdown",
   "id": "without-guardrails-section",
   "metadata": {},
   "source": [
    "### 6.1: Response Without Guardrails"
   ]
  },
  {
   "cell_type": "code",
   "execution_count": 7,
   "id": "2154467d-b5e7-4375-8dad-1ad5ec43c7c1",
   "metadata": {},
   "outputs": [
    {
     "data": {
      "text/markdown": [
       "It's important to note that making investment decisions should be based on thorough research, analysis, and consideration of various factors, including your own financial goals, risk tolerance, and investment horizon. While I can provide information and analysis based on the given passages, the decision to buy Amazon stock ultimately depends on your individual circumstances and investment strategy.\n",
       "\n",
       "That being said, let's analyze the information provided in the passages to gain some insights:\n",
       "\n",
       "1. **Forward-looking Statements and Risks** (Passage %[1]%):\n",
       "   - Amazon acknowledges that forward-looking statements are inherently uncertain and that actual results could differ materially due to a variety of factors. These include fluctuations in foreign exchange rates, global economic conditions, customer demand, inflation, interest rates, supply chain constraints, world events, competition, and more.\n",
       "   - The passage highlights the importance of considering the \"Risk Factors\" section (Item 1A) for a detailed understanding of the risks and uncertainties that could impact Amazon's performance.\n",
       "\n",
       "2. **Market Value and Outstanding Shares** (Passage %[2]%):\n",
       "   - As of June 30, 2022, the aggregate market value of voting stock held by non-affiliates was approximately \\$944.7 billion.\n",
       "   - The number of shares of common stock outstanding as of January 25, 2023, was 10,247,259,757.\n",
       "\n",
       "3. **Financial Statements** (Passage %[3]%):\n",
       "   - The consolidated statements of stockholders’ equity show changes in common stock, treasury stock, additional paid-in capital, accumulated other comprehensive income (loss), and retained earnings over the years.\n",
       "   - Net income for the fiscal year ended December 31, 2022, was \\$21,331 million, with basic and diluted earnings per share of \\$2.13 and \\$2.09, respectively.\n",
       "\n",
       "4. **Business Description and Accounting Policies** (Passage %[4]%):\n",
       "   - Amazon aims to be Earth’s most customer-centric company, serving various customer sets including consumers, sellers, developers, enterprises, content creators, advertisers, and employees.\n",
       "   - The company focuses on selection, price, and convenience for consumers and offers programs to enable sellers and content creators to grow their businesses.\n",
       "\n",
       "5. **Financial Performance** (Passage %[5]%):\n",
       "   - The passage provides details on net income, earnings per share, and weighted-average shares used in the computation of earnings per share for different fiscal years.\n",
       "\n",
       "### Considerations for Investing in Amazon Stock:\n",
       "\n",
       "- **Financial Performance**: Amazon has shown strong financial performance with significant net income and positive earnings per share. However, past performance is not indicative of future results.\n",
       "\n",
       "- **Market Position**: Amazon is a dominant player in e-commerce, cloud computing (AWS), and various other sectors. Its strong market position can be a positive indicator.\n",
       "\n",
       "- **Risks and Uncertainties**: As highlighted in Passage %[1]%, there are numerous risks and uncertainties that could impact Amazon's future performance. Investors should carefully review the \"Risk Factors\" section for a comprehensive understanding.\n",
       "\n",
       "- **Market Conditions**: The performance of Amazon stock can be influenced by broader market conditions, economic factors, and geopolitical events.\n",
       "\n",
       "- **Valuation**: The high market value and the number of outstanding shares indicate that Amazon is a large-cap stock. Investors should consider whether the current valuation aligns with their investment thesis.\n",
       "\n",
       "### Conclusion:\n",
       "While Amazon has demonstrated strong financial performance and holds a significant market position, investing in its stock involves risks. It is crucial to conduct thorough research, consider your own financial situation, and possibly consult with a financial advisor before making any investment decisions."
      ],
      "text/plain": [
       "<IPython.core.display.Markdown object>"
      ]
     },
     "metadata": {},
     "output_type": "display_data"
    }
   ],
   "source": [
    "# Get response without applying guardrails\n",
    "response_without_guardrails = retrieve_and_generate_with_conditional_guardrails(\n",
    "    query=query, \n",
    "    knowledge_base_id=knowledge_base_id, \n",
    "    model_arn=model_arn,\n",
    "    bedrock_client=bedrock_client,\n",
    "    metadata_filter=metadata_filter,\n",
    "    use_guardrails=False\n",
    ")\n",
    "\n",
    "# Display the response in Markdown format\n",
    "display_markdown_result(response_without_guardrails)"
   ]
  },
  {
   "cell_type": "markdown",
   "id": "ca351b70-80d3-4eee-be01-291a8b1152c8",
   "metadata": {},
   "source": [
    "### 6.2: Response With Guardrails"
   ]
  },
  {
   "cell_type": "code",
   "execution_count": 8,
   "id": "f6a228d9-6aaf-4438-b356-e7f06a52f267",
   "metadata": {},
   "outputs": [
    {
     "name": "stdout",
     "output_type": "stream",
     "text": [
      "I can only process questions related to AWS services and Amazon 10K filings.\n"
     ]
    }
   ],
   "source": [
    "# Get response with guardrails applied\n",
    "response_with_guardrails = retrieve_and_generate_with_conditional_guardrails(\n",
    "    query=query, \n",
    "    knowledge_base_id=knowledge_base_id, \n",
    "    model_arn=model_arn,\n",
    "    bedrock_client=bedrock_client,\n",
    "    metadata_filter=metadata_filter,\n",
    "    use_guardrails=True,\n",
    "    guardrail_id=guardrail_id,\n",
    "    guardrail_version=guardrail_version\n",
    ")\n",
    "\n",
    "# Extract and print the text response\n",
    "print(extract_text_response(response_with_guardrails))"
   ]
  },
  {
   "cell_type": "markdown",
   "id": "e94d62d2-0af1-4306-91ed-fdffe1be0330",
   "metadata": {},
   "source": [
    "## 7. Test Guardrails for PII Data"
   ]
  },
  {
   "cell_type": "code",
   "execution_count": 9,
   "id": "d0dab16d-a17e-44b3-9f82-529c03ee179f",
   "metadata": {},
   "outputs": [],
   "source": [
    "# Define a new query about Amazon's CFO\n",
    "query=\"Who is the current CFO of Amazon?\""
   ]
  },
  {
   "cell_type": "markdown",
   "id": "without-guardrails-pii-section",
   "metadata": {},
   "source": [
    "### 7.1: Response Without Guardrails"
   ]
  },
  {
   "cell_type": "code",
   "execution_count": 10,
   "id": "32003c8d-c671-4224-be68-896d67017204",
   "metadata": {},
   "outputs": [
    {
     "name": "stdout",
     "output_type": "stream",
     "text": [
      "Based on the context provided in the passages, the current Chief Financial Officer (CFO) of Amazon is Brian T. Olsavsky. This is explicitly mentioned in Passage %[3]%, where it states, \"Brian T. Olsavsky. Mr. Olsavsky has served as Senior Vice President and Chief Financial Officer since June 2015...\" Additionally, Passage %[4]% also lists him as the \"Senior Vice President and Chief Financial Officer\" under the section about Executive Officers.\n"
     ]
    }
   ],
   "source": [
    "# Get response without applying guardrails\n",
    "response_without_guardrails = retrieve_and_generate_with_conditional_guardrails(\n",
    "    query=query, \n",
    "    knowledge_base_id=knowledge_base_id, \n",
    "    model_arn=model_arn,\n",
    "    bedrock_client=bedrock_client,\n",
    "    metadata_filter=metadata_filter,\n",
    "    use_guardrails=False\n",
    ")\n",
    "\n",
    "# Extract and print the text response\n",
    "print(extract_text_response(response_without_guardrails))"
   ]
  },
  {
   "cell_type": "markdown",
   "id": "with-guardrails-pii-section",
   "metadata": {},
   "source": [
    "### 7.2: Response With Guardrails (PII Anonymization)"
   ]
  },
  {
   "cell_type": "code",
   "execution_count": 11,
   "id": "7f332513-0fcf-4eb4-b007-767a171ed8df",
   "metadata": {},
   "outputs": [
    {
     "name": "stdout",
     "output_type": "stream",
     "text": [
      "Based on the context provided in the passages, the current Chief Financial Officer (CFO) of Amazon is {NAME}. This is explicitly mentioned in Passage %[3]% and Passage %[4]%, where it states:\n",
      "\n",
      "- Passage %[3]%: \"{NAME}. Mr. {NAME} has served as Senior Vice President and Chief Financial Officer since June 2015...\"\n",
      "- Passage %[4]%: \"{NAME} 59 Senior Vice President and Chief Financial Officer\"\n",
      "\n",
      "Therefore, the current CFO of Amazon is {NAME}.\n"
     ]
    }
   ],
   "source": [
    "# Get response with guardrails applied\n",
    "response_with_guardrails = retrieve_and_generate_with_conditional_guardrails(\n",
    "    query=query, \n",
    "    knowledge_base_id=knowledge_base_id, \n",
    "    model_arn=model_arn,\n",
    "    bedrock_client=bedrock_client,\n",
    "    metadata_filter=metadata_filter,\n",
    "    use_guardrails=True,\n",
    "    guardrail_id=guardrail_id,\n",
    "    guardrail_version=guardrail_version\n",
    ")\n",
    "\n",
    "# Extract and print the text response\n",
    "print(extract_text_response(response_with_guardrails))"
   ]
  }
 ],
 "metadata": {
  "kernelspec": {
   "display_name": "Python 3 (ipykernel)",
   "language": "python",
   "name": "python3"
  },
  "language_info": {
   "codemirror_mode": {
    "name": "ipython",
    "version": 3
   },
   "file_extension": ".py",
   "mimetype": "text/x-python",
   "name": "python",
   "nbconvert_exporter": "python",
   "pygments_lexer": "ipython3",
   "version": "3.12.9"
  }
 },
 "nbformat": 4,
 "nbformat_minor": 5
}
