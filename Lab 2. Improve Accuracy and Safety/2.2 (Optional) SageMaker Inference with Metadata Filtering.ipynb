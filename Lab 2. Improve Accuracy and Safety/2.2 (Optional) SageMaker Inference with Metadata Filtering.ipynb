{
 "cells": [
  {
   "cell_type": "markdown",
   "id": "6e83cb40-0f1d-4915-8e54-48c78541d349",
   "metadata": {},
   "source": [
    "# Bedrock Knowledge Base Retrieval and Generation with SageMaker Inference and Metadata Filtering  \n",
    "\n",
    "### Description:  \n",
    "This notebook showcases how to query and retrieve information from an Amazon Bedrock-powered knowledge base while leveraging SageMaker inference and metadata filtering. It covers key steps such as configuring queries, applying metadata filters, retrieving responses, and extracting citations used in the generated results."
   ]
  },
  {
   "cell_type": "markdown",
   "id": "26234a2a",
   "metadata": {},
   "source": [
    "![Metadata Filtering](./metadata_filtering.png)"
   ]
  },
  {
   "cell_type": "markdown",
   "id": "26505f4f-b74b-4e64-a63e-88fc6e71ee98",
   "metadata": {},
   "source": [
    "## 1. Import and Load Configuration Variables"
   ]
  },
  {
   "cell_type": "code",
   "execution_count": null,
   "id": "5195aec4-6d01-4e2f-b5a8-134b20650ca9",
   "metadata": {},
   "outputs": [],
   "source": [
    "# Import required functions from advanced_rag_utils\n",
    "from advanced_rag_utils import (\n",
    "    load_variables, \n",
    "    setup_bedrock_client,\n",
    "    create_standard_filter,\n",
    "    retrieve_from_bedrock_with_filter,\n",
    "    format_llama3_prompt,\n",
    "    generate_sagemaker_response,\n",
    "    retrieve_and_generate_with_sagemaker\n",
    ")\n",
    "\n",
    "# Load configuration variables\n",
    "variables = load_variables(\"../variables.json\")\n",
    "variables  # Display the loaded variables for confirmation"
   ]
  },
  {
   "cell_type": "markdown",
   "id": "a0d89542-cd78-4099-afcf-bcb0e29bec4e",
   "metadata": {},
   "source": [
    "## 2. Set Up Required IDs and Model ARNs"
   ]
  },
  {
   "cell_type": "code",
   "execution_count": null,
   "id": "20d8cbc3-56ae-4aae-9a4f-b19c04693574",
   "metadata": {},
   "outputs": [],
   "source": [
    "# Knowledge Base Selection  \n",
    "kb_id = variables[\"kbFixedChunk\"]  # Options: \"kbFixedChunk\", \"kbHierarchicalChunk\", \"kbSemanticChunk\"\n",
    "\n",
    "# Retrieval-Augmented Generation (RAG) Configuration  \n",
    "number_of_results = 3  # Number of relevant documents to retrieve  \n",
    "generation_configuration = {\n",
    "    \"temperature\": 0,  # Lower temperature for more deterministic responses  \n",
    "    \"top_k\": 10,  # Consider top 10 tokens at each generation step  \n",
    "    \"max_new_tokens\": 5000,  # Maximum number of tokens to generate  \n",
    "    \"stop\": \"<|eot_id|>\"  # Stop sequence to end the response generation  \n",
    "}\n",
    "\n",
    "# User Query\n",
    "query = \"what was the % increase in sales?\"  # Sample query to retrieve data from the knowledge base\n",
    "\n",
    "# SageMaker endpoint\n",
    "endpoint_name = variables['sagemakerLLMEndpoint']\n",
    "\n",
    "# Initialize Bedrock client\n",
    "bedrock_client = setup_bedrock_client(variables[\"regionName\"])"
   ]
  },
  {
   "cell_type": "markdown",
   "id": "bad8eb99-8dbf-4c1b-a6a5-a7ad9a559177",
   "metadata": {},
   "source": [
    "## 3. Define Metadata Filter"
   ]
  },
  {
   "cell_type": "code",
   "execution_count": null,
   "id": "45e43968-c317-4571-afd7-41abe8ee7bd2",
   "metadata": {},
   "outputs": [],
   "source": [
    "# Create a standard filter for document type and year\n",
    "metadata_filter = create_standard_filter('10K Report', 2023)"
   ]
  },
  {
   "cell_type": "markdown",
   "id": "d72a335d-e615-4885-823b-151d8a94c173",
   "metadata": {},
   "source": [
    "## 4. Generate Response with Metadata Filter"
   ]
  },
  {
   "cell_type": "code",
   "execution_count": null,
   "id": "4b60755c-9a5e-4d9a-998e-0006f79eae4a",
   "metadata": {},
   "outputs": [],
   "source": [
    "# Use the combined retrieve and generate function\n",
    "response, context = retrieve_and_generate_with_sagemaker(\n",
    "    query=query,\n",
    "    knowledge_base_id=kb_id,\n",
    "    sagemaker_endpoint=endpoint_name,\n",
    "    metadata_filter=metadata_filter,\n",
    "    generation_config=generation_configuration,\n",
    "    bedrock_client=bedrock_client,\n",
    "    num_results=number_of_results,\n",
    "    region_name=variables[\"regionName\"]\n",
    ")\n",
    "\n",
    "# Print the user's query\n",
    "print(\"Question:\", {query})\n",
    "\n",
    "# Uncomment below line if you want to debug and see the retrieved context\n",
    "# print(f\"Context: {context}\")\n",
    "\n",
    "# Print the generated answer\n",
    "print(\"Answer:\", response)"
   ]
  },
  {
   "cell_type": "markdown",
   "id": "advanced-usage",
   "metadata": {},
   "source": [
    "## 5. (Optional) Step-by-Step Approach"
   ]
  },
  {
   "cell_type": "code",
   "execution_count": null,
   "id": "step-by-step",
   "metadata": {},
   "outputs": [],
   "source": [
    "# If you prefer to execute the steps individually:\n",
    "\n",
    "# 1. Retrieve context from Bedrock KB with metadata filtering\n",
    "context = retrieve_from_bedrock_with_filter(\n",
    "    query=query,\n",
    "    knowledge_base_id=kb_id,\n",
    "    metadata_filter=metadata_filter,\n",
    "    bedrock_client=bedrock_client,\n",
    "    num_results=number_of_results,\n",
    "    region_name=variables[\"regionName\"]\n",
    ")\n",
    "\n",
    "# 2. Format prompt using retrieved context\n",
    "prompt = format_llama3_prompt(query, context)\n",
    "\n",
    "# 3. Generate response using SageMaker endpoint\n",
    "response = generate_sagemaker_response(\n",
    "    prompt=prompt,\n",
    "    endpoint_name=endpoint_name,\n",
    "    generation_config=generation_configuration\n",
    ")\n",
    "\n",
    "# 4. Display results\n",
    "print(\"Question:\", {query})\n",
    "# print(f\"Context: {context}\")  # Uncomment for debugging\n",
    "print(\"Answer:\", response)"
   ]
  },
  {
   "cell_type": "code",
   "execution_count": null,
   "id": "51e4a103-cb85-448c-b13c-4da83a9f994f",
   "metadata": {},
   "outputs": [],
   "source": []
  }
 ],
 "metadata": {
  "kernelspec": {
   "display_name": "Python 3 (ipykernel)",
   "language": "python",
   "name": "python3"
  },
  "language_info": {
   "codemirror_mode": {
    "name": "ipython",
    "version": 3
   },
   "file_extension": ".py",
   "mimetype": "text/x-python",
   "name": "python",
   "nbconvert_exporter": "python",
   "pygments_lexer": "ipython3",
   "version": "3.12.9"
  }
 },
 "nbformat": 4,
 "nbformat_minor": 5
}
