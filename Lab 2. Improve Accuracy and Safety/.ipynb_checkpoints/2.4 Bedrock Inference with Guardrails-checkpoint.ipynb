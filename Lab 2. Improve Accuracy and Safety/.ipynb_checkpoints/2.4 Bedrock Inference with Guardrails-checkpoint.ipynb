{
 "cells": [
  {
   "cell_type": "markdown",
   "id": "ac142e85-87d4-4d88-b960-fbc6c526a14c",
   "metadata": {},
   "source": [
    "# Bedrock Knowledge Base Retrieval and Generation with Guardrails\n",
    "\n",
    "## Description\n",
    "This notebook demonstrates how to enhance a Retrieval-Augmented Generation (RAG) pipeline using Amazon Bedrock with Guardrails for better model control and filtering. We will walk through retrieving data from a knowledge base, applying guardrails to control the generation of responses, and filtering results using metadata."
   ]
  },
  {
   "cell_type": "markdown",
   "id": "c5517cc2",
   "metadata": {},
   "source": [
    "![Guardrails](./guardrail.png)"
   ]
  },
  {
   "cell_type": "markdown",
   "id": "137059a9-30e5-4b02-b5dd-3521b423e31e",
   "metadata": {},
   "source": [
    "## 1: Import Required Functions"
   ]
  },
  {
   "cell_type": "code",
   "execution_count": null,
   "id": "ec67d878-8838-4310-90c5-059d8092d934",
   "metadata": {},
   "outputs": [],
   "source": [
    "# Import necessary functions from advanced_rag_utils\n",
    "from advanced_rag_utils import (\n",
    "    load_variables,\n",
    "    get_model_arn,\n",
    "    get_guardrail_arn,\n",
    "    setup_bedrock_client,\n",
    "    create_standard_filter,\n",
    "    retrieve_and_generate_with_conditional_guardrails,\n",
    "    display_markdown_result,\n",
    "    extract_text_response\n",
    ")"
   ]
  },
  {
   "cell_type": "markdown",
   "id": "variables-section",
   "metadata": {},
   "source": [
    "## 2: Load Configuration Variables"
   ]
  },
  {
   "cell_type": "code",
   "execution_count": null,
   "id": "variables-cell",
   "metadata": {},
   "outputs": [],
   "source": [
    "# Load the configuration variables\n",
    "variables = load_variables(\"../variables.json\")\n",
    "variables"
   ]
  },
  {
   "cell_type": "markdown",
   "id": "97d0e45b-265e-4a43-be54-388992941105",
   "metadata": {},
   "source": [
    "## 3: Define ARN and Configuration Details"
   ]
  },
  {
   "cell_type": "code",
   "execution_count": null,
   "id": "1c2cbca0-2653-45ce-82c0-f58b14c875ff",
   "metadata": {},
   "outputs": [],
   "source": [
    "# Setting up configuration for Bedrock and Guardrails\n",
    "account_number = variables['accountNumber']\n",
    "knowledge_base_id = variables['kbFixedChunk']   \n",
    "model_id = 'us.amazon.nova-pro-v1:0' \n",
    "guardrail_version = variables['guardrail_version'] \n",
    "guardrail_id = variables['guardrail_id']    \n",
    "\n",
    "# Get ARNs for the model and guardrails using utility functions\n",
    "model_arn = get_model_arn(account_number, model_id)\n",
    "guardrail_arn = get_guardrail_arn(account_number, guardrail_id)"
   ]
  },
  {
   "cell_type": "markdown",
   "id": "4a6adda2-7c06-4bf4-aaa6-8ee83df6ed05",
   "metadata": {},
   "source": [
    "## 4: Set Up Bedrock Client"
   ]
  },
  {
   "cell_type": "code",
   "execution_count": null,
   "id": "d6c62472-d22b-49cc-84c4-a6e207c7a2a7",
   "metadata": {},
   "outputs": [],
   "source": [
    "# Initialize the Bedrock agent runtime client\n",
    "bedrock_client = setup_bedrock_client(\"us-west-2\")"
   ]
  },
  {
   "cell_type": "markdown",
   "id": "6bce5372-d4fb-477a-8446-13379559effe",
   "metadata": {},
   "source": [
    "## 5: Define Metadata Filter"
   ]
  },
  {
   "cell_type": "code",
   "execution_count": null,
   "id": "2abfc342-f228-41f4-8643-5ef1df38f0c3",
   "metadata": {},
   "outputs": [],
   "source": [
    "# Create a standard filter for document type and year\n",
    "metadata_filter = create_standard_filter('10K Report', 2023)"
   ]
  },
  {
   "cell_type": "markdown",
   "id": "da5a82d6-4ffd-4236-b968-2341c36d599b",
   "metadata": {},
   "source": [
    "## 6: Test Guardrails for Investment Advice\n",
    "Let's ask the model for investment advice. When we created the guardrails, we restricted Bedrock from providing any investment advice. Bedrock should return a preconfigured response \"This request cannot be processed due to safety protocols.\""
   ]
  },
  {
   "cell_type": "code",
   "execution_count": null,
   "id": "a4f113ab-99ab-4883-852a-fb8ad41cf110",
   "metadata": {},
   "outputs": [],
   "source": [
    "# Define the query that will be sent to the model\n",
    "query = \"based on your Amazon's results should I buy amazon stock?\""
   ]
  },
  {
   "cell_type": "markdown",
   "id": "without-guardrails-section",
   "metadata": {},
   "source": [
    "### 6.1: Response Without Guardrails"
   ]
  },
  {
   "cell_type": "code",
   "execution_count": null,
   "id": "2154467d-b5e7-4375-8dad-1ad5ec43c7c1",
   "metadata": {},
   "outputs": [],
   "source": [
    "# Get response without applying guardrails\n",
    "response_without_guardrails = retrieve_and_generate_with_conditional_guardrails(\n",
    "    query=query, \n",
    "    knowledge_base_id=knowledge_base_id, \n",
    "    model_arn=model_arn,\n",
    "    bedrock_client=bedrock_client,\n",
    "    metadata_filter=metadata_filter,\n",
    "    use_guardrails=False\n",
    ")\n",
    "\n",
    "# Display the response in Markdown format\n",
    "display_markdown_result(response_without_guardrails)"
   ]
  },
  {
   "cell_type": "markdown",
   "id": "ca351b70-80d3-4eee-be01-291a8b1152c8",
   "metadata": {},
   "source": [
    "### 6.2: Response With Guardrails"
   ]
  },
  {
   "cell_type": "code",
   "execution_count": null,
   "id": "f6a228d9-6aaf-4438-b356-e7f06a52f267",
   "metadata": {},
   "outputs": [],
   "source": [
    "# Get response with guardrails applied\n",
    "response_with_guardrails = retrieve_and_generate_with_conditional_guardrails(\n",
    "    query=query, \n",
    "    knowledge_base_id=knowledge_base_id, \n",
    "    model_arn=model_arn,\n",
    "    bedrock_client=bedrock_client,\n",
    "    metadata_filter=metadata_filter,\n",
    "    use_guardrails=True,\n",
    "    guardrail_id=guardrail_id,\n",
    "    guardrail_version=guardrail_version\n",
    ")\n",
    "\n",
    "# Extract and print the text response\n",
    "print(extract_text_response(response_with_guardrails))"
   ]
  },
  {
   "cell_type": "markdown",
   "id": "e94d62d2-0af1-4306-91ed-fdffe1be0330",
   "metadata": {},
   "source": [
    "## 7. Test Guardrails for PII Data"
   ]
  },
  {
   "cell_type": "code",
   "execution_count": null,
   "id": "d0dab16d-a17e-44b3-9f82-529c03ee179f",
   "metadata": {},
   "outputs": [],
   "source": [
    "# Define a new query about Amazon's CFO\n",
    "query=\"Who is the current CFO of Amazon?\""
   ]
  },
  {
   "cell_type": "markdown",
   "id": "without-guardrails-pii-section",
   "metadata": {},
   "source": [
    "### 7.1: Response Without Guardrails"
   ]
  },
  {
   "cell_type": "code",
   "execution_count": null,
   "id": "32003c8d-c671-4224-be68-896d67017204",
   "metadata": {},
   "outputs": [],
   "source": [
    "# Get response without applying guardrails\n",
    "response_without_guardrails = retrieve_and_generate_with_conditional_guardrails(\n",
    "    query=query, \n",
    "    knowledge_base_id=knowledge_base_id, \n",
    "    model_arn=model_arn,\n",
    "    bedrock_client=bedrock_client,\n",
    "    metadata_filter=metadata_filter,\n",
    "    use_guardrails=False\n",
    ")\n",
    "\n",
    "# Extract and print the text response\n",
    "print(extract_text_response(response_without_guardrails))"
   ]
  },
  {
   "cell_type": "markdown",
   "id": "with-guardrails-pii-section",
   "metadata": {},
   "source": [
    "### 7.2: Response With Guardrails (PII Anonymization)"
   ]
  },
  {
   "cell_type": "code",
   "execution_count": null,
   "id": "7f332513-0fcf-4eb4-b007-767a171ed8df",
   "metadata": {},
   "outputs": [],
   "source": [
    "# Get response with guardrails applied\n",
    "response_with_guardrails = retrieve_and_generate_with_conditional_guardrails(\n",
    "    query=query, \n",
    "    knowledge_base_id=knowledge_base_id, \n",
    "    model_arn=model_arn,\n",
    "    bedrock_client=bedrock_client,\n",
    "    metadata_filter=metadata_filter,\n",
    "    use_guardrails=True,\n",
    "    guardrail_id=guardrail_id,\n",
    "    guardrail_version=guardrail_version\n",
    ")\n",
    "\n",
    "# Extract and print the text response\n",
    "print(extract_text_response(response_with_guardrails))"
   ]
  }
 ],
 "metadata": {
  "kernelspec": {
   "display_name": "Python 3 (ipykernel)",
   "language": "python",
   "name": "python3"
  },
  "language_info": {
   "codemirror_mode": {
    "name": "ipython",
    "version": 3
   },
   "file_extension": ".py",
   "mimetype": "text/x-python",
   "name": "python",
   "nbconvert_exporter": "python",
   "pygments_lexer": "ipython3",
   "version": "3.12.9"
  }
 },
 "nbformat": 4,
 "nbformat_minor": 5
}
