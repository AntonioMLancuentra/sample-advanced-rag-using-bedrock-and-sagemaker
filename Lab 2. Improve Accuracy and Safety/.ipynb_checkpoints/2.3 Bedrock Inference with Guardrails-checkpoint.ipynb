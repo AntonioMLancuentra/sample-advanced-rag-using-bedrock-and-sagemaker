{
 "cells": [
  {
   "cell_type": "markdown",
   "id": "95d9b2ae-c74c-4616-9665-7c09d688634b",
   "metadata": {},
   "source": [
    "### 2.2 Advanced RAG with Bedrock Inference and Guardrails\n",
    "## Description\n",
    "This notebook demonstrates how to enhance a Retrieval-Augmented Generation (RAG) pipeline using Amazon Bedrock with Guardrails for better model control and filtering. We will walk through retrieving data from a knowledge base, applying guardrails to control the generation of responses, and filtering results using metadata."
   ]
  },
  {
   "cell_type": "markdown",
   "id": "d3415264-ab9c-4ba3-9c01-5104d895eb0c",
   "metadata": {},
   "source": [
    "## 1: Import and Load Variables"
   ]
  },
  {
   "cell_type": "code",
   "execution_count": null,
   "id": "9fcf4f1d-62b1-4380-bece-11f497aec9f3",
   "metadata": {},
   "outputs": [],
   "source": [
    "import json\n",
    "\n",
    "# Load the configuration variables from a JSON file\n",
    "with open(\"../Lab 1/variables.json\", \"r\") as f:\n",
    "    variables = json.load(f)\n",
    "\n",
    "variables\n"
   ]
  },
  {
   "cell_type": "markdown",
   "id": "b9e06baa-fd1a-4cd6-a4d3-670c10f84e9f",
   "metadata": {},
   "source": [
    "## 2: Define ARN and Configuration Details"
   ]
  },
  {
   "cell_type": "code",
   "execution_count": null,
   "id": "6ac9946d-8e10-415b-8cd8-dbc5d1f629df",
   "metadata": {},
   "outputs": [],
   "source": [
    "# Setting up configuration for Bedrock and Guardrails\n",
    "knowledge_base_id = variables['kbFixedChunk']   \n",
    "model_id = 'us.amazon.nova-pro-v1:0' \n",
    "accountNumber = variables['accountNumber']\n",
    "guardrail_version = variables['guardrail_version'] \n",
    "guardrail_id = variables['guardrail_id']    \n",
    "\n",
    "# Define ARNs (Amazon Resource Names) for the model and guardrails\n",
    "model_arn = f\"arn:aws:bedrock:us-west-2:{accountNumber}:inference-profile/{model_id}\"\n",
    "rerank_model_arn = f\"arn:aws:bedrock:us-west-2:{accountNumber}:inference-profile/us.amazon.rerank-v1:0\"\n",
    "guardrail_arn = f'arn:aws:bedrock:us-east-1:{accountNumber}:guardrail/{guardrail_id}'  # Replace with your guardrail ARN\n",
    "reranker_model_arn = f\"arn:aws:bedrock:us-west-2:{accountNumber}:guardrail/us.amazon.rerank-v1:0\"\n"
   ]
  },
  {
   "cell_type": "markdown",
   "id": "7966a5a9-6a74-4833-b7c5-f525ed6409e9",
   "metadata": {},
   "source": [
    "## 3: Set Up Bedrock Client"
   ]
  },
  {
   "cell_type": "code",
   "execution_count": null,
   "id": "fe63374d-1b05-4859-8a5d-2e748959ffa3",
   "metadata": {},
   "outputs": [],
   "source": [
    "import boto3\n",
    "\n",
    "# Configure the Bedrock client\n",
    "bedrock_agent_runtime = boto3.client('bedrock-agent-runtime', region_name=\"us-west-2\")\n"
   ]
  },
  {
   "cell_type": "markdown",
   "id": "09cb1814-448c-462b-a34d-e5778bfb2cc0",
   "metadata": {},
   "source": [
    "## 4: Define Function for Retrieval with Guardrails"
   ]
  },
  {
   "cell_type": "code",
   "execution_count": null,
   "id": "14f949a4-c31a-4aef-8aad-8ac0b369d74e",
   "metadata": {},
   "outputs": [],
   "source": [
    "def retrieve_and_generate_with_guardrails(query, knowledge_base_id, model_arn, guardrail_id, guardrail_version, metadata_filter):\n",
    "    \"\"\"\n",
    "    Retrieves and generates a response by applying Guardrails.\n",
    "\n",
    "    Parameters:\n",
    "    - query (str): The input query.\n",
    "    - knowledge_base_id (str): The ID of the knowledge base.\n",
    "    - model_arn (str): The ARN of the model.\n",
    "    - one_group_filter (dict): The filter for the vector search configuration.\n",
    "    - guardrail_id (str): The ID of the guardrail for controlling the response.\n",
    "\n",
    "    Returns:\n",
    "    - response: The response from the retrieve_and_generate method.\n",
    "    \"\"\"\n",
    "    response = bedrock_agent_runtime.retrieve_and_generate(\n",
    "        input={\n",
    "            \"text\": query\n",
    "        },\n",
    "        retrieveAndGenerateConfiguration={\n",
    "            \"type\": \"KNOWLEDGE_BASE\",\n",
    "            \"knowledgeBaseConfiguration\": {\n",
    "                'knowledgeBaseId': knowledge_base_id,\n",
    "                \"modelArn\": model_arn,\n",
    "                \"generationConfiguration\": {\n",
    "                    \"promptTemplate\": {\n",
    "                        \"textPromptTemplate\": \"Answer the following question based on the context:\\n$search_results$\\n\\nQuestion: {question}\"\n",
    "                    },\n",
    "                    \"guardrailConfiguration\": {\n",
    "                        \"guardrailId\": guardrail_id,\n",
    "                        \"guardrailVersion\": guardrail_version\n",
    "                    }\n",
    "                },\n",
    "                \"retrievalConfiguration\": {\n",
    "                    \"vectorSearchConfiguration\": {\n",
    "                        \"numberOfResults\": 5,\n",
    "                        \"filter\": metadata_filter\n",
    "                    }\n",
    "                }\n",
    "            }\n",
    "        }\n",
    "    )\n",
    "    return response\n"
   ]
  },
  {
   "cell_type": "markdown",
   "id": "8b49731d-61ae-408e-a207-3be6d9ec7d53",
   "metadata": {},
   "source": [
    "## 5: Define Metadata Filter"
   ]
  },
  {
   "cell_type": "code",
   "execution_count": null,
   "id": "adcf63ac-f141-4d13-b648-2b05a5b61102",
   "metadata": {},
   "outputs": [],
   "source": [
    "one_group_filter = {\n",
    "    \"andAll\": [\n",
    "        {\n",
    "            \"equals\": {\n",
    "                \"key\": \"docType\",\n",
    "                \"value\": '10k Report'\n",
    "            }\n",
    "        },\n",
    "        {\n",
    "            \"greaterThanOrEquals\": {\n",
    "                \"key\": \"year\",\n",
    "                \"value\": 2025\n",
    "            }\n",
    "        }\n",
    "    ]\n",
    "}\n"
   ]
  },
  {
   "cell_type": "markdown",
   "id": "35c7a754-6cbc-4a41-a590-5900bed7509d",
   "metadata": {},
   "source": [
    "## 6: Define Query"
   ]
  },
  {
   "cell_type": "code",
   "execution_count": null,
   "id": "db1a1aff-08dd-40e0-a623-31395b8aa8c2",
   "metadata": {},
   "outputs": [],
   "source": [
    "# Define the query that will be sent to the model\n",
    "query = \"based on your amazon's results should I buy amazon stock?\"\n"
   ]
  },
  {
   "cell_type": "markdown",
   "id": "dc838559-e5ae-4339-a63e-aee91fa1473f",
   "metadata": {},
   "source": [
    "## 7: Retrieve Response with Guardrails"
   ]
  },
  {
   "cell_type": "code",
   "execution_count": null,
   "id": "5924b66d-ce89-4182-80f2-af374f0275f6",
   "metadata": {},
   "outputs": [],
   "source": [
    "response_with_guardrails = retrieve_and_generate_with_guardrails(query, knowledge_base_id, model_arn, guardrail_id, guardrail_version, one_group_filter)\n",
    "print(response_with_guardrails['output']['text'])         \n"
   ]
  }
 ],
 "metadata": {
  "kernelspec": {
   "display_name": "Python 3 (ipykernel)",
   "language": "python",
   "name": "python3"
  },
  "language_info": {
   "codemirror_mode": {
    "name": "ipython",
    "version": 3
   },
   "file_extension": ".py",
   "mimetype": "text/x-python",
   "name": "python",
   "nbconvert_exporter": "python",
   "pygments_lexer": "ipython3",
   "version": "3.11.11"
  }
 },
 "nbformat": 4,
 "nbformat_minor": 5
}
