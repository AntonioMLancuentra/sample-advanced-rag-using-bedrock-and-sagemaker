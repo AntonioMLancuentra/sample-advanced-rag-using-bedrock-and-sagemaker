{
 "cells": [
  {
   "cell_type": "markdown",
   "id": "d86f34fc-daba-43c3-8635-69b39585371a",
   "metadata": {},
   "source": [
    "# Guardrail Creation and Management with Bedrock\n",
    "\n",
    "This notebook demonstrates how to create and manage a guardrail in Bedrock to restrict the model's responses to specific content, enforce safety protocols, and ensure compliance with organizational guidelines."
   ]
  },
  {
   "cell_type": "markdown",
   "id": "3eb9ab62-2193-482f-bcc7-8cf99639cdcf",
   "metadata": {},
   "source": [
    "## 1. Import Required Libraries"
   ]
  },
  {
   "cell_type": "code",
   "execution_count": null,
   "id": "3ad19303-f3a4-481a-985b-433903bcf669",
   "metadata": {},
   "outputs": [],
   "source": [
    "import boto3\n",
    "import json\n",
    "from botocore.exceptions import ClientError, BotoCoreError\n",
    "\n",
    "# Initialize the Bedrock client\n",
    "bedrock = boto3.client('bedrock', region_name='us-west-2')\n"
   ]
  },
  {
   "cell_type": "markdown",
   "id": "79dc9b9e-e923-4e7e-9d22-b7f30df539f9",
   "metadata": {},
   "source": [
    "## 2. Load Configuration Variables"
   ]
  },
  {
   "cell_type": "code",
   "execution_count": null,
   "id": "c5aa9d17-a8e9-446d-9d4f-b27cf5a1f364",
   "metadata": {},
   "outputs": [],
   "source": [
    "with open(\"../Lab 1/variables.json\", \"r\") as f:\n",
    "    variables = json.load(f)\n",
    "\n",
    "variables  # Display the loaded variables for confirmation\n"
   ]
  },
  {
   "cell_type": "markdown",
   "id": "e3b9bccb-3404-4b7a-ab28-e11752b19d45",
   "metadata": {},
   "source": [
    "## 3. Create a Guardrail"
   ]
  },
  {
   "cell_type": "code",
   "execution_count": null,
   "id": "81a6b051-52cf-46f0-9325-6cf39c8d9da6",
   "metadata": {},
   "outputs": [],
   "source": [
    "import uuid\n",
    "\n",
    "# Generate a unique client request token for each request\n",
    "client_request_token = str(uuid.uuid4())\n",
    "\n",
    "# Create a guardrail in Bedrock with various policies\n",
    "response = bedrock.create_guardrail(\n",
    "    name=\"AdvancedRagWorkshopGuardrails\",\n",
    "    description=\"Restrict responses to SEC filing content only\",\n",
    "    blockedInputMessaging=\"This request cannot be processed due to safety protocols.\",\n",
    "    blockedOutputsMessaging=\"Response modified per compliance guidelines.\",\n",
    "    topicPolicyConfig={\n",
    "        'topicsConfig': [\n",
    "            {'name': 'financial-advice', 'definition': 'Any recommendations about investments or financial decisions', 'type': 'DENY'},\n",
    "            {'name': 'legal-interpretation', 'definition': 'Interpretation of legal or regulatory requirements', 'type': 'DENY'},\n",
    "            {'name': 'future-performance', 'definition': 'Speculation beyond disclosed forward-looking statements', 'type': 'DENY'}\n",
    "        ]\n",
    "    },\n",
    "    contentPolicyConfig={\n",
    "        'filtersConfig': [\n",
    "            {'type': 'HATE', 'inputStrength': 'HIGH', 'outputStrength': 'HIGH'},\n",
    "            {'type': 'INSULTS', 'inputStrength': 'HIGH', 'outputStrength': 'HIGH'},\n",
    "            {'type': 'SEXUAL', 'inputStrength': 'HIGH', 'outputStrength': 'HIGH'},\n",
    "            {'type': 'VIOLENCE', 'inputStrength': 'HIGH', 'outputStrength': 'HIGH'},\n",
    "            {'type': 'MISCONDUCT', 'inputStrength': 'HIGH', 'outputStrength': 'HIGH'},\n",
    "            {'type': 'PROMPT_ATTACK', 'inputStrength': 'HIGH', 'outputStrength': 'NONE'}\n",
    "        ]\n",
    "    },\n",
    "    contextualGroundingPolicyConfig={\n",
    "        'filtersConfig': [\n",
    "            {'type': 'GROUNDING', 'threshold': 0.1},\n",
    "            {'type': 'RELEVANCE', 'threshold': 0.1},\n",
    "        ]\n",
    "    },\n",
    "    wordPolicyConfig={\n",
    "        'wordsConfig': [{'text': 'oxycodone'}, {'text': 'fentanyl'}, {'text': 'adderall'}, {'text': 'xanax'}]\n",
    "    },\n",
    "    sensitiveInformationPolicyConfig={\n",
    "        'piiEntitiesConfig': [\n",
    "            {'type': 'NAME', 'action': 'ANONYMIZE'},\n",
    "            {'type': 'EMAIL', 'action': 'ANONYMIZE'},\n",
    "            {'type': 'PHONE', 'action': 'ANONYMIZE'},\n",
    "            {'type': 'US_SOCIAL_SECURITY_NUMBER', 'action': 'ANONYMIZE'},\n",
    "            # (other sensitive data fields to be anonymized)\n",
    "        ],\n",
    "        'regexesConfig': [\n",
    "            {'name': 'medical_record_number', 'description': 'Medical record number pattern', 'pattern': '\\\\b\\\\d{3}-\\\\d{3}-\\\\d{4}\\\\b', 'action': 'ANONYMIZE'},\n",
    "            {'name': 'insurance_numbers', 'description': 'Health insurance ID pattern', 'pattern': '\\\\b[A-Z]{2}\\\\d{7}\\\\b', 'action': 'ANONYMIZE'}\n",
    "        ]\n",
    "    },\n",
    "    tags=[{'key': 'Environment', 'value': 'Production'}, {'key': 'Department', 'value': 'Medical'}],\n",
    "    clientRequestToken=client_request_token\n",
    ")\n",
    "\n",
    "# Print the created guardrail ID, ARN, and version\n",
    "guardrail_id = response['guardrailId']\n",
    "print(guardrail_id)\n",
    "print(f\"Guardrail ARN: {response['guardrailArn']}\")\n",
    "print(f\"Version: {response['version']}\")\n"
   ]
  },
  {
   "cell_type": "markdown",
   "id": "3110f69b-867c-4206-84e1-e02c2e8ef9ee",
   "metadata": {},
   "source": [
    "## 4. Save Guardrail ID to Configuration File"
   ]
  },
  {
   "cell_type": "code",
   "execution_count": null,
   "id": "4b6762a3-cbda-4395-8afe-186ad5a4b2a7",
   "metadata": {},
   "outputs": [],
   "source": [
    "# Update the variables dictionary with the new Guardrail ID\n",
    "variables[\"guardrail_id\"] = guardrail_id\n",
    "\n",
    "# Save updated variables to a JSON file\n",
    "with open(\"../Lab 1/variables.json\", \"w\") as f:\n",
    "    json.dump(variables, f, indent=4, default=str) \n"
   ]
  },
  {
   "cell_type": "markdown",
   "id": "d36b5436-fb08-434c-a6a0-7a1896e3497d",
   "metadata": {},
   "source": [
    "## 5. Create a Published Version of the Guardrail"
   ]
  },
  {
   "cell_type": "code",
   "execution_count": null,
   "id": "e11c7658-28bd-4a31-983d-689c27e633d6",
   "metadata": {},
   "outputs": [],
   "source": [
    "# Create a version for the guardrail (e.g., production version 1.0)\n",
    "version_response = bedrock.create_guardrail_version(\n",
    "    guardrailIdentifier=response['guardrailId'],\n",
    "    description=\"Production version 1.0\"\n",
    ")\n"
   ]
  },
  {
   "cell_type": "markdown",
   "id": "d3ddaaf0-72ab-4f55-a7d5-43af9cf6d6b4",
   "metadata": {},
   "source": [
    "## 6. Retrieve and Save Guardrail Version"
   ]
  },
  {
   "cell_type": "code",
   "execution_count": null,
   "id": "45e2ea08-e89b-4a46-91b6-2e3ae9269139",
   "metadata": {},
   "outputs": [],
   "source": [
    "guardrail_version = version_response['version']\n",
    "guardrail_version  # Display the retrieved version for confirmation\n"
   ]
  },
  {
   "cell_type": "markdown",
   "id": "091bf8bd-dc74-4f25-8317-2cd3c6c5c1ec",
   "metadata": {},
   "source": [
    "## 7. Save Guardrail Version to Configuration File"
   ]
  },
  {
   "cell_type": "code",
   "execution_count": null,
   "id": "0844026b-d616-4b98-85dc-fdb8221d64d7",
   "metadata": {},
   "outputs": [],
   "source": [
    "# Update the variables dictionary with the new Guardrail Version\n",
    "variables[\"guardrail_version\"] = guardrail_version\n",
    "\n",
    "# Save updated variables to a JSON file\n",
    "with open(\"../Lab 1/variables.json\", \"w\") as f:\n",
    "    json.dump(variables, f, indent=4, default=str) "
   ]
  },
  {
   "cell_type": "code",
   "execution_count": null,
   "id": "edbbbd31-c783-439c-bef3-62c85391ad36",
   "metadata": {},
   "outputs": [],
   "source": []
  }
 ],
 "metadata": {
  "kernelspec": {
   "display_name": "Python 3 (ipykernel)",
   "language": "python",
   "name": "python3"
  },
  "language_info": {
   "codemirror_mode": {
    "name": "ipython",
    "version": 3
   },
   "file_extension": ".py",
   "mimetype": "text/x-python",
   "name": "python",
   "nbconvert_exporter": "python",
   "pygments_lexer": "ipython3",
   "version": "3.11.11"
  }
 },
 "nbformat": 4,
 "nbformat_minor": 5
}
