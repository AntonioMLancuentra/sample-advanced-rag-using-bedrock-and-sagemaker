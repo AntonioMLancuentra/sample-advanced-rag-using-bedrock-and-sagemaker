{
 "cells": [
  {
   "cell_type": "markdown",
   "id": "6c12a22c-1690-4624-93aa-02082c006e33",
   "metadata": {},
   "source": [
    "# Bedrock Knowledge Base Retrieval and Generation with Metadata Filtering\n",
    "\n",
    "### Description:\n",
    "This notebook demonstrates how to query and retrieve data from an Amazon Bedrock-powered knowledge base using different configurations, filters, and citation extraction. The steps include creating a query, retrieving responses, and printing the citations used for generating the results.\n"
   ]
  },
  {
   "cell_type": "markdown",
   "id": "7dc37008",
   "metadata": {},
   "source": [
    "![Metadata Filtering](./metadata_filtering.png)"
   ]
  },
  {
   "cell_type": "markdown",
   "id": "17e05a5d-8cf4-4c26-a66e-9069d145752f",
   "metadata": {},
   "source": [
    "## 1. Load Configuration Variables"
   ]
  },
  {
   "cell_type": "code",
   "execution_count": null,
   "id": "c033e1f7-8060-4489-b5f7-e1bb6e3f89ae",
   "metadata": {},
   "outputs": [],
   "source": [
    "# Import utility functions\n",
    "import advanced_rag_utils as aru\n",
    "\n",
    "# Load configuration variables\n",
    "variables = aru.load_variables(\"../variables.json\")\n",
    "\n",
    "# Display the loaded variables for confirmation\n",
    "variables"
   ]
  },
  {
   "cell_type": "markdown",
   "id": "023f9f7f-3a4c-4f95-b7b4-50e20d8db859",
   "metadata": {},
   "source": [
    "## 2. Set Up Required IDs and Model ARNs"
   ]
  },
  {
   "cell_type": "code",
   "execution_count": null,
   "id": "92773810-baf9-4718-aaa2-683e2fba2e5e",
   "metadata": {},
   "outputs": [],
   "source": [
    "# Setup IDs and ARNs\n",
    "account_number = variables['accountNumber']\n",
    "knowledge_base_id = variables['kbSemanticChunk']\n",
    "model_id = 'us.amazon.nova-pro-v1:0'\n",
    "model_arn = aru.get_model_arn(account_number, model_id)"
   ]
  },
  {
   "cell_type": "markdown",
   "id": "787578b9-2c24-47f0-8430-9b26d8157aae",
   "metadata": {},
   "source": [
    "## 3. Configure Bedrock Client"
   ]
  },
  {
   "cell_type": "code",
   "execution_count": null,
   "id": "9a07b9c5-ed24-4bfa-9aaf-a0f7dd6491b6",
   "metadata": {},
   "outputs": [],
   "source": [
    "# Configure the Bedrock client\n",
    "bedrock_agent_runtime = aru.setup_bedrock_client(variables[\"regionName\"])"
   ]
  },
  {
   "cell_type": "markdown",
   "id": "7261e509-7fc8-40fb-a6e1-a017eb793e63",
   "metadata": {},
   "source": [
    "## 4. Define Query"
   ]
  },
  {
   "cell_type": "code",
   "execution_count": null,
   "id": "b30b6684-1175-4aff-a85e-9b1f5b3c8522",
   "metadata": {},
   "outputs": [],
   "source": [
    "# Define a simple query\n",
    "query = \"what was the % increase in sales?\""
   ]
  },
  {
   "cell_type": "markdown",
   "id": "c53e9ceb-d844-416e-ab9b-ac4301807621",
   "metadata": {},
   "source": [
    "## 5. Retrieve Response Without Metadata Filter"
   ]
  },
  {
   "cell_type": "code",
   "execution_count": null,
   "id": "107946cb-8a6e-4e42-8a8b-95ccd204b5bd",
   "metadata": {},
   "outputs": [],
   "source": [
    "# Retrieve response without metadata filter\n",
    "response_without_metadata = aru.retrieve_and_generate_without_filter(\n",
    "    query=query, \n",
    "    knowledge_base_id=knowledge_base_id, \n",
    "    model_arn=model_arn,\n",
    "    bedrock_client=bedrock_agent_runtime\n",
    ")\n",
    "\n",
    "# Display the response\n",
    "aru.display_rag_response(response_without_metadata)"
   ]
  },
  {
   "cell_type": "markdown",
   "id": "a2ff170a-0d68-4bf8-81d5-9dc7c0c0fa07",
   "metadata": {},
   "source": [
    "## 6. Retrieve and Print Citations Without Metadata Filter"
   ]
  },
  {
   "cell_type": "code",
   "execution_count": null,
   "id": "efb0aedf-2b15-42d9-b8f1-46499c55fd9e",
   "metadata": {},
   "outputs": [],
   "source": [
    "# Extract citations used to generate the response\n",
    "response_without_MD = aru.extract_citations(response_without_metadata)\n",
    "\n",
    "# Print the citations\n",
    "aru.citations_rag_print(response_without_MD)"
   ]
  },
  {
   "cell_type": "markdown",
   "id": "9d6f1a6c-ee60-4016-8559-222f77310071",
   "metadata": {},
   "source": [
    "## 7. Define Metadata Filter\n",
    "\n",
    "The code below defines a metadata filter to narrow down the knowledge base search:\n",
    "- Creates a complex filter using logical operators (andAll)\n",
    "- The filter has two conditions that must both be true:\n",
    "  1. docType must equal '10K Report'\n",
    "  2. year must equal 2023\n",
    "- This filter will limit retrieval to only chunks from 2023 10K reports\n",
    "- The structure demonstrates how to build more complex queries with multiple conditions\n",
    "\n",
    "This filter will be used to demonstrate selective retrieval from specific documents."
   ]
  },
  {
   "cell_type": "code",
   "execution_count": null,
   "id": "006b0092-1cef-49fe-ace7-1f7250fd61d0",
   "metadata": {},
   "outputs": [],
   "source": [
    "# Create a standard filter for 2023 10K Reports\n",
    "one_group_filter = aru.create_standard_filter(docType='10K Report', year=2023)"
   ]
  },
  {
   "cell_type": "markdown",
   "id": "4c40149e-0ac6-4ede-99c7-ab2e41f43ee0",
   "metadata": {},
   "source": [
    "## 8. Retrieve Response With Metadata Filter"
   ]
  },
  {
   "cell_type": "code",
   "execution_count": null,
   "id": "fc81dcdb-9456-49ed-a2d1-1102ec199879",
   "metadata": {},
   "outputs": [],
   "source": [
    "# Retrieve response with metadata filter\n",
    "response_with_metadata = aru.retrieve_and_generate_with_filter(\n",
    "    query=query, \n",
    "    knowledge_base_id=knowledge_base_id, \n",
    "    model_arn=model_arn, \n",
    "    metadata_filter=one_group_filter,\n",
    "    bedrock_client=bedrock_agent_runtime\n",
    ")\n",
    "\n",
    "# Display the response\n",
    "aru.display_rag_response(response_with_metadata)"
   ]
  },
  {
   "cell_type": "markdown",
   "id": "2c632fb1-271d-46dc-ad9a-9d9a4c7d145a",
   "metadata": {},
   "source": [
    "## 9. Retrieve and Print Citations With Metadata Filter"
   ]
  },
  {
   "cell_type": "code",
   "execution_count": null,
   "id": "92920fad-2e96-4d8d-96c1-e8aebc70ae2e",
   "metadata": {},
   "outputs": [],
   "source": [
    "# Extract and print citations for the filtered response\n",
    "response_with_MD = aru.extract_citations(response_with_metadata)\n",
    "aru.citations_rag_print(response_with_MD)"
   ]
  },
  {
   "cell_type": "markdown",
   "id": "1a05fe8e",
   "metadata": {},
   "source": [
    "## 10. Advanced Metadata Filtering\n",
    "\n",
    "Dynamically creating metadata filters allows  to create query-specific filters programmatically rather than hardcoding them.\n",
    "\n",
    "We'll use a function that creates metadata filters programatically based on various parameters:\n",
    "- company: Filter by company name\n",
    "- year: Filter by year (can be a single year or list of years)\n",
    "- docType: Filter by document type\n",
    "- min_page/max_page: Filter by page number ranges\n",
    "- s3_prefix: Filter by S3 URI prefix\n",
    "\n",
    "The function builds a filter configuration based on the provided parameters,\n",
    "combining them with appropriate operators (equals, greaterThanOrEquals, etc.)."
   ]
  },
  {
   "cell_type": "code",
   "execution_count": null,
   "id": "053bd52b",
   "metadata": {},
   "outputs": [],
   "source": [
    "# Compare growth rates across all Amazon business segments\n",
    "query = \"Compare the year-over-year growth rates for AWS, North America, and International segments, including factors that influenced performance differences\"\n",
    "\n",
    "# Use the query_financial_data function with dynamic filtering\n",
    "response = aru.query_financial_data(\n",
    "    query_text=query,\n",
    "    kb_id=knowledge_base_id,\n",
    "    model_arn=model_arn,\n",
    "    bedrock_client=bedrock_agent_runtime,\n",
    "    company=\"Amazon\",\n",
    "    year=[2023, 2024]\n",
    ")\n",
    "\n",
    "# Print the citations\n",
    "aru.print_citations(response)"
   ]
  },
  {
   "cell_type": "code",
   "execution_count": null,
   "id": "db256efa",
   "metadata": {},
   "outputs": [],
   "source": [
    "# Filter for documents in a specific S3 folder\n",
    "# s3_prefix_2023 = f\"s3://{variables['s3Bucket']}/pdf_documents/\"\n",
    "s3_prefix_2023 = f\"s3://{variables['s3Bucket']}/data/pdf_documents/\"\n",
    "query = \"What was the AWS revenue growth in 2023?\"\n",
    "\n",
    "# Use query_financial_data with S3 prefix filter\n",
    "response_2023 = aru.query_financial_data(\n",
    "    query_text=query,\n",
    "    kb_id=knowledge_base_id,\n",
    "    model_arn=model_arn,\n",
    "    bedrock_client=bedrock_agent_runtime,\n",
    "    year=[2023, 2024],\n",
    "    s3_prefix=s3_prefix_2023\n",
    ")\n",
    "\n",
    "# Print the citations\n",
    "aru.print_citations(response_2023)"
   ]
  },
  {
   "cell_type": "markdown",
   "id": "3f328c22-93d6-4a48-aad0-0a5642a7e32b",
   "metadata": {},
   "source": [
    "### Dynamic Entity extraction to create filters on the fly\n",
    "In the examples so far you knew the filters that you need to apply. Perhaps your application forces the user to pick a year or department name while asking questions. In those situations, the above approach would work.\n",
    "However, you may have a situation where there is no way for a user to specify filters. Thus, the application may, at run time, have to figure out the filters based on a question.\n",
    "For example, assume that your documents are stored in respective department folders such as HR, Finance, Legal, Science, Engineering, Customer Support, etc. \n",
    "Assume that your user asks an HR related question. There are two options for you.\n",
    "### Option 1: \n",
    "You create a vector embedding for HR related questions and search the vector space in the entire knowledgebase. This will give you some context and might even pick up some HR related content from customer support content.\n",
    "### Option 2: \n",
    "You ask an LLM to determine the topic to which the question most likely belongs to.Then you use the topic as a filter to query the knowledge base. This limits the search to fewer topics and hence reduces the noise from unrelated topics.\n",
    "While this might improve accuracy because of richer context with reduced noise, this would also introduce extra costs because of an extra call to LLM to determine the topic to which the questuon belongs to."
   ]
  },
  {
   "cell_type": "code",
   "execution_count": null,
   "id": "34858df3-085c-47b8-b6fb-d219bce2d472",
   "metadata": {},
   "outputs": [],
   "source": [
    "# Define a sample query for entity extraction\n",
    "user_prompt = \"In Amazon's cash flow statement, what was the net income in years 2023 and 2024?\"\n",
    "\n",
    "# Extract entities (years and companies) from the query\n",
    "years, companies = aru.extract_entities_from_query(\n",
    "    user_prompt=user_prompt,\n",
    "    model_id=\"anthropic.claude-3-5-haiku-20241022-v1:0\",\n",
    "    region_name=variables[\"regionName\"]\n",
    ")\n",
    "\n",
    "# Display the extracted entities\n",
    "print(f\"Extracted years: {years}\")\n",
    "print(f\"Extracted companies: {companies}\")"
   ]
  },
  {
   "cell_type": "code",
   "execution_count": null,
   "id": "e28b4a69-a33b-48a3-a5c2-07927f3a7b1c",
   "metadata": {},
   "outputs": [],
   "source": [
    "# Use the extracted entities to filter a query\n",
    "response = aru.query_financial_data(\n",
    "    query_text=user_prompt,\n",
    "    kb_id=knowledge_base_id,\n",
    "    model_arn=model_arn,\n",
    "    bedrock_client=bedrock_agent_runtime,\n",
    "    company=companies,\n",
    "    year=years\n",
    ")\n",
    "\n",
    "# Display the response with citations\n",
    "aru.print_citations(response)"
   ]
  },
  {
   "cell_type": "code",
   "execution_count": null,
   "id": "aa41f927-4873-43bd-a058-6700331d4aa9",
   "metadata": {},
   "outputs": [],
   "source": []
  },
  {
   "cell_type": "code",
   "execution_count": null,
   "id": "f45068f0-15f9-4f29-9dd5-f510863bca31",
   "metadata": {},
   "outputs": [],
   "source": []
  }
 ],
 "metadata": {
  "kernelspec": {
   "display_name": "Python 3 (ipykernel)",
   "language": "python",
   "name": "python3"
  },
  "language_info": {
   "codemirror_mode": {
    "name": "ipython",
    "version": 3
   },
   "file_extension": ".py",
   "mimetype": "text/x-python",
   "name": "python",
   "nbconvert_exporter": "python",
   "pygments_lexer": "ipython3",
   "version": "3.12.9"
  }
 },
 "nbformat": 4,
 "nbformat_minor": 5
}
