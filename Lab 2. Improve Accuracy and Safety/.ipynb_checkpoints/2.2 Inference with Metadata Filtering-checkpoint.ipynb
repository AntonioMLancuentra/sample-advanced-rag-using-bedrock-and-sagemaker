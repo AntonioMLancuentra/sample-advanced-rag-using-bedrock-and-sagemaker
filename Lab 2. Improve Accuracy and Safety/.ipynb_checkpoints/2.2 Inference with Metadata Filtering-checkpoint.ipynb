{
 "cells": [
  {
   "cell_type": "markdown",
   "id": "e6abd1f0-7f35-47c6-a2be-92a98a90e0c9",
   "metadata": {},
   "source": [
    "# Bedrock Knowledge Base Retrieval and Generation with Metadata Filtering\n",
    "\n",
    "### Description:\n",
    "This notebook demonstrates how to query and retrieve data from an Amazon Bedrock-powered knowledge base using different configurations, filters, and citation extraction. The steps include creating a query, retrieving responses, and printing the citations used for generating the results.\n"
   ]
  },
  {
   "cell_type": "markdown",
   "id": "7236abf1-044a-475c-a71f-466e48c32880",
   "metadata": {},
   "source": [
    "## 1. Load Configuration Variables"
   ]
  },
  {
   "cell_type": "code",
   "execution_count": null,
   "id": "0396ef0a-b176-42f0-a345-1aa88f9e7d60",
   "metadata": {},
   "outputs": [],
   "source": [
    "# Load configuration variables from a JSON file to access knowledge base ID, account number, and guardrail info.\n",
    "import json\n",
    "\n",
    "with open(\"../Lab 1/variables.json\", \"r\") as f:\n",
    "    variables = json.load(f)\n",
    "\n",
    "variables  # Display the loaded variables for confirmation"
   ]
  },
  {
   "cell_type": "markdown",
   "id": "2db3fe0e-7d46-4a2d-b41c-ad6bceccf8a7",
   "metadata": {},
   "source": [
    "## 2. Set Up Required IDs and Model ARNs"
   ]
  },
  {
   "cell_type": "code",
   "execution_count": null,
   "id": "09518065-0981-4cb1-a1cb-d616eae8eeda",
   "metadata": {},
   "outputs": [],
   "source": [
    "knowledge_base_id = variables['kbFixedChunk']   \n",
    "model_id = 'us.amazon.nova-pro-v1:0' \n",
    "accountNumber = variables['accountNumber']\n",
    "guardrail_version = variables['guardrail_version'] \n",
    "guardrail_id = variables['guardrail_id']    \n",
    "model_arn = f\"arn:aws:bedrock:us-west-2:{accountNumber}:inference-profile/{model_id}\"\n",
    "rerank_model_arn = f\"arn:aws:bedrock:us-west-2:{accountNumber}:inference-profile/us.amazon.rerank-v1:0\"\n",
    "guardrail_arn = f'arn:aws:bedrock:us-east-1:{accountNumber}:guardrail/{guardrail_id}'  # Replace with your guardrail ARN\n",
    "reranker_model_arn = f\"arn:aws:bedrock:us-west-2:{accountNumber}:guardrail/us.amazon.rerank-v1:0\"\n"
   ]
  },
  {
   "cell_type": "markdown",
   "id": "6baf9f32-80a5-44d4-b576-937f75aee211",
   "metadata": {},
   "source": [
    "## 3. Configure Bedrock Client"
   ]
  },
  {
   "cell_type": "code",
   "execution_count": null,
   "id": "2c68dd09-025e-4fbb-a77a-fe0ea43c8069",
   "metadata": {},
   "outputs": [],
   "source": [
    "import boto3\n",
    "import json\n",
    "from typing import *\n",
    "\n",
    "# Configure the Bedrock client\n",
    "bedrock_agent_runtime = boto3.client('bedrock-agent-runtime', region_name=\"us-west-2\")\n"
   ]
  },
  {
   "cell_type": "markdown",
   "id": "53197560-da32-413b-9d69-9af91f957ff1",
   "metadata": {},
   "source": [
    "## 4. Define Function to Retrieve and Generate Without Filters"
   ]
  },
  {
   "cell_type": "code",
   "execution_count": null,
   "id": "95cd6253-cf64-46ee-871c-9ccf3abc5e87",
   "metadata": {},
   "outputs": [],
   "source": [
    "def retrieve_and_generate_without_filter(query, knowledge_base_id, model_arn):\n",
    "    \"\"\"\n",
    "    Retrieves and generates a response based on the given query.\n",
    "\n",
    "    Parameters:\n",
    "    - query (str): The input query.\n",
    "    - knowledge_base_id (str): The ID of the knowledge base.\n",
    "    - model_arn (str): The ARN of the model.\n",
    "\n",
    "    Returns:\n",
    "    - response: The response from the retrieve_and_generate method.\n",
    "    \"\"\"\n",
    "    response = bedrock_agent_runtime.retrieve_and_generate(\n",
    "        input={\n",
    "            \"text\": query\n",
    "        },\n",
    "        retrieveAndGenerateConfiguration={\n",
    "            \"type\": \"KNOWLEDGE_BASE\",\n",
    "            \"knowledgeBaseConfiguration\": {\n",
    "                'knowledgeBaseId': knowledge_base_id,\n",
    "                \"modelArn\": model_arn,\n",
    "                \"retrievalConfiguration\": {\n",
    "                    \"vectorSearchConfiguration\": {\n",
    "                        \"numberOfResults\": 5  # Number of results to return\n",
    "                    }\n",
    "                }\n",
    "            }\n",
    "        }\n",
    "    )\n",
    "    return response\n"
   ]
  },
  {
   "cell_type": "markdown",
   "id": "8f89b8e9-a87f-45e4-9292-e72689395193",
   "metadata": {},
   "source": [
    "## 5. Define Function to Retrieve and Generate With Filters"
   ]
  },
  {
   "cell_type": "code",
   "execution_count": null,
   "id": "6333c208-bb4d-4be6-80ad-451107589089",
   "metadata": {},
   "outputs": [],
   "source": [
    "def retrieve_and_generate_with_filter(query, knowledge_base_id, model_arn, metadata_filter):\n",
    "    \"\"\"\n",
    "    Retrieves and generates a response based on the given query, with metadata filters.\n",
    "\n",
    "    Parameters:\n",
    "    - query (str): The input query.\n",
    "    - knowledge_base_id (str): The ID of the knowledge base.\n",
    "    - model_arn (str): The ARN of the model.\n",
    "    - metadata_filter (dict): The filter for the vector search configuration.\n",
    "\n",
    "    Returns:\n",
    "    - response: The response from the retrieve_and_generate method.\n",
    "    \"\"\"\n",
    "    response = bedrock_agent_runtime.retrieve_and_generate(\n",
    "        input={\n",
    "            \"text\": query\n",
    "        },\n",
    "        retrieveAndGenerateConfiguration={\n",
    "            \"type\": \"KNOWLEDGE_BASE\",\n",
    "            \"knowledgeBaseConfiguration\": {\n",
    "                'knowledgeBaseId': knowledge_base_id,\n",
    "                \"modelArn\": model_arn,\n",
    "                \"retrievalConfiguration\": {\n",
    "                    \"vectorSearchConfiguration\": {\n",
    "                        \"numberOfResults\": 5,\n",
    "                        \"filter\": metadata_filter  # Apply metadata filter\n",
    "                    }\n",
    "                }\n",
    "            }\n",
    "        }\n",
    "    )\n",
    "    return response\n"
   ]
  },
  {
   "cell_type": "markdown",
   "id": "9d08d211-d0e2-404a-8bac-dd164ef689a8",
   "metadata": {},
   "source": [
    "## 6. Define Query"
   ]
  },
  {
   "cell_type": "code",
   "execution_count": null,
   "id": "7850573a-8487-47f8-be26-94bae65bd775",
   "metadata": {},
   "outputs": [],
   "source": [
    "# Define the query to be used for both retrieval methods\n",
    "query = \"what was the % increase in sales?\"\n"
   ]
  },
  {
   "cell_type": "markdown",
   "id": "d0ac9f07-32b6-40a9-be7d-79a7e92fae6d",
   "metadata": {},
   "source": [
    "## 7. Retrieve Response Without Metadata Filter"
   ]
  },
  {
   "cell_type": "code",
   "execution_count": null,
   "id": "a6e4800a-9db2-44d0-9bec-8a6611c1a4a5",
   "metadata": {},
   "outputs": [],
   "source": [
    "# Use the function to retrieve a response without any metadata filter\n",
    "response_withoutMetadata = retrieve_and_generate_without_filter(query, knowledge_base_id, model_arn)\n",
    "\n",
    "# Print the response text\n",
    "print(response_withoutMetadata['output']['text'])\n"
   ]
  },
  {
   "cell_type": "markdown",
   "id": "938c7d95-dd6b-41ec-8f3f-d101b20910fe",
   "metadata": {},
   "source": [
    "## 8. Retrieve and Print Citations Without Metadata Filter"
   ]
  },
  {
   "cell_type": "code",
   "execution_count": null,
   "id": "5c1d03ae-95e6-4e0b-9efc-bed46cb4724c",
   "metadata": {},
   "outputs": [],
   "source": [
    "# Extract citations used to generate the response\n",
    "response_without_MD = response_withoutMetadata['citations'][0]['retrievedReferences']\n",
    "print(\"# of citations or chunks used to generate the response: \", len(response_without_MD))\n",
    "\n",
    "# Function to print citations or chunks of text retrieved\n",
    "def citations_rag_print(response_ret):\n",
    "    for num, chunk in enumerate(response_ret, 1):\n",
    "        print(f'Chunk {num}: ', chunk['content']['text'], end='\\n'*2)\n",
    "        print(f'Chunk {num} Location: ', chunk['location'], end='\\n'*2)\n",
    "        print(f'Chunk {num} Metadata: ', chunk['metadata'], end='\\n'*2)\n",
    "\n",
    "# Print citations\n",
    "citations_rag_print(response_without_MD)\n"
   ]
  },
  {
   "cell_type": "markdown",
   "id": "d2411d64-e3c8-4e53-ba84-ceadbd3952fa",
   "metadata": {},
   "source": [
    "## 9. Define Metadata Filter"
   ]
  },
  {
   "cell_type": "code",
   "execution_count": null,
   "id": "9ea917bf-1574-46a7-a570-b110501b0df7",
   "metadata": {},
   "outputs": [],
   "source": [
    "# Define a metadata filter for advanced filtering based on specific conditions\n",
    "one_group_filter = {\n",
    "    \"andAll\": [\n",
    "        {\n",
    "            \"equals\": {\n",
    "                \"key\": \"docType\",\n",
    "                \"value\": '10K Report'\n",
    "            }\n",
    "        },\n",
    "        {\n",
    "            \"greaterThanOrEquals\": {\n",
    "                \"key\": \"year\",\n",
    "                \"value\": 2025\n",
    "            }\n",
    "        }\n",
    "    ]\n",
    "}\n"
   ]
  },
  {
   "cell_type": "markdown",
   "id": "0f8c7dbd-71b0-4a72-a338-37297a692fce",
   "metadata": {},
   "source": [
    "## 10. Retrieve Response With Metadata Filter"
   ]
  },
  {
   "cell_type": "code",
   "execution_count": null,
   "id": "bd5bf98b-8a17-48d5-adb4-31c6f1cce5b9",
   "metadata": {},
   "outputs": [],
   "source": [
    "# Use the function to retrieve a response with metadata filtering\n",
    "response_with_Metadata = retrieve_and_generate_with_filter(query, knowledge_base_id, model_arn, one_group_filter)\n",
    "\n",
    "# Print the response text\n",
    "print(response_with_Metadata['output']['text'])\n"
   ]
  },
  {
   "cell_type": "markdown",
   "id": "fe6f3c0b-9992-46d6-b2a0-9477f0e83b58",
   "metadata": {},
   "source": [
    "## 11. Retrieve and Print Citations With Metadata Filter"
   ]
  },
  {
   "cell_type": "code",
   "execution_count": null,
   "id": "c7bb1ffc-fab0-40bb-95a2-617ea3579ad0",
   "metadata": {},
   "outputs": [],
   "source": [
    "# Extract citations used to generate the response with metadata filter\n",
    "response_with_MD = response_with_Metadata['citations'][0]['retrievedReferences']\n",
    "print(\"# of citations or chunks used to generate the response: \", len(response_with_MD))\n",
    "\n",
    "# Print citations for the filtered response\n",
    "citations_rag_print(response_with_MD)\n"
   ]
  },
  {
   "cell_type": "code",
   "execution_count": null,
   "id": "5c6c926c-6901-441f-a27a-4387ea01486e",
   "metadata": {},
   "outputs": [],
   "source": []
  }
 ],
 "metadata": {
  "kernelspec": {
   "display_name": "Python 3 (ipykernel)",
   "language": "python",
   "name": "python3"
  },
  "language_info": {
   "codemirror_mode": {
    "name": "ipython",
    "version": 3
   },
   "file_extension": ".py",
   "mimetype": "text/x-python",
   "name": "python",
   "nbconvert_exporter": "python",
   "pygments_lexer": "ipython3",
   "version": "3.11.11"
  }
 },
 "nbformat": 4,
 "nbformat_minor": 5
}
