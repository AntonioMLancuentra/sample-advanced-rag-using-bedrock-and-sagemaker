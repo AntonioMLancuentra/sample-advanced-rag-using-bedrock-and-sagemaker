{
 "cells": [
  {
   "cell_type": "markdown",
   "id": "0f564895-fea7-4fae-9865-165c2ff41158",
   "metadata": {},
   "source": [
    "## Amazon Bedrock Guardrails: \n",
    "Amazon Bedrock Guardrails provides robust content filtering for generative AI applications. This customizable framework helps enterprises implement safety protocols for their AI applications by setting up filters to prevent harmful, inaccurate, or sensitive content. Guardrails enables control over topics, content appropriateness, and PII handling through configurable policies. Organizations can define what information should be blocked, filtered, or anonymized based on specific requirements. Built with regulatory compliance in mind, Guardrails allows developers to establish boundaries that keep AI interactions safe while maintaining functionality and utility. It integrates seamlessly with Bedrock's foundation models, providing protection without sacrificing performance or user experience.\n",
    "\n",
    "in this notebook: we will perform the following \n",
    "\n",
    "## Basic Setup\n",
    "- **UUID Generation**: Creates a unique client request token to ensure idempotency (prevents accidental duplicate guardrail creation)\n",
    "- **Name and Description**: Sets clear identifiers for the guardrail's purpose (\"AdvancedRagWorkshopGuardrails\" focused on SEC filing content)\n",
    "- **Blocked Messages**: Customized messages displayed when input or output is blocked by guardrails\n",
    "\n",
    "## Topic Policy Configuration\n",
    "- **Financial Advice (DENY)**: Blocks any content that recommends investments or financial decisions\n",
    "- **Legal Interpretation (DENY)**: Prevents the model from interpreting legal or regulatory requirements\n",
    "- **Future Performance**: There's a commented-out policy that would block speculation beyond disclosed forward-looking statements\n",
    "\n",
    "## Content Policy Configuration\n",
    "Sets high-strength filters for both input and output on:\n",
    "- **HATE**: Blocks hateful content\n",
    "- **INSULTS**: Filters insulting language\n",
    "- **SEXUAL**: Prevents sexual content\n",
    "- **VIOLENCE**: Blocks violent content\n",
    "- **MISCONDUCT**: Filters content promoting illegal or harmful activities\n",
    "- **PROMPT_ATTACK**: Only filters input (HIGH) but not output (NONE) for prompt injection attempts\n",
    "\n",
    "## Contextual Grounding Policy\n",
    "Sets thresholds for ensuring responses remain grounded to source material:\n",
    "- **GROUNDING**: 0.1 threshold requires responses to be based on the provided context/documents\n",
    "- **RELEVANCE**: 0.1 threshold ensures responses are relevant to the user's query\n",
    "\n",
    "## Word Policy Configuration\n",
    "Blocks specific words deemed inappropriate for the application:\n",
    "\n",
    "## Sensitive Information Policy\n",
    "### PII Entities\n",
    "Configures ANONYMIZE action (redacts/masks content) for a comprehensive list of personal identifiable information types:\n",
    "- Personal identifiers (NAME, EMAIL, PHONE, ADDRESS, AGE)\n",
    "- Financial data (CREDIT_DEBIT_CARD details, BANK ACCOUNT numbers)\n",
    "- Government IDs (SOCIAL_SECURITY_NUMBER, DRIVER_ID, PASSPORT_NUMBER)\n",
    "- Technical identifiers (IP_ADDRESS, MAC_ADDRESS)\n",
    "- Authentication data (PASSWORD, PIN, USERNAME)\n",
    "- And many other PII types\n",
    "\n",
    "### Regex Patterns\n",
    "Custom regex patterns to catch domain-specific sensitive information:\n",
    "- **Medical Record Numbers**: Pattern matching \"123-456-7890\" format\n",
    "- **Insurance Numbers**: Pattern matching two letters followed by 7 digits\n",
    "\n",
    "## Tags\n",
    "Metadata for organizing and tracking the guardrail:\n",
    "- **Environment**: \"Production\"\n",
    "- **Department**: \"Finance\"\n",
    "\n",
    "## Response Handling\n",
    "Captures and outputs the:\n",
    "- **Guardrail ID**: Unique identifier for the created guardrail\n",
    "- **Guardrail ARN**: Full Amazon Resource Name\n",
    "- **Version**: Version number of the created guardrail"
   ]
  },
  {
   "cell_type": "markdown",
   "id": "4f155559-c885-4391-83ed-5a878fb2aa1d",
   "metadata": {},
   "source": [
    "## 1. Import Required Libraries"
   ]
  },
  {
   "cell_type": "code",
   "execution_count": null,
   "id": "88c86848-b3f7-4c7a-9c65-47c85b721ef7",
   "metadata": {},
   "outputs": [],
   "source": [
    "# Import functions from advanced_rag_utils\n",
    "from advanced_rag_utils import (\n",
    "    load_variables,\n",
    "    setup_bedrock_guardrails_client,\n",
    "    create_guardrail_if_not_exists,\n",
    "    create_guardrail_version,\n",
    "    save_variables\n",
    ")"
   ]
  },
  {
   "cell_type": "markdown",
   "id": "0c2e4367-fa1f-41cc-8332-95bd9b2fc85f",
   "metadata": {},
   "source": [
    "## 2. Load Configuration Variables"
   ]
  },
  {
   "cell_type": "code",
   "execution_count": null,
   "id": "d5d428d2-38b4-4f44-8f36-28d3f9593414",
   "metadata": {},
   "outputs": [],
   "source": [
    "# Load variables from the configuration file\n",
    "variables = load_variables(\"../variables.json\")\n",
    "variables  # Display the loaded variables for confirmation"
   ]
  },
  {
   "cell_type": "markdown",
   "id": "fc2c0eaa-73ab-440e-84ff-d2be5c4c955c",
   "metadata": {},
   "source": [
    "## 3. Initialize Bedrock Client and Create a Guardrail"
   ]
  },
  {
   "cell_type": "code",
   "execution_count": null,
   "id": "dc596d73-86df-46c5-b1ab-7f7ad9379ca0",
   "metadata": {},
   "outputs": [],
   "source": [
    "# Initialize the Bedrock client for guardrails\n",
    "bedrock = setup_bedrock_guardrails_client(variables['regionName'])\n",
    "\n",
    "# Create a guardrail or get its ID if it already exists\n",
    "guardrail_id = create_guardrail_if_not_exists(\n",
    "    bedrock_client=bedrock,\n",
    "    guardrail_name=\"AdvancedRagWorkshopGuardrails\"\n",
    ")"
   ]
  },
  {
   "cell_type": "markdown",
   "id": "ff567d05-dcfb-49cd-843a-f66d61bce0d1",
   "metadata": {},
   "source": [
    "## 4. Save Guardrail ID to Configuration File"
   ]
  },
  {
   "cell_type": "code",
   "execution_count": null,
   "id": "160c278d-ae61-40ec-8aeb-6f5449a01de5",
   "metadata": {},
   "outputs": [],
   "source": [
    "# Update the variables dictionary with the new Guardrail ID\n",
    "variables[\"guardrail_id\"] = guardrail_id\n",
    "\n",
    "# Save updated variables to the configuration file\n",
    "save_variables(variables, \"../variables.json\")"
   ]
  },
  {
   "cell_type": "markdown",
   "id": "60b6d0ac-de77-41c0-be38-7c8a14f7ec70",
   "metadata": {},
   "source": [
    "## 5. Create a Published Version of the Guardrail"
   ]
  },
  {
   "cell_type": "code",
   "execution_count": null,
   "id": "72d98e92-449c-4709-a317-5dd5781a446e",
   "metadata": {},
   "outputs": [],
   "source": [
    "# Create a published version of the guardrail\n",
    "guardrail_version = create_guardrail_version(\n",
    "    guardrail_id=guardrail_id,\n",
    "    description=\"Production version 1.0\",\n",
    "    bedrock_client=bedrock\n",
    ")"
   ]
  },
  {
   "cell_type": "markdown",
   "id": "4aa50d3d-d28e-432c-a883-3866740896c6",
   "metadata": {},
   "source": [
    "## 6. Save Guardrail Version to Configuration File"
   ]
  },
  {
   "cell_type": "code",
   "execution_count": null,
   "id": "6119908e-95ce-42f3-bee2-6c2bf9aa0dc6",
   "metadata": {},
   "outputs": [],
   "source": [
    "# Update the variables dictionary with the new Guardrail Version\n",
    "variables[\"guardrail_version\"] = guardrail_version\n",
    "\n",
    "# Save updated variables to the configuration file\n",
    "save_variables(variables, \"../variables.json\")"
   ]
  },
  {
   "cell_type": "markdown",
   "id": "60155ab4",
   "metadata": {},
   "source": [
    "> **Note**: After creating the guardrail, we recommend exploring its settings in the Amazon Bedrock console. The console provides a visual interface to understand how the guardrail is configured and allows you to test it interactively.\n",
    "> \n",
    "> **[➡️ View your Guardrails in the AWS Console](https://us-west-2.console.aws.amazon.com/bedrock/home?region=us-west-2#/guardrails)**\n",
    ">\n",
    "> In the console, you can:\n",
    "> - See all configured policies (topic filters, content filters, sensitive information policies)\n",
    "> - Test sample prompts against your guardrail\n",
    "> - View guardrail versions and their differences\n",
    "> - Monitor usage metrics and blocked content statistics\n",
    "> - Make adjustments to policies as needed"
   ]
  }
 ],
 "metadata": {
  "kernelspec": {
   "display_name": "Python 3 (ipykernel)",
   "language": "python",
   "name": "python3"
  },
  "language_info": {
   "codemirror_mode": {
    "name": "ipython",
    "version": 3
   },
   "file_extension": ".py",
   "mimetype": "text/x-python",
   "name": "python",
   "nbconvert_exporter": "python",
   "pygments_lexer": "ipython3",
   "version": "3.12.9"
  }
 },
 "nbformat": 4,
 "nbformat_minor": 5
}
