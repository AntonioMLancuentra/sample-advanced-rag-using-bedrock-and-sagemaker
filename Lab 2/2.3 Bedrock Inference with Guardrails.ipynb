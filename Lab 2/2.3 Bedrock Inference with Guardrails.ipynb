{
 "cells": [
  {
   "cell_type": "markdown",
   "id": "ac142e85-87d4-4d88-b960-fbc6c526a14c",
   "metadata": {},
   "source": [
    "# Bedrock Knowledge Base Retrieval and Generation with Guardrails\n",
    "\n",
    "## Description\n",
    "This notebook demonstrates how to enhance a Retrieval-Augmented Generation (RAG) pipeline using Amazon Bedrock with Guardrails for better model control and filtering. We will walk through retrieving data from a knowledge base, applying guardrails to control the generation of responses, and filtering results using metadata."
   ]
  },
  {
   "cell_type": "markdown",
   "id": "c5517cc2",
   "metadata": {},
   "source": [
    "![Guardrails](./guardrail.png)"
   ]
  },
  {
   "cell_type": "markdown",
   "id": "137059a9-30e5-4b02-b5dd-3521b423e31e",
   "metadata": {},
   "source": [
    "## 1: Import and Load Variables"
   ]
  },
  {
   "cell_type": "code",
   "execution_count": null,
   "id": "ec67d878-8838-4310-90c5-059d8092d934",
   "metadata": {},
   "outputs": [],
   "source": [
    "import json\n",
    "\n",
    "# Load the configuration variables from a JSON file\n",
    "with open(\"../Lab 1/variables.json\", \"r\") as f:\n",
    "    variables = json.load(f)\n",
    "\n",
    "variables\n"
   ]
  },
  {
   "cell_type": "markdown",
   "id": "97d0e45b-265e-4a43-be54-388992941105",
   "metadata": {},
   "source": [
    "## 2: Define ARN and Configuration Details"
   ]
  },
  {
   "cell_type": "code",
   "execution_count": null,
   "id": "1c2cbca0-2653-45ce-82c0-f58b14c875ff",
   "metadata": {},
   "outputs": [],
   "source": [
    "# Setting up configuration for Bedrock and Guardrails\n",
    "accountNumber = variables['accountNumber']\n",
    "knowledge_base_id = variables['kbFixedChunk']   \n",
    "model_id = 'us.amazon.nova-pro-v1:0' \n",
    "guardrail_version = variables['guardrail_version'] \n",
    "guardrail_id = variables['guardrail_id']    \n",
    "\n",
    "# Define ARNs (Amazon Resource Names) for the model and guardrails\n",
    "model_arn = f\"arn:aws:bedrock:us-west-2:{accountNumber}:inference-profile/{model_id}\"\n",
    "guardrail_arn = f'arn:aws:bedrock:us-west-2:{accountNumber}:guardrail/{guardrail_id}'  # Replace with your guardrail ARN\n"
   ]
  },
  {
   "cell_type": "markdown",
   "id": "4a6adda2-7c06-4bf4-aaa6-8ee83df6ed05",
   "metadata": {},
   "source": [
    "## 3: Set Up Bedrock Client"
   ]
  },
  {
   "cell_type": "code",
   "execution_count": null,
   "id": "d6c62472-d22b-49cc-84c4-a6e207c7a2a7",
   "metadata": {},
   "outputs": [],
   "source": [
    "import boto3\n",
    "\n",
    "# Configure the Bedrock client\n",
    "bedrock_agent_runtime = boto3.client('bedrock-agent-runtime', region_name=\"us-west-2\")\n"
   ]
  },
  {
   "cell_type": "markdown",
   "id": "841018d2-7eaf-4bb5-9fce-87690bb53a6e",
   "metadata": {},
   "source": [
    "## 4: Define Function for Retrieval with Guardrails"
   ]
  },
  {
   "cell_type": "code",
   "execution_count": null,
   "id": "fba02ac2-211d-4bfe-ab8c-38d8348e2b10",
   "metadata": {},
   "outputs": [],
   "source": [
    "def retrieve_and_generate_with_conditional_guardrails(\n",
    "    query, \n",
    "    knowledge_base_id, \n",
    "    model_arn, \n",
    "    metadata_filter=None,\n",
    "    use_guardrails=False,\n",
    "    guardrail_id=None,\n",
    "    guardrail_version=None\n",
    "):\n",
    "    \"\"\"\n",
    "    Retrieves and generates a response with optional Guardrails application.\n",
    "    \n",
    "    Parameters:\n",
    "    - query (str): The input query.\n",
    "    - knowledge_base_id (str): The ID of the knowledge base.\n",
    "    - model_arn (str): The ARN of the model.\n",
    "    - metadata_filter (dict, optional): The filter for the vector search configuration.\n",
    "    - use_guardrails (bool, optional): Whether to apply guardrails. Defaults to False.\n",
    "    - guardrail_id (str, optional): The ID of the guardrail to apply. Required if use_guardrails is True.\n",
    "    - guardrail_version (str, optional): The version of the guardrail. Required if use_guardrails is True.\n",
    "    \n",
    "    Returns:\n",
    "    - response: The response from the retrieve_and_generate method.\n",
    "    \"\"\"\n",
    "    # Start with base configuration\n",
    "    kb_config = {\n",
    "        'knowledgeBaseId': knowledge_base_id,\n",
    "        \"modelArn\": model_arn,\n",
    "        \"retrievalConfiguration\": {\n",
    "            \"vectorSearchConfiguration\": {\n",
    "                \"numberOfResults\": 5\n",
    "            }\n",
    "        }\n",
    "    }\n",
    "    \n",
    "    # Add metadata filter if provided\n",
    "    if metadata_filter:\n",
    "        kb_config[\"retrievalConfiguration\"][\"vectorSearchConfiguration\"][\"filter\"] = metadata_filter\n",
    "    \n",
    "    # Add generation configuration with prompt template\n",
    "    kb_config[\"generationConfiguration\"] = {\n",
    "        \"promptTemplate\": {\n",
    "            \"textPromptTemplate\": \"Answer the following question based on the context:\\n$search_results$\\n\\nQuestion: {question}\"\n",
    "        }\n",
    "    }\n",
    "    \n",
    "    # Add guardrail configuration only if requested\n",
    "    if use_guardrails:\n",
    "        # Validate required parameters\n",
    "        if not guardrail_id:\n",
    "            raise ValueError(\"guardrail_id is required when use_guardrails is True\")\n",
    "        \n",
    "        guardrail_config = {\n",
    "            \"guardrailId\": guardrail_id\n",
    "        }\n",
    "        \n",
    "        # Add version if provided\n",
    "        if guardrail_version:\n",
    "            guardrail_config[\"guardrailVersion\"] = guardrail_version\n",
    "            \n",
    "        # Add to generation configuration\n",
    "        kb_config[\"generationConfiguration\"][\"guardrailConfiguration\"] = guardrail_config\n",
    "    \n",
    "    # Make the API call\n",
    "    response = bedrock_agent_runtime.retrieve_and_generate(\n",
    "        input={\n",
    "            \"text\": query\n",
    "        },\n",
    "        retrieveAndGenerateConfiguration={\n",
    "            \"type\": \"KNOWLEDGE_BASE\",\n",
    "            \"knowledgeBaseConfiguration\": kb_config\n",
    "        }\n",
    "    )\n",
    "    \n",
    "    return response"
   ]
  },
  {
   "cell_type": "markdown",
   "id": "6bce5372-d4fb-477a-8446-13379559effe",
   "metadata": {},
   "source": [
    "## 5: Define Metadata Filter"
   ]
  },
  {
   "cell_type": "code",
   "execution_count": null,
   "id": "2abfc342-f228-41f4-8643-5ef1df38f0c3",
   "metadata": {},
   "outputs": [],
   "source": [
    "# Define a metadata filter for advanced filtering based on specific conditions\n",
    "one_group_filter= {\n",
    "    \"andAll\": [\n",
    "        {\n",
    "            \"equals\": {\n",
    "                \"key\": \"docType\",\n",
    "                \"value\": '10K Report'\n",
    "            }\n",
    "        },\n",
    "        {\n",
    "            \"equals\": {\n",
    "                \"key\": \"year\",\n",
    "                \"value\": 2023\n",
    "            }\n",
    "        }\n",
    "    ]\n",
    "}\n"
   ]
  },
  {
   "cell_type": "markdown",
   "id": "da5a82d6-4ffd-4236-b968-2341c36d599b",
   "metadata": {},
   "source": [
    "## 6: lets validate if the guardrails restrict any investment advice.\n",
    "lets ask the Foundational model for an investment advice. When we created the guardrails, we restricted bedrock to provide any investment advice. Bedrock should be return a  preconfigured response \"This request cannot be processed due to  safety protocols\""
   ]
  },
  {
   "cell_type": "code",
   "execution_count": null,
   "id": "a4f113ab-99ab-4883-852a-fb8ad41cf110",
   "metadata": {},
   "outputs": [],
   "source": [
    "# Define the query that will be sent to the model\n",
    "query = \"based on your amazon's results should I buy amazon stock?\"\n"
   ]
  },
  {
   "cell_type": "code",
   "execution_count": null,
   "id": "2154467d-b5e7-4375-8dad-1ad5ec43c7c1",
   "metadata": {},
   "outputs": [],
   "source": [
    "response_without_guardrails = retrieve_and_generate_with_conditional_guardrails(\n",
    "    query=query, \n",
    "    knowledge_base_id=knowledge_base_id, \n",
    "    model_arn=model_arn,\n",
    "    metadata_filter=one_group_filter,\n",
    "    use_guardrails=False  # Explicitly set to False, \n",
    ")\n",
    "\n",
    "print(response_without_guardrails['output']['text'])"
   ]
  },
  {
   "cell_type": "markdown",
   "id": "ca351b70-80d3-4eee-be01-291a8b1152c8",
   "metadata": {},
   "source": [
    "## 7: Retrieve Response with Guardrails"
   ]
  },
  {
   "cell_type": "code",
   "execution_count": null,
   "id": "f6a228d9-6aaf-4438-b356-e7f06a52f267",
   "metadata": {},
   "outputs": [],
   "source": [
    "response_with_guardrails = retrieve_and_generate_with_conditional_guardrails(\n",
    "    query=query, \n",
    "    knowledge_base_id=knowledge_base_id, \n",
    "    model_arn=model_arn,\n",
    "    metadata_filter=one_group_filter,\n",
    "    use_guardrails=True,\n",
    "    guardrail_id=guardrail_id,\n",
    "    guardrail_version=guardrail_version\n",
    ")\n",
    "print(response_with_guardrails['output']['text'])"
   ]
  },
  {
   "cell_type": "markdown",
   "id": "e94d62d2-0af1-4306-91ed-fdffe1be0330",
   "metadata": {},
   "source": [
    "## 8. Guardrails for PII data. "
   ]
  },
  {
   "cell_type": "code",
   "execution_count": null,
   "id": "d0dab16d-a17e-44b3-9f82-529c03ee179f",
   "metadata": {},
   "outputs": [],
   "source": [
    "query=\"Who is the current CFO of Amazon?\"\n"
   ]
  },
  {
   "cell_type": "code",
   "execution_count": null,
   "id": "32003c8d-c671-4224-be68-896d67017204",
   "metadata": {},
   "outputs": [],
   "source": [
    "response_without_guardrails = retrieve_and_generate_with_conditional_guardrails(\n",
    "    query=query, \n",
    "    knowledge_base_id=knowledge_base_id, \n",
    "    model_arn=model_arn,\n",
    "    metadata_filter=one_group_filter,\n",
    "    use_guardrails=False  # Explicitly set to False, \n",
    ")\n",
    "\n",
    "print(response_without_guardrails['output']['text'])"
   ]
  },
  {
   "cell_type": "code",
   "execution_count": null,
   "id": "7f332513-0fcf-4eb4-b007-767a171ed8df",
   "metadata": {},
   "outputs": [],
   "source": [
    "# response_with_guardrails=retrieve_and_generate_with_guardrails(query, knowledge_base_id, model_arn,guardrail_id,guardrail_version,one_group_filter)\n",
    "# print(response_with_guardrails['output']['text'])   \n",
    "response_with_guardrails = retrieve_and_generate_with_conditional_guardrails(\n",
    "    query=query, \n",
    "    knowledge_base_id=knowledge_base_id, \n",
    "    model_arn=model_arn,\n",
    "    metadata_filter=one_group_filter,\n",
    "    use_guardrails=True,\n",
    "    guardrail_id=guardrail_id,\n",
    "    guardrail_version=guardrail_version\n",
    ")\n",
    "print(response_with_guardrails['output']['text'])"
   ]
  }
 ],
 "metadata": {
  "kernelspec": {
   "display_name": "Python 3 (ipykernel)",
   "language": "python",
   "name": "python3"
  },
  "language_info": {
   "codemirror_mode": {
    "name": "ipython",
    "version": 3
   },
   "file_extension": ".py",
   "mimetype": "text/x-python",
   "name": "python",
   "nbconvert_exporter": "python",
   "pygments_lexer": "ipython3",
   "version": "3.11.11"
  }
 },
 "nbformat": 4,
 "nbformat_minor": 5
}
