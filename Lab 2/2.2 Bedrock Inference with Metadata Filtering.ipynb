{
 "cells": [
  {
   "cell_type": "markdown",
   "id": "6c12a22c-1690-4624-93aa-02082c006e33",
   "metadata": {},
   "source": [
    "# Bedrock Knowledge Base Retrieval and Generation with Metadata Filtering\n",
    "\n",
    "### Description:\n",
    "This notebook demonstrates how to query and retrieve data from an Amazon Bedrock-powered knowledge base using different configurations, filters, and citation extraction. The steps include creating a query, retrieving responses, and printing the citations used for generating the results.\n"
   ]
  },
  {
   "cell_type": "markdown",
   "id": "17e05a5d-8cf4-4c26-a66e-9069d145752f",
   "metadata": {},
   "source": [
    "## 1. Load Configuration Variables"
   ]
  },
  {
   "cell_type": "code",
   "execution_count": null,
   "id": "c033e1f7-8060-4489-b5f7-e1bb6e3f89ae",
   "metadata": {},
   "outputs": [],
   "source": [
    "# Load configuration variables from a JSON file to access knowledge base ID, account number, and guardrail info.\n",
    "import json\n",
    "\n",
    "with open(\"../Lab 1/variables.json\", \"r\") as f:\n",
    "    variables = json.load(f)\n",
    "\n",
    "variables  # Display the loaded variables for confirmation"
   ]
  },
  {
   "cell_type": "markdown",
   "id": "023f9f7f-3a4c-4f95-b7b4-50e20d8db859",
   "metadata": {},
   "source": [
    "## 2. Set Up Required IDs and Model ARNs"
   ]
  },
  {
   "cell_type": "code",
   "execution_count": null,
   "id": "92773810-baf9-4718-aaa2-683e2fba2e5e",
   "metadata": {},
   "outputs": [],
   "source": [
    "accountNumber=variables['accountNumber']   \n",
    "knowledge_base_id = variables['kbFixedChunk']   \n",
    "model_id = 'us.amazon.nova-pro-v1:0' \n",
    "model_arn = f\"arn:aws:bedrock:us-west-2:{accountNumber}:inference-profile/{model_id}\"\n"
   ]
  },
  {
   "cell_type": "markdown",
   "id": "787578b9-2c24-47f0-8430-9b26d8157aae",
   "metadata": {},
   "source": [
    "## 3. Configure Bedrock Client"
   ]
  },
  {
   "cell_type": "code",
   "execution_count": null,
   "id": "9a07b9c5-ed24-4bfa-9aaf-a0f7dd6491b6",
   "metadata": {},
   "outputs": [],
   "source": [
    "import boto3\n",
    "import json\n",
    "from typing import *\n",
    "\n",
    "# Configure the Bedrock client\n",
    "bedrock_agent_runtime = boto3.client('bedrock-agent-runtime', region_name=\"us-west-2\")\n"
   ]
  },
  {
   "cell_type": "markdown",
   "id": "d23ff073-78af-4909-b583-362bb98e7c3b",
   "metadata": {},
   "source": [
    "## 4. Define Function to Retrieve and Generate Without Filters"
   ]
  },
  {
   "cell_type": "code",
   "execution_count": null,
   "id": "c9d5c546-c0da-4629-8d02-e24740609852",
   "metadata": {},
   "outputs": [],
   "source": [
    "def retrieve_and_generate_without_filter(query, knowledge_base_id, model_arn):\n",
    "    \"\"\"\n",
    "    Retrieves and generates a response based on the given query.\n",
    "\n",
    "    Parameters:\n",
    "    - query (str): The input query.\n",
    "    - knowledge_base_id (str): The ID of the knowledge base.\n",
    "    - model_arn (str): The ARN of the model.\n",
    "    - one_group_filter (dict): The filter for the vector search configuration.\n",
    "\n",
    "    Returns:\n",
    "    - response: The response from the retrieve_and_generate method.\n",
    "    \"\"\"\n",
    "    response = bedrock_agent_runtime.retrieve_and_generate(\n",
    "        input={\n",
    "            \"text\": query\n",
    "        },\n",
    "        retrieveAndGenerateConfiguration={\n",
    "            \"type\": \"KNOWLEDGE_BASE\",\n",
    "            \"knowledgeBaseConfiguration\": {\n",
    "                'knowledgeBaseId': knowledge_base_id,\n",
    "                \"modelArn\": model_arn,\n",
    "                \"retrievalConfiguration\": {\n",
    "                    \"vectorSearchConfiguration\": {\n",
    "                        \"numberOfResults\": 5\n",
    "                    }\n",
    "                }\n",
    "            }\n",
    "        }\n",
    "    )\n",
    "    return response\n"
   ]
  },
  {
   "cell_type": "markdown",
   "id": "1043e897-864e-42bf-b31f-3cb35961fa1a",
   "metadata": {},
   "source": [
    "## 5. Define Function to Retrieve and Generate With Filters"
   ]
  },
  {
   "cell_type": "code",
   "execution_count": null,
   "id": "5927a20b-a528-455f-8cab-7013120f1c03",
   "metadata": {},
   "outputs": [],
   "source": [
    "def retrieve_and_generate_with_filter(query, knowledge_base_id, model_arn, metadata_filter):\n",
    "    \"\"\"\n",
    "    Retrieves and generates a response based on the given query.\n",
    "\n",
    "    Parameters:\n",
    "    - query (str): The input query.\n",
    "    - knowledge_base_id (str): The ID of the knowledge base.\n",
    "    - model_arn (str): The ARN of the model.\n",
    "    - one_group_filter (dict): The filter for the vector search configuration.\n",
    "\n",
    "    Returns:\n",
    "    - response: The response from the retrieve_and_generate method.\n",
    "    \"\"\"\n",
    "    response = bedrock_agent_runtime.retrieve_and_generate(\n",
    "        input={\n",
    "            \"text\": query\n",
    "        },\n",
    "        retrieveAndGenerateConfiguration={\n",
    "            \"type\": \"KNOWLEDGE_BASE\",\n",
    "            \"knowledgeBaseConfiguration\": {\n",
    "                'knowledgeBaseId': knowledge_base_id,\n",
    "                \"modelArn\": model_arn,\n",
    "                \"retrievalConfiguration\": {\n",
    "                    \"vectorSearchConfiguration\": {\n",
    "                        \"numberOfResults\": 5,\n",
    "                        \"filter\": metadata_filter\n",
    "                    }\n",
    "                }\n",
    "            }\n",
    "        }\n",
    "    )\n",
    "    return response\n",
    "\n"
   ]
  },
  {
   "cell_type": "markdown",
   "id": "7261e509-7fc8-40fb-a6e1-a017eb793e63",
   "metadata": {},
   "source": [
    "## 6. Define Query"
   ]
  },
  {
   "cell_type": "code",
   "execution_count": null,
   "id": "b30b6684-1175-4aff-a85e-9b1f5b3c8522",
   "metadata": {},
   "outputs": [],
   "source": [
    "query = \"what was the % increase in sales?\""
   ]
  },
  {
   "cell_type": "markdown",
   "id": "c53e9ceb-d844-416e-ab9b-ac4301807621",
   "metadata": {},
   "source": [
    "## 7. Retrieve Response Without Metadata Filter"
   ]
  },
  {
   "cell_type": "code",
   "execution_count": null,
   "id": "107946cb-8a6e-4e42-8a8b-95ccd204b5bd",
   "metadata": {},
   "outputs": [],
   "source": [
    "response_withoutMetadata=retrieve_and_generate_without_filter(query, knowledge_base_id, model_arn)\n",
    "print(response_withoutMetadata['output']['text'])\n"
   ]
  },
  {
   "cell_type": "markdown",
   "id": "a2ff170a-0d68-4bf8-81d5-9dc7c0c0fa07",
   "metadata": {},
   "source": [
    "## 8. Retrieve and Print Citations Without Metadata Filter"
   ]
  },
  {
   "cell_type": "code",
   "execution_count": null,
   "id": "efb0aedf-2b15-42d9-b8f1-46499c55fd9e",
   "metadata": {},
   "outputs": [],
   "source": [
    "# Extract citations used to generate the response\n",
    "response_without_MD = response_withoutMetadata['citations'][0]['retrievedReferences']\n",
    "print(\"# of citations or chunks used to generate the response: \", len(response_without_MD))\n",
    "\n",
    "# Function to print citations or chunks of text retrieved\n",
    "def citations_rag_print(response_ret):\n",
    "    for num, chunk in enumerate(response_ret, 1):\n",
    "        print(f'Chunk {num}: ', chunk['content']['text'], end='\\n'*2)\n",
    "        print(f'Chunk {num} Location: ', chunk['location'], end='\\n'*2)\n",
    "        print(f'Chunk {num} Metadata: ', chunk['metadata'], end='\\n'*2)\n",
    "\n",
    "# Print citations\n",
    "citations_rag_print(response_without_MD)\n"
   ]
  },
  {
   "cell_type": "markdown",
   "id": "9d6f1a6c-ee60-4016-8559-222f77310071",
   "metadata": {},
   "source": [
    "## 9. Define Metadata Filter\n",
    "\n",
    "The code below defines a metadata filter to narrow down the knowledge base search:\n",
    "- Creates a complex filter using logical operators (andAll)\n",
    "- The filter has two conditions that must both be true:\n",
    "  1. docType must equal '10K Report'\n",
    "  2. year must equal 2023\n",
    "- This filter will limit retrieval to only chunks from 2023 10K reports\n",
    "- The structure demonstrates how to build more complex queries with multiple conditions\n",
    "\n",
    "This filter will be used to demonstrate selective retrieval from specific documents."
   ]
  },
  {
   "cell_type": "code",
   "execution_count": null,
   "id": "006b0092-1cef-49fe-ace7-1f7250fd61d0",
   "metadata": {},
   "outputs": [],
   "source": [
    "# Define a metadata filter for advanced filtering based on specific conditions\n",
    "one_group_filter= {\n",
    "    \"andAll\": [\n",
    "        {\n",
    "            \"equals\": {\n",
    "                \"key\": \"docType\",\n",
    "                \"value\": '10K Report'\n",
    "            }\n",
    "        },\n",
    "        {\n",
    "            \"equals\": {\n",
    "                \"key\": \"year\",\n",
    "                \"value\": 2023\n",
    "            }\n",
    "        }\n",
    "    ]\n",
    "}\n"
   ]
  },
  {
   "cell_type": "markdown",
   "id": "4c40149e-0ac6-4ede-99c7-ab2e41f43ee0",
   "metadata": {},
   "source": [
    "## 10. Retrieve Response With Metadata Filter"
   ]
  },
  {
   "cell_type": "code",
   "execution_count": null,
   "id": "fc81dcdb-9456-49ed-a2d1-1102ec199879",
   "metadata": {},
   "outputs": [],
   "source": [
    "# Use the function to retrieve a response with metadata filtering\n",
    "response_with_Metadata = retrieve_and_generate_with_filter(query, knowledge_base_id, model_arn, one_group_filter)\n",
    "\n",
    "# Print the response text\n",
    "print(response_with_Metadata['output']['text'])\n"
   ]
  },
  {
   "cell_type": "markdown",
   "id": "2c632fb1-271d-46dc-ad9a-9d9a4c7d145a",
   "metadata": {},
   "source": [
    "## 11. Retrieve and Print Citations With Metadata Filter"
   ]
  },
  {
   "cell_type": "code",
   "execution_count": null,
   "id": "92920fad-2e96-4d8d-96c1-e8aebc70ae2e",
   "metadata": {},
   "outputs": [],
   "source": [
    "# Extract citations used to generate the response with metadata filter\n",
    "response_with_MD = response_with_Metadata['citations'][0]['retrievedReferences']\n",
    "print(\"# of citations or chunks used to generate the response: \", len(response_with_MD))\n",
    "\n",
    "# Print citations for the filtered response\n",
    "citations_rag_print(response_with_MD)\n"
   ]
  }
 ],
 "metadata": {
  "kernelspec": {
   "display_name": "Python 3 (ipykernel)",
   "language": "python",
   "name": "python3"
  },
  "language_info": {
   "codemirror_mode": {
    "name": "ipython",
    "version": 3
   },
   "file_extension": ".py",
   "mimetype": "text/x-python",
   "name": "python",
   "nbconvert_exporter": "python",
   "pygments_lexer": "ipython3",
   "version": "3.11.11"
  }
 },
 "nbformat": 4,
 "nbformat_minor": 5
}
