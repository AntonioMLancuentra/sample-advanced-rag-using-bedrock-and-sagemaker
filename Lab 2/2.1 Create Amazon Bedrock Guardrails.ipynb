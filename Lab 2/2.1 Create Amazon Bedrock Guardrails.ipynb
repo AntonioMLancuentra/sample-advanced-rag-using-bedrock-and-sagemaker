{
 "cells": [
  {
   "cell_type": "markdown",
   "id": "0f564895-fea7-4fae-9865-165c2ff41158",
   "metadata": {},
   "source": [
    "## Amazon Bedrock Guardrails: \n",
    "Amazon Bedrock Guardrails provides robust content filtering for generative AI applications. This customizable framework helps enterprises implement safety protocols for their AI applications by setting up filters to prevent harmful, inaccurate, or sensitive content. Guardrails enables control over topics, content appropriateness, and PII handling through configurable policies. Organizations can define what information should be blocked, filtered, or anonymized based on specific requirements. Built with regulatory compliance in mind, Guardrails allows developers to establish boundaries that keep AI interactions safe while maintaining functionality and utility. It integrates seamlessly with Bedrock's foundation models, providing protection without sacrificing performance or user experience.\n",
    "\n",
    "in this notebook: we will perform the following \n",
    "\n",
    "## Basic Setup\n",
    "- **UUID Generation**: Creates a unique client request token to ensure idempotency (prevents accidental duplicate guardrail creation)\n",
    "- **Name and Description**: Sets clear identifiers for the guardrail's purpose (\"AdvancedRagWorkshopGuardrails\" focused on SEC filing content)\n",
    "- **Blocked Messages**: Customized messages displayed when input or output is blocked by guardrails\n",
    "\n",
    "## Topic Policy Configuration\n",
    "- **Financial Advice (DENY)**: Blocks any content that recommends investments or financial decisions\n",
    "- **Legal Interpretation (DENY)**: Prevents the model from interpreting legal or regulatory requirements\n",
    "- **Future Performance**: There's a commented-out policy that would block speculation beyond disclosed forward-looking statements\n",
    "\n",
    "## Content Policy Configuration\n",
    "Sets high-strength filters for both input and output on:\n",
    "- **HATE**: Blocks hateful content\n",
    "- **INSULTS**: Filters insulting language\n",
    "- **SEXUAL**: Prevents sexual content\n",
    "- **VIOLENCE**: Blocks violent content\n",
    "- **MISCONDUCT**: Filters content promoting illegal or harmful activities\n",
    "- **PROMPT_ATTACK**: Only filters input (HIGH) but not output (NONE) for prompt injection attempts\n",
    "\n",
    "## Contextual Grounding Policy\n",
    "Sets thresholds for ensuring responses remain grounded to source material:\n",
    "- **GROUNDING**: 0.1 threshold requires responses to be based on the provided context/documents\n",
    "- **RELEVANCE**: 0.1 threshold ensures responses are relevant to the user's query\n",
    "\n",
    "## Word Policy Configuration\n",
    "Blocks specific words deemed inappropriate for the application:\n",
    "\n",
    "## Sensitive Information Policy\n",
    "### PII Entities\n",
    "Configures ANONYMIZE action (redacts/masks content) for a comprehensive list of personal identifiable information types:\n",
    "- Personal identifiers (NAME, EMAIL, PHONE, ADDRESS, AGE)\n",
    "- Financial data (CREDIT_DEBIT_CARD details, BANK ACCOUNT numbers)\n",
    "- Government IDs (SOCIAL_SECURITY_NUMBER, DRIVER_ID, PASSPORT_NUMBER)\n",
    "- Technical identifiers (IP_ADDRESS, MAC_ADDRESS)\n",
    "- Authentication data (PASSWORD, PIN, USERNAME)\n",
    "- And many other PII types\n",
    "\n",
    "### Regex Patterns\n",
    "Custom regex patterns to catch domain-specific sensitive information:\n",
    "- **Medical Record Numbers**: Pattern matching \"123-456-7890\" format\n",
    "- **Insurance Numbers**: Pattern matching two letters followed by 7 digits\n",
    "\n",
    "## Tags\n",
    "Metadata for organizing and tracking the guardrail:\n",
    "- **Environment**: \"Production\"\n",
    "- **Department**: \"Finance\"\n",
    "\n",
    "## Response Handling\n",
    "Captures and outputs the:\n",
    "- **Guardrail ID**: Unique identifier for the created guardrail\n",
    "- **Guardrail ARN**: Full Amazon Resource Name\n",
    "- **Version**: Version number of the created guardrail"
   ]
  },
  {
   "cell_type": "markdown",
   "id": "4f155559-c885-4391-83ed-5a878fb2aa1d",
   "metadata": {},
   "source": [
    "## 1. Import Required Libraries"
   ]
  },
  {
   "cell_type": "code",
   "execution_count": null,
   "id": "88c86848-b3f7-4c7a-9c65-47c85b721ef7",
   "metadata": {},
   "outputs": [],
   "source": [
    "import boto3\n",
    "import json\n",
    "from botocore.exceptions import ClientError, BotoCoreError\n",
    "\n",
    "# Initialize the Amazon Bedrock client in the us-west-2 region\n",
    "bedrock = boto3.client('bedrock', region_name='us-west-2')\n"
   ]
  },
  {
   "cell_type": "markdown",
   "id": "0c2e4367-fa1f-41cc-8332-95bd9b2fc85f",
   "metadata": {},
   "source": [
    "## 2. Load Configuration Variables"
   ]
  },
  {
   "cell_type": "code",
   "execution_count": null,
   "id": "d5d428d2-38b4-4f44-8f36-28d3f9593414",
   "metadata": {},
   "outputs": [],
   "source": [
    "with open(\"../Lab 1/variables.json\", \"r\") as f:\n",
    "    variables = json.load(f)\n",
    "\n",
    "variables"
   ]
  },
  {
   "cell_type": "markdown",
   "id": "fc2c0eaa-73ab-440e-84ff-d2be5c4c955c",
   "metadata": {},
   "source": [
    "## 3. Create a Guardrail"
   ]
  },
  {
   "cell_type": "code",
   "execution_count": null,
   "id": "d28740b3-5e02-4dd0-a683-acd71afd9b2c",
   "metadata": {},
   "outputs": [],
   "source": [
    "import uuid\n",
    "import boto3\n",
    "\n",
    "# Initialize the Amazon Bedrock client in the us-west-2 region\n",
    "bedrock = boto3.client('bedrock', region_name='us-west-2')\n",
    "\n",
    "# Generate a unique client request token\n",
    "client_request_token = str(uuid.uuid4())\n",
    "\n",
    "# Create a Guardrail with specific filtering and compliance policies\n",
    "response = bedrock.create_guardrail(\n",
    "    name=\"AdvancedRagWorkshopGuardrails\",\n",
    "    description=\"Restrict responses to SEC filing content only\",\n",
    "    blockedInputMessaging=\"This request cannot be processed due to safety protocols.\",\n",
    "    blockedOutputsMessaging=\"Response modified per compliance guidelines.\",\n",
    "\n",
    "    # Topic-based restrictions (e.g., denying financial advice)\n",
    "    topicPolicyConfig={\n",
    "        'topicsConfig': [\n",
    "            {'name': 'financial-advice', 'definition': 'Any recommendations about investments or financial decisions', 'type': 'DENY'},\n",
    "            {'name': 'legal-interpretation', 'definition': 'Interpretation of legal or regulatory requirements', 'type': 'DENY'}\n",
    "        ]\n",
    "    },\n",
    "\n",
    "    # Content filtering policies (e.g., blocking hate speech, violence)\n",
    "    contentPolicyConfig={\n",
    "        'filtersConfig': [\n",
    "            {'type': 'HATE', 'inputStrength': 'HIGH', 'outputStrength': 'HIGH'},\n",
    "            {'type': 'INSULTS', 'inputStrength': 'HIGH', 'outputStrength': 'HIGH'},\n",
    "            {'type': 'SEXUAL', 'inputStrength': 'HIGH', 'outputStrength': 'HIGH'},\n",
    "            {'type': 'VIOLENCE', 'inputStrength': 'HIGH', 'outputStrength': 'HIGH'},\n",
    "            {'type': 'MISCONDUCT', 'inputStrength': 'HIGH', 'outputStrength': 'HIGH'},\n",
    "            {'type': 'PROMPT_ATTACK', 'inputStrength': 'HIGH', 'outputStrength': 'NONE'}\n",
    "        ]\n",
    "    },\n",
    "\n",
    "    # Contextual grounding policies (e.g., ensuring responses stay relevant)\n",
    "    contextualGroundingPolicyConfig={\n",
    "        'filtersConfig': [\n",
    "            {'type': 'GROUNDING', 'threshold': 0.1},\n",
    "            {'type': 'RELEVANCE', 'threshold': 0.1}\n",
    "        ]\n",
    "    },\n",
    "\n",
    "    # List of restricted words related to financial risks\n",
    "    wordPolicyConfig={\n",
    "        'wordsConfig': [\n",
    "            {'text': 'material weakness'}, {'text': 'undisclosed liabilities'}, {'text': 'shareholder lawsuit'},\n",
    "            {'text': 'SEC investigation'}, {'text': 'accounting irregularities'}, {'text': 'restate earnings'},\n",
    "            {'text': 'liquidity crisis'}, {'text': 'bankruptcy risk'}, {'text': 'fraudulent activity'},\n",
    "            {'text': 'insider trading'}\n",
    "        ]\n",
    "    },\n",
    "\n",
    "    # Sensitive data anonymization (e.g., PII, financial information)\n",
    "    sensitiveInformationPolicyConfig={\n",
    "        'piiEntitiesConfig': [\n",
    "            {'type': 'NAME', 'action': 'ANONYMIZE'}, {'type': 'EMAIL', 'action': 'ANONYMIZE'},\n",
    "            {'type': 'PHONE', 'action': 'ANONYMIZE'}, {'type': 'US_SOCIAL_SECURITY_NUMBER', 'action': 'ANONYMIZE'},\n",
    "            {'type': 'ADDRESS', 'action': 'ANONYMIZE'}, {'type': 'CREDIT_DEBIT_CARD_NUMBER', 'action': 'ANONYMIZE'},\n",
    "            {'type': 'PASSWORD', 'action': 'ANONYMIZE'}, {'type': 'IP_ADDRESS', 'action': 'ANONYMIZE'}\n",
    "        ],\n",
    "        'regexesConfig': [\n",
    "            {'name': 'stock_ticker_with_price', 'description': 'Stock ticker with price pattern',\n",
    "             'pattern': '\\\\b[A-Z]{1,5}\\\\s*[@:]\\\\s*\\\\$?\\\\d+(\\\\.\\\\d{1,2})?\\\\b', 'action': 'ANONYMIZE'},\n",
    "            {'name': 'financial_figures', 'description': 'Large financial figures in billions/millions',\n",
    "             'pattern': '\\\\$\\\\s*\\\\d+(\\\\.\\\\d+)?\\\\s*(billion|million|B|M)\\\\b', 'action': 'ANONYMIZE'}\n",
    "        ]\n",
    "    },\n",
    "\n",
    "    # Tags for environment tracking\n",
    "    tags=[\n",
    "        {'key': 'Environment', 'value': 'Production'},\n",
    "        {'key': 'Department', 'value': 'Finance'}\n",
    "    ],\n",
    "    clientRequestToken=client_request_token\n",
    ")\n",
    "\n",
    "# Retrieve and print the Guardrail ID, ARN, and version\n",
    "guardrail_id = response['guardrailId']\n",
    "print(f\"Guardrail ID: {guardrail_id}\")\n",
    "print(f\"Guardrail ARN: {response['guardrailArn']}\")\n",
    "print(f\"Version: {response['version']}\")\n"
   ]
  },
  {
   "cell_type": "markdown",
   "id": "ff567d05-dcfb-49cd-843a-f66d61bce0d1",
   "metadata": {},
   "source": [
    "## 4. Save Guardrail ID to Configuration File"
   ]
  },
  {
   "cell_type": "code",
   "execution_count": null,
   "id": "160c278d-ae61-40ec-8aeb-6f5449a01de5",
   "metadata": {},
   "outputs": [],
   "source": [
    "# Update the variables dictionary with the new Guardrail ID\n",
    "variables[\"guardrail_id\"] = guardrail_id\n",
    "\n",
    "# Save updated variables to a JSON file\n",
    "with open(\"../Lab 1/variables.json\", \"w\") as f:\n",
    "    json.dump(variables, f, indent=4, default=str) "
   ]
  },
  {
   "cell_type": "markdown",
   "id": "60b6d0ac-de77-41c0-be38-7c8a14f7ec70",
   "metadata": {},
   "source": [
    "## 5. Create a Published Version of the Guardrail"
   ]
  },
  {
   "cell_type": "code",
   "execution_count": null,
   "id": "72d98e92-449c-4709-a317-5dd5781a446e",
   "metadata": {},
   "outputs": [],
   "source": [
    "# First create a published version\n",
    "version_response = bedrock.create_guardrail_version(\n",
    "    guardrailIdentifier=response['guardrailId'],\n",
    "    description=\"Production version 1.0\"\n",
    ")\n",
    "\n"
   ]
  },
  {
   "cell_type": "markdown",
   "id": "87a38b79-6ae8-4171-97e1-a84470d032a4",
   "metadata": {},
   "source": [
    "## 6. Retrieve and Save Guardrail Version"
   ]
  },
  {
   "cell_type": "code",
   "execution_count": null,
   "id": "2b78b90b-fed7-47ac-b875-c5f93324ae86",
   "metadata": {},
   "outputs": [],
   "source": [
    "guardrail_version=version_response['version']\n",
    "guardrail_version\n"
   ]
  },
  {
   "cell_type": "markdown",
   "id": "4aa50d3d-d28e-432c-a883-3866740896c6",
   "metadata": {},
   "source": [
    "## 7. Save Guardrail Version to Configuration File"
   ]
  },
  {
   "cell_type": "code",
   "execution_count": null,
   "id": "6119908e-95ce-42f3-bee2-6c2bf9aa0dc6",
   "metadata": {},
   "outputs": [],
   "source": [
    "# Update the variables dictionary with the new Guardrail Version\n",
    "variables[\"guardrail_version\"] = guardrail_version\n",
    "\n",
    "# Save updated variables to a JSON file\n",
    "with open(\"../Lab 1/variables.json\", \"w\") as f:\n",
    "    json.dump(variables, f, indent=4, default=str) "
   ]
  },
  {
   "cell_type": "markdown",
   "id": "60155ab4",
   "metadata": {},
   "source": [
    "> **Note**: After creating the guardrail, we recommend exploring its settings in the Amazon Bedrock console. The console provides a visual interface to understand how the guardrail is configured and allows you to test it interactively.\n",
    "> \n",
    "> **[➡️ View your Guardrails in the AWS Console](https://us-west-2.console.aws.amazon.com/bedrock/home?region=us-west-2#/guardrails)**\n",
    ">\n",
    "> In the console, you can:\n",
    "> - See all configured policies (topic filters, content filters, sensitive information policies)\n",
    "> - Test sample prompts against your guardrail\n",
    "> - View guardrail versions and their differences\n",
    "> - Monitor usage metrics and blocked content statistics\n",
    "> - Make adjustments to policies as needed"
   ]
  }
 ],
 "metadata": {
  "kernelspec": {
   "display_name": "Python 3 (ipykernel)",
   "language": "python",
   "name": "python3"
  },
  "language_info": {
   "codemirror_mode": {
    "name": "ipython",
    "version": 3
   },
   "file_extension": ".py",
   "mimetype": "text/x-python",
   "name": "python",
   "nbconvert_exporter": "python",
   "pygments_lexer": "ipython3",
   "version": "3.11.11"
  }
 },
 "nbformat": 4,
 "nbformat_minor": 5
}
